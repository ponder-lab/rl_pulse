{
 "cells": [
  {
   "cell_type": "markdown",
   "metadata": {},
   "source": [
    "# QuTiP Sandbox\n",
    "_Will Kaufman, October 2020_\n",
    "\n",
    "Just playing around!\n",
    "\n",
    "Docs [here](http://qutip.org/docs/latest/guide/dynamics/dynamics-time.html)."
   ]
  },
  {
   "cell_type": "code",
   "execution_count": 1,
   "metadata": {},
   "outputs": [],
   "source": [
    "from qutip import *\n",
    "import numpy as np\n",
    "import matplotlib.pyplot as plt"
   ]
  },
  {
   "cell_type": "code",
   "execution_count": 2,
   "metadata": {},
   "outputs": [
    {
     "data": {
      "text/latex": [
       "Quantum object: dims = [[2], [1]], shape = (2, 1), type = ket\\begin{equation*}\\left(\\begin{array}{*{11}c}1.0\\\\0.0\\\\\\end{array}\\right)\\end{equation*}"
      ],
      "text/plain": [
       "Quantum object: dims = [[2], [1]], shape = (2, 1), type = ket\n",
       "Qobj data =\n",
       "[[1.]\n",
       " [0.]]"
      ]
     },
     "execution_count": 2,
     "metadata": {},
     "output_type": "execute_result"
    }
   ],
   "source": [
    "spin = basis(2, 0)\n",
    "spin"
   ]
  },
  {
   "cell_type": "code",
   "execution_count": 3,
   "metadata": {},
   "outputs": [
    {
     "data": {
      "text/plain": [
       "1.0"
      ]
     },
     "execution_count": 3,
     "metadata": {},
     "output_type": "execute_result"
    }
   ],
   "source": [
    "expect(sigmaz(), spin)"
   ]
  },
  {
   "cell_type": "code",
   "execution_count": 4,
   "metadata": {},
   "outputs": [
    {
     "data": {
      "text/plain": [
       "0.0"
      ]
     },
     "execution_count": 4,
     "metadata": {},
     "output_type": "execute_result"
    }
   ],
   "source": [
    "expect(sigmax(), spin)"
   ]
  },
  {
   "cell_type": "markdown",
   "metadata": {},
   "source": [
    "## Spin System"
   ]
  },
  {
   "cell_type": "code",
   "execution_count": 31,
   "metadata": {},
   "outputs": [],
   "source": [
    "N = 4\n",
    "chemical_shift = np.random.normal(loc=0, scale=1e2, size=(N,))\n",
    "dipolar_couplings = np.triu(np.random.normal(scale=1e1, size=(N, N)))"
   ]
  },
  {
   "cell_type": "code",
   "execution_count": 42,
   "metadata": {},
   "outputs": [],
   "source": [
    "I_x = sum([\n",
    "    tensor(  # I_x^i\n",
    "        [identity(2)]*i\n",
    "        + [sigmax()]\n",
    "        + [identity(2)]*(N-i-1)\n",
    "    )\n",
    "    for i in range(N)\n",
    "])\n",
    "\n",
    "I_y = sum([\n",
    "    tensor(  # I_x^i\n",
    "        [identity(2)]*i\n",
    "        + [sigmay()]\n",
    "        + [identity(2)]*(N-i-1)\n",
    "    )\n",
    "    for i in range(N)\n",
    "])\n",
    "\n",
    "I_z = sum([\n",
    "    tensor(  # I_x^i\n",
    "        [identity(2)]*i\n",
    "        + [sigmaz()]\n",
    "        + [identity(2)]*(N-i-1)\n",
    "    )\n",
    "    for i in range(N)\n",
    "])"
   ]
  },
  {
   "cell_type": "code",
   "execution_count": 338,
   "metadata": {},
   "outputs": [],
   "source": [
    "rho0 = tensor([sigmax() / 2 for _ in range(N)])"
   ]
  },
  {
   "cell_type": "code",
   "execution_count": 33,
   "metadata": {},
   "outputs": [],
   "source": [
    "H_cs = sum([\n",
    "    tensor([identity(2)]*i\n",
    "           + [chemical_shift[i] * sigmaz()]\n",
    "           + [identity(2)]*(N-i-1))\n",
    "    for i in range(N)\n",
    "])"
   ]
  },
  {
   "cell_type": "code",
   "execution_count": 35,
   "metadata": {},
   "outputs": [],
   "source": [
    "H_dip = sum([\n",
    "    dipolar_couplings[i, j]\n",
    "    * (2 * tensor(  # I_z^i I_z^j\n",
    "        [identity(2)]*i\n",
    "        + [sigmaz()]\n",
    "        + [identity(2)]*(j-i-1)\n",
    "        + [sigmaz()]\n",
    "        + [identity(2)]*(N-j-1)\n",
    "    )\n",
    "    - tensor(  # I_x^i I_x^j\n",
    "        [identity(2)]*i\n",
    "        + [sigmax()]\n",
    "        + [identity(2)]*(j-i-1)\n",
    "        + [sigmax()]\n",
    "        + [identity(2)]*(N-j-1)\n",
    "    )\n",
    "    - tensor(  # I_y^i I_y^j\n",
    "        [identity(2)]*i\n",
    "        + [sigmay()]\n",
    "        + [identity(2)]*(j-i-1)\n",
    "        + [sigmay()]\n",
    "        + [identity(2)]*(N-j-1)\n",
    "    ))\n",
    "    for i in range(N) for j in range(i+1, N)\n",
    "])"
   ]
  },
  {
   "cell_type": "code",
   "execution_count": 179,
   "metadata": {},
   "outputs": [],
   "source": [
    "H_cx = I_x"
   ]
  },
  {
   "cell_type": "code",
   "execution_count": 252,
   "metadata": {},
   "outputs": [],
   "source": [
    "H_cy = I_y"
   ]
  },
  {
   "cell_type": "code",
   "execution_count": 334,
   "metadata": {},
   "outputs": [],
   "source": [
    "def H_cy_coeff(t, args):\n",
    "    nutation_frequency = 1e3\n",
    "    p1 = (t > 0) & (t < np.pi/(4 * nutation_frequency))\n",
    "    p2 = (t > 3e-2) & (t < 3e-2 + np.pi/(2 * nutation_frequency))\n",
    "    return nutation_frequency * (p1 + p2)"
   ]
  },
  {
   "cell_type": "code",
   "execution_count": 347,
   "metadata": {},
   "outputs": [],
   "source": [
    "output = mesolve([H_cs, [H_cy, H_cy_coeff]],\n",
    "                 rho0=I_z / 2**4, tlist=np.linspace(0, 1e-1, 100),\n",
    "                 e_ops=[I_x, I_y, I_z]\n",
    "                )"
   ]
  },
  {
   "cell_type": "code",
   "execution_count": 351,
   "metadata": {},
   "outputs": [
    {
     "data": {
      "text/plain": [
       "<matplotlib.legend.Legend at 0x7fc408e77f60>"
      ]
     },
     "execution_count": 351,
     "metadata": {},
     "output_type": "execute_result"
    },
    {
     "data": {
      "image/png": "[encoded data removed]",
      "text/plain": [
       "<Figure size 432x288 with 1 Axes>"
      ]
     },
     "metadata": {
      "needs_background": "light"
     },
     "output_type": "display_data"
    }
   ],
   "source": [
    "plt.plot(output.times, output.expect[0], label=r'$I_x$')\n",
    "plt.plot(output.times, output.expect[1], label=r'$I_y$')\n",
    "plt.plot(output.times, output.expect[2], label=r'$I_z$')\n",
    "plt.vlines(0.06, -4, 4, color='black', label='Spin echo')\n",
    "plt.legend()"
   ]
  },
  {
   "cell_type": "code",
   "execution_count": null,
   "metadata": {},
   "outputs": [],
   "source": [
    "# continue, play around with Magnus expansion, etc......."
   ]
  }
 ],
 "metadata": {
  "kernelspec": {
   "display_name": "Python 3",
   "language": "python",
   "name": "python3"
  },
  "language_info": {
   "codemirror_mode": {
    "name": "ipython",
    "version": 3
   },
   "file_extension": ".py",
   "mimetype": "text/x-python",
   "name": "python",
   "nbconvert_exporter": "python",
   "pygments_lexer": "ipython3",
   "version": "3.6.11"
  }
 },
 "nbformat": 4,
 "nbformat_minor": 4
}
