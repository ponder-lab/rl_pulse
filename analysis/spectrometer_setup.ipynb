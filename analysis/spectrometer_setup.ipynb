{
 "cells": [
  {
   "cell_type": "markdown",
   "metadata": {},
   "source": [
    "_Will Kaufman, September 30 2020_\n",
    "\n",
    "The following analyses were done on a water sample in a Bruker 9.4T magnet."
   ]
  },
  {
   "cell_type": "code",
   "execution_count": 1,
   "metadata": {},
   "outputs": [],
   "source": [
    "import os\n",
    "import  numpy as np\n",
    "from scipy.optimize import curve_fit\n",
    "import nmrglue as ng\n",
    "\n",
    "import matplotlib.pyplot as plt"
   ]
  },
  {
   "cell_type": "code",
   "execution_count": 2,
   "metadata": {},
   "outputs": [],
   "source": [
    "def plot_spectrum(data_p, indices=None):\n",
    "    x = np.linspace(data_p[0]['procs']['F1P'],\n",
    "                    data_p[0]['procs']['F2P'],\n",
    "                    data_p[0]['procs']['FTSIZE'])\n",
    "    y = data_p[1]\n",
    "    if indices is not None:\n",
    "        x = x[indices[0]:indices[1]]\n",
    "        y = y[indices[0]:indices[1]]\n",
    "    plt.plot(x, y)"
   ]
  },
  {
   "cell_type": "code",
   "execution_count": 3,
   "metadata": {},
   "outputs": [],
   "source": [
    "def read_raw(data_dir, expno):\n",
    "    return ng.bruker.read(os.path.join(data_dir, str(expno)))"
   ]
  },
  {
   "cell_type": "code",
   "execution_count": 4,
   "metadata": {},
   "outputs": [],
   "source": [
    "def read_processed(data_dir, expno):\n",
    "    return ng.bruker.read_pdata(os.path.join(data_dir, str(expno), 'pdata', '1'))"
   ]
  },
  {
   "cell_type": "markdown",
   "metadata": {},
   "source": [
    "## Estimating $\\pi/2$ pulse length\n",
    "\n",
    "To estimate the $\\pi/2$ pulse length (with fixed power of 15W), a series of experiments were run that applied a pulse with lengths varying from 0 to 40$\\mu$s. The resulting signal amplitudes were then plotted versus pulse length, and a $\\sin$ function\n",
    "$$\n",
    "S(t_\\text{pulse}) = S_0 \\sin(\\alpha t_\\text{pulse})\n",
    "$$\n",
    "was fitted to the data by estimating $S_0$ and $\\alpha$.\n",
    "The pulse length for a $\\pi/2$ pulse can then be determined by\n",
    "$$\n",
    "t_{\\pi/2} = \\frac{\\pi}{2 \\alpha}\n",
    "$$"
   ]
  },
  {
   "cell_type": "code",
   "execution_count": 6,
   "metadata": {},
   "outputs": [],
   "source": [
    "data_dir = '../data/2020-09-22/tarfile'"
   ]
  },
  {
   "cell_type": "markdown",
   "metadata": {},
   "source": [
    "The signal amplitude is calculated by integrating the spectrum (Fourier transform of the free induction decay)."
   ]
  },
  {
   "cell_type": "code",
   "execution_count": 13,
   "metadata": {},
   "outputs": [],
   "source": [
    "data_p = read_processed(data_dir, 3038)"
   ]
  },
  {
   "cell_type": "code",
   "execution_count": 11,
   "metadata": {},
   "outputs": [
    {
     "data": {
      "text/plain": [
       "array([-0.36324948, -3.91679755, -2.78244758, ...,  1.14798751,\n",
       "        3.543919  , -3.42458677])"
      ]
     },
     "execution_count": 11,
     "metadata": {},
     "output_type": "execute_result"
    }
   ],
   "source": [
    "data_p[1]"
   ]
  },
  {
   "cell_type": "code",
   "execution_count": 21,
   "metadata": {},
   "outputs": [
    {
     "data": {
      "image/png": "[encoded data removed]",
      "text/plain": [
       "<Figure size 432x288 with 1 Axes>"
      ]
     },
     "metadata": {
      "needs_background": "light"
     },
     "output_type": "display_data"
    }
   ],
   "source": [
    "plot_spectrum(data_p)"
   ]
  },
  {
   "cell_type": "code",
   "execution_count": 6,
   "metadata": {},
   "outputs": [],
   "source": [
    "amplitudes = np.zeros((40,))\n",
    "for i in range(40):\n",
    "    data_p = read_processed(data_dir, 3014 + i)\n",
    "    amplitudes[i] = np.sum(data_p[1])"
   ]
  },
  {
   "cell_type": "code",
   "execution_count": 7,
   "metadata": {},
   "outputs": [],
   "source": [
    "fit = curve_fit(lambda t, S0, alpha: S0 * np.sin(alpha * t), np.linspace(0, 40e-6, 40), amplitudes)"
   ]
  },
  {
   "cell_type": "markdown",
   "metadata": {},
   "source": [
    "The estimates and standard errors for $S_0$ and $\\alpha$ are given below."
   ]
  },
  {
   "cell_type": "code",
   "execution_count": 8,
   "metadata": {},
   "outputs": [
    {
     "name": "stdout",
     "output_type": "stream",
     "text": [
      "[422735.39429935  53624.94358371]\n",
      "[80.50019944 16.13505729]\n"
     ]
    }
   ],
   "source": [
    "estimates = fit[0]\n",
    "std_errs = np.sqrt(np.diag(fit[1]))\n",
    "print(estimates)  # estimates\n",
    "print(std_errs)  # standard errors"
   ]
  },
  {
   "cell_type": "code",
   "execution_count": 9,
   "metadata": {},
   "outputs": [
    {
     "data": {
      "text/plain": [
       "Text(0, 0.5, 'Signal amplitude')"
      ]
     },
     "execution_count": 9,
     "metadata": {},
     "output_type": "execute_result"
    },
    {
     "data": {
      "image/png": "[encoded data removed]",
      "text/plain": [
       "<Figure size 432x288 with 1 Axes>"
      ]
     },
     "metadata": {
      "needs_background": "light"
     },
     "output_type": "display_data"
    }
   ],
   "source": [
    "t = np.linspace(0, 40e-6, 40)\n",
    "plt.scatter(t, amplitudes, label='Observed')\n",
    "plt.plot(t, fit[0][0] * np.sin(fit[0][1] * t), label='Fit')\n",
    "plt.legend()\n",
    "plt.xlabel('Pulse duration (s)')\n",
    "plt.ylabel('Signal amplitude')"
   ]
  },
  {
   "cell_type": "code",
   "execution_count": 23,
   "metadata": {},
   "outputs": [
    {
     "name": "stdout",
     "output_type": "stream",
     "text": [
      " 2.9292e-05\n"
     ]
    }
   ],
   "source": [
    "t_pi2 = np.pi / (2 * estimates[1])\n",
    "print(f'{t_pi2 : .04e}')  # estimate for pi/2 hard pulse length"
   ]
  },
  {
   "cell_type": "code",
   "execution_count": 11,
   "metadata": {},
   "outputs": [
    {
     "name": "stdout",
     "output_type": "stream",
     "text": [
      " 8.8e-09\n"
     ]
    }
   ],
   "source": [
    "print(f'{t_pi2 * std_errs[1] / estimates[1] : 0.01e}')  # standard error for pi/2 hard pulse length"
   ]
  },
  {
   "cell_type": "markdown",
   "metadata": {},
   "source": [
    "The estimate for a $\\pi/2$ pulse is $29.292 \\pm 0.009 \\mu$s."
   ]
  },
  {
   "cell_type": "markdown",
   "metadata": {},
   "source": [
    "## Estimating T1"
   ]
  },
  {
   "cell_type": "code",
   "execution_count": 12,
   "metadata": {},
   "outputs": [],
   "source": [
    "data_dir = '../data/2020-09-30/runs/'"
   ]
  },
  {
   "cell_type": "code",
   "execution_count": 13,
   "metadata": {},
   "outputs": [],
   "source": [
    "amplitudes_t1 = np.zeros((100,))\n",
    "for i in range(100):\n",
    "    data_p = read_processed(data_dir, 204 + i)\n",
    "    amplitudes_t1[i] = np.sum(data_p[1])"
   ]
  },
  {
   "cell_type": "code",
   "execution_count": 14,
   "metadata": {},
   "outputs": [],
   "source": [
    "delays_t1 = np.linspace(10e-6, 2, 100)"
   ]
  },
  {
   "cell_type": "code",
   "execution_count": 15,
   "metadata": {},
   "outputs": [],
   "source": [
    "fit_t1 = curve_fit(lambda t, a, tau, c: a * np.exp(-t / tau) + c,\n",
    "                   delays_t1[delays_t1>.1], amplitudes_t1[delays_t1>.1],\n",
    "                   p0=(8e5, 1, -4e5))"
   ]
  },
  {
   "cell_type": "code",
   "execution_count": 16,
   "metadata": {},
   "outputs": [
    {
     "name": "stdout",
     "output_type": "stream",
     "text": [
      "[ 7.78092877e+05  9.43706495e-01 -4.31110078e+05]\n",
      "[9.55137268e+02 4.11128279e-03 1.28727282e+03]\n"
     ]
    }
   ],
   "source": [
    "estimates_t1 = fit_t1[0]\n",
    "std_errs_t1 = np.sqrt(np.diag(fit_t1[1]))\n",
    "print(estimates_t1)\n",
    "print(std_errs_t1)"
   ]
  },
  {
   "cell_type": "markdown",
   "metadata": {},
   "source": [
    "Then the estimate for $T_1 = 0.944 \\pm .004$s."
   ]
  },
  {
   "cell_type": "code",
   "execution_count": 17,
   "metadata": {},
   "outputs": [
    {
     "data": {
      "text/plain": [
       "[<matplotlib.lines.Line2D at 0x7fec637149b0>]"
      ]
     },
     "execution_count": 17,
     "metadata": {},
     "output_type": "execute_result"
    },
    {
     "data": {
      "image/png": "[encoded data removed]",
      "text/plain": [
       "<Figure size 432x288 with 1 Axes>"
      ]
     },
     "metadata": {
      "needs_background": "light"
     },
     "output_type": "display_data"
    }
   ],
   "source": [
    "plt.scatter(delays_t1[delays_t1>.1], amplitudes_t1[delays_t1>.1])\n",
    "plt.plot(delays_t1[delays_t1>.1], fit_t1[0][0] * np.exp(-delays_t1[delays_t1>.1] / fit_t1[0][1]) + fit_t1[0][2])"
   ]
  },
  {
   "cell_type": "markdown",
   "metadata": {},
   "source": [
    "## Estimating T2"
   ]
  },
  {
   "cell_type": "code",
   "execution_count": 18,
   "metadata": {},
   "outputs": [],
   "source": [
    "amplitudes_t2 = np.zeros((100,))\n",
    "for i in range(100):\n",
    "    data_p = read_processed(data_dir, 305 + i)\n",
    "    amplitudes_t2[i] = np.sum(data_p[1])"
   ]
  },
  {
   "cell_type": "code",
   "execution_count": 19,
   "metadata": {},
   "outputs": [],
   "source": [
    "delays_t2 = np.linspace(10e-6, 1.5, 100)"
   ]
  },
  {
   "cell_type": "code",
   "execution_count": 20,
   "metadata": {},
   "outputs": [],
   "source": [
    "fit_t2 = curve_fit(lambda t, a, tau, c: a * np.exp(-t / tau) + c,\n",
    "                   delays_t2[delays_t2>0.2], amplitudes_t2[delays_t2>0.2],\n",
    "                   p0=(3e5, 1, 0))"
   ]
  },
  {
   "cell_type": "code",
   "execution_count": 21,
   "metadata": {},
   "outputs": [
    {
     "name": "stdout",
     "output_type": "stream",
     "text": [
      "[ 3.96020833e+05  3.28247162e-01 -1.50506972e+03]\n",
      "[8.67202838e+02 8.81694931e-04 1.39386868e+02]\n"
     ]
    }
   ],
   "source": [
    "estimates_t2 = fit_t2[0]\n",
    "std_errs_t2 = np.sqrt(np.diag(fit_t2[1]))\n",
    "print(estimates_t2)\n",
    "print(std_errs_t2)"
   ]
  },
  {
   "cell_type": "markdown",
   "metadata": {},
   "source": [
    "The estimate for $T_2 = 0.3282 \\pm 0.0009$s."
   ]
  },
  {
   "cell_type": "code",
   "execution_count": 22,
   "metadata": {},
   "outputs": [
    {
     "data": {
      "text/plain": [
       "[<matplotlib.lines.Line2D at 0x7fec637b5588>]"
      ]
     },
     "execution_count": 22,
     "metadata": {},
     "output_type": "execute_result"
    },
    {
     "data": {
      "image/png": "[encoded data removed]",
      "text/plain": [
       "<Figure size 432x288 with 1 Axes>"
      ]
     },
     "metadata": {
      "needs_background": "light"
     },
     "output_type": "display_data"
    }
   ],
   "source": [
    "plt.scatter(delays_t2[delays_t2>0.2], amplitudes_t2[delays_t2>0.2])\n",
    "plt.plot(delays_t2[delays_t2>0.2], fit_t2[0][0] * np.exp(-delays_t2[delays_t2>0.2] / fit_t2[0][1]) + fit_t2[0][2])"
   ]
  }
 ],
 "metadata": {
  "kernelspec": {
   "display_name": "Python 3",
   "language": "python",
   "name": "python3"
  },
  "language_info": {
   "codemirror_mode": {
    "name": "ipython",
    "version": 3
   },
   "file_extension": ".py",
   "mimetype": "text/x-python",
   "name": "python",
   "nbconvert_exporter": "python",
   "pygments_lexer": "ipython3",
   "version": "3.6.10"
  }
 },
 "nbformat": 4,
 "nbformat_minor": 4
}
