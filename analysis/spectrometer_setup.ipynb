{
 "cells": [
  {
   "cell_type": "markdown",
   "metadata": {},
   "source": [
    "_Will Kaufman, September 30 2020_\n",
    "\n",
    "The following analyses were done on a water sample in a Bruker 9.4T magnet."
   ]
  },
  {
   "cell_type": "code",
   "execution_count": 76,
   "metadata": {},
   "outputs": [],
   "source": [
    "import os\n",
    "import  numpy as np\n",
    "from scipy.optimize import curve_fit\n",
    "import nmrglue as ng\n",
    "\n",
    "import matplotlib.pyplot as plt"
   ]
  },
  {
   "cell_type": "code",
   "execution_count": 77,
   "metadata": {},
   "outputs": [],
   "source": [
    "def plot_spectrum(data_p, indices=None):\n",
    "    x = np.linspace(data_p[0]['procs']['F1P'],\n",
    "                    data_p[0]['procs']['F2P'],\n",
    "                    data_p[0]['procs']['FTSIZE'])\n",
    "    y = data_p[1]\n",
    "    if indices is not None:\n",
    "        x = x[indices[0]:indices[1]]\n",
    "        y = y[indices[0]:indices[1]]\n",
    "    plt.plot(x, y)"
   ]
  },
  {
   "cell_type": "code",
   "execution_count": 78,
   "metadata": {},
   "outputs": [],
   "source": [
    "def read_raw(data_dir, expno):\n",
    "    return ng.bruker.read(os.path.join(data_dir, str(expno)))"
   ]
  },
  {
   "cell_type": "code",
   "execution_count": 79,
   "metadata": {},
   "outputs": [],
   "source": [
    "def read_processed(data_dir, expno):\n",
    "    return ng.bruker.read_pdata(os.path.join(data_dir, str(expno), 'pdata', '1'))"
   ]
  },
  {
   "cell_type": "markdown",
   "metadata": {},
   "source": [
    "## Estimating $\\pi/2$ pulse length\n",
    "\n",
    "To estimate the $\\pi/2$ pulse length (with fixed power of 15W), a series of experiments were run that applied a pulse with lengths varying from 0 to 40$\\mu$s. The resulting signal amplitudes were then plotted versus pulse length, and a $\\sin$ function\n",
    "$$\n",
    "S(t_\\text{pulse}) = S_0 \\sin(\\alpha t_\\text{pulse})\n",
    "$$\n",
    "was fitted to the data by estimating $S_0$ and $\\alpha$.\n",
    "The pulse length for a $\\pi/2$ pulse can then be determined by\n",
    "$$\n",
    "t_{\\pi/2} = \\frac{\\pi}{2 \\alpha}\n",
    "$$"
   ]
  },
  {
   "cell_type": "code",
   "execution_count": 80,
   "metadata": {},
   "outputs": [],
   "source": [
    "data_dir = '../data/2020-09-22/tarfile'"
   ]
  },
  {
   "cell_type": "markdown",
   "metadata": {},
   "source": [
    "The signal amplitude is calculated by integrating the spectrum (Fourier transform of the free induction decay)."
   ]
  },
  {
   "cell_type": "code",
   "execution_count": 81,
   "metadata": {},
   "outputs": [],
   "source": [
    "amplitudes = np.zeros((40,))\n",
    "stds = np.zeros((40,))\n",
    "for i in range(40):\n",
    "    data_p = read_processed(data_dir, 3014 + i)\n",
    "    amplitudes[i] = np.sum(data_p[1])\n",
    "    stds[i] = np.std(data_p[1][:100]) * data_p[1].shape[0]"
   ]
  },
  {
   "cell_type": "code",
   "execution_count": 82,
   "metadata": {},
   "outputs": [],
   "source": [
    "t = np.linspace(0, 40e-6, 40)\n",
    "fit = curve_fit(lambda t, S0, alpha: S0 * np.sin(alpha * t),\n",
    "                xdata=t,\n",
    "                ydata=amplitudes, sigma=stds)"
   ]
  },
  {
   "cell_type": "markdown",
   "metadata": {},
   "source": [
    "The estimates and standard errors for $S_0$ and $\\alpha$ are given below."
   ]
  },
  {
   "cell_type": "code",
   "execution_count": 83,
   "metadata": {},
   "outputs": [
    {
     "name": "stdout",
     "output_type": "stream",
     "text": [
      "[422746.88112094  53619.67614156]\n",
      "[84.81468522 16.45298503]\n"
     ]
    }
   ],
   "source": [
    "estimates = fit[0]\n",
    "std_errs = np.sqrt(np.diag(fit[1]))\n",
    "print(estimates)  # estimates\n",
    "print(std_errs)  # standard errors"
   ]
  },
  {
   "cell_type": "code",
   "execution_count": 84,
   "metadata": {},
   "outputs": [
    {
     "data": {
      "text/plain": [
       "Text(0, 0.5, 'Signal amplitude')"
      ]
     },
     "execution_count": 84,
     "metadata": {},
     "output_type": "execute_result"
    },
    {
     "data": {
      "image/png": "[encoded data removed]",
      "text/plain": [
       "<Figure size 432x288 with 1 Axes>"
      ]
     },
     "metadata": {
      "needs_background": "light"
     },
     "output_type": "display_data"
    }
   ],
   "source": [
    "plt.scatter(t, amplitudes, label='Observed')\n",
    "plt.errorbar(t, amplitudes, yerr=stds)\n",
    "plt.plot(t, fit[0][0] * np.sin(fit[0][1] * t), label='Fit')\n",
    "plt.legend()\n",
    "plt.xlabel('Pulse duration (s)')\n",
    "plt.ylabel('Signal amplitude')"
   ]
  },
  {
   "cell_type": "code",
   "execution_count": 85,
   "metadata": {},
   "outputs": [
    {
     "name": "stdout",
     "output_type": "stream",
     "text": [
      " 2.9295e-05\n"
     ]
    }
   ],
   "source": [
    "t_pi2 = np.pi / (2 * estimates[1])\n",
    "print(f'{t_pi2 : .04e}')  # estimate for pi/2 hard pulse length"
   ]
  },
  {
   "cell_type": "code",
   "execution_count": 86,
   "metadata": {},
   "outputs": [
    {
     "name": "stdout",
     "output_type": "stream",
     "text": [
      " 9.0e-09\n"
     ]
    }
   ],
   "source": [
    "print(f'{t_pi2 * std_errs[1] / estimates[1] : 0.01e}')  # standard error for pi/2 hard pulse length"
   ]
  },
  {
   "cell_type": "markdown",
   "metadata": {},
   "source": [
    "The estimate for a $\\pi/2$ pulse is $29.292 \\pm 0.009 \\mu$s."
   ]
  },
  {
   "cell_type": "markdown",
   "metadata": {},
   "source": [
    "## Estimating T1"
   ]
  },
  {
   "cell_type": "code",
   "execution_count": 87,
   "metadata": {},
   "outputs": [],
   "source": [
    "data_dir = '../data/2020-09-30/runs/'"
   ]
  },
  {
   "cell_type": "code",
   "execution_count": 88,
   "metadata": {},
   "outputs": [],
   "source": [
    "amplitudes_t1 = np.zeros((100,))\n",
    "stds_t1 = np.zeros((100,))\n",
    "for i in range(100):\n",
    "    data_p = read_processed(data_dir, 204 + i)\n",
    "    amplitudes_t1[i] = np.sum(data_p[1])\n",
    "    stds_t1[i] = np.std(data_p[1][:100]) * data_p[1].shape[0]"
   ]
  },
  {
   "cell_type": "code",
   "execution_count": 89,
   "metadata": {},
   "outputs": [],
   "source": [
    "delays_t1 = np.linspace(10e-6, 2, 100)"
   ]
  },
  {
   "cell_type": "code",
   "execution_count": 90,
   "metadata": {},
   "outputs": [],
   "source": [
    "fit_t1 = curve_fit(lambda t, a, tau, c: a * np.exp(-t / tau) + c,\n",
    "                   xdata=delays_t1[delays_t1>.1],\n",
    "                   ydata=amplitudes_t1[delays_t1>.1],\n",
    "                   p0=(8e5, 1, -4e5),\n",
    "                   sigma=stds_t1[delays_t1>.1])"
   ]
  },
  {
   "cell_type": "code",
   "execution_count": 91,
   "metadata": {},
   "outputs": [
    {
     "name": "stdout",
     "output_type": "stream",
     "text": [
      "[ 7.78122351e+05  9.33273469e-01 -4.28242026e+05]\n",
      "[1.07004230e+03 4.07108903e-03 1.43302632e+03]\n"
     ]
    }
   ],
   "source": [
    "estimates_t1 = fit_t1[0]\n",
    "std_errs_t1 = np.sqrt(np.diag(fit_t1[1]))\n",
    "print(estimates_t1)\n",
    "print(std_errs_t1)"
   ]
  },
  {
   "cell_type": "markdown",
   "metadata": {},
   "source": [
    "Then the estimate for $T_1 = 0.933 \\pm .004$s."
   ]
  },
  {
   "cell_type": "code",
   "execution_count": 92,
   "metadata": {},
   "outputs": [
    {
     "data": {
      "text/plain": [
       "<matplotlib.legend.Legend at 0x7f957ba54390>"
      ]
     },
     "execution_count": 92,
     "metadata": {},
     "output_type": "execute_result"
    },
    {
     "data": {
      "image/png": "[encoded data removed]",
      "text/plain": [
       "<Figure size 432x288 with 1 Axes>"
      ]
     },
     "metadata": {
      "needs_background": "light"
     },
     "output_type": "display_data"
    }
   ],
   "source": [
    "plt.scatter(delays_t1[delays_t1>.1],\n",
    "            amplitudes_t1[delays_t1>.1],\n",
    "            label='Data')\n",
    "plt.errorbar(delays_t1[delays_t1>.1],\n",
    "             amplitudes_t1[delays_t1>.1],\n",
    "             yerr=stds_t1[delays_t1>.1])\n",
    "plt.plot(delays_t1[delays_t1>.1],\n",
    "         fit_t1[0][0] * np.exp(-delays_t1[delays_t1>.1] / fit_t1[0][1]) + fit_t1[0][2],\n",
    "         color='orange',\n",
    "         label='Fit',\n",
    "         zorder=4,)\n",
    "plt.xlabel('Time (s)')\n",
    "plt.ylabel('Signal amplitude (arbitrary)')\n",
    "plt.legend()"
   ]
  },
  {
   "cell_type": "markdown",
   "metadata": {},
   "source": [
    "## Estimating T2"
   ]
  },
  {
   "cell_type": "code",
   "execution_count": 93,
   "metadata": {},
   "outputs": [],
   "source": [
    "amplitudes_t2 = np.zeros((100,))\n",
    "stds_t2 = np.zeros((100,))\n",
    "for i in range(100):\n",
    "    data_p = read_processed(data_dir, 305 + i)\n",
    "    amplitudes_t2[i] = np.sum(data_p[1])\n",
    "    stds_t2[i] = np.std(data_p[1][:100]) * data_p[1].shape[0]"
   ]
  },
  {
   "cell_type": "code",
   "execution_count": 94,
   "metadata": {},
   "outputs": [],
   "source": [
    "delays_t2 = np.linspace(10e-6, 1.5, 100)"
   ]
  },
  {
   "cell_type": "code",
   "execution_count": 95,
   "metadata": {},
   "outputs": [],
   "source": [
    "fit_t2 = curve_fit(lambda t, a, tau, c: a * np.exp(-t / tau) + c,\n",
    "                   delays_t2[delays_t2>0.2], amplitudes_t2[delays_t2>0.2],\n",
    "                   p0=(3e5, 1, 0),\n",
    "                   sigma=stds_t2[delays_t2>0.2])"
   ]
  },
  {
   "cell_type": "code",
   "execution_count": 96,
   "metadata": {},
   "outputs": [
    {
     "name": "stdout",
     "output_type": "stream",
     "text": [
      "[ 3.96292555e+05  3.28174027e-01 -1.51639856e+03]\n",
      "[8.46280545e+02 8.48484997e-04 1.33282758e+02]\n"
     ]
    }
   ],
   "source": [
    "estimates_t2 = fit_t2[0]\n",
    "std_errs_t2 = np.sqrt(np.diag(fit_t2[1]))\n",
    "print(estimates_t2)\n",
    "print(std_errs_t2)"
   ]
  },
  {
   "cell_type": "markdown",
   "metadata": {},
   "source": [
    "The estimate for $T_2 = 0.3282 \\pm 0.0009$s."
   ]
  },
  {
   "cell_type": "code",
   "execution_count": 97,
   "metadata": {},
   "outputs": [
    {
     "data": {
      "text/plain": [
       "<matplotlib.legend.Legend at 0x7f957bbb5588>"
      ]
     },
     "execution_count": 97,
     "metadata": {},
     "output_type": "execute_result"
    },
    {
     "data": {
      "image/png": "[encoded data removed]",
      "text/plain": [
       "<Figure size 432x288 with 1 Axes>"
      ]
     },
     "metadata": {
      "needs_background": "light"
     },
     "output_type": "display_data"
    }
   ],
   "source": [
    "plt.scatter(delays_t2[delays_t2>0.2],\n",
    "            amplitudes_t2[delays_t2>0.2],\n",
    "            label='Data')\n",
    "plt.errorbar(delays_t2[delays_t2>0.2],\n",
    "             amplitudes_t2[delays_t2>0.2],\n",
    "             yerr=stds_t2[delays_t2>0.2])\n",
    "plt.plot(delays_t2[delays_t2>0.2],\n",
    "         fit_t2[0][0] * np.exp(-delays_t2[delays_t2>0.2] / fit_t2[0][1]) + fit_t2[0][2],\n",
    "         color='orange', zorder=4, label='Fit')\n",
    "plt.xlabel('Time (s)')\n",
    "plt.ylabel('Signal amplitude (arbitrary)')\n",
    "plt.legend()"
   ]
  }
 ],
 "metadata": {
  "kernelspec": {
   "display_name": "Python 3",
   "language": "python",
   "name": "python3"
  },
  "language_info": {
   "codemirror_mode": {
    "name": "ipython",
    "version": 3
   },
   "file_extension": ".py",
   "mimetype": "text/x-python",
   "name": "python",
   "nbconvert_exporter": "python",
   "pygments_lexer": "ipython3",
   "version": "3.6.11"
  }
 },
 "nbformat": 4,
 "nbformat_minor": 4
}
