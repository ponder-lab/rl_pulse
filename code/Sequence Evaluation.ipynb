{
 "cells": [
  {
   "cell_type": "markdown",
   "metadata": {},
   "source": [
    "# Pulse Sequence Evaluation\n",
    "\n",
    "Will Kaufman, 2020\n",
    "\n",
    "This notebook verifies the fidelity of pulse sequences identified by a reinforcement learning algorithm (as opposed to traditional techniques like average Hamiltonian theory)."
   ]
  },
  {
   "cell_type": "code",
   "execution_count": null,
   "metadata": {
    "scrolled": true
   },
   "outputs": [],
   "source": [
    "import spinSimulation as ss\n",
    "import rlPulse as rlp\n",
    "import numpy as np\n",
    "import pandas as pd\n",
    "import plotly.express as px\n",
    "import plotly.offline as pyo\n",
    "pyo.init_notebook_mode()\n",
    "from datetime import datetime"
   ]
  },
  {
   "cell_type": "code",
   "execution_count": null,
   "metadata": {},
   "outputs": [],
   "source": [
    "import importlib\n",
    "importlib.reload(ss)\n",
    "importlib.reload(rlp)"
   ]
  },
  {
   "cell_type": "markdown",
   "metadata": {},
   "source": [
    "# Initialize spin system\n",
    "\n",
    "This sets the parameters of the system ($N$ spin-1/2 particles, which corresponds to a Hilbert space with dimension $2^N$). For the purposes of simulation, $\\hbar \\equiv 1$.\n",
    "\n",
    "The total internal Hamiltonian is given by\n",
    "$$\n",
    "H_\\text{int} = C H_\\text{dip} + \\Delta \\sum_i^N I_z^{(i)}\n",
    "$$\n",
    "where $C$ is the coupling strength, $\\Delta$ is the chemical shift strength (each spin is assumed to be identical), and $H_\\text{dip}$ is given by\n",
    "$$\n",
    "H_\\text{dip} = \\sum_{i,j}^N d_{i,j} \\left(3I_z^{(i)}I_z^{(j)} - \\mathbf{I}^{(i)} \\cdot \\mathbf{I}^{(j)}\\right)\n",
    "$$\n",
    "\n",
    "The WAHUHA pulse sequence is designed to remove the dipolar interaction term from the internal Hamiltonian. The pulse sequence is $\\tau, P_{-x}, \\tau, P_{y}, \\tau, \\tau, P_{-y}, \\tau, P_{x}, \\tau$.\n",
    "The zeroth-order average Hamiltonian for the WAHUHA pulse sequence is\n",
    "$$\n",
    "H_\\text{WHH} = \\Delta / 3 \\sum_i^N I_x^{(i)} + I_y^{(i)} + I_z^{(i)}\n",
    "$$"
   ]
  },
  {
   "cell_type": "code",
   "execution_count": null,
   "metadata": {},
   "outputs": [],
   "source": [
    "N = 4\n",
    "dim = 2**N\n",
    "coupling = 5e3    # coupling strength\n",
    "delta = 500       # chemical shift strength (for identical spins)\n",
    "\n",
    "(x,y,z) = (ss.x, ss.y, ss.z)\n",
    "(X,Y,Z) = ss.getTotalSpin(N, dim)\n",
    "\n",
    "Ux = ss.getRotation(X, np.pi/2)\n",
    "Uxbar = ss.getRotation(X, -np.pi/2)\n",
    "Uy = ss.getRotation(Y, np.pi/2)\n",
    "Uybar = ss.getRotation(Y, -np.pi/2)"
   ]
  },
  {
   "cell_type": "markdown",
   "metadata": {},
   "source": [
    "# Evaluate pulse sequences\n",
    "\n",
    "Canditate pulse sequences:\n",
    "\n",
    "Number | Max reward | Pulse sequence | Date\n",
    "---|---|---|---\n",
    "1| 4.90 | tau, xbar, tau, ybar, tau, x y | (6/6)\n",
    "2| 7.12 | tau, xbar y, tau, xbar, tau, ybar xbar^2 | (6/6)\n",
    "3| 7.30 | xbar, tau, xbar, tau, ybar x | (6/6)\n",
    "4| 7.31 | x ybar xbar, tau, x ybar^2, tau, y, tau, xbar y^2 x^2 | (6/9)\n",
    "\n",
    "I'll go in order and evaluate each one independently"
   ]
  },
  {
   "cell_type": "markdown",
   "metadata": {},
   "source": [
    "## 1\n",
    "\n",
    "tau, xbar, tau, ybar, tau, x y"
   ]
  },
  {
   "cell_type": "code",
   "execution_count": null,
   "metadata": {},
   "outputs": [],
   "source": [
    "# TODO define the propagators in code here...\n",
    "# run for lots of random dipolar interactions\n",
    "\n",
    "fidelities = []\n",
    "delays = []\n",
    "pulseWidths = []\n",
    "\n",
    "for delay in np.geomspace(1e-6,10e-6,5):\n",
    "    for pulseWidth in np.geomspace(.01e-6,1e-6,5):\n",
    "        for i in range(100):\n",
    "            Hdip, Hint = ss.getAllH(N, dim, coupling, delta)\n",
    "            HWHH0 = ss.getHWHH0(X,Y,Z,delta)\n",
    "            UWHH0 = ss.getPropagator(HWHH0, 3*delay)\n",
    "            \n",
    "            if pulseWidth > 0:\n",
    "                Ux = ss.getPropagator(Hint + X*np.pi/2/pulseWidth, pulseWidth)\n",
    "                Uy = ss.getPropagator(Hint + Y*np.pi/2/pulseWidth, pulseWidth)\n",
    "                Uxbar = ss.getPropagator(Hint - X*np.pi/2/pulseWidth, pulseWidth)\n",
    "                Uybar = ss.getPropagator(Hint - Y*np.pi/2/pulseWidth, pulseWidth)\n",
    "            Utau = ss.getPropagator(Hint, delay)\n",
    "\n",
    "            Useq = Uy @ Ux @ Utau @ Uybar @ Utau @ Uxbar @ Utau\n",
    "            fidelities.append(ss.fidelity(Useq, UWHH0))\n",
    "            delays.append(delay)\n",
    "            pulseWidths.append(pulseWidth)"
   ]
  },
  {
   "cell_type": "code",
   "execution_count": null,
   "metadata": {},
   "outputs": [],
   "source": [
    "# plot results\n",
    "d = {'fidelity': fidelities, 'delay': delays, 'pulseWidth': pulseWidths}\n",
    "df1 = pd.DataFrame(data=d)\n",
    "fig1 = px.scatter_3d(df1, x='delay', y='pulseWidth', z='fidelity', opacity=0.7)\n",
    "fig1.update_layout(scene={'xaxis': {'type': 'log'}, 'yaxis': {'type': 'log'}})\n",
    "fig.show()"
   ]
  },
  {
   "cell_type": "markdown",
   "metadata": {},
   "source": [
    "## 2\n",
    "\n",
    "tau, xbar y, tau, xbar, tau, ybar xbar^2"
   ]
  },
  {
   "cell_type": "code",
   "execution_count": null,
   "metadata": {},
   "outputs": [],
   "source": [
    "# TODO define the propagators in code here...\n",
    "# run for lots of random dipolar interactions\n",
    "\n",
    "fidelities = []\n",
    "delays = []\n",
    "pulseWidths = []\n",
    "\n",
    "for delay in np.geomspace(1e-6,10e-6,5):\n",
    "    for pulseWidth in np.geomspace(.01e-6,1e-6,5):\n",
    "        for i in range(100):\n",
    "            Hdip, Hint = ss.getAllH(N, dim, coupling, delta)\n",
    "            HWHH0 = ss.getHWHH0(X,Y,Z,delta)\n",
    "            UWHH0 = ss.getPropagator(HWHH0, 3*delay)\n",
    "            \n",
    "            if pulseWidth > 0:\n",
    "                Ux = ss.getPropagator(Hint + X*np.pi/2/pulseWidth, pulseWidth)\n",
    "                Uy = ss.getPropagator(Hint + Y*np.pi/2/pulseWidth, pulseWidth)\n",
    "                Uxbar = ss.getPropagator(Hint - X*np.pi/2/pulseWidth, pulseWidth)\n",
    "                Uybar = ss.getPropagator(Hint - Y*np.pi/2/pulseWidth, pulseWidth)\n",
    "            Utau = ss.getPropagator(Hint, delay)\n",
    "\n",
    "            Useq = Uxbar @ Uxbar @ Uybar @ Utau @ Uxbar @ Utau @ Uy @ Uxbar @ Utau\n",
    "            fidelities.append(ss.fidelity(Useq, UWHH0))\n",
    "            delays.append(delay)\n",
    "            pulseWidths.append(pulseWidth)"
   ]
  },
  {
   "cell_type": "code",
   "execution_count": null,
   "metadata": {},
   "outputs": [],
   "source": [
    "# plot results\n",
    "d = {'fidelity': fidelities, 'delay': delays, 'pulseWidth': pulseWidths}\n",
    "df2 = pd.DataFrame(data=d)\n",
    "fig2 = px.scatter_3d(df2, x='delay', y='pulseWidth', z='fidelity', opacity=0.7)\n",
    "fig2.update_layout(scene={'xaxis': {'type': 'log'}, 'yaxis': {'type': 'log'}})\n",
    "fig2.show()"
   ]
  },
  {
   "cell_type": "markdown",
   "metadata": {},
   "source": [
    "## 3\n",
    "\n",
    "xbar, tau, xbar, tau, ybar x"
   ]
  },
  {
   "cell_type": "code",
   "execution_count": null,
   "metadata": {},
   "outputs": [],
   "source": [
    "# TODO define the propagators in code here...\n",
    "# run for lots of random dipolar interactions\n",
    "\n",
    "fidelities = []\n",
    "delays = []\n",
    "pulseWidths = []\n",
    "\n",
    "for delay in np.geomspace(1e-6,10e-6,5):\n",
    "    for pulseWidth in np.geomspace(.01e-6,1e-6,5):\n",
    "        for i in range(100):\n",
    "            Hdip, Hint = ss.getAllH(N, dim, coupling, delta)\n",
    "            HWHH0 = ss.getHWHH0(X,Y,Z,delta)\n",
    "            UWHH0 = ss.getPropagator(HWHH0, 3*delay)\n",
    "            \n",
    "            if pulseWidth > 0:\n",
    "                Ux = ss.getPropagator(Hint + X*np.pi/2/pulseWidth, pulseWidth)\n",
    "                Uy = ss.getPropagator(Hint + Y*np.pi/2/pulseWidth, pulseWidth)\n",
    "                Uxbar = ss.getPropagator(Hint - X*np.pi/2/pulseWidth, pulseWidth)\n",
    "                Uybar = ss.getPropagator(Hint - Y*np.pi/2/pulseWidth, pulseWidth)\n",
    "            Utau = ss.getPropagator(Hint, delay)\n",
    "\n",
    "            Useq = Ux @ Uybar @ Utau @ Uxbar @ Utau @ Uxbar\n",
    "            fidelities.append(ss.fidelity(Useq, UWHH0))\n",
    "            delays.append(delay)\n",
    "            pulseWidths.append(pulseWidth)"
   ]
  },
  {
   "cell_type": "code",
   "execution_count": null,
   "metadata": {},
   "outputs": [],
   "source": [
    "# plot results\n",
    "d = {'fidelity': fidelities, 'delay': delays, 'pulseWidth': pulseWidths}\n",
    "df3 = pd.DataFrame(data=d)\n",
    "fig3 = px.scatter_3d(df3, x='delay', y='pulseWidth', z='fidelity', opacity=0.7)\n",
    "fig3.update_layout(scene={'xaxis': {'type': 'log'}, 'yaxis': {'type': 'log'}})\n",
    "fig3.show()"
   ]
  },
  {
   "cell_type": "markdown",
   "metadata": {},
   "source": [
    "## 4\n",
    "\n",
    "x ybar xbar, tau, x ybar^2, tau, y, tau, xbar y^2 x^2"
   ]
  },
  {
   "cell_type": "code",
   "execution_count": null,
   "metadata": {},
   "outputs": [],
   "source": [
    "# TODO define the propagators in code here...\n",
    "# run for lots of random dipolar interactions\n",
    "\n",
    "fidelities = []\n",
    "delays = []\n",
    "pulseWidths = []\n",
    "\n",
    "for delay in np.geomspace(1e-6,10e-6,5):\n",
    "    for pulseWidth in np.geomspace(.01e-6,1e-6,5):\n",
    "        for i in range(100):\n",
    "            Hdip, Hint = ss.getAllH(N, dim, coupling, delta)\n",
    "            HWHH0 = ss.getHWHH0(X,Y,Z,delta)\n",
    "            UWHH0 = ss.getPropagator(HWHH0, 3*delay)\n",
    "            \n",
    "            if pulseWidth > 0:\n",
    "                Ux = ss.getPropagator(Hint + X*np.pi/2/pulseWidth, pulseWidth)\n",
    "                Uy = ss.getPropagator(Hint + Y*np.pi/2/pulseWidth, pulseWidth)\n",
    "                Uxbar = ss.getPropagator(Hint - X*np.pi/2/pulseWidth, pulseWidth)\n",
    "                Uybar = ss.getPropagator(Hint - Y*np.pi/2/pulseWidth, pulseWidth)\n",
    "            Utau = ss.getPropagator(Hint, delay)\n",
    "\n",
    "            Useq = Ux @ Ux @ Uy @ Uy @ Uxbar @ Utau @ Uy @ Utau @ Uybar @ Uybar @ Ux @ Utau @ Uxbar @ Uybar @ Ux\n",
    "            fidelities.append(ss.fidelity(Useq, UWHH0))\n",
    "            delays.append(delay)\n",
    "            pulseWidths.append(pulseWidth)"
   ]
  },
  {
   "cell_type": "code",
   "execution_count": null,
   "metadata": {},
   "outputs": [],
   "source": [
    "# plot results\n",
    "d = {'fidelity': fidelities, 'delay': delays, 'pulseWidth': pulseWidths}\n",
    "df4 = pd.DataFrame(data=d)\n",
    "fig4 = px.scatter_3d(df4, x='delay', y='pulseWidth', z='fidelity', opacity=0.7)\n",
    "fig4.update_layout(scene={'xaxis': {'type': 'log'}, 'yaxis': {'type': 'log'}})\n",
    "fig4.show()"
   ]
  }
 ],
 "metadata": {
  "kernelspec": {
   "display_name": "Python 3",
   "language": "python",
   "name": "python3"
  },
  "language_info": {
   "codemirror_mode": {
    "name": "ipython",
    "version": 3
   },
   "file_extension": ".py",
   "mimetype": "text/x-python",
   "name": "python",
   "nbconvert_exporter": "python",
   "pygments_lexer": "ipython3",
   "version": "3.6.10"
  }
 },
 "nbformat": 4,
 "nbformat_minor": 4
}
