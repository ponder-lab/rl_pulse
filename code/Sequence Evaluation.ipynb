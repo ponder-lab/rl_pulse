{
 "cells": [
  {
   "cell_type": "markdown",
   "metadata": {},
   "source": [
    "# Pulse Sequence Evaluation\n",
    "\n",
    "Will Kaufman, 2020\n",
    "\n",
    "This notebook verifies the fidelity of pulse sequences identified by a reinforcement learning algorithm (as opposed to traditional techniques like average Hamiltonian theory)."
   ]
  },
  {
   "cell_type": "code",
   "execution_count": null,
   "metadata": {
    "scrolled": true
   },
   "outputs": [],
   "source": [
    "import spinSimulation as ss\n",
    "import rlPulse as rlp\n",
    "import numpy as np\n",
    "import pandas as pd\n",
    "from datetime import datetime\n",
    "import plotly.express as px"
   ]
  },
  {
   "cell_type": "code",
   "execution_count": null,
   "metadata": {},
   "outputs": [],
   "source": [
    "import importlib\n",
    "importlib.reload(ss)\n",
    "importlib.reload(rlp)"
   ]
  },
  {
   "cell_type": "markdown",
   "metadata": {},
   "source": [
    "# Initialize spin system\n",
    "\n",
    "This sets the parameters of the system ($N$ spin-1/2 particles, which corresponds to a Hilbert space with dimension $2^N$). For the purposes of simulation, $\\hbar \\equiv 1$.\n",
    "\n",
    "The total internal Hamiltonian is given by\n",
    "$$\n",
    "H_\\text{int} = C H_\\text{dip} + \\Delta \\sum_i^N I_z^{(i)}\n",
    "$$\n",
    "where $C$ is the coupling strength, $\\Delta$ is the chemical shift strength (each spin is assumed to be identical), and $H_\\text{dip}$ is given by\n",
    "$$\n",
    "H_\\text{dip} = \\sum_{i,j}^N d_{i,j} \\left(3I_z^{(i)}I_z^{(j)} - \\mathbf{I}^{(i)} \\cdot \\mathbf{I}^{(j)}\\right)\n",
    "$$\n",
    "\n",
    "The WAHUHA pulse sequence is designed to remove the dipolar interaction term from the internal Hamiltonian. The pulse sequence is $\\tau, P_{-x}, \\tau, P_{y}, \\tau, \\tau, P_{-y}, \\tau, P_{x}, \\tau$.\n",
    "The zeroth-order average Hamiltonian for the WAHUHA pulse sequence is\n",
    "$$\n",
    "H_\\text{WHH} = \\Delta / 3 \\sum_i^N I_x^{(i)} + I_y^{(i)} + I_z^{(i)}\n",
    "$$"
   ]
  },
  {
   "cell_type": "code",
   "execution_count": null,
   "metadata": {},
   "outputs": [],
   "source": [
    "N = 4\n",
    "dim = 2**N\n",
    "coupling = 2*np.pi * 5e3    # coupling strength\n",
    "delta = 2*np.pi * 500       # chemical shift strength (for identical spins)\n",
    "\n",
    "(x,y,z) = (ss.x, ss.y, ss.z)\n",
    "(X,Y,Z) = ss.getTotalSpin(N, dim)\n",
    "\n",
    "Ux = ss.getRotation(X, np.pi/2)\n",
    "Uxbar = ss.getRotation(X, -np.pi/2)\n",
    "Uy = ss.getRotation(Y, np.pi/2)\n",
    "Uybar = ss.getRotation(Y, -np.pi/2)"
   ]
  },
  {
   "cell_type": "markdown",
   "metadata": {},
   "source": [
    "# Evaluate pulse sequences\n",
    "\n",
    "Canditate pulse sequences:\n",
    "\n",
    "Number | Max reward | Pulse sequence | Date\n",
    "---|---|---|---\n",
    "1| 4.90 | tau, xbar, tau, ybar, tau, x y | (6/6)\n",
    "2| 7.12 | tau, xbar y, tau, xbar, tau, ybar xbar^2 | (6/6)\n",
    "3| 7.30 | xbar, tau, xbar, tau, ybar x | (6/6)\n",
    "4| 7.31 | x ybar xbar, tau, x ybar^2, tau, y, tau, xbar y^2 x^2 | (6/9)\n",
    "\n",
    "I'll go in order and evaluate each one independently"
   ]
  },
  {
   "cell_type": "markdown",
   "metadata": {},
   "source": [
    "## 1\n",
    "\n",
    "tau, xbar, tau, ybar, tau, x y"
   ]
  },
  {
   "cell_type": "code",
   "execution_count": null,
   "metadata": {},
   "outputs": [],
   "source": [
    "# TODO define the propagators in code here...\n",
    "# run for lots of random dipolar interactions\n",
    "\n",
    "fidelities = []\n",
    "delays = []\n",
    "pulseWidths = []\n",
    "\n",
    "for delay in np.geomspace(1e-6,10e-6,5):\n",
    "    for pulseWidth in np.geomspace(.01e-6,1e-6,5):\n",
    "        for i in range(100):\n",
    "            Hdip, Hint = ss.getAllH(N, dim, coupling, delta)\n",
    "            HWHH0 = ss.getHWHH0(X,Y,Z,delta)\n",
    "            UWHH0 = ss.getPropagator(HWHH0, 3*delay)\n",
    "            \n",
    "            if pulseWidth > 0:\n",
    "                Ux = ss.getPropagator(Hint + X*np.pi/2/pulseWidth, pulseWidth)\n",
    "                Uy = ss.getPropagator(Hint + Y*np.pi/2/pulseWidth, pulseWidth)\n",
    "                Uxbar = ss.getPropagator(Hint - X*np.pi/2/pulseWidth, pulseWidth)\n",
    "                Uybar = ss.getPropagator(Hint - Y*np.pi/2/pulseWidth, pulseWidth)\n",
    "            Utau = ss.getPropagator(Hint, delay)\n",
    "\n",
    "            Useq = Uy @ Ux @ Utau @ Uybar @ Utau @ Uxbar @ Utau\n",
    "            fidelities.append(ss.fidelity(Useq, UWHH0))\n",
    "            delays.append(delay)\n",
    "            pulseWidths.append(pulseWidth)"
   ]
  },
  {
   "cell_type": "code",
   "execution_count": null,
   "metadata": {},
   "outputs": [],
   "source": [
    "# plot results\n",
    "d = {'fidelity': fidelities, 'delay': delays, 'pulseWidth': pulseWidths}\n",
    "df1 = pd.DataFrame(data=d)\n",
    "fig1 = px.scatter_3d(df1, x='delay', y='pulseWidth', z='fidelity', opacity=0.7)\n",
    "fig1.update_layout(scene={'xaxis': {'type': 'log'}, 'yaxis': {'type': 'log'}})\n",
    "fig1.show()"
   ]
  },
  {
   "cell_type": "markdown",
   "metadata": {},
   "source": [
    "## 2\n",
    "\n",
    "tau, xbar y, tau, xbar, tau, ybar xbar^2"
   ]
  },
  {
   "cell_type": "code",
   "execution_count": null,
   "metadata": {},
   "outputs": [],
   "source": [
    "# TODO define the propagators in code here...\n",
    "# run for lots of random dipolar interactions\n",
    "\n",
    "fidelities = []\n",
    "delays = []\n",
    "pulseWidths = []\n",
    "types = []\n",
    "times = []\n",
    "reps = []\n",
    "\n",
    "for delay in np.geomspace(1e-6,10e-6,4):\n",
    "    for pulseWidth in np.geomspace(.01e-6,1e-6,4):\n",
    "        for i in range(250):\n",
    "            Hdip, Hint = ss.getAllH(N, dim, coupling, delta)\n",
    "            HWHH0 = ss.getHWHH0(X,Y,Z,delta)\n",
    "            UWHH0 = ss.getPropagator(HWHH0, 3*delay)\n",
    "            \n",
    "            if pulseWidth > 0:\n",
    "                Ux = ss.getPropagator(Hint + X*np.pi/2/pulseWidth, pulseWidth)\n",
    "                Uy = ss.getPropagator(Hint + Y*np.pi/2/pulseWidth, pulseWidth)\n",
    "                Uxbar = ss.getPropagator(Hint - X*np.pi/2/pulseWidth, pulseWidth)\n",
    "                Uybar = ss.getPropagator(Hint - Y*np.pi/2/pulseWidth, pulseWidth)\n",
    "            Utau = ss.getPropagator(Hint, delay)\n",
    "\n",
    "            Useq = Uxbar @ Uxbar @ Uybar @ Utau @ Uxbar @ Utau @ Uxbar @ Uybar @ Utau\n",
    "            tseq = 6*pulseWidth + 3*delay\n",
    "            UWHH = Utau @ Ux @ Utau @ Uybar @ Utau @ Utau @ Uy @ Utau @ Uxbar @ Utau\n",
    "            tWHH = 4*pulseWidth + 6*delay\n",
    "            fidelities.append(ss.fidelity(Useq**np.ceil(1e-3/tseq), UWHH0))\n",
    "            delays.append(delay)\n",
    "            pulseWidths.append(pulseWidth)\n",
    "            types.append('Candidate')\n",
    "            times.append(tseq * np.ceil(1e-3/tseq))\n",
    "            reps.append(np.ceil(1e-3/tseq))\n",
    "            # and record WAHUHA sequence benchmark\n",
    "            fidelities.append(ss.fidelity(UWHH**np.ceil(1e-3/tWHH), UWHH0))\n",
    "            delays.append(delay)\n",
    "            pulseWidths.append(pulseWidth)\n",
    "            types.append('WHH')      \n",
    "            times.append(tWHH * np.ceil(1e-3/tWHH))\n",
    "            reps.append(np.ceil(1e-3/tWHH))"
   ]
  },
  {
   "cell_type": "code",
   "execution_count": null,
   "metadata": {},
   "outputs": [],
   "source": [
    "d = {'fidelity': fidelities, 'delay': delays, \\\n",
    "     'pulseWidth': pulseWidths, 'type': types, 'time': times, \\\n",
    "     'rep': reps}\n",
    "df2 = pd.DataFrame(data=d)\n",
    "df2.to_csv(\"candidate2.csv\")"
   ]
  },
  {
   "cell_type": "markdown",
   "metadata": {},
   "source": [
    "## 3\n",
    "\n",
    "xbar, tau, xbar, tau, ybar x"
   ]
  },
  {
   "cell_type": "code",
   "execution_count": null,
   "metadata": {},
   "outputs": [],
   "source": [
    "# TODO define the propagators in code here...\n",
    "# run for lots of random dipolar interactions\n",
    "\n",
    "fidelities = []\n",
    "delays = []\n",
    "pulseWidths = []\n",
    "types = []\n",
    "times = []\n",
    "reps = []\n",
    "\n",
    "for delay in np.geomspace(1e-6,10e-6,4):\n",
    "    for pulseWidth in np.geomspace(.01e-6,1e-6,4):\n",
    "        for i in range(250):\n",
    "            Hdip, Hint = ss.getAllH(N, dim, coupling, delta)\n",
    "            HWHH0 = ss.getHWHH0(X,Y,Z,delta)\n",
    "            UWHH0 = ss.getPropagator(HWHH0, 3*delay)\n",
    "            \n",
    "            if pulseWidth > 0:\n",
    "                Ux = ss.getPropagator(Hint + X*np.pi/2/pulseWidth, pulseWidth)\n",
    "                Uy = ss.getPropagator(Hint + Y*np.pi/2/pulseWidth, pulseWidth)\n",
    "                Uxbar = ss.getPropagator(Hint - X*np.pi/2/pulseWidth, pulseWidth)\n",
    "                Uybar = ss.getPropagator(Hint - Y*np.pi/2/pulseWidth, pulseWidth)\n",
    "            Utau = ss.getPropagator(Hint, delay)\n",
    "\n",
    "            Useq = Utau @ Ux @ Uybar @ Utau @ Uy @ Utau @ Uxbar\n",
    "            tseq = 6*pulseWidth + 3*delay\n",
    "            UWHH = Utau @ Ux @ Utau @ Uybar @ Utau @ Utau @ Uy @ Utau @ Uxbar @ Utau\n",
    "            tWHH = 4*pulseWidth + 6*delay\n",
    "            fidelities.append(ss.fidelity(Useq**np.ceil(1e-3/tseq), UWHH0))\n",
    "            delays.append(delay)\n",
    "            pulseWidths.append(pulseWidth)\n",
    "            types.append('Candidate')\n",
    "            times.append(tseq * np.ceil(1e-3/tseq))\n",
    "            reps.append(np.ceil(1e-3/tseq))\n",
    "            # and record WAHUHA sequence benchmark\n",
    "            fidelities.append(ss.fidelity(UWHH**np.ceil(1e-3/tWHH), UWHH0))\n",
    "            delays.append(delay)\n",
    "            pulseWidths.append(pulseWidth)\n",
    "            types.append('WHH')      \n",
    "            times.append(tWHH * np.ceil(1e-3/tWHH))\n",
    "            reps.append(np.ceil(1e-3/tWHH))"
   ]
  },
  {
   "cell_type": "code",
   "execution_count": null,
   "metadata": {},
   "outputs": [],
   "source": [
    "d = {'fidelity': fidelities, 'delay': delays, \\\n",
    "     'pulseWidth': pulseWidths, 'type': types, 'time': times, \\\n",
    "     'rep': reps}\n",
    "df3 = pd.DataFrame(data=d)\n",
    "df3.to_csv(\"candidate3.csv\")"
   ]
  },
  {
   "cell_type": "markdown",
   "metadata": {},
   "source": [
    "## 4\n",
    "\n",
    "x ybar xbar, tau, x ybar^2, tau, y, tau, xbar y^2 x^2"
   ]
  },
  {
   "cell_type": "code",
   "execution_count": null,
   "metadata": {},
   "outputs": [],
   "source": [
    "# TODO define the propagators in code here...\n",
    "# run for lots of random dipolar interactions\n",
    "\n",
    "fidelities = []\n",
    "delays = []\n",
    "pulseWidths = []\n",
    "types = []\n",
    "times = []\n",
    "reps = []\n",
    "\n",
    "for delay in np.geomspace(1e-6,10e-6,4):\n",
    "    for pulseWidth in np.geomspace(.01e-6,1e-6,4):\n",
    "        for i in range(250):\n",
    "            Hdip, Hint = ss.getAllH(N, dim, coupling, delta)\n",
    "            HWHH0 = ss.getHWHH0(X,Y,Z,delta)\n",
    "            UWHH0 = ss.getPropagator(HWHH0, 3*delay)\n",
    "            \n",
    "            if pulseWidth > 0:\n",
    "                Ux = ss.getPropagator(Hint + X*np.pi/2/pulseWidth, pulseWidth)\n",
    "                Uy = ss.getPropagator(Hint + Y*np.pi/2/pulseWidth, pulseWidth)\n",
    "                Uxbar = ss.getPropagator(Hint - X*np.pi/2/pulseWidth, pulseWidth)\n",
    "                Uybar = ss.getPropagator(Hint - Y*np.pi/2/pulseWidth, pulseWidth)\n",
    "            Utau = ss.getPropagator(Hint, delay)\n",
    "\n",
    "            Useq = Ux @ Ux @ Uy @ Uy @ Uxbar @ Utau @ Uy @ Utau @ Uybar @ Uybar @ Ux @ Utau @ Uxbar @ Uybar @ Ux\n",
    "            tseq = 12*pulseWidth + 3*delay\n",
    "            UWHH = Utau @ Ux @ Utau @ Uybar @ Utau @ Utau @ Uy @ Utau @ Uxbar @ Utau\n",
    "            tWHH = 4*pulseWidth + 6*delay\n",
    "            fidelities.append(ss.fidelity(Useq**np.ceil(1e-3/tseq), UWHH0))\n",
    "            delays.append(delay)\n",
    "            pulseWidths.append(pulseWidth)\n",
    "            types.append('Candidate')\n",
    "            times.append(tseq * np.ceil(1e-3/tseq))\n",
    "            reps.append(np.ceil(1e-3/tseq))\n",
    "            # and record WAHUHA sequence benchmark\n",
    "            fidelities.append(ss.fidelity(UWHH**np.ceil(1e-3/tWHH), UWHH0))\n",
    "            delays.append(delay)\n",
    "            pulseWidths.append(pulseWidth)\n",
    "            types.append('WHH')      \n",
    "            times.append(tWHH * np.ceil(1e-3/tWHH))\n",
    "            reps.append(np.ceil(1e-3/tWHH))"
   ]
  },
  {
   "cell_type": "code",
   "execution_count": null,
   "metadata": {},
   "outputs": [],
   "source": [
    "d = {'fidelity': fidelities, 'delay': delays, \\\n",
    "     'pulseWidth': pulseWidths, 'type': types, 'time': times, \\\n",
    "     'rep': reps}\n",
    "df4 = pd.DataFrame(data=d)"
   ]
  },
  {
   "cell_type": "code",
   "execution_count": null,
   "metadata": {},
   "outputs": [],
   "source": [
    "df4.to_csv(\"candidate4.csv\")"
   ]
  },
  {
   "cell_type": "code",
   "execution_count": null,
   "metadata": {},
   "outputs": [],
   "source": [
    "# plot results\n",
    "fig4 = px.scatter_3d(df4, x='delay', y='pulseWidth', z='fidelity', opacity=0.7)\n",
    "fig4.update_layout(scene={'xaxis': {'type': 'log'}, 'yaxis': {'type': 'log'}})\n",
    "fig4.show()"
   ]
  }
 ],
 "metadata": {
  "kernelspec": {
   "display_name": "Python 3",
   "language": "python",
   "name": "python3"
  },
  "language_info": {
   "codemirror_mode": {
    "name": "ipython",
    "version": 3
   },
   "file_extension": ".py",
   "mimetype": "text/x-python",
   "name": "python",
   "nbconvert_exporter": "python",
   "pygments_lexer": "ipython3",
   "version": "3.6.10"
  }
 },
 "nbformat": 4,
 "nbformat_minor": 4
}
