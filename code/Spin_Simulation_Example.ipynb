{
 "cells": [
  {
   "cell_type": "markdown",
   "metadata": {},
   "source": [
    "# Spin Simulation Example\n",
    "\n",
    "Construct a system of $N$ identical spins with random dipolar coupling strengths, and simulate their evolution in time.\n",
    "\n",
    "TODO write out the relevant physics here..."
   ]
  },
  {
   "cell_type": "code",
   "execution_count": null,
   "metadata": {},
   "outputs": [],
   "source": [
    "import spinSimulation as ss\n",
    "import numpy as np\n",
    "import importlib"
   ]
  },
  {
   "cell_type": "code",
   "execution_count": null,
   "metadata": {},
   "outputs": [],
   "source": [
    "importlib.reload(ss)"
   ]
  },
  {
   "cell_type": "markdown",
   "metadata": {},
   "source": [
    "System parameters defined below."
   ]
  },
  {
   "cell_type": "code",
   "execution_count": null,
   "metadata": {},
   "outputs": [],
   "source": [
    "Ncyc = 10         # number of cycles to simulate\n",
    "N = 4             # number of spins in system\n",
    "dim = 2**N        # dimension of system (2^N for spin-1/2)\n",
    "\n",
    "pulse = .25e-6    # duration of pulse\n",
    "delay = 3e-6      # duration of delay\n",
    "f1 = np.pi/(2*pulse)  # for pi/2 pulses\n",
    "coupling = 2*np.pi * 5e3    # coupling strength\n",
    "Delta = 2*np.pi * 500       # chemical shift strength (for identical spins)"
   ]
  },
  {
   "cell_type": "code",
   "execution_count": null,
   "metadata": {
    "scrolled": true
   },
   "outputs": [],
   "source": [
    "a = ss.getRandDip(N) # random dipolar coupling strengths\n",
    "(x,y,z) = (ss.x, ss.y, ss.z)\n",
    "(X,Y,Z) = ss.get_total_spin(N, dim)\n",
    "\n",
    "Hdip = ss.getHdip(N, dim, x, y, z, a)\n",
    "Hint = ss.getHint(Hdip, coupling, Z, Delta)\n",
    "HWHH0 = ss.get_H_WHH_0(N, dim, delta)\n",
    "\n",
    "UWHH0 = ss.get_propagator(HWHH0, 6*delay + 4*pulse)"
   ]
  },
  {
   "cell_type": "code",
   "execution_count": null,
   "metadata": {},
   "outputs": [],
   "source": [
    "Utau   = ss.get_propagator(Hint, delay)\n",
    "Ux     = ss.get_propagator(Hint + f1*X, pulse)\n",
    "Uy     = ss.get_propagator(Hint + f1*Y, pulse)\n",
    "Uxbar  = ss.get_propagator(Hint - f1*X, pulse)\n",
    "Uybar  = ss.get_propagator(Hint - f1*Y, pulse)\n",
    "\n",
    "# TODO also do delta-pulses\n",
    "\n",
    "UWHH = Utau @ Ux @ Utau @ Uybar @ Utau @ Utau @ \\\n",
    "        Uy @ Utau @ Uxbar @ Utau"
   ]
  },
  {
   "cell_type": "code",
   "execution_count": null,
   "metadata": {},
   "outputs": [],
   "source": [
    "rho0 = np.copy(X)    # finite pulse width\n",
    "rho1 = np.copy(rho0) # zeroth order AHT approximation\n",
    "rhoinit = np.copy(rho0)\n",
    "normD = np.trace(rho0 @ rho0)\n",
    "\n",
    "sig0 = np.zeros((Ncyc, 1), dtype=\"complex64\")\n",
    "sig1 = np.zeros_like(sig0)\n",
    "# fid0 = np.copy(sig0)\n",
    "# fid1 = np.copy(sig0)\n",
    "\n",
    "for n in range(Ncyc):\n",
    "    # evolution of collective magnetization\n",
    "    sig0[n] = np.trace(rho0 @ rhoinit) / normD\n",
    "    sig1[n] = np.trace(rho1 @ rhoinit) / normD\n",
    "    \n",
    "    # time evolution\n",
    "    rho0 = UWHH  @ rho0 @ UWHH.T.conj()\n",
    "    rho1 = UWHH0 @ rho1 @ UWHH0.T.conj()"
   ]
  },
  {
   "cell_type": "code",
   "execution_count": null,
   "metadata": {},
   "outputs": [],
   "source": [
    "%matplotlib inline\n",
    "import matplotlib.pyplot as plt\n",
    "\n",
    "plt.plot(range(Ncyc), np.real(sig0), label='0')\n",
    "plt.plot(range(Ncyc), np.real(sig1), label='1')\n",
    "plt.title('Real component of signal')\n",
    "plt.xlabel('Cycle number')\n",
    "plt.ylabel('Net magnetization, real')\n",
    "plt.legend()"
   ]
  }
 ],
 "metadata": {
  "kernelspec": {
   "display_name": "Python 3",
   "language": "python",
   "name": "python3"
  },
  "language_info": {
   "codemirror_mode": {
    "name": "ipython",
    "version": 3
   },
   "file_extension": ".py",
   "mimetype": "text/x-python",
   "name": "python",
   "nbconvert_exporter": "python",
   "pygments_lexer": "ipython3",
   "version": "3.6.10"
  }
 },
 "nbformat": 4,
 "nbformat_minor": 4
}
