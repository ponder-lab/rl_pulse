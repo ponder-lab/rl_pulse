{
 "cells": [
  {
   "cell_type": "code",
   "execution_count": null,
   "metadata": {},
   "outputs": [],
   "source": [
    "import spinSimulation as ss\n",
    "import numpy as np\n",
    "import scipy.linalg as spla\n",
    "import importlib\n",
    "from tqdm.auto import trange\n",
    "import matplotlib.pyplot as plt"
   ]
  },
  {
   "cell_type": "code",
   "execution_count": null,
   "metadata": {},
   "outputs": [],
   "source": [
    "N = 4\n",
    "dim = 2**N\n",
    "\n",
    "# pulse = .25e-6    # duration of pulse\n",
    "# delay = 3e-6      # duration of delay\n",
    "coupling = 5e3    # coupling strength\n",
    "delta = 500       # chemical shift strength (for identical spins)\n",
    "\n",
    "(x,y,z) = (ss.x, ss.y, ss.z)\n",
    "(X,Y,Z) = ss.getTotalSpin(N, dim)\n",
    "\n",
    "Hdip, Hint = ss.getAllH(N, dim, coupling, delta)\n",
    "HWHH0 = ss.getHWHH0(X,Y,Z,delta)"
   ]
  },
  {
   "cell_type": "markdown",
   "metadata": {},
   "source": [
    "Some quick maths, it takes about 250 seconds to make 40x40x40 = 64,000 calculations. That's 256 calculations per second."
   ]
  },
  {
   "cell_type": "code",
   "execution_count": null,
   "metadata": {},
   "outputs": [],
   "source": [
    "numSamples = 10\n",
    "numDipCoupling = 50\n",
    "pulses = np.geomspace(1e-9,1e-6, numSamples)\n",
    "delays = np.geomspace(1e-7,1e-4, numSamples)\n",
    "\n",
    "fMat = np.zeros((numSamples, numSamples))\n",
    "rewardMat = np.zeros((numSamples, numSamples))\n",
    "for i in trange(numSamples):\n",
    "    p = pulses[i]\n",
    "    for j in range(numSamples):\n",
    "        d = delays[j]\n",
    "        fTot = 0.0\n",
    "        rTot = 0.0\n",
    "        for k in range(numDipCoupling):\n",
    "            _, Hint = ss.getAllH(N, dim, coupling, delta)\n",
    "            UWHH = ss.getUWHH(Hint, d, p, X, Y)\n",
    "            UWHH0 = ss.getPropagator(HWHH0, 6*d + 4*p)\n",
    "            f = ss.fidelity(UWHH, UWHH0)\n",
    "            fTot += f\n",
    "            rTot += -np.log10(1 + 1e-12 - np.minimum(f, 1))\n",
    "        fMat[i,j] = fTot / numDipCoupling\n",
    "        rewardMat[i,j] = rTot / numDipCoupling"
   ]
  },
  {
   "cell_type": "code",
   "execution_count": null,
   "metadata": {},
   "outputs": [],
   "source": [
    "%matplotlib inline\n",
    "\n",
    "X1,Y1 = np.meshgrid(pulses, delays)\n",
    "\n",
    "plt.pcolormesh(X1, Y1, rewardMat.T)\n",
    "plt.title('Rewards vs pulse, delay durations')\n",
    "plt.colorbar()\n",
    "plt.xlabel('Pulse length')\n",
    "plt.ylabel('Delay length')\n",
    "plt.xscale('log')\n",
    "plt.yscale('log')"
   ]
  }
 ],
 "metadata": {
  "kernelspec": {
   "display_name": "Python 3",
   "language": "python",
   "name": "python3"
  },
  "language_info": {
   "codemirror_mode": {
    "name": "ipython",
    "version": 3
   },
   "file_extension": ".py",
   "mimetype": "text/x-python",
   "name": "python",
   "nbconvert_exporter": "python",
   "pygments_lexer": "ipython3",
   "version": "3.6.10"
  }
 },
 "nbformat": 4,
 "nbformat_minor": 4
}
