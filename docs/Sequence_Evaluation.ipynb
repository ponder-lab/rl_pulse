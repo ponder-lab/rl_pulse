{
 "cells": [
  {
   "cell_type": "markdown",
   "metadata": {},
   "source": [
    "# Pulse Sequence Evaluation\n",
    "\n",
    "Will Kaufman, 2020\n",
    "\n",
    "This notebook verifies the fidelity of pulse sequences identified by a reinforcement learning algorithm (as opposed to traditional techniques like average Hamiltonian theory)."
   ]
  },
  {
   "cell_type": "code",
   "execution_count": null,
   "metadata": {
    "scrolled": true
   },
   "outputs": [],
   "source": [
    "import spin_simulation as ss\n",
    "import numpy as np\n",
    "import pandas as pd\n",
    "from datetime import datetime\n",
    "#import plotly.express as px"
   ]
  },
  {
   "cell_type": "code",
   "execution_count": null,
   "metadata": {},
   "outputs": [],
   "source": [
    "# import importlib\n",
    "# importlib.reload(ss)\n",
    "# importlib.reload(rlp)"
   ]
  },
  {
   "cell_type": "markdown",
   "metadata": {},
   "source": [
    "# Initialize spin system\n",
    "\n",
    "This sets the parameters of the system ($N$ spin-1/2 particles, which corresponds to a Hilbert space with dimension $2^N$). For the purposes of simulation, $\\hbar \\equiv 1$.\n",
    "\n",
    "The total internal Hamiltonian is given by\n",
    "$$\n",
    "H_\\text{int} = C H_\\text{dip} + \\Delta \\sum_i^N I_z^{(i)}\n",
    "$$\n",
    "where $C$ is the coupling strength, $\\Delta$ is the chemical shift strength (each spin is assumed to be identical), and $H_\\text{dip}$ is given by\n",
    "$$\n",
    "H_\\text{dip} = \\sum_{i,j}^N d_{i,j} \\left(3I_z^{(i)}I_z^{(j)} - \\mathbf{I}^{(i)} \\cdot \\mathbf{I}^{(j)}\\right)\n",
    "$$\n",
    "\n",
    "The WAHUHA pulse sequence is designed to remove the dipolar interaction term from the internal Hamiltonian. The pulse sequence is $\\tau, P_{-x}, \\tau, P_{y}, \\tau, \\tau, P_{-y}, \\tau, P_{x}, \\tau$.\n",
    "The zeroth-order average Hamiltonian for the WAHUHA pulse sequence is\n",
    "$$\n",
    "H_\\text{WHH} = \\Delta / 3 \\sum_i^N I_x^{(i)} + I_y^{(i)} + I_z^{(i)}\n",
    "$$"
   ]
  },
  {
   "cell_type": "code",
   "execution_count": null,
   "metadata": {},
   "outputs": [],
   "source": [
    "N = 4\n",
    "dim = 2**N\n",
    "coupling = 2*np.pi * 5e3    # coupling strength\n",
    "delta = 2*np.pi * 500       # chemical shift strength (for identical spins)\n",
    "\n",
    "(x,y,z) = (ss.x, ss.y, ss.z)\n",
    "(X,Y,Z) = ss.get_total_spin(N, dim)\n",
    "\n",
    "Ux = ss.get_rotation(X, np.pi/2)\n",
    "Uxbar = ss.get_rotation(X, -np.pi/2)\n",
    "Uy = ss.get_rotation(Y, np.pi/2)\n",
    "Uybar = ss.get_rotation(Y, -np.pi/2)"
   ]
  },
  {
   "cell_type": "code",
   "execution_count": null,
   "metadata": {},
   "outputs": [],
   "source": [
    "def evaluate_sequence(delay_samples, pulse_width_samples, Htarget,\n",
    "                      seq, seq_type, eval_time, n=100, time_samples = 25):\n",
    "    \"\"\"Evaluate a candidate pulse sequence with a variety of delays and pulse\n",
    "    widths.\n",
    "    \n",
    "    Arguments:\n",
    "        delay_samples, pulse_width_samples: Numpy arrays of time values.\n",
    "        seq: An array of indices to index the unitaries array for pulse sequence\n",
    "            construction. Should be given in chronological order.\n",
    "        eval_time: Time over which to evaluate the pulse sequence. If the pulse\n",
    "            sequence is 10 microseconds, and eval_time is 1ms, then the sequence\n",
    "            should be repeated 100 times and then the fidelity is measured.\n",
    "    \"\"\"\n",
    "    fidelities = []\n",
    "    delays = []\n",
    "    pulse_widths = []\n",
    "    types = []\n",
    "    times = []\n",
    "    reps = []\n",
    "    for d in delay_samples:\n",
    "        for p in pulse_width_samples:\n",
    "            for _ in range(n):\n",
    "                Hdip, Hint = ss.get_H(N, dim, coupling, delta)\n",
    "                Ux = ss.get_propagator(Hint + X*np.pi/2/p, p)\n",
    "                Uy = ss.get_propagator(Hint + Y*np.pi/2/p, p)\n",
    "                Uxbar = ss.get_propagator(Hint - X*np.pi/2/p, p)\n",
    "                Uybar = ss.get_propagator(Hint - Y*np.pi/2/p, p)\n",
    "                Utau = ss.get_propagator(Hint, d)\n",
    "                operators = [Ux, Uxbar, Uy, Uybar, Utau]\n",
    "                operator_times = [p]*4 + [d]\n",
    "                # calculate sequence propagator and duration\n",
    "                Useq = np.eye(dim, dtype=\"complex128\")\n",
    "                seq_time = 0\n",
    "                for s in seq:\n",
    "                    Useq = operators[s] @ Useq\n",
    "                    seq_time += operator_times[s]\n",
    "                # calculate target propagator over sequence time\n",
    "                Utarget = ss.get_propagator(Htarget, seq_time)\n",
    "                \n",
    "                # how many repetitions of the pulse sequence to perform for each observation\n",
    "                num_reps = int(np.floor(eval_time / (time_samples * seq_time)))\n",
    "                # how many observations to make to get to eval_time\n",
    "                num_obs = int(np.ceil(eval_time/(num_reps * seq_time)))\n",
    "                Useq_cum = np.eye(dim, dtype = \"complex128\")\n",
    "                Utarget_cum = np.copy(Useq_cum)\n",
    "                time = 0\n",
    "                for o in range(num_obs):\n",
    "                    fidelities.append(ss.fidelity(Useq_cum,\n",
    "                                                  Utarget_cum))\n",
    "                    delays.append(d)\n",
    "                    pulse_widths.append(p)\n",
    "                    types.append(seq_type)\n",
    "                    times.append(time)\n",
    "                    reps.append(o)\n",
    "                    # update time and unitaries\n",
    "                    time += seq_time * num_reps\n",
    "                    Useq_cum = np.linalg.matrix_power(Useq, num_reps) @ Useq_cum\n",
    "                    Utarget_cum = np.linalg.matrix_power(Utarget, num_reps) @ Utarget_cum\n",
    "                    \n",
    "    d = {'fidelity': fidelities, 'delay': delays, \n",
    "         'pulse_width': pulse_widths, 'type': types, 'time': times, 'rep': o * num_reps}\n",
    "    df = pd.DataFrame(data=d)\n",
    "    df['reward'] = -np.log10(1-df['fidelity'])\n",
    "    return df"
   ]
  },
  {
   "cell_type": "markdown",
   "metadata": {},
   "source": [
    "## Evaluate existing pulse sequences"
   ]
  },
  {
   "cell_type": "code",
   "execution_count": null,
   "metadata": {},
   "outputs": [],
   "source": [
    "dfHoRD = evaluate_sequence(np.geomspace(1e-6,10e-6,2),\n",
    "                           np.geomspace(.01e-6,1e-6,2), \n",
    "                           1/3 * delta * Z,\n",
    "                           [4, 2, 4, 0, 0, 4, 1, 1, 2, 0, 4, 1, 2, 1, 4, 0, 2, 4],\n",
    "                           \"HoRD-qubit-5\", eval_time = 1e-4, 100)"
   ]
  },
  {
   "cell_type": "code",
   "execution_count": null,
   "metadata": {},
   "outputs": [],
   "source": [
    "dfHoRD.plot(x='p', y='reward', kind='scatter')"
   ]
  },
  {
   "cell_type": "code",
   "execution_count": null,
   "metadata": {},
   "outputs": [],
   "source": [
    "df_WHH = evaluate_sequence(np.geomspace(1e-6,5e-6,3),\n",
    "                           np.geomspace(.1e-6,1e-6,3), \n",
    "                           1/3 * delta * (X + Y + Z),\n",
    "                           [4, 1, 4, 2, 4, 4, 3, 4, 0, 4],\n",
    "                           \"WHH-4 Sequence\", 1e-4, 250)"
   ]
  },
  {
   "cell_type": "code",
   "execution_count": null,
   "metadata": {},
   "outputs": [],
   "source": [
    "df_WHH.to_csv(\"WHH.csv\")"
   ]
  },
  {
   "cell_type": "markdown",
   "metadata": {},
   "source": [
    "## Evaluate candidate pulse sequences\n",
    "\n",
    "Canditate pulse sequences:\n",
    "\n",
    "Number | Max reward | Pulse sequence | Date\n",
    "---|---|---|---\n",
    "1| 4.90 | tau, xbar, tau, ybar, tau, x y | (6/6)\n",
    "2| 7.12 | tau, xbar y, tau, xbar, tau, ybar xbar^2 | (6/6)\n",
    "3| 7.30 | xbar, tau, xbar, tau, ybar x | (6/6)\n",
    "4| 7.31 | x ybar xbar, tau, x ybar^2, tau, y, tau, xbar y^2 x^2 | (6/9)\n",
    "\n",
    "I'll go in order and evaluate each one independently"
   ]
  },
  {
   "cell_type": "markdown",
   "metadata": {},
   "source": [
    "## 1\n",
    "\n",
    "tau, xbar, tau, ybar, tau, x y"
   ]
  },
  {
   "cell_type": "code",
   "execution_count": null,
   "metadata": {},
   "outputs": [],
   "source": [
    "# # TODO define the propagators in code here...\n",
    "# # run for lots of random dipolar interactions\n",
    "\n",
    "# fidelities = []\n",
    "# delays = []\n",
    "# pulseWidths = []\n",
    "\n",
    "# for delay in np.geomspace(1e-6,10e-6,5):\n",
    "#     for pulseWidth in np.geomspace(.01e-6,1e-6,5):\n",
    "#         for i in range(100):\n",
    "#             Hdip, Hint = ss.get_H(N, dim, coupling, delta)\n",
    "#             HWHH0 = ss.get_H_WHH_0(N, dim, delta)\n",
    "#             UWHH0 = ss.get_propagator(HWHH0, 3*delay)\n",
    "            \n",
    "#             if pulseWidth > 0:\n",
    "#                 Ux = ss.get_propagator(Hint + X*np.pi/2/pulseWidth, pulseWidth)\n",
    "#                 Uy = ss.get_propagator(Hint + Y*np.pi/2/pulseWidth, pulseWidth)\n",
    "#                 Uxbar = ss.get_propagator(Hint - X*np.pi/2/pulseWidth, pulseWidth)\n",
    "#                 Uybar = ss.get_propagator(Hint - Y*np.pi/2/pulseWidth, pulseWidth)\n",
    "#             Utau = ss.get_propagator(Hint, delay)\n",
    "\n",
    "#             Useq = Uy @ Ux @ Utau @ Uybar @ Utau @ Uxbar @ Utau\n",
    "#             fidelities.append(ss.fidelity(Useq, UWHH0))\n",
    "#             delays.append(delay)\n",
    "#             pulseWidths.append(pulseWidth)"
   ]
  },
  {
   "cell_type": "code",
   "execution_count": null,
   "metadata": {},
   "outputs": [],
   "source": [
    "# # plot results\n",
    "# d = {'fidelity': fidelities, 'delay': delays, 'pulseWidth': pulseWidths}\n",
    "# df1 = pd.DataFrame(data=d)\n",
    "# fig1 = px.scatter_3d(df1, x='delay', y='pulseWidth', z='fidelity', opacity=0.7)\n",
    "# fig1.update_layout(scene={'xaxis': {'type': 'log'}, 'yaxis': {'type': 'log'}})\n",
    "# fig1.show()"
   ]
  },
  {
   "cell_type": "markdown",
   "metadata": {},
   "source": [
    "## 2\n",
    "\n",
    "(right to left)\n",
    "Uxbar @ Uxbar @ Uybar @ Utau @ Uxbar @ Utau @ Uxbar @ Uybar @ Utau"
   ]
  },
  {
   "cell_type": "code",
   "execution_count": null,
   "metadata": {},
   "outputs": [],
   "source": [
    "df_2 = evaluate_sequence(np.geomspace(1e-6,10e-6,3),\n",
    "                         np.geomspace(.01e-6,1e-6,3), \n",
    "                         1/3 * delta * (X + Y + Z),\n",
    "                         [4, 3, 1, 4, 1, 4, 3, 1, 1],\n",
    "                           \"Candidate 2\", 1e-4, 250)"
   ]
  },
  {
   "cell_type": "code",
   "execution_count": null,
   "metadata": {},
   "outputs": [],
   "source": [
    "df_2.to_csv(\"candidate2.csv\")"
   ]
  },
  {
   "cell_type": "markdown",
   "metadata": {},
   "source": [
    "## 3\n",
    "\n",
    "Utau @ Ux @ Uybar @ Utau @ Uy @ Utau @ Uxbar\n",
    "<!-- xbar, tau, xbar, tau, ybar x -->"
   ]
  },
  {
   "cell_type": "code",
   "execution_count": null,
   "metadata": {},
   "outputs": [],
   "source": [
    "df_3 = evaluate_sequence(np.geomspace(1e-6,10e-6,3),\n",
    "                         np.geomspace(.01e-6,1e-6,3), \n",
    "                         1/3 * delta * (X + Y + Z),\n",
    "                         [1, 4, 2, 4, 3, 0, 4],\n",
    "                           \"Candidate 3\", 1e-4, 250)"
   ]
  },
  {
   "cell_type": "code",
   "execution_count": null,
   "metadata": {},
   "outputs": [],
   "source": [
    "df_3.to_csv(\"candidate3.csv\")"
   ]
  },
  {
   "cell_type": "markdown",
   "metadata": {},
   "source": [
    "## 4\n",
    "\n",
    "x ybar xbar, tau, x ybar^2, tau, y, tau, xbar y^2 x^2"
   ]
  },
  {
   "cell_type": "code",
   "execution_count": null,
   "metadata": {},
   "outputs": [],
   "source": [
    "df_4 = evaluate_sequence(np.geomspace(1e-6,10e-6,3),\n",
    "                         np.geomspace(.01e-6,1e-6,3), \n",
    "                         1/3 * delta * (X + Y + Z),\n",
    "                         [0, 3, 1, 4, 0, 3, 3, 4, 2, 4, 1, 2, 2, 0, 0],\n",
    "                           \"Candidate 4\", 1e-4, 250)\n",
    "\n",
    "# Useq = Ux @ Ux @ Uy @ Uy @ Uxbar @ Utau @ Uy @ Utau @ Uybar @ Uybar @ Ux @ Utau @ Uxbar @ Uybar @ Ux"
   ]
  },
  {
   "cell_type": "code",
   "execution_count": null,
   "metadata": {},
   "outputs": [],
   "source": [
    "df_4.to_csv(\"candidate4.csv\")"
   ]
  }
 ],
 "metadata": {
  "kernelspec": {
   "display_name": "Python 3",
   "language": "python",
   "name": "python3"
  },
  "language_info": {
   "codemirror_mode": {
    "name": "ipython",
    "version": 3
   },
   "file_extension": ".py",
   "mimetype": "text/x-python",
   "name": "python",
   "nbconvert_exporter": "python",
   "pygments_lexer": "ipython3",
   "version": "3.6.10"
  }
 },
 "nbformat": 4,
 "nbformat_minor": 4
}
