{
 "cells": [
  {
   "cell_type": "markdown",
   "metadata": {},
   "source": [
    "# Sandbox\n",
    "\n",
    "Let's play!"
   ]
  },
  {
   "cell_type": "code",
   "execution_count": null,
   "metadata": {},
   "outputs": [],
   "source": [
    "import rl_pulse.spin_simulation as ss\n",
    "import numpy as np\n",
    "from scipy import linalg"
   ]
  },
  {
   "cell_type": "code",
   "execution_count": null,
   "metadata": {},
   "outputs": [],
   "source": [
    "N = 4\n",
    "dim = 2**N\n",
    "coupling = 5e3\n",
    "delta = 500\n",
    "pulse_width = 1e-6\n",
    "delay = 10e-6\n",
    "\n",
    "(x,y,z) = (ss.x, ss.y, ss.z)\n",
    "(X,Y,Z) = ss.get_total_spin(N, dim)\n",
    "\n",
    "Hdip, Hint = ss.get_H(N, dim, coupling, delta)\n",
    "H_target = ss.get_H_WHH_0(X, Y, Z, delta)"
   ]
  },
  {
   "cell_type": "code",
   "execution_count": null,
   "metadata": {},
   "outputs": [],
   "source": [
    "Utarget_step = ss.get_propagator(H_target, (pulse_width + delay))\n",
    "        \n",
    "# define actions\n",
    "Udelay = linalg.expm(-1j * Hint * delay)\n",
    "Ux = linalg.expm(-1j * (X*np.pi/2 + Hint*pulse_width))\n",
    "Uxbar = linalg.expm(-1j * (X*-np.pi/2 + Hint*pulse_width))\n",
    "Uy = linalg.expm(-1j * (Y*np.pi/2 + Hint*pulse_width))\n",
    "Uybar = linalg.expm(-1j * (Y*-np.pi/2 + Hint*pulse_width))\n",
    "Ux = Udelay @ Ux\n",
    "Uxbar = Udelay @ Uxbar\n",
    "Uy = Udelay @ Uy\n",
    "Uybar = Udelay @ Uybar\n",
    "Udelay = linalg.expm(-1j*(Hint*(pulse_width + delay)))"
   ]
  },
  {
   "cell_type": "code",
   "execution_count": null,
   "metadata": {},
   "outputs": [],
   "source": [
    "U1 = Uybar @ Udelay @ Uy @ Ux @ Udelay @ Uxbar\n",
    "U2 = Uxbar @ Uybar @ Udelay @ Uy @ Ux @ Udelay\n",
    "U3 = Udelay @ Uxbar @ Uybar @ Udelay @ Uy @ Ux"
   ]
  },
  {
   "cell_type": "code",
   "execution_count": null,
   "metadata": {},
   "outputs": [],
   "source": [
    "ss.fidelity(U2, U3)"
   ]
  },
  {
   "cell_type": "code",
   "execution_count": null,
   "metadata": {},
   "outputs": [],
   "source": [
    "ss.metric1(U2, U3)"
   ]
  },
  {
   "cell_type": "code",
   "execution_count": null,
   "metadata": {},
   "outputs": [],
   "source": [
    "UWHH = ss.get_U_WHH(Hint, delay, pulse_width, X, Y)"
   ]
  },
  {
   "cell_type": "code",
   "execution_count": null,
   "metadata": {},
   "outputs": [],
   "source": [
    "ss.fidelity(U2, UWHH)"
   ]
  },
  {
   "cell_type": "markdown",
   "metadata": {},
   "source": [
    "OK, after confusing myself for forever with rotations, I think I have it figured out (and I think there's a typo in table 4-2 in _Haeberlen_, p58). a $P_x$ rotation (90 degree rotation about the x axis) means rotating vectors _clockwise_ by 90 degrees when you look at the origin from the x axis. Then a $P_\\overline{x}$ rotation rotates vectors _counterclockwise_, which puts vectors along y to vectors along z. $P_\\overline{x} = e^{i \\pi/2 X}$.\n",
    "\n",
    "$$\n",
    "e^{-i \\pi/2 X} Z e^{i \\pi/2 X} = Y\n",
    "$$\n",
    "\n",
    "Similarly, $P_y$ rotates vectors _clockwise_ when looking at the origin from the y axis. So vectors along x are rotated to along z.\n",
    "\n",
    "$$\n",
    "e^{i \\pi/2 Y} Z e^{-i \\pi/2 Y} = X\n",
    "$$\n",
    "\n",
    "$$\n",
    "e^{-i \\pi/2 X} X e^{i \\pi/2 X} = X \\text{ (commutes with itself.)}\n",
    "$$\n",
    "\n",
    "And $P_z$ rotates vectors _clockwise_ when looking at the origin from the z axis. So vectors along y are rotated to along x.\n",
    "\n",
    "How confusing..."
   ]
  },
  {
   "cell_type": "code",
   "execution_count": null,
   "metadata": {},
   "outputs": [],
   "source": [
    "np.round(linalg.expm(-1j * x * np.pi/2) @ z @\n",
    "         linalg.expm(+1j * x * np.pi/2), decimals = 3) - y"
   ]
  }
 ],
 "metadata": {
  "kernelspec": {
   "display_name": "Python 3",
   "language": "python",
   "name": "python3"
  },
  "language_info": {
   "codemirror_mode": {
    "name": "ipython",
    "version": 3
   },
   "file_extension": ".py",
   "mimetype": "text/x-python",
   "name": "python",
   "nbconvert_exporter": "python",
   "pygments_lexer": "ipython3",
   "version": "3.6.10"
  }
 },
 "nbformat": 4,
 "nbformat_minor": 4
}
