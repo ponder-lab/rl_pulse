{
 "cells": [
  {
   "cell_type": "code",
   "execution_count": null,
   "metadata": {},
   "outputs": [],
   "source": [
    "import spin_simulation as ss\n",
    "import numpy as np\n",
    "import scipy.linalg as spla\n",
    "import scipy.stats as stats\n",
    "import importlib\n",
    "from tqdm.auto import trange\n",
    "import matplotlib.pyplot as plt"
   ]
  },
  {
   "cell_type": "code",
   "execution_count": null,
   "metadata": {},
   "outputs": [],
   "source": [
    "N = 4\n",
    "dim = 2**N\n",
    "\n",
    "# pulse = .25e-6    # duration of pulse\n",
    "# delay = 3e-6      # duration of delay\n",
    "coupling = 2*np.pi * 5e3    # coupling strength\n",
    "delta = 2*np.pi * 500       # chemical shift strength (for identical spins)\n",
    "\n",
    "(x,y,z) = (ss.x, ss.y, ss.z)\n",
    "(X,Y,Z) = ss.get_total_spin(N, dim)\n",
    "\n",
    "Hdip, Hint = ss.getAllH(N, dim, coupling, delta)\n",
    "HWHH0 = ss.get_H_WHH_0(N, dim, delta)"
   ]
  },
  {
   "cell_type": "markdown",
   "metadata": {},
   "source": [
    "Compare the fidelity between UWHH0 and UHint after 5 microseconds."
   ]
  },
  {
   "cell_type": "code",
   "execution_count": null,
   "metadata": {
    "scrolled": true
   },
   "outputs": [],
   "source": [
    "numSamples = 20\n",
    "numTimesteps = 50\n",
    "timeStep = 2\n",
    "rewardMat = np.zeros((numSamples,numTimesteps))\n",
    "fidelityMat = np.zeros_like(rewardMat)\n",
    "t = np.zeros((numTimesteps))\n",
    "for i in range(numSamples):\n",
    "    Hdip, Hint = ss.getAllH(N, dim, coupling, delta)\n",
    "    HWHH0 = ss.get_H_WHH_0(N, dim, delta)\n",
    "    \n",
    "    UWHH0 = ss.get_propagator(HWHH0, 1e-6)\n",
    "    UHint = ss.get_propagator(Hint, 1e-6)\n",
    "#     print(f'fidelity for 1 microsecond: {-np.log(1-ss.fidelity(UWHH0, UHint))}')\n",
    "#     U1 = np.copy(UWHH0)\n",
    "#     U2 = np.copy(UHint)\n",
    "    for j in range(numTimesteps):\n",
    "        fidelityMat[i,j] = ss.fidelity(np.linalg.matrix_power(UWHH0, timeStep*(j+1)),\n",
    "                                       np.linalg.matrix_power(UHint, timeStep*(j+1)))\n",
    "#         fidelityMat[i,j] = ss.fidelity(U1, U2)\n",
    "        rewardMat[i,j] = -np.log10(1-fidelityMat[i,j] + 1e-100)\n",
    "        t[j] = timeStep*(j+1)\n",
    "#         t[j] = 2**(j+1)\n",
    "#         U1 = U1 @ U1\n",
    "#         U2 = U2 @ U2\n",
    "\n",
    "meanF = np.mean(fidelityMat, axis=0)\n",
    "stdF = np.std(fidelityMat, axis=0)\n",
    "meanR = np.mean(rewardMat, axis=0)\n",
    "stdR = np.std(rewardMat, axis=0)"
   ]
  },
  {
   "cell_type": "code",
   "execution_count": null,
   "metadata": {},
   "outputs": [],
   "source": [
    "%matplotlib inline\n",
    "\n",
    "plt.errorbar(t, meanF, stdF)\n",
    "# plt.plot(fidelityMat.T)"
   ]
  },
  {
   "cell_type": "code",
   "execution_count": null,
   "metadata": {},
   "outputs": [],
   "source": [
    "%matplotlib inline\n",
    "\n",
    "plt.errorbar(t, meanR, stdR)\n",
    "plt.yscale('log')\n",
    "plt.xscale('log')\n",
    "plt.grid(True, which='both')\n",
    "\n",
    "# plt.plot(t, meanR**(1/-0.5))"
   ]
  },
  {
   "cell_type": "markdown",
   "metadata": {},
   "source": [
    "Trying to understand the relationship between rewards and time. They exhibit an inverse relationship, but unclear whether it's a power law or exponential relationship. The reward behavior is different for small vs large $t$."
   ]
  },
  {
   "cell_type": "code",
   "execution_count": null,
   "metadata": {},
   "outputs": [],
   "source": [
    "stats.linregress(np.log(t[:]), np.log(meanR[:]))"
   ]
  },
  {
   "cell_type": "markdown",
   "metadata": {},
   "source": [
    "Some quick maths, it takes about 250 seconds to make 40x40x40 = 64,000 calculations. That's 256 calculations per second."
   ]
  },
  {
   "cell_type": "code",
   "execution_count": null,
   "metadata": {},
   "outputs": [],
   "source": [
    "numSamples = 28\n",
    "numDipCoupling = 5\n",
    "pulses = np.geomspace(1e-7,1e-5, numSamples)\n",
    "delays = np.geomspace(1e-6,1e-4, numSamples)\n",
    "\n",
    "fMat = np.zeros((numSamples, numSamples))\n",
    "rewardMat = np.zeros((numSamples, numSamples))\n",
    "for i in trange(numSamples):\n",
    "    p = pulses[i]\n",
    "    for j in range(numSamples):\n",
    "        d = delays[j]\n",
    "        fTot = 0.0\n",
    "        rTot = 0.0\n",
    "        for k in range(numDipCoupling):\n",
    "            _, Hint = ss.getAllH(N, dim, coupling, delta)\n",
    "            UWHH = ss.get_U_WHH(Hint, d, p, X, Y)\n",
    "            UWHH0 = ss.get_propagator(HWHH0, 6*d + 4*p)\n",
    "            numCycles = np.ceil(1e-4 / (6*d+4*p))\n",
    "            f = ss.fidelity(np.linalg.matrix_power(UWHH, int(numCycles)),\n",
    "                            np.linalg.matrix_power(UWHH0, int(numCycles)))\n",
    "            fTot += f\n",
    "            rTot += -np.log10(1 - f + 1e-100)\n",
    "        fMat[i,j] = fTot / numDipCoupling\n",
    "        rewardMat[i,j] = rTot / numDipCoupling"
   ]
  },
  {
   "cell_type": "code",
   "execution_count": null,
   "metadata": {},
   "outputs": [],
   "source": [
    "%matplotlib inline\n",
    "\n",
    "X1,Y1 = np.meshgrid(pulses, delays)\n",
    "\n",
    "plt.pcolormesh(X1, Y1, rewardMat.T)\n",
    "plt.title('Rewards vs pulse, delay durations')\n",
    "plt.colorbar()\n",
    "plt.xlabel('Pulse length')\n",
    "plt.ylabel('Delay length')\n",
    "plt.xscale('log')\n",
    "plt.yscale('log')"
   ]
  }
 ],
 "metadata": {
  "kernelspec": {
   "display_name": "Python 3",
   "language": "python",
   "name": "python3"
  },
  "language_info": {
   "codemirror_mode": {
    "name": "ipython",
    "version": 3
   },
   "file_extension": ".py",
   "mimetype": "text/x-python",
   "name": "python",
   "nbconvert_exporter": "python",
   "pygments_lexer": "ipython3",
   "version": "3.6.10"
  }
 },
 "nbformat": 4,
 "nbformat_minor": 4
}
