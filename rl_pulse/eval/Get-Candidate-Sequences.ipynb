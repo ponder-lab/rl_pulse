{
 "cells": [
  {
   "cell_type": "markdown",
   "metadata": {},
   "source": [
    "# Sort candidate pulse sequences"
   ]
  },
  {
   "cell_type": "code",
   "execution_count": 1,
   "metadata": {},
   "outputs": [],
   "source": [
    "import sys\n",
    "import os\n",
    "import re\n",
    "import pandas as pd"
   ]
  },
  {
   "cell_type": "code",
   "execution_count": 13,
   "metadata": {},
   "outputs": [],
   "source": [
    "candidates = []\n",
    "with open('../../data/2021-02/20210205-102100/candidates.txt') as file:\n",
    "    for line in file:\n",
    "        candidates.append(line)"
   ]
  },
  {
   "cell_type": "code",
   "execution_count": 14,
   "metadata": {},
   "outputs": [],
   "source": [
    "c2 = []\n",
    "for c in candidates:\n",
    "    try:\n",
    "        m = re.search(r'(.*?) candidate pulse sequence from \\d+ \\((.*?), array\\((.*?)\\), (.*?)\\)\\n', c)\n",
    "        c2.append({\n",
    "            'timestamp': m.group(1),\n",
    "            'sequence': m.group(2),\n",
    "            'last_pulse': m.group(3),\n",
    "            'value': float(m.group(4))\n",
    "        })\n",
    "    except Exception as e:\n",
    "        print(c)"
   ]
  },
  {
   "cell_type": "code",
   "execution_count": 15,
   "metadata": {},
   "outputs": [
    {
     "data": {
      "text/plain": [
       "1895"
      ]
     },
     "execution_count": 15,
     "metadata": {},
     "output_type": "execute_result"
    }
   ],
   "source": [
    "len(c2)"
   ]
  },
  {
   "cell_type": "code",
   "execution_count": 16,
   "metadata": {},
   "outputs": [],
   "source": [
    "df = pd.DataFrame(c2)"
   ]
  },
  {
   "cell_type": "code",
   "execution_count": 17,
   "metadata": {},
   "outputs": [
    {
     "data": {
      "text/plain": [
       "array([[<AxesSubplot:title={'center':'value'}>]], dtype=object)"
      ]
     },
     "execution_count": 17,
     "metadata": {},
     "output_type": "execute_result"
    },
    {
     "data": {
      "image/png": "[encoded data removed]",
      "text/plain": [
       "<Figure size 432x288 with 1 Axes>"
      ]
     },
     "metadata": {
      "needs_background": "light"
     },
     "output_type": "display_data"
    }
   ],
   "source": [
    "df.hist('value', bins=20)"
   ]
  },
  {
   "cell_type": "code",
   "execution_count": 18,
   "metadata": {},
   "outputs": [
    {
     "data": {
      "text/html": [
       "<div>\n",
       "<style scoped>\n",
       "    .dataframe tbody tr th:only-of-type {\n",
       "        vertical-align: middle;\n",
       "    }\n",
       "\n",
       "    .dataframe tbody tr th {\n",
       "        vertical-align: top;\n",
       "    }\n",
       "\n",
       "    .dataframe thead th {\n",
       "        text-align: right;\n",
       "    }\n",
       "</style>\n",
       "<table border=\"1\" class=\"dataframe\">\n",
       "  <thead>\n",
       "    <tr style=\"text-align: right;\">\n",
       "      <th></th>\n",
       "      <th>timestamp</th>\n",
       "      <th>sequence</th>\n",
       "      <th>last_pulse</th>\n",
       "      <th>value</th>\n",
       "    </tr>\n",
       "  </thead>\n",
       "  <tbody>\n",
       "    <tr>\n",
       "      <th>0</th>\n",
       "      <td>2021-02-05 10:32:36.019805</td>\n",
       "      <td>[4, 1, 3, 2, 3, 0, 2, 2, 1, 0, 2, 4, 2, 4, 2, ...</td>\n",
       "      <td>[0., 0., 0., 0., 1.]</td>\n",
       "      <td>2.545065</td>\n",
       "    </tr>\n",
       "    <tr>\n",
       "      <th>1</th>\n",
       "      <td>2021-02-05 10:35:05.539849</td>\n",
       "      <td>[3, 4, 4, 0, 4, 3, 3, 2, 4, 3, 1, 0, 3, 0, 3, ...</td>\n",
       "      <td>[0., 0., 1., 0., 0.]</td>\n",
       "      <td>2.558061</td>\n",
       "    </tr>\n",
       "    <tr>\n",
       "      <th>2</th>\n",
       "      <td>2021-02-05 10:37:15.995386</td>\n",
       "      <td>[4, 0, 1, 0, 1, 4, 3, 3, 2, 0, 1, 3, 0, 1, 1, ...</td>\n",
       "      <td>[0., 1., 0., 0., 0.]</td>\n",
       "      <td>2.501602</td>\n",
       "    </tr>\n",
       "    <tr>\n",
       "      <th>3</th>\n",
       "      <td>2021-02-05 10:53:01.729772</td>\n",
       "      <td>[4, 3, 2, 4, 2, 2, 4, 4, 0, 4, 1, 3, 0, 4, 4, ...</td>\n",
       "      <td>[0., 0., 1., 0., 0.]</td>\n",
       "      <td>2.607544</td>\n",
       "    </tr>\n",
       "    <tr>\n",
       "      <th>4</th>\n",
       "      <td>2021-02-05 10:54:01.976105</td>\n",
       "      <td>[2, 1, 2, 2, 0, 0, 0, 3, 1, 2, 2, 3, 3, 1, 1, ...</td>\n",
       "      <td>[0., 0., 0., 0., 1.]</td>\n",
       "      <td>2.620393</td>\n",
       "    </tr>\n",
       "    <tr>\n",
       "      <th>...</th>\n",
       "      <td>...</td>\n",
       "      <td>...</td>\n",
       "      <td>...</td>\n",
       "      <td>...</td>\n",
       "    </tr>\n",
       "    <tr>\n",
       "      <th>1890</th>\n",
       "      <td>2021-02-06 10:16:58.108566</td>\n",
       "      <td>[2, 4, 0, 3, 0, 2, 2, 3, 2, 2, 1, 2, 3, 3, 3, ...</td>\n",
       "      <td>[0., 0., 0., 0., 1.]</td>\n",
       "      <td>2.587999</td>\n",
       "    </tr>\n",
       "    <tr>\n",
       "      <th>1891</th>\n",
       "      <td>2021-02-06 10:17:30.748548</td>\n",
       "      <td>[2, 3, 3, 3, 2, 4, 2, 3, 3, 2, 3, 3, 2, 4, 4, ...</td>\n",
       "      <td>[1., 0., 0., 0., 0.]</td>\n",
       "      <td>2.640224</td>\n",
       "    </tr>\n",
       "    <tr>\n",
       "      <th>1892</th>\n",
       "      <td>2021-02-06 10:18:14.508508</td>\n",
       "      <td>[2, 3, 3, 3, 2, 4, 2, 3, 3, 2, 3, 2, 1, 2, 3, ...</td>\n",
       "      <td>[0., 0., 1., 0., 0.]</td>\n",
       "      <td>3.170484</td>\n",
       "    </tr>\n",
       "    <tr>\n",
       "      <th>1893</th>\n",
       "      <td>2021-02-06 10:18:35.021709</td>\n",
       "      <td>[2, 3, 3, 3, 2, 0, 2, 2, 3, 3, 3, 2, 4, 3, 2, ...</td>\n",
       "      <td>[1., 0., 0., 0., 0.]</td>\n",
       "      <td>2.773576</td>\n",
       "    </tr>\n",
       "    <tr>\n",
       "      <th>1894</th>\n",
       "      <td>2021-02-06 10:19:14.892056</td>\n",
       "      <td>[2, 3, 3, 3, 2, 2, 0, 4, 4, 2, 1, 3, 2, 3, 4, ...</td>\n",
       "      <td>[0., 0., 1., 0., 0.]</td>\n",
       "      <td>2.577472</td>\n",
       "    </tr>\n",
       "  </tbody>\n",
       "</table>\n",
       "<p>1895 rows × 4 columns</p>\n",
       "</div>"
      ],
      "text/plain": [
       "                       timestamp  \\\n",
       "0     2021-02-05 10:32:36.019805   \n",
       "1     2021-02-05 10:35:05.539849   \n",
       "2     2021-02-05 10:37:15.995386   \n",
       "3     2021-02-05 10:53:01.729772   \n",
       "4     2021-02-05 10:54:01.976105   \n",
       "...                          ...   \n",
       "1890  2021-02-06 10:16:58.108566   \n",
       "1891  2021-02-06 10:17:30.748548   \n",
       "1892  2021-02-06 10:18:14.508508   \n",
       "1893  2021-02-06 10:18:35.021709   \n",
       "1894  2021-02-06 10:19:14.892056   \n",
       "\n",
       "                                               sequence            last_pulse  \\\n",
       "0     [4, 1, 3, 2, 3, 0, 2, 2, 1, 0, 2, 4, 2, 4, 2, ...  [0., 0., 0., 0., 1.]   \n",
       "1     [3, 4, 4, 0, 4, 3, 3, 2, 4, 3, 1, 0, 3, 0, 3, ...  [0., 0., 1., 0., 0.]   \n",
       "2     [4, 0, 1, 0, 1, 4, 3, 3, 2, 0, 1, 3, 0, 1, 1, ...  [0., 1., 0., 0., 0.]   \n",
       "3     [4, 3, 2, 4, 2, 2, 4, 4, 0, 4, 1, 3, 0, 4, 4, ...  [0., 0., 1., 0., 0.]   \n",
       "4     [2, 1, 2, 2, 0, 0, 0, 3, 1, 2, 2, 3, 3, 1, 1, ...  [0., 0., 0., 0., 1.]   \n",
       "...                                                 ...                   ...   \n",
       "1890  [2, 4, 0, 3, 0, 2, 2, 3, 2, 2, 1, 2, 3, 3, 3, ...  [0., 0., 0., 0., 1.]   \n",
       "1891  [2, 3, 3, 3, 2, 4, 2, 3, 3, 2, 3, 3, 2, 4, 4, ...  [1., 0., 0., 0., 0.]   \n",
       "1892  [2, 3, 3, 3, 2, 4, 2, 3, 3, 2, 3, 2, 1, 2, 3, ...  [0., 0., 1., 0., 0.]   \n",
       "1893  [2, 3, 3, 3, 2, 0, 2, 2, 3, 3, 3, 2, 4, 3, 2, ...  [1., 0., 0., 0., 0.]   \n",
       "1894  [2, 3, 3, 3, 2, 2, 0, 4, 4, 2, 1, 3, 2, 3, 4, ...  [0., 0., 1., 0., 0.]   \n",
       "\n",
       "         value  \n",
       "0     2.545065  \n",
       "1     2.558061  \n",
       "2     2.501602  \n",
       "3     2.607544  \n",
       "4     2.620393  \n",
       "...        ...  \n",
       "1890  2.587999  \n",
       "1891  2.640224  \n",
       "1892  3.170484  \n",
       "1893  2.773576  \n",
       "1894  2.577472  \n",
       "\n",
       "[1895 rows x 4 columns]"
      ]
     },
     "execution_count": 18,
     "metadata": {},
     "output_type": "execute_result"
    }
   ],
   "source": [
    "df"
   ]
  },
  {
   "cell_type": "code",
   "execution_count": 19,
   "metadata": {},
   "outputs": [],
   "source": [
    "df.sort_values('value', ascending=False, inplace=True)"
   ]
  },
  {
   "cell_type": "code",
   "execution_count": 20,
   "metadata": {},
   "outputs": [
    {
     "data": {
      "text/html": [
       "<div>\n",
       "<style scoped>\n",
       "    .dataframe tbody tr th:only-of-type {\n",
       "        vertical-align: middle;\n",
       "    }\n",
       "\n",
       "    .dataframe tbody tr th {\n",
       "        vertical-align: top;\n",
       "    }\n",
       "\n",
       "    .dataframe thead th {\n",
       "        text-align: right;\n",
       "    }\n",
       "</style>\n",
       "<table border=\"1\" class=\"dataframe\">\n",
       "  <thead>\n",
       "    <tr style=\"text-align: right;\">\n",
       "      <th></th>\n",
       "      <th>timestamp</th>\n",
       "      <th>sequence</th>\n",
       "      <th>last_pulse</th>\n",
       "      <th>value</th>\n",
       "    </tr>\n",
       "  </thead>\n",
       "  <tbody>\n",
       "    <tr>\n",
       "      <th>1885</th>\n",
       "      <td>2021-02-06 10:14:00.514291</td>\n",
       "      <td>[2, 3, 3, 3, 1, 4, 2, 0, 4, 4, 2, 3, 3, 2, 4, ...</td>\n",
       "      <td>[0., 1., 0., 0., 0.]</td>\n",
       "      <td>4.301602</td>\n",
       "    </tr>\n",
       "    <tr>\n",
       "      <th>996</th>\n",
       "      <td>2021-02-06 03:58:54.175875</td>\n",
       "      <td>[2, 3, 3, 3, 2, 4, 2, 2, 3, 3, 2, 2, 3, 2, 3, ...</td>\n",
       "      <td>[0., 0., 1., 0., 0.]</td>\n",
       "      <td>4.210711</td>\n",
       "    </tr>\n",
       "    <tr>\n",
       "      <th>48</th>\n",
       "      <td>2021-02-05 15:50:29.778683</td>\n",
       "      <td>[3, 3, 3, 2, 2, 2, 3, 2, 3, 2, 2, 3, 2, 2, 4, ...</td>\n",
       "      <td>[1., 0., 0., 0., 0.]</td>\n",
       "      <td>4.121513</td>\n",
       "    </tr>\n",
       "    <tr>\n",
       "      <th>1027</th>\n",
       "      <td>2021-02-06 04:13:44.289922</td>\n",
       "      <td>[2, 4, 3, 2, 3, 0, 2, 2, 3, 0, 3, 3, 2, 3, 2, ...</td>\n",
       "      <td>[0., 0., 1., 0., 0.]</td>\n",
       "      <td>4.099934</td>\n",
       "    </tr>\n",
       "    <tr>\n",
       "      <th>1384</th>\n",
       "      <td>2021-02-06 06:48:37.146042</td>\n",
       "      <td>[2, 3, 3, 3, 2, 3, 2, 2, 3, 3, 3, 2, 3, 2, 3, ...</td>\n",
       "      <td>[1., 0., 0., 0., 0.]</td>\n",
       "      <td>3.986736</td>\n",
       "    </tr>\n",
       "    <tr>\n",
       "      <th>...</th>\n",
       "      <td>...</td>\n",
       "      <td>...</td>\n",
       "      <td>...</td>\n",
       "      <td>...</td>\n",
       "    </tr>\n",
       "    <tr>\n",
       "      <th>339</th>\n",
       "      <td>2021-02-05 21:41:07.395625</td>\n",
       "      <td>[2, 3, 2, 3, 2, 4, 4, 2, 1, 3, 4, 2, 2, 4, 3, ...</td>\n",
       "      <td>[1., 0., 0., 0., 0.]</td>\n",
       "      <td>2.500572</td>\n",
       "    </tr>\n",
       "    <tr>\n",
       "      <th>1065</th>\n",
       "      <td>2021-02-06 04:34:29.718069</td>\n",
       "      <td>[2, 3, 3, 2, 0, 3, 3, 3, 1, 1, 2, 2, 2, 2, 3, ...</td>\n",
       "      <td>[1., 0., 0., 0., 0.]</td>\n",
       "      <td>2.500474</td>\n",
       "    </tr>\n",
       "    <tr>\n",
       "      <th>485</th>\n",
       "      <td>2021-02-05 23:36:31.875664</td>\n",
       "      <td>[2, 3, 3, 3, 2, 2, 3, 2, 3, 3, 2, 2, 2, 2, 2, ...</td>\n",
       "      <td>[1., 0., 0., 0., 0.]</td>\n",
       "      <td>2.500245</td>\n",
       "    </tr>\n",
       "    <tr>\n",
       "      <th>1037</th>\n",
       "      <td>2021-02-06 04:17:18.643701</td>\n",
       "      <td>[2, 3, 3, 2, 4, 2, 3, 2, 1, 2, 3, 2, 3, 2, 3, ...</td>\n",
       "      <td>[0., 1., 0., 0., 0.]</td>\n",
       "      <td>2.500135</td>\n",
       "    </tr>\n",
       "    <tr>\n",
       "      <th>939</th>\n",
       "      <td>2021-02-06 03:35:20.292329</td>\n",
       "      <td>[2, 2, 3, 4, 2, 1, 3, 2, 2, 1, 1, 1, 2, 4, 0, ...</td>\n",
       "      <td>[1., 0., 0., 0., 0.]</td>\n",
       "      <td>2.500012</td>\n",
       "    </tr>\n",
       "  </tbody>\n",
       "</table>\n",
       "<p>1895 rows × 4 columns</p>\n",
       "</div>"
      ],
      "text/plain": [
       "                       timestamp  \\\n",
       "1885  2021-02-06 10:14:00.514291   \n",
       "996   2021-02-06 03:58:54.175875   \n",
       "48    2021-02-05 15:50:29.778683   \n",
       "1027  2021-02-06 04:13:44.289922   \n",
       "1384  2021-02-06 06:48:37.146042   \n",
       "...                          ...   \n",
       "339   2021-02-05 21:41:07.395625   \n",
       "1065  2021-02-06 04:34:29.718069   \n",
       "485   2021-02-05 23:36:31.875664   \n",
       "1037  2021-02-06 04:17:18.643701   \n",
       "939   2021-02-06 03:35:20.292329   \n",
       "\n",
       "                                               sequence            last_pulse  \\\n",
       "1885  [2, 3, 3, 3, 1, 4, 2, 0, 4, 4, 2, 3, 3, 2, 4, ...  [0., 1., 0., 0., 0.]   \n",
       "996   [2, 3, 3, 3, 2, 4, 2, 2, 3, 3, 2, 2, 3, 2, 3, ...  [0., 0., 1., 0., 0.]   \n",
       "48    [3, 3, 3, 2, 2, 2, 3, 2, 3, 2, 2, 3, 2, 2, 4, ...  [1., 0., 0., 0., 0.]   \n",
       "1027  [2, 4, 3, 2, 3, 0, 2, 2, 3, 0, 3, 3, 2, 3, 2, ...  [0., 0., 1., 0., 0.]   \n",
       "1384  [2, 3, 3, 3, 2, 3, 2, 2, 3, 3, 3, 2, 3, 2, 3, ...  [1., 0., 0., 0., 0.]   \n",
       "...                                                 ...                   ...   \n",
       "339   [2, 3, 2, 3, 2, 4, 4, 2, 1, 3, 4, 2, 2, 4, 3, ...  [1., 0., 0., 0., 0.]   \n",
       "1065  [2, 3, 3, 2, 0, 3, 3, 3, 1, 1, 2, 2, 2, 2, 3, ...  [1., 0., 0., 0., 0.]   \n",
       "485   [2, 3, 3, 3, 2, 2, 3, 2, 3, 3, 2, 2, 2, 2, 2, ...  [1., 0., 0., 0., 0.]   \n",
       "1037  [2, 3, 3, 2, 4, 2, 3, 2, 1, 2, 3, 2, 3, 2, 3, ...  [0., 1., 0., 0., 0.]   \n",
       "939   [2, 2, 3, 4, 2, 1, 3, 2, 2, 1, 1, 1, 2, 4, 0, ...  [1., 0., 0., 0., 0.]   \n",
       "\n",
       "         value  \n",
       "1885  4.301602  \n",
       "996   4.210711  \n",
       "48    4.121513  \n",
       "1027  4.099934  \n",
       "1384  3.986736  \n",
       "...        ...  \n",
       "339   2.500572  \n",
       "1065  2.500474  \n",
       "485   2.500245  \n",
       "1037  2.500135  \n",
       "939   2.500012  \n",
       "\n",
       "[1895 rows x 4 columns]"
      ]
     },
     "execution_count": 20,
     "metadata": {},
     "output_type": "execute_result"
    }
   ],
   "source": [
    "df"
   ]
  },
  {
   "cell_type": "code",
   "execution_count": 21,
   "metadata": {},
   "outputs": [],
   "source": [
    "df.to_csv('../../data/2021-02/20210205-102100/candidates_sorted.csv')"
   ]
  },
  {
   "cell_type": "code",
   "execution_count": null,
   "metadata": {},
   "outputs": [],
   "source": []
  }
 ],
 "metadata": {
  "kernelspec": {
   "display_name": "Python 3",
   "language": "python",
   "name": "python3"
  },
  "language_info": {
   "codemirror_mode": {
    "name": "ipython",
    "version": 3
   },
   "file_extension": ".py",
   "mimetype": "text/x-python",
   "name": "python",
   "nbconvert_exporter": "python",
   "pygments_lexer": "ipython3",
   "version": "3.7.9"
  }
 },
 "nbformat": 4,
 "nbformat_minor": 4
}
