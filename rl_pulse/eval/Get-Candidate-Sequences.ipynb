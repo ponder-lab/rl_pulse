{
 "cells": [
  {
   "cell_type": "markdown",
   "metadata": {},
   "source": [
    "# Sort candidate pulse sequences\n",
    "\n",
    "From the job output, keep only the lines that contain the text \"candidate pulse sequence\" (can do `cat rl_pulse... | grep \"candidate pulse sequence\"`) or use regex to delete all lines that don't contain candidate sequences via `^((?!candidate pulse sequence).)*$`."
   ]
  },
  {
   "cell_type": "code",
   "execution_count": 1,
   "metadata": {},
   "outputs": [],
   "source": [
    "import sys\n",
    "import os\n",
    "import re\n",
    "import pandas as pd\n",
    "import numpy as np\n",
    "import matplotlib.pyplot as plt\n",
    "import importlib"
   ]
  },
  {
   "cell_type": "code",
   "execution_count": 2,
   "metadata": {},
   "outputs": [],
   "source": [
    "path = '../../data/2021-04/20210403-122814/'"
   ]
  },
  {
   "cell_type": "code",
   "execution_count": 3,
   "metadata": {},
   "outputs": [],
   "source": [
    "candidates = []\n",
    "with open(os.path.join(path, 'candidates.txt')) as file:\n",
    "    for line in file:\n",
    "        candidates.append(line)"
   ]
  },
  {
   "cell_type": "code",
   "execution_count": 4,
   "metadata": {},
   "outputs": [
    {
     "name": "stdout",
     "output_type": "stream",
     "text": [
      "exception caught\n",
      "exception caught\n"
     ]
    }
   ],
   "source": [
    "c2 = []\n",
    "for c in candidates:\n",
    "    try:\n",
    "        m = re.search(r'(.*?) candidate pulse sequence from \\d+ \\((.*?), array\\((.*?)\\), (.*?)\\)\\n', c)\n",
    "        c2.append({\n",
    "            'timestamp': m.group(1),\n",
    "            'sequence': m.group(2),\n",
    "            'last_pulse': m.group(3),\n",
    "            'value': float(m.group(4))\n",
    "        })\n",
    "    except Exception as e:\n",
    "        print('exception caught')\n",
    "        # print(c)"
   ]
  },
  {
   "cell_type": "code",
   "execution_count": 5,
   "metadata": {},
   "outputs": [
    {
     "data": {
      "text/plain": [
       "12180"
      ]
     },
     "execution_count": 5,
     "metadata": {},
     "output_type": "execute_result"
    }
   ],
   "source": [
    "len(c2)"
   ]
  },
  {
   "cell_type": "code",
   "execution_count": 6,
   "metadata": {},
   "outputs": [],
   "source": [
    "df = pd.DataFrame(c2)"
   ]
  },
  {
   "cell_type": "code",
   "execution_count": 7,
   "metadata": {},
   "outputs": [
    {
     "data": {
      "text/plain": [
       "array([[<AxesSubplot:title={'center':'value'}>]], dtype=object)"
      ]
     },
     "execution_count": 7,
     "metadata": {},
     "output_type": "execute_result"
    },
    {
     "data": {
      "image/png": "[encoded data removed]",
      "text/plain": [
       "<Figure size 432x288 with 1 Axes>"
      ]
     },
     "metadata": {
      "needs_background": "light"
     },
     "output_type": "display_data"
    }
   ],
   "source": [
    "df.hist('value', bins=50)"
   ]
  },
  {
   "cell_type": "code",
   "execution_count": 8,
   "metadata": {},
   "outputs": [],
   "source": [
    "df.sort_values('value', ascending=False, inplace=True)\n",
    "# df"
   ]
  },
  {
   "cell_type": "code",
   "execution_count": 9,
   "metadata": {},
   "outputs": [],
   "source": [
    "df['sequence'] = df['sequence'].apply(lambda x: [int(i) for i in x[1:-1].split(',')])"
   ]
  },
  {
   "cell_type": "code",
   "execution_count": 10,
   "metadata": {},
   "outputs": [],
   "source": [
    "df['last_pulse'] = df['last_pulse'].apply(lambda x: [float(i) for i in x[1:-1].split(',')])"
   ]
  },
  {
   "cell_type": "code",
   "execution_count": 11,
   "metadata": {},
   "outputs": [],
   "source": [
    "df['last_pulse'] = df['last_pulse'].apply(lambda x: np.argwhere(x)[0][0])"
   ]
  },
  {
   "cell_type": "code",
   "execution_count": 12,
   "metadata": {},
   "outputs": [],
   "source": [
    "df['full_sequence'] = df['sequence'] + df['last_pulse'].apply(lambda x: [x])"
   ]
  },
  {
   "cell_type": "code",
   "execution_count": 13,
   "metadata": {},
   "outputs": [
    {
     "data": {
      "text/html": [
       "<div>\n",
       "<style scoped>\n",
       "    .dataframe tbody tr th:only-of-type {\n",
       "        vertical-align: middle;\n",
       "    }\n",
       "\n",
       "    .dataframe tbody tr th {\n",
       "        vertical-align: top;\n",
       "    }\n",
       "\n",
       "    .dataframe thead th {\n",
       "        text-align: right;\n",
       "    }\n",
       "</style>\n",
       "<table border=\"1\" class=\"dataframe\">\n",
       "  <thead>\n",
       "    <tr style=\"text-align: right;\">\n",
       "      <th></th>\n",
       "      <th>timestamp</th>\n",
       "      <th>sequence</th>\n",
       "      <th>last_pulse</th>\n",
       "      <th>value</th>\n",
       "      <th>full_sequence</th>\n",
       "    </tr>\n",
       "  </thead>\n",
       "  <tbody>\n",
       "    <tr>\n",
       "      <th>1522</th>\n",
       "      <td>2021-04-04 03:33:39.667124</td>\n",
       "      <td>[2, 3, 3, 2, 3, 3, 1, 3, 3, 1, 3, 3, 1, 4, 1, ...</td>\n",
       "      <td>4</td>\n",
       "      <td>5.677306</td>\n",
       "      <td>[2, 3, 3, 2, 3, 3, 1, 3, 3, 1, 3, 3, 1, 4, 1, ...</td>\n",
       "    </tr>\n",
       "    <tr>\n",
       "      <th>8819</th>\n",
       "      <td>2021-04-04 10:01:56.920521</td>\n",
       "      <td>[4, 3, 2, 3, 3, 2, 3, 4, 1, 4, 4, 1, 4, 3, 2, ...</td>\n",
       "      <td>2</td>\n",
       "      <td>5.572633</td>\n",
       "      <td>[4, 3, 2, 3, 3, 2, 3, 4, 1, 4, 4, 1, 4, 3, 2, ...</td>\n",
       "    </tr>\n",
       "    <tr>\n",
       "      <th>9978</th>\n",
       "      <td>2021-04-04 10:51:55.477179</td>\n",
       "      <td>[2, 3, 3, 2, 3, 3, 1, 3, 3, 1, 3, 3, 4, 1, 4, ...</td>\n",
       "      <td>1</td>\n",
       "      <td>5.541490</td>\n",
       "      <td>[2, 3, 3, 2, 3, 3, 1, 3, 3, 1, 3, 3, 4, 1, 4, ...</td>\n",
       "    </tr>\n",
       "    <tr>\n",
       "      <th>10050</th>\n",
       "      <td>2021-04-04 10:54:47.683875</td>\n",
       "      <td>[4, 3, 2, 3, 3, 2, 3, 4, 1, 4, 4, 1, 4, 3, 2, ...</td>\n",
       "      <td>2</td>\n",
       "      <td>5.531439</td>\n",
       "      <td>[4, 3, 2, 3, 3, 2, 3, 4, 1, 4, 4, 1, 4, 3, 2, ...</td>\n",
       "    </tr>\n",
       "    <tr>\n",
       "      <th>4058</th>\n",
       "      <td>2021-04-04 06:26:16.658228</td>\n",
       "      <td>[2, 3, 3, 2, 3, 3, 1, 3, 3, 1, 3, 3, 1, 4, 1, ...</td>\n",
       "      <td>4</td>\n",
       "      <td>5.522234</td>\n",
       "      <td>[2, 3, 3, 2, 3, 3, 1, 3, 3, 1, 3, 3, 1, 4, 1, ...</td>\n",
       "    </tr>\n",
       "  </tbody>\n",
       "</table>\n",
       "</div>"
      ],
      "text/plain": [
       "                        timestamp  \\\n",
       "1522   2021-04-04 03:33:39.667124   \n",
       "8819   2021-04-04 10:01:56.920521   \n",
       "9978   2021-04-04 10:51:55.477179   \n",
       "10050  2021-04-04 10:54:47.683875   \n",
       "4058   2021-04-04 06:26:16.658228   \n",
       "\n",
       "                                                sequence  last_pulse  \\\n",
       "1522   [2, 3, 3, 2, 3, 3, 1, 3, 3, 1, 3, 3, 1, 4, 1, ...           4   \n",
       "8819   [4, 3, 2, 3, 3, 2, 3, 4, 1, 4, 4, 1, 4, 3, 2, ...           2   \n",
       "9978   [2, 3, 3, 2, 3, 3, 1, 3, 3, 1, 3, 3, 4, 1, 4, ...           1   \n",
       "10050  [4, 3, 2, 3, 3, 2, 3, 4, 1, 4, 4, 1, 4, 3, 2, ...           2   \n",
       "4058   [2, 3, 3, 2, 3, 3, 1, 3, 3, 1, 3, 3, 1, 4, 1, ...           4   \n",
       "\n",
       "          value                                      full_sequence  \n",
       "1522   5.677306  [2, 3, 3, 2, 3, 3, 1, 3, 3, 1, 3, 3, 1, 4, 1, ...  \n",
       "8819   5.572633  [4, 3, 2, 3, 3, 2, 3, 4, 1, 4, 4, 1, 4, 3, 2, ...  \n",
       "9978   5.541490  [2, 3, 3, 2, 3, 3, 1, 3, 3, 1, 3, 3, 4, 1, 4, ...  \n",
       "10050  5.531439  [4, 3, 2, 3, 3, 2, 3, 4, 1, 4, 4, 1, 4, 3, 2, ...  \n",
       "4058   5.522234  [2, 3, 3, 2, 3, 3, 1, 3, 3, 1, 3, 3, 1, 4, 1, ...  "
      ]
     },
     "execution_count": 13,
     "metadata": {},
     "output_type": "execute_result"
    }
   ],
   "source": [
    "df.head()"
   ]
  },
  {
   "cell_type": "code",
   "execution_count": 14,
   "metadata": {},
   "outputs": [],
   "source": [
    "df.to_csv(os.path.join(path, 'candidates_sorted.csv'))"
   ]
  },
  {
   "cell_type": "code",
   "execution_count": 15,
   "metadata": {},
   "outputs": [],
   "source": [
    "df.head().to_csv(os.path.join(path, 'candidates_sorted_top.csv'))"
   ]
  },
  {
   "cell_type": "code",
   "execution_count": 16,
   "metadata": {},
   "outputs": [
    {
     "name": "stdout",
     "output_type": "stream",
     "text": [
      "[2, 3, 3, 2, 3, 3, 1, 3, 3, 1, 3, 3, 1, 4, 1, 1, 4, 1, 3, 1, 3, 3, 1, 3, 4, 2, 4, 4, 2, 4, 2, 2, 3, 2, 2, 3, 4, 1, 4, 4, 1, 4, 2, 2, 4, 2, 2, 4]\n"
     ]
    }
   ],
   "source": [
    "print(df.iloc[0]['full_sequence'])"
   ]
  },
  {
   "cell_type": "markdown",
   "metadata": {},
   "source": [
    "## Set up spin system"
   ]
  },
  {
   "cell_type": "code",
   "execution_count": null,
   "metadata": {},
   "outputs": [],
   "source": [
    "import qutip as qt\n",
    "import multiprocessing as mp\n",
    "sys.path.append('..')\n",
    "import pulse_sequences as ps\n",
    "importlib.reload(ps)"
   ]
  },
  {
   "cell_type": "code",
   "execution_count": 67,
   "metadata": {},
   "outputs": [],
   "source": [
    "dipolar_strength = 1e2\n",
    "pulse_width = 1e-5  # time is relative to chemical shift strength\n",
    "delay = 1e-4\n",
    "rot_error = 1e-2\n",
    "N = 3  # number of spins\n",
    "ensemble_size = 50"
   ]
  },
  {
   "cell_type": "code",
   "execution_count": 68,
   "metadata": {},
   "outputs": [],
   "source": [
    "X, Y, Z = ps.get_collective_spin(N)"
   ]
  },
  {
   "cell_type": "code",
   "execution_count": 69,
   "metadata": {},
   "outputs": [],
   "source": [
    "Hsys_ensemble = []\n",
    "for _ in range(ensemble_size):\n",
    "    Hsys_ensemble.append(ps.get_Hsys(N=N, dipolar_strength=dipolar_strength))\n",
    "pulses_ensemble = []\n",
    "for H in Hsys_ensemble:\n",
    "    rot = np.random.normal(scale=rot_error)\n",
    "    pulses_ensemble.append(ps.get_pulses(\n",
    "        H, X, Y, Z, pulse_width=pulse_width, delay=delay, rot_error=rot\n",
    "    ))"
   ]
  },
  {
   "cell_type": "code",
   "execution_count": 70,
   "metadata": {},
   "outputs": [],
   "source": [
    "Utarget = qt.identity(Hsys_ensemble[0].dims[0])"
   ]
  },
  {
   "cell_type": "markdown",
   "metadata": {},
   "source": [
    "## Check candidates"
   ]
  },
  {
   "cell_type": "code",
   "execution_count": 254,
   "metadata": {},
   "outputs": [],
   "source": [
    "# read from file if not loaded above\n",
    "# df = pd.read_csv('../../data/2021-02/20210219-082529/candidates_sorted.csv')"
   ]
  },
  {
   "cell_type": "code",
   "execution_count": 83,
   "metadata": {},
   "outputs": [],
   "source": [
    "# unique_sequences = df['full_sequence'].map(lambda x: tuple(x)).unique()\n",
    "# unique_sequences = [list(i) for i in unique_sequences]\n",
    "# len(unique_sequences)"
   ]
  },
  {
   "cell_type": "code",
   "execution_count": 86,
   "metadata": {},
   "outputs": [],
   "source": [
    "N_seq = 25\n",
    "fidelities = np.zeros(N_seq)\n",
    "with mp.Pool(4) as p:\n",
    "    fidelities = p.starmap(ps.get_mean_fidelity,\n",
    "                           [(c, Utarget, pulses_ensemble)\n",
    "                            for c in df['full_sequence'].iloc[:N_seq] #unique_sequences[:N_seq]\n",
    "                           ])\n",
    "fidelities = np.array(fidelities)"
   ]
  },
  {
   "cell_type": "code",
   "execution_count": 87,
   "metadata": {},
   "outputs": [
    {
     "data": {
      "text/plain": [
       "Text(0, 0.5, 'reward estimate (from job)')"
      ]
     },
     "execution_count": 87,
     "metadata": {},
     "output_type": "execute_result"
    },
    {
     "data": {
      "image/png": "[encoded data removed]",
      "text/plain": [
       "<Figure size 432x288 with 1 Axes>"
      ]
     },
     "metadata": {
      "needs_background": "light"
     },
     "output_type": "display_data"
    }
   ],
   "source": [
    "# confirm that calculated rewards match what was calculated from the job\n",
    "plt.scatter(-np.log10(1 - fidelities), df['value'].iloc[:N_seq])\n",
    "plt.plot([2, 5.5], [2, 5.5])\n",
    "plt.xlabel('reward estimate (current)')\n",
    "plt.ylabel('reward estimate (from job)')"
   ]
  },
  {
   "cell_type": "code",
   "execution_count": 88,
   "metadata": {},
   "outputs": [
    {
     "data": {
      "text/plain": [
       "(0, 9.850436767422366e-05, 4.0065445124997465)"
      ]
     },
     "execution_count": 88,
     "metadata": {},
     "output_type": "execute_result"
    }
   ],
   "source": [
    "np.argmin(1 - fidelities), (1 - fidelities).min(), -np.log10((1 - fidelities).min())"
   ]
  },
  {
   "cell_type": "code",
   "execution_count": 90,
   "metadata": {},
   "outputs": [
    {
     "data": {
      "text/plain": [
       "timestamp                  2021-03-06 23:58:53.951124\n",
       "sequence            [1, 3, 3, 1, 3, 3, 1, 4, 4, 1, 4]\n",
       "last_pulse                                          4\n",
       "value                                         4.18071\n",
       "full_sequence    [1, 3, 3, 1, 3, 3, 1, 4, 4, 1, 4, 4]\n",
       "Name: 33942, dtype: object"
      ]
     },
     "execution_count": 90,
     "metadata": {},
     "output_type": "execute_result"
    }
   ],
   "source": [
    "df.iloc[0]"
   ]
  },
  {
   "cell_type": "code",
   "execution_count": 91,
   "metadata": {},
   "outputs": [
    {
     "name": "stdout",
     "output_type": "stream",
     "text": [
      "[1, 3, 3, 1, 3, 3, 1, 4, 4, 1, 4, 4]\n"
     ]
    }
   ],
   "source": [
    "print(df['full_sequence'].iloc[0])"
   ]
  },
  {
   "cell_type": "code",
   "execution_count": 49,
   "metadata": {},
   "outputs": [
    {
     "data": {
      "text/html": [
       "<div>\n",
       "<style scoped>\n",
       "    .dataframe tbody tr th:only-of-type {\n",
       "        vertical-align: middle;\n",
       "    }\n",
       "\n",
       "    .dataframe tbody tr th {\n",
       "        vertical-align: top;\n",
       "    }\n",
       "\n",
       "    .dataframe thead th {\n",
       "        text-align: right;\n",
       "    }\n",
       "</style>\n",
       "<table border=\"1\" class=\"dataframe\">\n",
       "  <thead>\n",
       "    <tr style=\"text-align: right;\">\n",
       "      <th></th>\n",
       "      <th>timestamp</th>\n",
       "      <th>sequence</th>\n",
       "      <th>last_pulse</th>\n",
       "      <th>value</th>\n",
       "      <th>full_sequence</th>\n",
       "    </tr>\n",
       "  </thead>\n",
       "  <tbody>\n",
       "    <tr>\n",
       "      <th>2429</th>\n",
       "      <td>2021-03-01 12:38:41.265390</td>\n",
       "      <td>[3, 0, 1, 0, 1, 1, 3, 0, 2, 1, 3, 1, 0, 3, 0, ...</td>\n",
       "      <td>1</td>\n",
       "      <td>3.920358</td>\n",
       "      <td>[3, 0, 1, 0, 1, 1, 3, 0, 2, 1, 3, 1, 0, 3, 0, ...</td>\n",
       "    </tr>\n",
       "    <tr>\n",
       "      <th>662</th>\n",
       "      <td>2021-03-01 01:15:00.418460</td>\n",
       "      <td>[3, 0, 0, 1, 3, 3, 0, 2, 0, 1, 1, 1, 3, 3, 3, ...</td>\n",
       "      <td>0</td>\n",
       "      <td>3.851370</td>\n",
       "      <td>[3, 0, 0, 1, 3, 3, 0, 2, 0, 1, 1, 1, 3, 3, 3, ...</td>\n",
       "    </tr>\n",
       "  </tbody>\n",
       "</table>\n",
       "</div>"
      ],
      "text/plain": [
       "                       timestamp  \\\n",
       "2429  2021-03-01 12:38:41.265390   \n",
       "662   2021-03-01 01:15:00.418460   \n",
       "\n",
       "                                               sequence  last_pulse     value  \\\n",
       "2429  [3, 0, 1, 0, 1, 1, 3, 0, 2, 1, 3, 1, 0, 3, 0, ...           1  3.920358   \n",
       "662   [3, 0, 0, 1, 3, 3, 0, 2, 0, 1, 1, 1, 3, 3, 3, ...           0  3.851370   \n",
       "\n",
       "                                          full_sequence  \n",
       "2429  [3, 0, 1, 0, 1, 1, 3, 0, 2, 1, 3, 1, 0, 3, 0, ...  \n",
       "662   [3, 0, 0, 1, 3, 3, 0, 2, 0, 1, 1, 1, 3, 3, 3, ...  "
      ]
     },
     "execution_count": 49,
     "metadata": {},
     "output_type": "execute_result"
    }
   ],
   "source": [
    "df.iloc[0:2]"
   ]
  },
  {
   "cell_type": "code",
   "execution_count": 271,
   "metadata": {},
   "outputs": [],
   "source": [
    "# plt.hist(1 - fidelities, bins=30)\n",
    "# # fit exponential distribution\n",
    "# X = np.linspace(0, .1, 100)\n",
    "# Y = np.exp(-1 / np.mean(1 - fidelities) * X)\n",
    "# plt.plot(X, Y * 4)"
   ]
  },
  {
   "cell_type": "markdown",
   "metadata": {},
   "source": [
    "## Format and print pulse sequence"
   ]
  },
  {
   "cell_type": "code",
   "execution_count": 1,
   "metadata": {},
   "outputs": [],
   "source": [
    "names = [\n",
    "    r'\\tau_{\\pi/2}, \\tau',\n",
    "    r'X, \\tau',\n",
    "    r'-X, \\tau',\n",
    "    r'Y, \\tau',\n",
    "    r'-Y, \\tau',\n",
    "]"
   ]
  },
  {
   "cell_type": "code",
   "execution_count": 10,
   "metadata": {},
   "outputs": [
    {
     "name": "stdout",
     "output_type": "stream",
     "text": [
      "$ -X, \\tau, Y, \\tau, Y, \\tau, X, \\tau, Y, \\tau, Y, \\tau $\n",
      "$ -Y, \\tau, X, \\tau, X, \\tau, -Y, \\tau, X, \\tau, X, \\tau $\n",
      "$ Y, \\tau, X, \\tau, X, \\tau, -Y, \\tau, X, \\tau, X, \\tau $\n",
      "$ -Y, \\tau, X, \\tau, -Y, \\tau, X, \\tau, X, \\tau, -Y, \\tau $\n",
      "$ -X, \\tau, -X, \\tau, Y, \\tau, Y, \\tau, -X, \\tau, Y, \\tau $\n",
      "$ Y, \\tau, -Y, \\tau, X, \\tau, -Y, \\tau, -Y, \\tau, X, \\tau $\n",
      "$ -Y, \\tau, X, \\tau, X, \\tau, -Y, \\tau, X, \\tau, X, \\tau $\n",
      "$ -Y, \\tau, -X, \\tau, -X, \\tau, -Y, \\tau, -X, \\tau, -X, \\tau $\n"
     ]
    }
   ],
   "source": [
    "sequence_string = [names[i] for i in ps.az48_3]\n",
    "\n",
    "delta = 48 / 8\n",
    "for i in range(8):\n",
    "    print('$', ', '.join(sequence_string[int(i*delta):int((i+1)*delta)]), '$')"
   ]
  },
  {
   "cell_type": "markdown",
   "metadata": {},
   "source": [
    "$ -X, \\tau, Y, \\tau, Y, \\tau, X, \\tau, Y, \\tau, Y, \\tau, -Y, \\tau, X, \\tau, X, \\tau, -Y, \\tau, X, \\tau, X, \\tau $\n",
    "$ Y, \\tau, X, \\tau, X, \\tau, -Y, \\tau, X, \\tau, X, \\tau, -Y, \\tau, X, \\tau, -Y, \\tau, X, \\tau, X, \\tau, -Y, \\tau $\n",
    "$ -X, \\tau, -X, \\tau, Y, \\tau, Y, \\tau, -X, \\tau, Y, \\tau, Y, \\tau, -Y, \\tau, X, \\tau, -Y, \\tau, -Y, \\tau, X, \\tau $\n",
    "$ -Y, \\tau, X, \\tau, X, \\tau, -Y, \\tau, X, \\tau, X, \\tau, -Y, \\tau, -X, \\tau, -X, \\tau, -Y, \\tau, -X, \\tau, -X, \\tau $"
   ]
  },
  {
   "cell_type": "markdown",
   "metadata": {},
   "source": [
    "Pulse sequence 23:\n",
    "\n",
    "$ -X, \\tau, Y, \\tau, Y, \\tau, Y, \\tau, Y, \\tau, -X, \\tau, Y, \\tau, -X, \\tau, -Y, \\tau, -X, \\tau, -Y, \\tau, X, \\tau $\n",
    "$ -X, \\tau, Y, \\tau, Y, \\tau, Y, \\tau, \\tau_{\\pi/2}, \\tau, Y, \\tau, \\tau_{\\pi/2}, \\tau, -X, \\tau, Y, \\tau, -X, \\tau, -X, \\tau, -X, \\tau $\n",
    "$ Y, \\tau, -X, \\tau, \\tau_{\\pi/2}, \\tau, -Y, \\tau, -X, \\tau, -X, \\tau, -X, \\tau, \\tau_{\\pi/2}, \\tau, -Y, \\tau, -Y, \\tau, Y, \\tau, X, \\tau $\n",
    "$ Y, \\tau, -Y, \\tau, -Y, \\tau, \\tau_{\\pi/2}, \\tau, \\tau_{\\pi/2}, \\tau, \\tau_{\\pi/2}, \\tau, -X, \\tau, -X, \\tau, -X, \\tau, \\tau_{\\pi/2}, \\tau, Y, \\tau, -X, \\tau $"
   ]
  }
 ],
 "metadata": {
  "kernelspec": {
   "display_name": "Python 3",
   "language": "python",
   "name": "python3"
  },
  "language_info": {
   "codemirror_mode": {
    "name": "ipython",
    "version": 3
   },
   "file_extension": ".py",
   "mimetype": "text/x-python",
   "name": "python",
   "nbconvert_exporter": "python",
   "pygments_lexer": "ipython3",
   "version": "3.7.9"
  }
 },
 "nbformat": 4,
 "nbformat_minor": 4
}
