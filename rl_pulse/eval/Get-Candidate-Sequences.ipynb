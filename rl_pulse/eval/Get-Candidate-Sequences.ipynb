{
 "cells": [
  {
   "cell_type": "markdown",
   "metadata": {},
   "source": [
    "# Sort candidate pulse sequences\n",
    "\n",
    "From the job output, use regex to delete all lines that don't contain candidate sequences via `^((?!candidate pulse sequence).)*$`."
   ]
  },
  {
   "cell_type": "code",
   "execution_count": 1,
   "metadata": {},
   "outputs": [],
   "source": [
    "import sys\n",
    "import os\n",
    "import re\n",
    "import pandas as pd"
   ]
  },
  {
   "cell_type": "code",
   "execution_count": 15,
   "metadata": {},
   "outputs": [],
   "source": [
    "path = '../../data/2021-02/20210219-082529/'"
   ]
  },
  {
   "cell_type": "code",
   "execution_count": 17,
   "metadata": {},
   "outputs": [],
   "source": [
    "candidates = []\n",
    "with open(os.path.join(path, 'candidates.txt')) as file:\n",
    "    for line in file:\n",
    "        candidates.append(line)"
   ]
  },
  {
   "cell_type": "code",
   "execution_count": 19,
   "metadata": {},
   "outputs": [],
   "source": [
    "c2 = []\n",
    "for c in candidates:\n",
    "    try:\n",
    "        m = re.search(r'(.*?) candidate pulse sequence from \\d+ \\((.*?), array\\((.*?)\\), (.*?)\\)\\n', c)\n",
    "        c2.append({\n",
    "            'timestamp': m.group(1),\n",
    "            'sequence': m.group(2),\n",
    "            'last_pulse': m.group(3),\n",
    "            'value': float(m.group(4))\n",
    "        })\n",
    "    except Exception as e:\n",
    "        print('exception caught')\n",
    "        # print(c)"
   ]
  },
  {
   "cell_type": "code",
   "execution_count": 20,
   "metadata": {},
   "outputs": [
    {
     "data": {
      "text/plain": [
       "340393"
      ]
     },
     "execution_count": 20,
     "metadata": {},
     "output_type": "execute_result"
    }
   ],
   "source": [
    "len(c2)"
   ]
  },
  {
   "cell_type": "code",
   "execution_count": 21,
   "metadata": {},
   "outputs": [],
   "source": [
    "df = pd.DataFrame(c2)"
   ]
  },
  {
   "cell_type": "code",
   "execution_count": 22,
   "metadata": {},
   "outputs": [
    {
     "data": {
      "text/plain": [
       "array([[<AxesSubplot:title={'center':'value'}>]], dtype=object)"
      ]
     },
     "execution_count": 22,
     "metadata": {},
     "output_type": "execute_result"
    },
    {
     "data": {
      "image/png": "[encoded data removed]",
      "text/plain": [
       "<Figure size 432x288 with 1 Axes>"
      ]
     },
     "metadata": {
      "needs_background": "light"
     },
     "output_type": "display_data"
    }
   ],
   "source": [
    "df.hist('value', bins=50)"
   ]
  },
  {
   "cell_type": "code",
   "execution_count": 23,
   "metadata": {},
   "outputs": [],
   "source": [
    "df.sort_values('value', ascending=False, inplace=True)\n",
    "# df"
   ]
  },
  {
   "cell_type": "code",
   "execution_count": 24,
   "metadata": {},
   "outputs": [
    {
     "data": {
      "text/html": [
       "<div>\n",
       "<style scoped>\n",
       "    .dataframe tbody tr th:only-of-type {\n",
       "        vertical-align: middle;\n",
       "    }\n",
       "\n",
       "    .dataframe tbody tr th {\n",
       "        vertical-align: top;\n",
       "    }\n",
       "\n",
       "    .dataframe thead th {\n",
       "        text-align: right;\n",
       "    }\n",
       "</style>\n",
       "<table border=\"1\" class=\"dataframe\">\n",
       "  <thead>\n",
       "    <tr style=\"text-align: right;\">\n",
       "      <th></th>\n",
       "      <th>timestamp</th>\n",
       "      <th>sequence</th>\n",
       "      <th>last_pulse</th>\n",
       "      <th>value</th>\n",
       "    </tr>\n",
       "  </thead>\n",
       "  <tbody>\n",
       "    <tr>\n",
       "      <th>314395</th>\n",
       "      <td>2021-02-20 03:03:27.145425</td>\n",
       "      <td>[4, 0, 4, 2, 0, 2, 4, 0, 4, 2, 0]</td>\n",
       "      <td>[0., 0., 1., 0., 0.]</td>\n",
       "      <td>7.195067</td>\n",
       "    </tr>\n",
       "    <tr>\n",
       "      <th>335050</th>\n",
       "      <td>2021-02-20 04:08:12.187636</td>\n",
       "      <td>[4, 0, 4, 2, 0, 2, 4, 0, 4, 2, 0]</td>\n",
       "      <td>[0., 0., 1., 0., 0.]</td>\n",
       "      <td>7.195067</td>\n",
       "    </tr>\n",
       "    <tr>\n",
       "      <th>233023</th>\n",
       "      <td>2021-02-19 22:47:36.960816</td>\n",
       "      <td>[4, 0, 4, 1, 0, 1, 4, 0, 4, 1, 0]</td>\n",
       "      <td>[0., 1., 0., 0., 0.]</td>\n",
       "      <td>7.195067</td>\n",
       "    </tr>\n",
       "    <tr>\n",
       "      <th>332069</th>\n",
       "      <td>2021-02-20 03:58:52.631478</td>\n",
       "      <td>[4, 0, 4, 2, 0, 2, 4, 0, 4, 2, 0]</td>\n",
       "      <td>[0., 0., 1., 0., 0.]</td>\n",
       "      <td>7.195067</td>\n",
       "    </tr>\n",
       "    <tr>\n",
       "      <th>234429</th>\n",
       "      <td>2021-02-19 22:52:01.086824</td>\n",
       "      <td>[4, 0, 4, 2, 0, 2, 4, 0, 4, 2, 0]</td>\n",
       "      <td>[0., 0., 1., 0., 0.]</td>\n",
       "      <td>7.195067</td>\n",
       "    </tr>\n",
       "  </tbody>\n",
       "</table>\n",
       "</div>"
      ],
      "text/plain": [
       "                         timestamp                           sequence  \\\n",
       "314395  2021-02-20 03:03:27.145425  [4, 0, 4, 2, 0, 2, 4, 0, 4, 2, 0]   \n",
       "335050  2021-02-20 04:08:12.187636  [4, 0, 4, 2, 0, 2, 4, 0, 4, 2, 0]   \n",
       "233023  2021-02-19 22:47:36.960816  [4, 0, 4, 1, 0, 1, 4, 0, 4, 1, 0]   \n",
       "332069  2021-02-20 03:58:52.631478  [4, 0, 4, 2, 0, 2, 4, 0, 4, 2, 0]   \n",
       "234429  2021-02-19 22:52:01.086824  [4, 0, 4, 2, 0, 2, 4, 0, 4, 2, 0]   \n",
       "\n",
       "                  last_pulse     value  \n",
       "314395  [0., 0., 1., 0., 0.]  7.195067  \n",
       "335050  [0., 0., 1., 0., 0.]  7.195067  \n",
       "233023  [0., 1., 0., 0., 0.]  7.195067  \n",
       "332069  [0., 0., 1., 0., 0.]  7.195067  \n",
       "234429  [0., 0., 1., 0., 0.]  7.195067  "
      ]
     },
     "execution_count": 24,
     "metadata": {},
     "output_type": "execute_result"
    }
   ],
   "source": [
    "df.head()"
   ]
  },
  {
   "cell_type": "code",
   "execution_count": 25,
   "metadata": {},
   "outputs": [],
   "source": [
    "df.to_csv(os.path.join(path, 'candidates_sorted.csv'))"
   ]
  },
  {
   "cell_type": "code",
   "execution_count": null,
   "metadata": {},
   "outputs": [],
   "source": []
  }
 ],
 "metadata": {
  "kernelspec": {
   "display_name": "Python 3",
   "language": "python",
   "name": "python3"
  },
  "language_info": {
   "codemirror_mode": {
    "name": "ipython",
    "version": 3
   },
   "file_extension": ".py",
   "mimetype": "text/x-python",
   "name": "python",
   "nbconvert_exporter": "python",
   "pygments_lexer": "ipython3",
   "version": "3.7.9"
  }
 },
 "nbformat": 4,
 "nbformat_minor": 4
}
