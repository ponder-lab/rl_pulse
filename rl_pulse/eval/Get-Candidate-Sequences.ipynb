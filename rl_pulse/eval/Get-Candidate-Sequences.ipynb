{
 "cells": [
  {
   "cell_type": "markdown",
   "metadata": {},
   "source": [
    "# Sort candidate pulse sequences"
   ]
  },
  {
   "cell_type": "code",
   "execution_count": 35,
   "metadata": {},
   "outputs": [],
   "source": [
    "import sys\n",
    "import os\n",
    "import re\n",
    "import pandas as pd"
   ]
  },
  {
   "cell_type": "code",
   "execution_count": 18,
   "metadata": {},
   "outputs": [],
   "source": [
    "candidates = []\n",
    "with open('../../data/2021-01/20210129-130800/candidates.txt') as file:\n",
    "    for line in file:\n",
    "        candidates.append(line)"
   ]
  },
  {
   "cell_type": "code",
   "execution_count": 7,
   "metadata": {},
   "outputs": [],
   "source": [
    "test = candidates[0]"
   ]
  },
  {
   "cell_type": "code",
   "execution_count": 9,
   "metadata": {},
   "outputs": [],
   "source": [
    "m = re.search(r'(.*?) candidate pulse sequence from \\d \\((.*?), array\\((.*?)\\), (.*?)\\)\\n', test)"
   ]
  },
  {
   "cell_type": "code",
   "execution_count": 11,
   "metadata": {},
   "outputs": [
    {
     "data": {
      "text/plain": [
       "('2021-01-29 15:09:41.236669',\n",
       " '[0, 0, 3, 1, 1, 3, 4, 3, 4, 4, 1, 4, 2, 4, 2, 2, 4, 2, 1, 1, 4, 2, 1, 2, 0, 1, 2, 3, 0, 3, 0, 3, 0, 1, 0, 2, 1, 1, 1, 1, 2, 0, 0, 0, 0, 1, 4]',\n",
       " '[1., 0., 0., 0., 0.]',\n",
       " '2.671719175460031')"
      ]
     },
     "execution_count": 11,
     "metadata": {},
     "output_type": "execute_result"
    }
   ],
   "source": [
    "m.groups()"
   ]
  },
  {
   "cell_type": "code",
   "execution_count": 16,
   "metadata": {},
   "outputs": [
    {
     "data": {
      "text/plain": [
       "'2021-01-29 15:09:41.236669'"
      ]
     },
     "execution_count": 16,
     "metadata": {},
     "output_type": "execute_result"
    }
   ],
   "source": [
    "m.group(1)"
   ]
  },
  {
   "cell_type": "code",
   "execution_count": 29,
   "metadata": {},
   "outputs": [
    {
     "name": "stdout",
     "output_type": "stream",
     "text": [
      "2021-01-30 12:53:20.1423162021-01-30 12:53:20.143964 candidate pulse sequence from 9  updated network (iteration 30500) pulse_sequence_count: 49855\n",
      "\n"
     ]
    }
   ],
   "source": [
    "c2 = []\n",
    "for c in candidates:\n",
    "    try:\n",
    "        m = re.search(r'(.*?) candidate pulse sequence from \\d+ \\((.*?), array\\((.*?)\\), (.*?)\\)\\n', c)\n",
    "        c2.append({\n",
    "            'timestamp': m.group(1),\n",
    "            'sequence': m.group(2),\n",
    "            'last_pulse': m.group(3),\n",
    "            'value': float(m.group(4))\n",
    "        })\n",
    "    except Exception as e:\n",
    "        print(c)"
   ]
  },
  {
   "cell_type": "code",
   "execution_count": 31,
   "metadata": {},
   "outputs": [
    {
     "data": {
      "text/plain": [
       "391"
      ]
     },
     "execution_count": 31,
     "metadata": {},
     "output_type": "execute_result"
    }
   ],
   "source": [
    "len(c2)"
   ]
  },
  {
   "cell_type": "code",
   "execution_count": 36,
   "metadata": {},
   "outputs": [],
   "source": [
    "df = pd.DataFrame(c2)"
   ]
  },
  {
   "cell_type": "code",
   "execution_count": 39,
   "metadata": {},
   "outputs": [
    {
     "data": {
      "text/plain": [
       "array([[<AxesSubplot:title={'center':'value'}>]], dtype=object)"
      ]
     },
     "execution_count": 39,
     "metadata": {},
     "output_type": "execute_result"
    },
    {
     "data": {
      "image/png": "[encoded data removed]",
      "text/plain": [
       "<Figure size 432x288 with 1 Axes>"
      ]
     },
     "metadata": {
      "needs_background": "light"
     },
     "output_type": "display_data"
    }
   ],
   "source": [
    "df.hist('value', bins=20)"
   ]
  },
  {
   "cell_type": "code",
   "execution_count": 41,
   "metadata": {},
   "outputs": [
    {
     "data": {
      "text/html": [
       "<div>\n",
       "<style scoped>\n",
       "    .dataframe tbody tr th:only-of-type {\n",
       "        vertical-align: middle;\n",
       "    }\n",
       "\n",
       "    .dataframe tbody tr th {\n",
       "        vertical-align: top;\n",
       "    }\n",
       "\n",
       "    .dataframe thead th {\n",
       "        text-align: right;\n",
       "    }\n",
       "</style>\n",
       "<table border=\"1\" class=\"dataframe\">\n",
       "  <thead>\n",
       "    <tr style=\"text-align: right;\">\n",
       "      <th></th>\n",
       "      <th>timestamp</th>\n",
       "      <th>sequence</th>\n",
       "      <th>last_pulse</th>\n",
       "      <th>value</th>\n",
       "    </tr>\n",
       "  </thead>\n",
       "  <tbody>\n",
       "    <tr>\n",
       "      <th>0</th>\n",
       "      <td>2021-01-29 15:09:41.236669</td>\n",
       "      <td>[0, 0, 3, 1, 1, 3, 4, 3, 4, 4, 1, 4, 2, 4, 2, ...</td>\n",
       "      <td>[1., 0., 0., 0., 0.]</td>\n",
       "      <td>2.671719</td>\n",
       "    </tr>\n",
       "    <tr>\n",
       "      <th>1</th>\n",
       "      <td>2021-01-29 15:12:08.380437</td>\n",
       "      <td>[2, 4, 0, 0, 2, 1, 3, 2, 3, 2, 0, 1, 0, 1, 0, ...</td>\n",
       "      <td>[1., 0., 0., 0., 0.]</td>\n",
       "      <td>2.886061</td>\n",
       "    </tr>\n",
       "    <tr>\n",
       "      <th>2</th>\n",
       "      <td>2021-01-29 15:16:04.672823</td>\n",
       "      <td>[2, 2, 3, 1, 1, 2, 1, 2, 0, 1, 1, 2, 4, 3, 2, ...</td>\n",
       "      <td>[1., 0., 0., 0., 0.]</td>\n",
       "      <td>2.505068</td>\n",
       "    </tr>\n",
       "    <tr>\n",
       "      <th>3</th>\n",
       "      <td>202101-29 15:23:45.227140</td>\n",
       "      <td>[4, 4, 1, 4, 2, 2, 4, 2, 1, 2, 2, 3, 2, 0, 0, ...</td>\n",
       "      <td>[0., 0., 0., 1., 0.]</td>\n",
       "      <td>3.435580</td>\n",
       "    </tr>\n",
       "    <tr>\n",
       "      <th>4</th>\n",
       "      <td>2021-01-29 15:24:01.733737</td>\n",
       "      <td>[3, 1, 0, 0, 3, 4, 4, 4, 3, 1, 3, 4, 4, 1, 0, ...</td>\n",
       "      <td>[0., 1., 0., 0., 0.]</td>\n",
       "      <td>2.774834</td>\n",
       "    </tr>\n",
       "    <tr>\n",
       "      <th>...</th>\n",
       "      <td>...</td>\n",
       "      <td>...</td>\n",
       "      <td>...</td>\n",
       "      <td>...</td>\n",
       "    </tr>\n",
       "    <tr>\n",
       "      <th>386</th>\n",
       "      <td>2021-01-30 14:55:39.078416</td>\n",
       "      <td>[3, 3, 2, 2, 4, 1, 4, 3, 2, 1, 1, 1, 3, 1, 1, ...</td>\n",
       "      <td>[0., 0., 0., 1., 0.]</td>\n",
       "      <td>2.539467</td>\n",
       "    </tr>\n",
       "    <tr>\n",
       "      <th>387</th>\n",
       "      <td>2021-01-30 14:56:30.369013</td>\n",
       "      <td>[4, 4, 0, 4, 0, 2, 2, 3, 1, 0, 1, 1, 4, 4, 1, ...</td>\n",
       "      <td>[1., 0., 0., 0., 0.]</td>\n",
       "      <td>2.834309</td>\n",
       "    </tr>\n",
       "    <tr>\n",
       "      <th>388</th>\n",
       "      <td>2021-01-30 15:00:14.288051</td>\n",
       "      <td>[4, 2, 4, 2, 0, 3, 4, 1, 0, 1, 1, 1, 3, 2, 3, ...</td>\n",
       "      <td>[1., 0., 0., 0., 0.]</td>\n",
       "      <td>2.551818</td>\n",
       "    </tr>\n",
       "    <tr>\n",
       "      <th>389</th>\n",
       "      <td>2021-01-30 15:00:23.786325</td>\n",
       "      <td>[1, 4, 1, 3, 3, 4, 4, 1, 3, 4, 1, 2, 3, 2, 3, ...</td>\n",
       "      <td>[1., 0., 0., 0., 0.]</td>\n",
       "      <td>2.593527</td>\n",
       "    </tr>\n",
       "    <tr>\n",
       "      <th>390</th>\n",
       "      <td>2021-01-30 15:01:15.126879</td>\n",
       "      <td>[1, 4, 1, 0, 2, 2, 2, 3, 2, 4, 1, 1, 4, 4, 1, ...</td>\n",
       "      <td>[1., 0., 0., 0., 0.]</td>\n",
       "      <td>2.763129</td>\n",
       "    </tr>\n",
       "  </tbody>\n",
       "</table>\n",
       "<p>391 rows × 4 columns</p>\n",
       "</div>"
      ],
      "text/plain": [
       "                      timestamp  \\\n",
       "0    2021-01-29 15:09:41.236669   \n",
       "1    2021-01-29 15:12:08.380437   \n",
       "2    2021-01-29 15:16:04.672823   \n",
       "3     202101-29 15:23:45.227140   \n",
       "4    2021-01-29 15:24:01.733737   \n",
       "..                          ...   \n",
       "386  2021-01-30 14:55:39.078416   \n",
       "387  2021-01-30 14:56:30.369013   \n",
       "388  2021-01-30 15:00:14.288051   \n",
       "389  2021-01-30 15:00:23.786325   \n",
       "390  2021-01-30 15:01:15.126879   \n",
       "\n",
       "                                              sequence            last_pulse  \\\n",
       "0    [0, 0, 3, 1, 1, 3, 4, 3, 4, 4, 1, 4, 2, 4, 2, ...  [1., 0., 0., 0., 0.]   \n",
       "1    [2, 4, 0, 0, 2, 1, 3, 2, 3, 2, 0, 1, 0, 1, 0, ...  [1., 0., 0., 0., 0.]   \n",
       "2    [2, 2, 3, 1, 1, 2, 1, 2, 0, 1, 1, 2, 4, 3, 2, ...  [1., 0., 0., 0., 0.]   \n",
       "3    [4, 4, 1, 4, 2, 2, 4, 2, 1, 2, 2, 3, 2, 0, 0, ...  [0., 0., 0., 1., 0.]   \n",
       "4    [3, 1, 0, 0, 3, 4, 4, 4, 3, 1, 3, 4, 4, 1, 0, ...  [0., 1., 0., 0., 0.]   \n",
       "..                                                 ...                   ...   \n",
       "386  [3, 3, 2, 2, 4, 1, 4, 3, 2, 1, 1, 1, 3, 1, 1, ...  [0., 0., 0., 1., 0.]   \n",
       "387  [4, 4, 0, 4, 0, 2, 2, 3, 1, 0, 1, 1, 4, 4, 1, ...  [1., 0., 0., 0., 0.]   \n",
       "388  [4, 2, 4, 2, 0, 3, 4, 1, 0, 1, 1, 1, 3, 2, 3, ...  [1., 0., 0., 0., 0.]   \n",
       "389  [1, 4, 1, 3, 3, 4, 4, 1, 3, 4, 1, 2, 3, 2, 3, ...  [1., 0., 0., 0., 0.]   \n",
       "390  [1, 4, 1, 0, 2, 2, 2, 3, 2, 4, 1, 1, 4, 4, 1, ...  [1., 0., 0., 0., 0.]   \n",
       "\n",
       "        value  \n",
       "0    2.671719  \n",
       "1    2.886061  \n",
       "2    2.505068  \n",
       "3    3.435580  \n",
       "4    2.774834  \n",
       "..        ...  \n",
       "386  2.539467  \n",
       "387  2.834309  \n",
       "388  2.551818  \n",
       "389  2.593527  \n",
       "390  2.763129  \n",
       "\n",
       "[391 rows x 4 columns]"
      ]
     },
     "execution_count": 41,
     "metadata": {},
     "output_type": "execute_result"
    }
   ],
   "source": [
    "df"
   ]
  },
  {
   "cell_type": "code",
   "execution_count": null,
   "metadata": {},
   "outputs": [],
   "source": []
  }
 ],
 "metadata": {
  "kernelspec": {
   "display_name": "Python 3",
   "language": "python",
   "name": "python3"
  },
  "language_info": {
   "codemirror_mode": {
    "name": "ipython",
    "version": 3
   },
   "file_extension": ".py",
   "mimetype": "text/x-python",
   "name": "python",
   "nbconvert_exporter": "python",
   "pygments_lexer": "ipython3",
   "version": "3.7.9"
  }
 },
 "nbformat": 4,
 "nbformat_minor": 4
}
