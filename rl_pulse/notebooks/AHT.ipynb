{
 "cells": [
  {
   "cell_type": "markdown",
   "metadata": {},
   "source": [
    "# Average Hamiltonian Theory\n",
    "\n",
    "_Will Kaufman, 2021_\n",
    "\n",
    "Trying to calculate different orders of approximation for the average Hamiltonian of a given pulse sequence.\n",
    "\n",
    "## TODO\n",
    "\n",
    "- [ ] Establish timing for pulse sequences, use common timing\n",
    "- [ ] Calculate full unitary of pulse sequence, then compare fidelities with that\n",
    "- [ ] Try out longer pulse sequences, see if terms can be calculated quickly\n",
    "- [ ] Think of other ways to evaluate/differentiate pulse sequences (geometric argument, others?)"
   ]
  },
  {
   "cell_type": "code",
   "execution_count": 132,
   "metadata": {},
   "outputs": [],
   "source": [
    "import numpy as np\n",
    "import qutip as qt\n",
    "import sys\n",
    "import os\n",
    "from functools import lru_cache\n",
    "import importlib"
   ]
  },
  {
   "cell_type": "code",
   "execution_count": 3,
   "metadata": {},
   "outputs": [],
   "source": [
    "sys.path.append('..')"
   ]
  },
  {
   "cell_type": "code",
   "execution_count": 4,
   "metadata": {},
   "outputs": [],
   "source": [
    "import pulse_sequences as ps"
   ]
  },
  {
   "cell_type": "code",
   "execution_count": 133,
   "metadata": {},
   "outputs": [
    {
     "data": {
      "text/plain": [
       "<module 'pulse_sequences' from '../pulse_sequences.py'>"
      ]
     },
     "execution_count": 133,
     "metadata": {},
     "output_type": "execute_result"
    }
   ],
   "source": [
    "importlib.reload(ps)"
   ]
  },
  {
   "cell_type": "markdown",
   "metadata": {},
   "source": [
    "The system Hamiltonian is scaled using arbitrary units, where the time and energy scales are normalized to the chemical shift strength."
   ]
  },
  {
   "cell_type": "code",
   "execution_count": 138,
   "metadata": {},
   "outputs": [],
   "source": [
    "Hsys, chemical_shifts, dipolar_matrix = ps.get_Hsys(N=3, return_all=True)"
   ]
  },
  {
   "cell_type": "code",
   "execution_count": 140,
   "metadata": {},
   "outputs": [
    {
     "data": {
      "text/plain": [
       "(array([ 3.64581215, -8.67074416, -0.1021764 ]),\n",
       " array([[ 0.01057902, -0.07468904, -0.07848702],\n",
       "        [ 0.02415493,  0.00740938, -0.06729908],\n",
       "        [-0.05110514, -0.05296717,  0.07552711]]))"
      ]
     },
     "execution_count": 140,
     "metadata": {},
     "output_type": "execute_result"
    }
   ],
   "source": [
    "chemical_shifts, dipolar_matrix"
   ]
  },
  {
   "cell_type": "code",
   "execution_count": 141,
   "metadata": {},
   "outputs": [],
   "source": [
    "X, Y, Z = ps.get_collective_spin(N=3)"
   ]
  },
  {
   "cell_type": "code",
   "execution_count": 142,
   "metadata": {},
   "outputs": [],
   "source": [
    "interaction_frames = [\n",
    "    qt.identity(X.dims[0]),\n",
    "    qt.propagator(X, np.pi / 2),\n",
    "    qt.propagator(-X, np.pi / 2),\n",
    "    qt.propagator(Y, np.pi / 2),\n",
    "    qt.propagator(-Y, np.pi / 2),\n",
    "] "
   ]
  },
  {
   "cell_type": "code",
   "execution_count": 188,
   "metadata": {},
   "outputs": [],
   "source": [
    "frame = qt.identity(Hsys.dims[0])\n",
    "H_list = []\n",
    "tau = [0.01] * 6  # spacing between pulses, scaled according to chemical shift strength\n",
    "# NOTE: tau * ||Hsys|| << 1 should be satisfied for Magnus expansion to converge"
   ]
  },
  {
   "cell_type": "code",
   "execution_count": 189,
   "metadata": {},
   "outputs": [],
   "source": [
    "for p in ps.whh4:\n",
    "    frame = interaction_frames[p] * frame\n",
    "    H_list.append(frame.dag() * Hsys * frame)"
   ]
  },
  {
   "cell_type": "code",
   "execution_count": 190,
   "metadata": {},
   "outputs": [],
   "source": [
    "def get_H0(H_list, tau, length):\n",
    "    H0 = None\n",
    "    for i, t in enumerate(tau):\n",
    "        H0 = H_list[i] * t if H0 is None else H0 + H_list[i] * t\n",
    "    return H0 / sum(tau)"
   ]
  },
  {
   "cell_type": "code",
   "execution_count": 191,
   "metadata": {},
   "outputs": [],
   "source": [
    "H0 = get_H0(H_list, tau, 6)"
   ]
  },
  {
   "cell_type": "code",
   "execution_count": 192,
   "metadata": {},
   "outputs": [
    {
     "name": "stderr",
     "output_type": "stream",
     "text": [
      "/Users/willkaufman/opt/anaconda3/envs/rl_pulse/lib/python3.7/site-packages/qutip/visualization.py:323: UserWarning: FixedFormatter should only be used together with FixedLocator\n",
      "  ax.set_xticklabels(xlabels)\n",
      "/Users/willkaufman/opt/anaconda3/envs/rl_pulse/lib/python3.7/site-packages/qutip/visualization.py:331: UserWarning: FixedFormatter should only be used together with FixedLocator\n",
      "  ax.set_yticklabels(list(reversed(ylabels)))\n"
     ]
    },
    {
     "data": {
      "text/plain": [
       "(<Figure size 576x432 with 2 Axes>, <AxesSubplot:>)"
      ]
     },
     "execution_count": 192,
     "metadata": {},
     "output_type": "execute_result"
    },
    {
     "data": {
      "image/png": "[encoded data removed]",
      "text/plain": [
       "<Figure size 576x432 with 2 Axes>"
      ]
     },
     "metadata": {
      "needs_background": "light"
     },
     "output_type": "display_data"
    }
   ],
   "source": [
    "qt.hinton(H0)"
   ]
  },
  {
   "cell_type": "code",
   "execution_count": 193,
   "metadata": {},
   "outputs": [],
   "source": [
    "N = 3\n",
    "H0_AHT = sum([\n",
    "    qt.tensor(\n",
    "        [qt.identity(2)] * i\n",
    "        + [1/3\n",
    "           * chemical_shifts[i]\n",
    "           * (qt.sigmax()\n",
    "              + qt.sigmay()\n",
    "              + qt.sigmaz())]\n",
    "        + [qt.identity(2)] * (N - i - 1)\n",
    "    ) for i in range(N)\n",
    "])"
   ]
  },
  {
   "cell_type": "code",
   "execution_count": 194,
   "metadata": {},
   "outputs": [
    {
     "name": "stderr",
     "output_type": "stream",
     "text": [
      "/Users/willkaufman/opt/anaconda3/envs/rl_pulse/lib/python3.7/site-packages/qutip/visualization.py:323: UserWarning: FixedFormatter should only be used together with FixedLocator\n",
      "  ax.set_xticklabels(xlabels)\n",
      "/Users/willkaufman/opt/anaconda3/envs/rl_pulse/lib/python3.7/site-packages/qutip/visualization.py:331: UserWarning: FixedFormatter should only be used together with FixedLocator\n",
      "  ax.set_yticklabels(list(reversed(ylabels)))\n"
     ]
    },
    {
     "data": {
      "text/plain": [
       "(<Figure size 576x432 with 2 Axes>, <AxesSubplot:>)"
      ]
     },
     "execution_count": 194,
     "metadata": {},
     "output_type": "execute_result"
    },
    {
     "data": {
      "image/png": "[encoded data removed]",
      "text/plain": [
       "<Figure size 576x432 with 2 Axes>"
      ]
     },
     "metadata": {
      "needs_background": "light"
     },
     "output_type": "display_data"
    }
   ],
   "source": [
    "qt.hinton(H0_AHT)"
   ]
  },
  {
   "cell_type": "code",
   "execution_count": 195,
   "metadata": {},
   "outputs": [],
   "source": [
    "@lru_cache(None)\n",
    "def comm(a, b):\n",
    "    A = H_list[a]\n",
    "    B = H_list[b]\n",
    "    result = A*B - B*A\n",
    "    H_list.append(result)\n",
    "    return len(H_list) - 1"
   ]
  },
  {
   "cell_type": "code",
   "execution_count": 196,
   "metadata": {},
   "outputs": [],
   "source": [
    "def get_H1(H_list, tau, length):\n",
    "    \"\"\"\n",
    "    Args:\n",
    "        H_list (list): List of Qobj representing toggled Hamiltonians or commutators\n",
    "        tau (list): Time delays after each pulse\n",
    "        length: Number of pulses in sequence\n",
    "    \"\"\"\n",
    "    H1 = None\n",
    "    for i in range(length):\n",
    "        for j in range(i):\n",
    "            index = comm(i, j)\n",
    "            H1_new = H_list[index] * tau[i] * tau[j]\n",
    "            H1 = H1_new if H1 is None else H1 + H1_new\n",
    "    return 1/(2j * sum(tau)) * H1"
   ]
  },
  {
   "cell_type": "code",
   "execution_count": 199,
   "metadata": {},
   "outputs": [
    {
     "name": "stderr",
     "output_type": "stream",
     "text": [
      "/Users/willkaufman/opt/anaconda3/envs/rl_pulse/lib/python3.7/site-packages/qutip/visualization.py:323: UserWarning: FixedFormatter should only be used together with FixedLocator\n",
      "  ax.set_xticklabels(xlabels)\n",
      "/Users/willkaufman/opt/anaconda3/envs/rl_pulse/lib/python3.7/site-packages/qutip/visualization.py:331: UserWarning: FixedFormatter should only be used together with FixedLocator\n",
      "  ax.set_yticklabels(list(reversed(ylabels)))\n"
     ]
    },
    {
     "data": {
      "text/plain": [
       "(<Figure size 576x432 with 2 Axes>, <AxesSubplot:>)"
      ]
     },
     "execution_count": 199,
     "metadata": {},
     "output_type": "execute_result"
    },
    {
     "data": {
      "image/png": "[encoded data removed]",
      "text/plain": [
       "<Figure size 576x432 with 2 Axes>"
      ]
     },
     "metadata": {
      "needs_background": "light"
     },
     "output_type": "display_data"
    }
   ],
   "source": [
    "H1 = get_H1(H_list, tau, 6)\n",
    "qt.hinton(H1)"
   ]
  },
  {
   "cell_type": "code",
   "execution_count": 200,
   "metadata": {},
   "outputs": [],
   "source": [
    "def get_H2(H_list, tau, length):\n",
    "    H2 = None\n",
    "    for i in range(length):\n",
    "        for j in range(i):\n",
    "            for k in range(j):\n",
    "                index1 = comm(i, comm(j, k))\n",
    "                index2 = comm(comm(i, j), k)\n",
    "                H2_new = (H_list[index1] + H_list[index2]) * tau[i] * tau[j] * tau[k]\n",
    "                H2 = H2_new if H2 is None else H2 + H2_new\n",
    "    return -1/(6 * sum(tau)) * H2"
   ]
  },
  {
   "cell_type": "code",
   "execution_count": 201,
   "metadata": {},
   "outputs": [
    {
     "name": "stderr",
     "output_type": "stream",
     "text": [
      "/Users/willkaufman/opt/anaconda3/envs/rl_pulse/lib/python3.7/site-packages/qutip/visualization.py:323: UserWarning: FixedFormatter should only be used together with FixedLocator\n",
      "  ax.set_xticklabels(xlabels)\n",
      "/Users/willkaufman/opt/anaconda3/envs/rl_pulse/lib/python3.7/site-packages/qutip/visualization.py:331: UserWarning: FixedFormatter should only be used together with FixedLocator\n",
      "  ax.set_yticklabels(list(reversed(ylabels)))\n"
     ]
    },
    {
     "data": {
      "text/plain": [
       "(<Figure size 576x432 with 2 Axes>, <AxesSubplot:>)"
      ]
     },
     "execution_count": 201,
     "metadata": {},
     "output_type": "execute_result"
    },
    {
     "data": {
      "image/png": "[encoded data removed]",
      "text/plain": [
       "<Figure size 576x432 with 2 Axes>"
      ]
     },
     "metadata": {
      "needs_background": "light"
     },
     "output_type": "display_data"
    }
   ],
   "source": [
    "H2 = get_H2(H_list, tau, 6)\n",
    "qt.hinton(H2)"
   ]
  },
  {
   "cell_type": "code",
   "execution_count": 202,
   "metadata": {},
   "outputs": [],
   "source": [
    "def get_H3(H_list, tau, length):\n",
    "    H3 = None\n",
    "    for i in range(length):\n",
    "        for j in range(i):\n",
    "            for k in range(j):\n",
    "                for l in range(k):\n",
    "                    index1 = comm(comm(comm(i, j), k), l)\n",
    "                    index2 = comm(i, comm(comm(j, k), l))\n",
    "                    index3 = comm(i, comm(j, comm(k, l)))\n",
    "                    index4 = comm(j, comm(k, comm(l, i)))\n",
    "                    H3_new = (H_list[index1] + H_list[index2]\n",
    "                              + H_list[index3] + H_list[index4]) * (\n",
    "                        tau[i] * tau[j] * tau[k] * tau[l]\n",
    "                    )\n",
    "                    H3 = H3_new if H3 is None else H3 + H3_new\n",
    "    return -1/(12j * sum(tau)) * H3"
   ]
  },
  {
   "cell_type": "code",
   "execution_count": 203,
   "metadata": {},
   "outputs": [
    {
     "name": "stderr",
     "output_type": "stream",
     "text": [
      "/Users/willkaufman/opt/anaconda3/envs/rl_pulse/lib/python3.7/site-packages/qutip/visualization.py:323: UserWarning: FixedFormatter should only be used together with FixedLocator\n",
      "  ax.set_xticklabels(xlabels)\n",
      "/Users/willkaufman/opt/anaconda3/envs/rl_pulse/lib/python3.7/site-packages/qutip/visualization.py:331: UserWarning: FixedFormatter should only be used together with FixedLocator\n",
      "  ax.set_yticklabels(list(reversed(ylabels)))\n"
     ]
    },
    {
     "data": {
      "text/plain": [
       "(<Figure size 576x432 with 2 Axes>, <AxesSubplot:>)"
      ]
     },
     "execution_count": 203,
     "metadata": {},
     "output_type": "execute_result"
    },
    {
     "data": {
      "image/png": "[encoded data removed]",
      "text/plain": [
       "<Figure size 576x432 with 2 Axes>"
      ]
     },
     "metadata": {
      "needs_background": "light"
     },
     "output_type": "display_data"
    }
   ],
   "source": [
    "H3 = get_H3(H_list, tau, 6)\n",
    "qt.hinton(H3)"
   ]
  },
  {
   "cell_type": "code",
   "execution_count": null,
   "metadata": {},
   "outputs": [],
   "source": [
    "# def get_H4(H_list, tau, length):\n",
    "#     H4 = None\n",
    "#     for i in range(length):\n",
    "#         for j in range(i):\n",
    "#             for k in range(j):\n",
    "#                 for l in range(k):\n",
    "#                     for m in range(l):\n",
    "#                         # TODO modify for 4th order term\n",
    "#                         index1 = comm(comm(comm(i, j), k), l)\n",
    "#                         index2 = comm(i, comm(comm(j, k), l))\n",
    "#                         index3 = comm(i, comm(j, comm(k, l)))\n",
    "#                         index4 = comm(j, comm(k, comm(l, i)))\n",
    "#                         H3_new = (H_list[index1] + H_list[index2]\n",
    "#                                   + H_list[index3] + H_list[index4]) * (\n",
    "#                             tau[i] * tau[j] * tau[k] * tau[l]\n",
    "#                         )\n",
    "#                         H3 = H3_new if H3 is None else H3 + H3_new\n",
    "#     throw NotImplementedError('This is not implemented yet!')\n",
    "# #     return -1/(12j * sum(tau)) * H3"
   ]
  },
  {
   "cell_type": "markdown",
   "metadata": {},
   "source": [
    "Compare fidelity of different orders of Magnus expansion"
   ]
  },
  {
   "cell_type": "code",
   "execution_count": 222,
   "metadata": {},
   "outputs": [
    {
     "data": {
      "text/plain": [
       "3.1517152315340646"
      ]
     },
     "execution_count": 222,
     "metadata": {},
     "output_type": "execute_result"
    }
   ],
   "source": [
    "fidelity = qt.metrics.average_gate_fidelity(\n",
    "    (-1j * H0).expm(),\n",
    "    (-1j * (H0 + H1 + H2)).expm())\n",
    "-np.log10(1 - fidelity + 1e-200)"
   ]
  },
  {
   "cell_type": "code",
   "execution_count": null,
   "metadata": {},
   "outputs": [],
   "source": []
  }
 ],
 "metadata": {
  "kernelspec": {
   "display_name": "Python 3",
   "language": "python",
   "name": "python3"
  },
  "language_info": {
   "codemirror_mode": {
    "name": "ipython",
    "version": 3
   },
   "file_extension": ".py",
   "mimetype": "text/x-python",
   "name": "python",
   "nbconvert_exporter": "python",
   "pygments_lexer": "ipython3",
   "version": "3.7.9"
  }
 },
 "nbformat": 4,
 "nbformat_minor": 4
}
