{
 "cells": [
  {
   "cell_type": "markdown",
   "metadata": {},
   "source": [
    "# Sandbox"
   ]
  },
  {
   "cell_type": "code",
   "execution_count": 1,
   "metadata": {},
   "outputs": [],
   "source": [
    "import torch\n",
    "import numpy as np\n",
    "import torch.multiprocessing as mp\n",
    "from time import sleep"
   ]
  },
  {
   "cell_type": "code",
   "execution_count": 45,
   "metadata": {},
   "outputs": [],
   "source": [
    "def worker(proc_num, queue):\n",
    "    for _ in range(6000):\n",
    "        if _ % 500 == 0:\n",
    "            print(f'in {proc_num} on iteration {_}')\n",
    "        rng = np.random.default_rng()\n",
    "        length = rng.integers(48)\n",
    "        state = rng.random(size=(length, 6))\n",
    "        probs = rng.random(size=(5,))\n",
    "        value = rng.random(size=(1,))\n",
    "        datum = (state, probs, value)\n",
    "        queue.put(datum)\n",
    "#         with lock:\n",
    "#             if len(buffer) < buffer_size:\n",
    "#                 buffer.append(datum)\n",
    "#                 index.value += 1\n",
    "#             else:\n",
    "#                 buffer[index.value] = datum\n",
    "#                 index.value += 1\n",
    "#             if index.value >= buffer_size:\n",
    "#                 index.value = 0\n",
    "    return\n",
    "\n",
    "\n",
    "def checker(queue, output, buffer_size=24000):\n",
    "    buffer = []\n",
    "    index = 0\n",
    "    while len(buffer) < buffer_size:\n",
    "        if queue.empty():\n",
    "            sleep(1)\n",
    "            continue\n",
    "        buffer.append(queue.get())\n",
    "        index += 1\n",
    "    output.put(buffer)"
   ]
  },
  {
   "cell_type": "code",
   "execution_count": 2,
   "metadata": {},
   "outputs": [],
   "source": [
    "if __name__ == '__main__':\n",
    "    # TODO start processes, try adding 450 * 48 * (tensor, tensor, tensor) to shared list\n",
    "    # and see if I run into similar issues...\n",
    "    with mp.Manager() as manager:\n",
    "        queue = manager.Queue()\n",
    "        output = manager.Queue()\n",
    "#         length = manager.Value('i', 0)\n",
    "#         index = manager.Value('i', 0)\n",
    "#         lock = manager.Lock()\n",
    "        workers = []\n",
    "        for i in range(4):\n",
    "            w = mp.Process(target=worker, args=(i, queue))\n",
    "            w.start()\n",
    "            workers.append(w)\n",
    "        w = mp.Process(target=checker, args=(queue, output))\n",
    "        w.start()\n",
    "        workers.append(w)\n",
    "        for w in workers:\n",
    "            w.join()\n",
    "        print('all processes joined')\n",
    "#         buffer = list(buffer)\n",
    "#         index = index.value\n",
    "        buffer = output.get()"
   ]
  },
  {
   "cell_type": "code",
   "execution_count": 41,
   "metadata": {},
   "outputs": [
    {
     "data": {
      "text/plain": [
       "array([0.54937819])"
      ]
     },
     "execution_count": 41,
     "metadata": {},
     "output_type": "execute_result"
    }
   ],
   "source": [
    "buffer[2][2]"
   ]
  },
  {
   "cell_type": "code",
   "execution_count": 47,
   "metadata": {},
   "outputs": [
    {
     "data": {
      "text/plain": [
       "[array([0.76290919]),\n",
       " array([0.15618292]),\n",
       " array([0.79988231]),\n",
       " array([0.24052051]),\n",
       " array([0.95798373]),\n",
       " array([0.92766788]),\n",
       " array([0.49542138]),\n",
       " array([0.11634498]),\n",
       " array([0.28900658]),\n",
       " array([0.93548941])]"
      ]
     },
     "execution_count": 47,
     "metadata": {},
     "output_type": "execute_result"
    }
   ],
   "source": [
    "[a[2] for a in buffer[:10]]"
   ]
  },
  {
   "cell_type": "code",
   "execution_count": 48,
   "metadata": {},
   "outputs": [
    {
     "data": {
      "text/plain": [
       "24000"
      ]
     },
     "execution_count": 48,
     "metadata": {},
     "output_type": "execute_result"
    }
   ],
   "source": [
    "len(buffer)"
   ]
  },
  {
   "cell_type": "code",
   "execution_count": 3,
   "metadata": {},
   "outputs": [
    {
     "data": {
      "text/plain": [
       "array([4.51142846e-05, 1.63684981e-06, 1.90767475e-01, 1.66719882e-01,\n",
       "       1.15576553e-09])"
      ]
     },
     "execution_count": 3,
     "metadata": {},
     "output_type": "execute_result"
    }
   ],
   "source": [
    "np.random.gamma(.3, 1, 5)"
   ]
  },
  {
   "cell_type": "code",
   "execution_count": 4,
   "metadata": {},
   "outputs": [],
   "source": [
    "rng = np.random.default_rng()"
   ]
  },
  {
   "cell_type": "code",
   "execution_count": 25,
   "metadata": {},
   "outputs": [
    {
     "data": {
      "text/plain": [
       "array([0.04235174, 0.17385871, 0.00208078, 0.00103263, 0.00506793])"
      ]
     },
     "execution_count": 25,
     "metadata": {},
     "output_type": "execute_result"
    }
   ],
   "source": [
    "rng.gamma(.3, 1, 5)"
   ]
  },
  {
   "cell_type": "code",
   "execution_count": 26,
   "metadata": {},
   "outputs": [
    {
     "data": {
      "text/plain": [
       "array([2.93925569e-03, 9.96016686e-01, 1.04404191e-03, 5.75735218e-20,\n",
       "       1.66749759e-08])"
      ]
     },
     "execution_count": 26,
     "metadata": {},
     "output_type": "execute_result"
    }
   ],
   "source": [
    "rng.dirichlet([1e-1] * 5)"
   ]
  },
  {
   "cell_type": "code",
   "execution_count": null,
   "metadata": {},
   "outputs": [],
   "source": []
  }
 ],
 "metadata": {
  "kernelspec": {
   "display_name": "Python 3",
   "language": "python",
   "name": "python3"
  },
  "language_info": {
   "codemirror_mode": {
    "name": "ipython",
    "version": 3
   },
   "file_extension": ".py",
   "mimetype": "text/x-python",
   "name": "python",
   "nbconvert_exporter": "python",
   "pygments_lexer": "ipython3",
   "version": "3.7.9"
  }
 },
 "nbformat": 4,
 "nbformat_minor": 4
}
