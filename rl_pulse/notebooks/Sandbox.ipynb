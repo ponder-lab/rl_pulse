{
 "cells": [
  {
   "cell_type": "markdown",
   "metadata": {},
   "source": [
    "# Sandbox"
   ]
  },
  {
   "cell_type": "code",
   "execution_count": 1,
   "metadata": {},
   "outputs": [],
   "source": [
    "import numpy as np\n",
    "import qutip as qt\n",
    "import torch\n",
    "import matplotlib.pyplot as plt\n",
    "import sys\n",
    "import os\n",
    "import importlib"
   ]
  },
  {
   "cell_type": "code",
   "execution_count": 2,
   "metadata": {},
   "outputs": [],
   "source": [
    "sys.path.append('..')"
   ]
  },
  {
   "cell_type": "code",
   "execution_count": 69,
   "metadata": {},
   "outputs": [],
   "source": [
    "import alpha_zero as az\n",
    "import pulse_sequences as ps"
   ]
  },
  {
   "cell_type": "code",
   "execution_count": 87,
   "metadata": {},
   "outputs": [
    {
     "data": {
      "text/plain": [
       "<module 'pulse_sequences' from '../pulse_sequences.py'>"
      ]
     },
     "execution_count": 87,
     "metadata": {},
     "output_type": "execute_result"
    }
   ],
   "source": [
    "# importlib.reload(az)\n",
    "importlib.reload(ps)"
   ]
  },
  {
   "cell_type": "markdown",
   "metadata": {},
   "source": [
    "## Testing network"
   ]
  },
  {
   "cell_type": "code",
   "execution_count": 4,
   "metadata": {},
   "outputs": [],
   "source": [
    "Utarget = qt.identity([2] * 3)"
   ]
  },
  {
   "cell_type": "code",
   "execution_count": 5,
   "metadata": {},
   "outputs": [],
   "source": [
    "config = az.Config()"
   ]
  },
  {
   "cell_type": "code",
   "execution_count": 6,
   "metadata": {},
   "outputs": [],
   "source": [
    "ps_config = ps.PulseSequenceConfig(Utarget=Utarget, ensemble_size=50)"
   ]
  },
  {
   "cell_type": "code",
   "execution_count": 8,
   "metadata": {},
   "outputs": [],
   "source": [
    "# net = az.Network()\n",
    "# net.load_state_dict(torch.load('0008000-network'))"
   ]
  },
  {
   "cell_type": "code",
   "execution_count": 54,
   "metadata": {},
   "outputs": [],
   "source": [
    "ps_config.reset()\n",
    "output = az.make_sequence(config, ps_config, network=net, test=False, rng=ps_config.rng)"
   ]
  },
  {
   "cell_type": "code",
   "execution_count": 55,
   "metadata": {},
   "outputs": [
    {
     "name": "stdout",
     "output_type": "stream",
     "text": [
      "([4, 2, 2, 1, 2, 2, 1, 1, 4, 0, 0, 3, 4, 0, 1, 0, 0, 0, 1, 1, 4, 3, 0, 0, 2, 4, 4, 0, 0, 4, 0, 0, 0, 2, 2, 0, 1, 0, 2, 0, 0, 2, 4, 0, 0, 0, 0], array([1., 0., 0., 0., 0.]), 2.3924550431950924)\n"
     ]
    }
   ],
   "source": [
    "print(output[-1])"
   ]
  },
  {
   "cell_type": "markdown",
   "metadata": {},
   "source": [
    "## Testing ps_config parameter saving"
   ]
  },
  {
   "cell_type": "code",
   "execution_count": 216,
   "metadata": {},
   "outputs": [],
   "source": [
    "output = np.load('../scripts/ps_config-0-no_net.npz')"
   ]
  },
  {
   "cell_type": "code",
   "execution_count": 222,
   "metadata": {},
   "outputs": [
    {
     "data": {
      "text/plain": [
       "0.009820976650951307"
      ]
     },
     "execution_count": 222,
     "metadata": {},
     "output_type": "execute_result"
    }
   ],
   "source": [
    "np.std(output['rots'])"
   ]
  },
  {
   "cell_type": "code",
   "execution_count": 202,
   "metadata": {},
   "outputs": [],
   "source": [
    "cs = output['chemical_shifts']\n",
    "dip_mat = output['dipolar_matrices']"
   ]
  },
  {
   "cell_type": "code",
   "execution_count": 203,
   "metadata": {},
   "outputs": [],
   "source": [
    "N=3"
   ]
  },
  {
   "cell_type": "code",
   "execution_count": 204,
   "metadata": {},
   "outputs": [],
   "source": [
    "Hsys_ensemble = []\n",
    "offset = 0\n",
    "for chemical_shifts, dipolar_matrix in zip(cs, dip_mat):\n",
    "    Hcs = sum(\n",
    "        [qt.tensor(\n",
    "            [qt.identity(2)] * i\n",
    "            + [(offset + chemical_shifts[i]) * qt.sigmaz()]\n",
    "            + [qt.identity(2)] * (N - i - 1)\n",
    "        ) for i in range(N)]\n",
    "    )\n",
    "    # dipolar interactions\n",
    "    Hdip = sum([\n",
    "        dipolar_matrix[i, j] * (\n",
    "            2 * qt.tensor(\n",
    "                [qt.identity(2)] * i\n",
    "                + [qt.sigmaz()]\n",
    "                + [qt.identity(2)] * (j - i - 1)\n",
    "                + [qt.sigmaz()]\n",
    "                + [qt.identity(2)] * (N - j - 1)\n",
    "            )\n",
    "            - qt.tensor(\n",
    "                [qt.identity(2)] * i\n",
    "                + [qt.sigmax()]\n",
    "                + [qt.identity(2)] * (j - i - 1)\n",
    "                + [qt.sigmax()]\n",
    "                + [qt.identity(2)] * (N - j - 1)\n",
    "            )\n",
    "            - qt.tensor(\n",
    "                [qt.identity(2)] * i\n",
    "                + [qt.sigmay()]\n",
    "                + [qt.identity(2)] * (j - i - 1)\n",
    "                + [qt.sigmay()]\n",
    "                + [qt.identity(2)] * (N - j - 1)\n",
    "            )\n",
    "        )\n",
    "        for i in range(N) for j in range(i + 1, N)\n",
    "    ])\n",
    "    \n",
    "    Hsys_ensemble.append(Hcs + Hdip)"
   ]
  },
  {
   "cell_type": "code",
   "execution_count": 213,
   "metadata": {},
   "outputs": [],
   "source": [
    "pulses_ensemble = []\n",
    "for H in Hsys_ensemble:\n",
    "    rot = np.random.normal(scale=0.01)\n",
    "    pulses_ensemble.append(\n",
    "        ps.get_pulses(H, X, Y, Z, pulse_width=1e-5, delay=1e-4, rot_error=rot)\n",
    "    )"
   ]
  },
  {
   "cell_type": "code",
   "execution_count": 214,
   "metadata": {},
   "outputs": [
    {
     "data": {
      "text/plain": [
       "2.5015571286258496"
      ]
     },
     "execution_count": 214,
     "metadata": {},
     "output_type": "execute_result"
    }
   ],
   "source": [
    "f = ps.get_mean_fidelity([3, 4, 4, 2, 4, 4, 2, 2, 3, 3, 2, 3], Utarget, pulses_ensemble)\n",
    "-np.log10(1 - f)"
   ]
  },
  {
   "cell_type": "markdown",
   "metadata": {},
   "source": [
    "## Simulation"
   ]
  },
  {
   "cell_type": "code",
   "execution_count": 83,
   "metadata": {},
   "outputs": [],
   "source": [
    "Hsys, params = ps.get_Hsys(N=3, offset=1e0, dipolar_strength=1e2, return_all=True)"
   ]
  },
  {
   "cell_type": "code",
   "execution_count": 84,
   "metadata": {},
   "outputs": [],
   "source": [
    "X, Y, Z = ps.get_collective_spin(N=3)"
   ]
  },
  {
   "cell_type": "code",
   "execution_count": 88,
   "metadata": {},
   "outputs": [],
   "source": [
    "output = qt.mesolve(Hsys, X, tlist=np.linspace(0, 15e-2, 500), e_ops=[X, Y, Z])"
   ]
  },
  {
   "cell_type": "code",
   "execution_count": 89,
   "metadata": {},
   "outputs": [
    {
     "data": {
      "text/plain": [
       "[<matplotlib.lines.Line2D at 0x7fd81b9e2310>]"
      ]
     },
     "execution_count": 89,
     "metadata": {},
     "output_type": "execute_result"
    },
    {
     "data": {
      "image/png": "[encoded data removed]",
      "text/plain": [
       "<Figure size 432x288 with 1 Axes>"
      ]
     },
     "metadata": {
      "needs_background": "light"
     },
     "output_type": "display_data"
    }
   ],
   "source": [
    "plt.plot(output.times, output.expect[0])"
   ]
  },
  {
   "cell_type": "code",
   "execution_count": 90,
   "metadata": {},
   "outputs": [
    {
     "data": {
      "text/plain": [
       "(array([0.56365476, 0.13010873, 0.8971216 ]),\n",
       " 0.20856764728178212,\n",
       " array([[-127.71305054, -145.45596682,   84.50100052],\n",
       "        [ -17.43951414,  101.06205672,   26.8447102 ],\n",
       "        [-181.97074045,  -41.18745734,  -14.02630326]]))"
      ]
     },
     "execution_count": 90,
     "metadata": {},
     "output_type": "execute_result"
    }
   ],
   "source": [
    "params"
   ]
  },
  {
   "cell_type": "code",
   "execution_count": 123,
   "metadata": {},
   "outputs": [],
   "source": [
    "pulses = ps.get_pulses(Hsys, X, Y, Z, pulse_width=1e-5, delay=1e-4, phase_transient=0)"
   ]
  },
  {
   "cell_type": "code",
   "execution_count": 122,
   "metadata": {},
   "outputs": [
    {
     "data": {
      "text/plain": [
       "(-0.9957933313517151+3.114655634936449e-05j)"
      ]
     },
     "execution_count": 122,
     "metadata": {},
     "output_type": "execute_result"
    }
   ],
   "source": [
    "(pulses[1] * pulses[1] * pulses[1] * pulses[1]).tr()/8"
   ]
  },
  {
   "cell_type": "code",
   "execution_count": 91,
   "metadata": {},
   "outputs": [
    {
     "data": {
      "text/plain": [
       "<function pulse_sequences.get_pulses(Hsys, X, Y, Z, pulse_width=0.0001, delay=0.001, rot_error=0, phase_transient=0, rng=None)>"
      ]
     },
     "execution_count": 91,
     "metadata": {},
     "output_type": "execute_result"
    }
   ],
   "source": [
    "ps.get_pulses"
   ]
  },
  {
   "cell_type": "markdown",
   "metadata": {},
   "source": [
    "## ML"
   ]
  },
  {
   "cell_type": "code",
   "execution_count": 131,
   "metadata": {},
   "outputs": [],
   "source": [
    "import torch\n",
    "import numpy as np\n",
    "import torch.multiprocessing as mp\n",
    "from time import sleep\n",
    "from torch.utils.tensorboard import SummaryWriter"
   ]
  },
  {
   "cell_type": "code",
   "execution_count": 129,
   "metadata": {},
   "outputs": [],
   "source": [
    "import alpha_zero as az"
   ]
  },
  {
   "cell_type": "code",
   "execution_count": 132,
   "metadata": {},
   "outputs": [],
   "source": [
    "writer = SummaryWriter('runs/sandbox')"
   ]
  },
  {
   "cell_type": "code",
   "execution_count": 133,
   "metadata": {},
   "outputs": [],
   "source": [
    "net = az.Network()"
   ]
  },
  {
   "cell_type": "code",
   "execution_count": 145,
   "metadata": {},
   "outputs": [
    {
     "data": {
      "text/plain": [
       "Network(\n",
       "  (gru): GRU(6, 64, batch_first=True)\n",
       "  (fc1): Linear(in_features=64, out_features=32, bias=True)\n",
       "  (fc2): Linear(in_features=32, out_features=32, bias=True)\n",
       "  (fc3): Linear(in_features=32, out_features=32, bias=True)\n",
       "  (fc4): Linear(in_features=32, out_features=32, bias=True)\n",
       "  (fc5): Linear(in_features=32, out_features=32, bias=True)\n",
       "  (fc6): Linear(in_features=32, out_features=32, bias=True)\n",
       "  (policy): Linear(in_features=32, out_features=5, bias=True)\n",
       "  (value): Linear(in_features=32, out_features=1, bias=True)\n",
       ")"
      ]
     },
     "execution_count": 145,
     "metadata": {},
     "output_type": "execute_result"
    }
   ],
   "source": [
    "net"
   ]
  },
  {
   "cell_type": "code",
   "execution_count": 143,
   "metadata": {},
   "outputs": [],
   "source": [
    "input = torch.zeros((1, 10, 6))"
   ]
  },
  {
   "cell_type": "code",
   "execution_count": 144,
   "metadata": {},
   "outputs": [],
   "source": [
    "writer.add_graph(net, input)"
   ]
  },
  {
   "cell_type": "code",
   "execution_count": 45,
   "metadata": {},
   "outputs": [],
   "source": [
    "def worker(proc_num, queue):\n",
    "    for _ in range(6000):\n",
    "        if _ % 500 == 0:\n",
    "            print(f'in {proc_num} on iteration {_}')\n",
    "        rng = np.random.default_rng()\n",
    "        length = rng.integers(48)\n",
    "        state = rng.random(size=(length, 6))\n",
    "        probs = rng.random(size=(5,))\n",
    "        value = rng.random(size=(1,))\n",
    "        datum = (state, probs, value)\n",
    "        queue.put(datum)\n",
    "#         with lock:\n",
    "#             if len(buffer) < buffer_size:\n",
    "#                 buffer.append(datum)\n",
    "#                 index.value += 1\n",
    "#             else:\n",
    "#                 buffer[index.value] = datum\n",
    "#                 index.value += 1\n",
    "#             if index.value >= buffer_size:\n",
    "#                 index.value = 0\n",
    "    return\n",
    "\n",
    "\n",
    "def checker(queue, output, buffer_size=24000):\n",
    "    buffer = []\n",
    "    index = 0\n",
    "    while len(buffer) < buffer_size:\n",
    "        if queue.empty():\n",
    "            sleep(1)\n",
    "            continue\n",
    "        buffer.append(queue.get())\n",
    "        index += 1\n",
    "    output.put(buffer)"
   ]
  },
  {
   "cell_type": "code",
   "execution_count": 2,
   "metadata": {},
   "outputs": [],
   "source": [
    "if __name__ == '__main__':\n",
    "    # TODO start processes, try adding 450 * 48 * (tensor, tensor, tensor) to shared list\n",
    "    # and see if I run into similar issues...\n",
    "    with mp.Manager() as manager:\n",
    "        queue = manager.Queue()\n",
    "        output = manager.Queue()\n",
    "#         length = manager.Value('i', 0)\n",
    "#         index = manager.Value('i', 0)\n",
    "#         lock = manager.Lock()\n",
    "        workers = []\n",
    "        for i in range(4):\n",
    "            w = mp.Process(target=worker, args=(i, queue))\n",
    "            w.start()\n",
    "            workers.append(w)\n",
    "        w = mp.Process(target=checker, args=(queue, output))\n",
    "        w.start()\n",
    "        workers.append(w)\n",
    "        for w in workers:\n",
    "            w.join()\n",
    "        print('all processes joined')\n",
    "#         buffer = list(buffer)\n",
    "#         index = index.value\n",
    "        buffer = output.get()"
   ]
  },
  {
   "cell_type": "code",
   "execution_count": 41,
   "metadata": {},
   "outputs": [
    {
     "data": {
      "text/plain": [
       "array([0.54937819])"
      ]
     },
     "execution_count": 41,
     "metadata": {},
     "output_type": "execute_result"
    }
   ],
   "source": [
    "buffer[2][2]"
   ]
  },
  {
   "cell_type": "code",
   "execution_count": 47,
   "metadata": {},
   "outputs": [
    {
     "data": {
      "text/plain": [
       "[array([0.76290919]),\n",
       " array([0.15618292]),\n",
       " array([0.79988231]),\n",
       " array([0.24052051]),\n",
       " array([0.95798373]),\n",
       " array([0.92766788]),\n",
       " array([0.49542138]),\n",
       " array([0.11634498]),\n",
       " array([0.28900658]),\n",
       " array([0.93548941])]"
      ]
     },
     "execution_count": 47,
     "metadata": {},
     "output_type": "execute_result"
    }
   ],
   "source": [
    "[a[2] for a in buffer[:10]]"
   ]
  },
  {
   "cell_type": "code",
   "execution_count": 48,
   "metadata": {},
   "outputs": [
    {
     "data": {
      "text/plain": [
       "24000"
      ]
     },
     "execution_count": 48,
     "metadata": {},
     "output_type": "execute_result"
    }
   ],
   "source": [
    "len(buffer)"
   ]
  },
  {
   "cell_type": "code",
   "execution_count": 3,
   "metadata": {},
   "outputs": [
    {
     "data": {
      "text/plain": [
       "array([4.51142846e-05, 1.63684981e-06, 1.90767475e-01, 1.66719882e-01,\n",
       "       1.15576553e-09])"
      ]
     },
     "execution_count": 3,
     "metadata": {},
     "output_type": "execute_result"
    }
   ],
   "source": [
    "np.random.gamma(.3, 1, 5)"
   ]
  },
  {
   "cell_type": "code",
   "execution_count": 4,
   "metadata": {},
   "outputs": [],
   "source": [
    "rng = np.random.default_rng()"
   ]
  },
  {
   "cell_type": "code",
   "execution_count": 25,
   "metadata": {},
   "outputs": [
    {
     "data": {
      "text/plain": [
       "array([0.04235174, 0.17385871, 0.00208078, 0.00103263, 0.00506793])"
      ]
     },
     "execution_count": 25,
     "metadata": {},
     "output_type": "execute_result"
    }
   ],
   "source": [
    "rng.gamma(.3, 1, 5)"
   ]
  },
  {
   "cell_type": "code",
   "execution_count": 26,
   "metadata": {},
   "outputs": [
    {
     "data": {
      "text/plain": [
       "array([2.93925569e-03, 9.96016686e-01, 1.04404191e-03, 5.75735218e-20,\n",
       "       1.66749759e-08])"
      ]
     },
     "execution_count": 26,
     "metadata": {},
     "output_type": "execute_result"
    }
   ],
   "source": [
    "rng.dirichlet([1e-1] * 5)"
   ]
  },
  {
   "cell_type": "markdown",
   "metadata": {},
   "source": [
    "## Getting tensorboard data"
   ]
  },
  {
   "cell_type": "code",
   "execution_count": 1,
   "metadata": {},
   "outputs": [],
   "source": [
    "import tensorflow as tf\n",
    "import tensorboard as tb"
   ]
  },
  {
   "cell_type": "code",
   "execution_count": null,
   "metadata": {},
   "outputs": [],
   "source": [
    "from tensorflow"
   ]
  },
  {
   "cell_type": "code",
   "execution_count": 2,
   "metadata": {},
   "outputs": [],
   "source": [
    "import tensorboard.backend.event_processing as ep"
   ]
  },
  {
   "cell_type": "code",
   "execution_count": 8,
   "metadata": {},
   "outputs": [],
   "source": [
    "import tensorboard.backend.event_processing.event_file_loader as efl"
   ]
  },
  {
   "cell_type": "code",
   "execution_count": 52,
   "metadata": {},
   "outputs": [],
   "source": [
    "loader = efl.EventFileLoader('../../data/2021-02/20210219-082529/Feb19_08-25-29_k38.hpcc.dartmouth.edu/events.out.tfevents.1613741129.k38.hpcc.dartmouth.edu.14002.0')"
   ]
  },
  {
   "cell_type": "code",
   "execution_count": 53,
   "metadata": {},
   "outputs": [],
   "source": [
    "events = []\n",
    "for event in loader.Load():\n",
    "    events.append(event)"
   ]
  },
  {
   "cell_type": "code",
   "execution_count": 54,
   "metadata": {},
   "outputs": [
    {
     "data": {
      "text/plain": [
       "146628"
      ]
     },
     "execution_count": 54,
     "metadata": {},
     "output_type": "execute_result"
    }
   ],
   "source": [
    "len(events)"
   ]
  },
  {
   "cell_type": "code",
   "execution_count": 57,
   "metadata": {},
   "outputs": [],
   "source": [
    "hist_events = [a for a in events if 'hist' in str(a)]"
   ]
  },
  {
   "cell_type": "code",
   "execution_count": 80,
   "metadata": {},
   "outputs": [],
   "source": [
    "a = hist_events[0].summary.value[0].histo"
   ]
  },
  {
   "cell_type": "code",
   "execution_count": 87,
   "metadata": {},
   "outputs": [
    {
     "data": {
      "text/plain": [
       "(600, 600)"
      ]
     },
     "execution_count": 87,
     "metadata": {},
     "output_type": "execute_result"
    }
   ],
   "source": [
    "len(a.bucket), len(a.bucket_limit)"
   ]
  },
  {
   "cell_type": "code",
   "execution_count": 89,
   "metadata": {},
   "outputs": [
    {
     "data": {
      "text/plain": [
       "0"
      ]
     },
     "execution_count": 89,
     "metadata": {},
     "output_type": "execute_result"
    }
   ],
   "source": [
    "hist_events[0].step"
   ]
  },
  {
   "cell_type": "code",
   "execution_count": 90,
   "metadata": {},
   "outputs": [],
   "source": [
    "steps, buckets, bucket_limits = zip(*[\n",
    "    (a.step, a.summary.value[0].histo.bucket, a.summary.value[0].histo.bucket_limit)\n",
    "    for a in hist_events\n",
    "])"
   ]
  },
  {
   "cell_type": "code",
   "execution_count": 93,
   "metadata": {},
   "outputs": [],
   "source": [
    "# TODO write the histogram data to a file\n",
    "# TODO also figure out if I can make a video animating histogram over time..."
   ]
  },
  {
   "cell_type": "code",
   "execution_count": 109,
   "metadata": {},
   "outputs": [],
   "source": [
    "import matplotlib.pyplot as plt"
   ]
  },
  {
   "cell_type": "code",
   "execution_count": 141,
   "metadata": {},
   "outputs": [
    {
     "data": {
      "image/png": "[encoded data removed]",
      "text/plain": [
       "<Figure size 432x288 with 1 Axes>"
      ]
     },
     "metadata": {
      "needs_background": "light"
     },
     "output_type": "display_data"
    }
   ],
   "source": [
    "plt.hist(bucket_limits[0], bins=20, weights=buckets[0], range=(-1, 7),\n",
    "         density=True, alpha=0.5, label='0')\n",
    "plt.hist(bucket_limits[100], bins=20, weights=buckets[100], range=(-1, 7),\n",
    "         density=True, alpha=0.5, label='1000')\n",
    "plt.hist(bucket_limits[400], bins=20, weights=buckets[400], range=(-1, 7),\n",
    "         density=True, alpha=0.5, label='4000')\n",
    "plt.legend(title='Training step')\n",
    "plt.title('-log(1 - fidelity)')\n",
    "plt.show()"
   ]
  },
  {
   "cell_type": "code",
   "execution_count": 119,
   "metadata": {},
   "outputs": [
    {
     "data": {
      "text/plain": [
       "486"
      ]
     },
     "execution_count": 119,
     "metadata": {},
     "output_type": "execute_result"
    }
   ],
   "source": [
    "len(bucket_limits)"
   ]
  },
  {
   "cell_type": "code",
   "execution_count": 123,
   "metadata": {},
   "outputs": [
    {
     "data": {
      "image/png": "[encoded data removed]",
      "text/plain": [
       "<Figure size 432x288 with 1 Axes>"
      ]
     },
     "metadata": {
      "needs_background": "light"
     },
     "output_type": "display_data"
    }
   ],
   "source": [
    "plt.hist(bucket_limits[100], bins=20, weights=buckets[100], range=(-1, 7))\n",
    "plt.show()"
   ]
  },
  {
   "cell_type": "code",
   "execution_count": 127,
   "metadata": {},
   "outputs": [
    {
     "data": {
      "image/png": "[encoded data removed]",
      "text/plain": [
       "<Figure size 432x288 with 1 Axes>"
      ]
     },
     "metadata": {
      "needs_background": "light"
     },
     "output_type": "display_data"
    }
   ],
   "source": [
    "plt.hist(bucket_limits[200], bins=20, weights=buckets[200], range=(-1, 7))\n",
    "plt.show()"
   ]
  },
  {
   "cell_type": "code",
   "execution_count": 118,
   "metadata": {},
   "outputs": [
    {
     "data": {
      "image/png": "[encoded data removed]",
      "text/plain": [
       "<Figure size 432x288 with 1 Axes>"
      ]
     },
     "metadata": {
      "needs_background": "light"
     },
     "output_type": "display_data"
    }
   ],
   "source": [
    "plt.hist(bucket_limits[-1], bins=20, weights=buckets[-1], range=(-1, 7))\n",
    "plt.show()"
   ]
  }
 ],
 "metadata": {
  "kernelspec": {
   "display_name": "Python 3",
   "language": "python",
   "name": "python3"
  },
  "language_info": {
   "codemirror_mode": {
    "name": "ipython",
    "version": 3
   },
   "file_extension": ".py",
   "mimetype": "text/x-python",
   "name": "python",
   "nbconvert_exporter": "python",
   "pygments_lexer": "ipython3",
   "version": "3.7.9"
  }
 },
 "nbformat": 4,
 "nbformat_minor": 4
}
