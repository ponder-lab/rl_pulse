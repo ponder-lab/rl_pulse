{
 "cells": [
  {
   "cell_type": "markdown",
   "metadata": {},
   "source": [
    "# AlphaZero supervised learning\n",
    "_Will Kaufman, January 2021_\n",
    "\n",
    "This is simply to generate training data and do supervised learning so I can test different neural network designs, and to make sure it can actually learn from the data."
   ]
  },
  {
   "cell_type": "code",
   "execution_count": 1,
   "metadata": {},
   "outputs": [],
   "source": [
    "import qutip as qt\n",
    "import numpy as np\n",
    "import sys\n",
    "import os\n",
    "import multiprocessing as mp\n",
    "import importlib\n",
    "import matplotlib.pyplot as plt\n",
    "\n",
    "import torch\n",
    "from torch import nn\n",
    "import torch.nn.functional as F\n",
    "from torch import optim\n",
    "from torch.utils.data import Dataset, DataLoader"
   ]
  },
  {
   "cell_type": "code",
   "execution_count": 2,
   "metadata": {},
   "outputs": [],
   "source": [
    "sys.path.append(os.path.abspath('..'))\n",
    "import pulse_sequences as ps\n",
    "import alpha_zero as az"
   ]
  },
  {
   "cell_type": "code",
   "execution_count": 133,
   "metadata": {},
   "outputs": [
    {
     "data": {
      "text/plain": [
       "<module 'pulse_sequences' from '/Users/willkaufman/Projects/rl_pulse/rl_pulse/pulse_sequences.py'>"
      ]
     },
     "execution_count": 133,
     "metadata": {},
     "output_type": "execute_result"
    }
   ],
   "source": [
    "# importlib.reload(az)\n",
    "# importlib.reload(ps)"
   ]
  },
  {
   "cell_type": "markdown",
   "metadata": {},
   "source": [
    "## Define hyperparameters"
   ]
  },
  {
   "cell_type": "code",
   "execution_count": 4,
   "metadata": {},
   "outputs": [],
   "source": [
    "num_cores = 2  # 32\n",
    "num_collect_initial = 2  # 5000\n",
    "\n",
    "max_sequence_length = 48\n",
    "batch_size = 2048\n",
    "num_epochs = 10\n",
    "num_batches = 46"
   ]
  },
  {
   "cell_type": "markdown",
   "metadata": {},
   "source": [
    "## Define the spin system"
   ]
  },
  {
   "cell_type": "code",
   "execution_count": 5,
   "metadata": {},
   "outputs": [],
   "source": [
    "delay = 1e-2  # time is relative to chemical shift strength\n",
    "pulse_width = 1e-3\n",
    "N = 3  # number of spins\n",
    "ensemble_size = 5"
   ]
  },
  {
   "cell_type": "code",
   "execution_count": 6,
   "metadata": {},
   "outputs": [],
   "source": [
    "Utarget = qt.tensor([qt.identity(2)] * N)"
   ]
  },
  {
   "cell_type": "code",
   "execution_count": 6,
   "metadata": {},
   "outputs": [],
   "source": [
    "rb = az.ReplayBuffer(int(1e5))"
   ]
  },
  {
   "cell_type": "markdown",
   "metadata": {},
   "source": [
    "## Get data and save to file"
   ]
  },
  {
   "cell_type": "code",
   "execution_count": 7,
   "metadata": {},
   "outputs": [],
   "source": [
    "def collect_data_no_net(x):\n",
    "#     print(f'collecting data without network ({x})')\n",
    "    config = az.Config()\n",
    "    ps_config = ps.PulseSequenceConfig(N=N, ensemble_size=ensemble_size,\n",
    "                                       max_sequence_length=max_sequence_length,\n",
    "                                       Utarget=Utarget,\n",
    "                                       pulse_width=pulse_width, delay=delay)\n",
    "    return az.make_sequence(config, ps_config, network=None, rng=ps_config.rng)"
   ]
  },
  {
   "cell_type": "code",
   "execution_count": 8,
   "metadata": {},
   "outputs": [],
   "source": [
    "with mp.Pool(num_cores) as pool:\n",
    "    output = pool.map(collect_data_no_net, range(num_collect_initial))\n",
    "for stat in output:\n",
    "    az.add_stats_to_buffer(stat, rb)"
   ]
  },
  {
   "cell_type": "code",
   "execution_count": 13,
   "metadata": {},
   "outputs": [],
   "source": [
    "states, probabilities, values = zip(*rb.buffer)"
   ]
  },
  {
   "cell_type": "code",
   "execution_count": 19,
   "metadata": {},
   "outputs": [],
   "source": [
    "packed_states = az.pad_and_pack(states)\n",
    "probabilities = torch.cat(probabilities).view(len(rb), -1)\n",
    "values = torch.cat(values).view(len(rb), -1)"
   ]
  },
  {
   "cell_type": "code",
   "execution_count": 30,
   "metadata": {},
   "outputs": [],
   "source": [
    "torch.save(packed_states, 'states.pt')\n",
    "torch.save(probabilities, 'probabilities.pt')\n",
    "torch.save(values, 'values.pt')"
   ]
  },
  {
   "cell_type": "code",
   "execution_count": 31,
   "metadata": {},
   "outputs": [],
   "source": [
    "# len(rb)"
   ]
  },
  {
   "cell_type": "markdown",
   "metadata": {},
   "source": [
    "## Supervised learning from data"
   ]
  },
  {
   "cell_type": "code",
   "execution_count": null,
   "metadata": {},
   "outputs": [],
   "source": [
    "policy = az.Policy()\n",
    "value = az.Value()"
   ]
  },
  {
   "cell_type": "code",
   "execution_count": 7,
   "metadata": {},
   "outputs": [],
   "source": [
    "packed_states = torch.load('../../data/2021-01/20210116-110000/states.pt')"
   ]
  },
  {
   "cell_type": "code",
   "execution_count": 8,
   "metadata": {},
   "outputs": [],
   "source": [
    "padded_states = torch.nn.utils.rnn.pad_packed_sequence(packed_states, batch_first=True)"
   ]
  },
  {
   "cell_type": "code",
   "execution_count": 9,
   "metadata": {},
   "outputs": [],
   "source": [
    "probabilities = torch.load('../../data/2021-01/20210116-110000/probabilities.pt')\n",
    "values = torch.load('../../data/2021-01/20210116-110000/values.pt')"
   ]
  },
  {
   "cell_type": "code",
   "execution_count": 10,
   "metadata": {},
   "outputs": [],
   "source": [
    "class PulseSequenceDataset(Dataset):\n",
    "    def __init__(self, padded_states, probabilities, values):\n",
    "        super().__init__()\n",
    "        self.padded_states = padded_states\n",
    "        self.probabilities = probabilities\n",
    "        self.values = values\n",
    "    \n",
    "    def __getitem__(self, idx):\n",
    "        return (self.padded_states[0][idx, ...],\n",
    "                self.padded_states[1][idx, ...],\n",
    "                self.probabilities[idx, ...],\n",
    "                self.values[idx, ...])\n",
    "    \n",
    "    def __len__(self):\n",
    "        return self.values.size(0)"
   ]
  },
  {
   "cell_type": "code",
   "execution_count": 11,
   "metadata": {},
   "outputs": [],
   "source": [
    "dataset = PulseSequenceDataset(padded_states, probabilities, values)"
   ]
  },
  {
   "cell_type": "code",
   "execution_count": 12,
   "metadata": {},
   "outputs": [],
   "source": [
    "def collate_fn(data):\n",
    "    states, lengths, probs, vals = zip(*data)\n",
    "    states = torch.stack(states)\n",
    "    lengths = torch.stack(lengths)\n",
    "    packed_states = torch.nn.utils.rnn.pack_padded_sequence(states, lengths,\n",
    "                                                            batch_first=True,\n",
    "                                                            enforce_sorted=False)\n",
    "    probs = torch.stack(probs)\n",
    "    vals = torch.stack(vals)\n",
    "    return packed_states, probs, vals"
   ]
  },
  {
   "cell_type": "code",
   "execution_count": 13,
   "metadata": {},
   "outputs": [],
   "source": [
    "loader = DataLoader(dataset, batch_size=batch_size, shuffle=True, collate_fn=collate_fn, drop_last=True)"
   ]
  },
  {
   "cell_type": "code",
   "execution_count": 14,
   "metadata": {},
   "outputs": [],
   "source": [
    "sample = next(iter(loader))"
   ]
  },
  {
   "cell_type": "code",
   "execution_count": 17,
   "metadata": {},
   "outputs": [],
   "source": [
    "policy_outputs, _ = policy(sample[0])"
   ]
  },
  {
   "cell_type": "code",
   "execution_count": 174,
   "metadata": {},
   "outputs": [],
   "source": [
    "vals = values.numpy()"
   ]
  },
  {
   "cell_type": "code",
   "execution_count": 18,
   "metadata": {},
   "outputs": [
    {
     "data": {
      "text/plain": [
       "(array([ 1308.,     0.,     0.,     0.,     0.,     0.,     0.,     0.,\n",
       "            0.,     0.,     0.,     0.,     0.,     0., 28320., 34896.,\n",
       "         3552.,     0.,    48.,   528.,   480.,   624.,   720.,  1248.,\n",
       "         1536.,  1728.,  2256.,  1680.,  2112.,  1104.,  2160.,  1632.,\n",
       "         1296.,  1776.,  1152.,  1104.,   528.,   624.,   432.,   672.,\n",
       "          480.,   624.,   384.,   480.,   192.,    96.,     0.,    48.,\n",
       "           48.,    96.]),\n",
       " array([-1.        , -0.92981917, -0.85963833, -0.78945744, -0.7192766 ,\n",
       "        -0.6490958 , -0.57891494, -0.5087341 , -0.43855324, -0.36837238,\n",
       "        -0.29819155, -0.2280107 , -0.15782985, -0.08764901, -0.01746817,\n",
       "         0.05271268,  0.12289353,  0.19307438,  0.2632552 ,  0.33343607,\n",
       "         0.4036169 ,  0.47379774,  0.5439786 ,  0.61415946,  0.6843403 ,\n",
       "         0.75452113,  0.82470196,  0.8948828 ,  0.9650637 ,  1.0352445 ,\n",
       "         1.1054254 ,  1.1756063 ,  1.245787  ,  1.3159679 ,  1.3861487 ,\n",
       "         1.4563296 ,  1.5265105 ,  1.5966913 ,  1.6668721 ,  1.7370529 ,\n",
       "         1.8072338 ,  1.8774147 ,  1.9475955 ,  2.0177763 ,  2.0879571 ,\n",
       "         2.158138  ,  2.228319  ,  2.2984998 ,  2.3686805 ,  2.4388614 ,\n",
       "         2.5090423 ], dtype=float32),\n",
       " <BarContainer object of 50 artists>)"
      ]
     },
     "execution_count": 18,
     "metadata": {},
     "output_type": "execute_result"
    },
    {
     "data": {
      "image/png": "[encoded data removed]",
      "text/plain": [
       "<Figure size 432x288 with 1 Axes>"
      ]
     },
     "metadata": {
      "needs_background": "light"
     },
     "output_type": "display_data"
    }
   ],
   "source": [
    "plt.hist(vals, bins=50)"
   ]
  },
  {
   "cell_type": "code",
   "execution_count": 62,
   "metadata": {},
   "outputs": [
    {
     "data": {
      "text/plain": [
       "0.2906089783668876"
      ]
     },
     "execution_count": 62,
     "metadata": {},
     "output_type": "execute_result"
    }
   ],
   "source": [
    "np.sum(vals > .25) / vals.size"
   ]
  },
  {
   "cell_type": "code",
   "execution_count": 175,
   "metadata": {},
   "outputs": [
    {
     "name": "stdout",
     "output_type": "stream",
     "text": [
      "0.36310405\n",
      "0.31326103\n"
     ]
    }
   ],
   "source": [
    "print(np.mean(vals))\n",
    "print(np.var(vals))"
   ]
  },
  {
   "cell_type": "code",
   "execution_count": 49,
   "metadata": {},
   "outputs": [
    {
     "name": "stdout",
     "output_type": "stream",
     "text": [
      "1.1366603\n",
      "0.18059035\n"
     ]
    }
   ],
   "source": [
    "print(np.mean(vals[vals > .2]))\n",
    "print(np.var(vals[vals > .2]))"
   ]
  },
  {
   "cell_type": "markdown",
   "metadata": {},
   "source": [
    "## Quantify entropy in MCTS probabilities"
   ]
  },
  {
   "cell_type": "code",
   "execution_count": 50,
   "metadata": {},
   "outputs": [],
   "source": [
    "entropies = -torch.nansum(probabilities * torch.log(probabilities), 1)\n",
    "entropies = entropies.numpy()"
   ]
  },
  {
   "cell_type": "code",
   "execution_count": 56,
   "metadata": {},
   "outputs": [
    {
     "data": {
      "text/plain": [
       "95964"
      ]
     },
     "execution_count": 56,
     "metadata": {},
     "output_type": "execute_result"
    }
   ],
   "source": [
    "entropies.size"
   ]
  },
  {
   "cell_type": "code",
   "execution_count": 58,
   "metadata": {},
   "outputs": [
    {
     "data": {
      "text/plain": [
       "0.4354445417031387"
      ]
     },
     "execution_count": 58,
     "metadata": {},
     "output_type": "execute_result"
    }
   ],
   "source": [
    "np.sum(entropies <= np.log(4)) / entropies.size"
   ]
  },
  {
   "cell_type": "code",
   "execution_count": 51,
   "metadata": {},
   "outputs": [
    {
     "data": {
      "text/plain": [
       "<matplotlib.collections.LineCollection at 0x7fa581914f10>"
      ]
     },
     "execution_count": 51,
     "metadata": {},
     "output_type": "execute_result"
    },
    {
     "data": {
      "image/png": "[encoded data removed]",
      "text/plain": [
       "<Figure size 432x288 with 1 Axes>"
      ]
     },
     "metadata": {
      "needs_background": "light"
     },
     "output_type": "display_data"
    }
   ],
   "source": [
    "plt.hist(entropies, bins=50)\n",
    "plt.vlines(x=np.log(2), ymin=0, ymax=20000, label='2')\n",
    "plt.vlines(x=np.log(3), ymin=0, ymax=20000, label='3')\n",
    "plt.vlines(x=np.log(4), ymin=0, ymax=20000, label='4')"
   ]
  },
  {
   "cell_type": "markdown",
   "metadata": {},
   "source": [
    "## Optimize networks with dataset"
   ]
  },
  {
   "cell_type": "code",
   "execution_count": 348,
   "metadata": {},
   "outputs": [],
   "source": [
    "class Policy(nn.Module):\n",
    "    def __init__(self, input_size=6, lstm_size=64, output_size=5):\n",
    "        super(Policy, self).__init__()\n",
    "        self.lstm = nn.LSTM(input_size=input_size,\n",
    "                            hidden_size=lstm_size,\n",
    "                            num_layers=1,\n",
    "                            batch_first=True)\n",
    "        self.fc1 = nn.Linear(lstm_size, output_size)\n",
    "\n",
    "    def forward(self, x, h0=None, c0=None):\n",
    "        \"\"\"Calculates the policy from state x\n",
    "\n",
    "        Args:\n",
    "            x: The state of the pulse sequence. Either a tensor with\n",
    "                shape B*T*(num_actions + 1), or a packed sequence of states.\n",
    "        \"\"\"\n",
    "        if h0 is None or c0 is None:\n",
    "            x, (h, c) = self.lstm(x)\n",
    "        else:\n",
    "            x, (h, c) = self.lstm(x, (h0, c0))\n",
    "        if type(x) is torch.Tensor:\n",
    "            x = x[:, -1, :]\n",
    "        elif type(x) is nn.utils.rnn.PackedSequence:\n",
    "            # x is PackedSequence, need to get last timestep from each\n",
    "            x, lengths = nn.utils.rnn.pad_packed_sequence(x, batch_first=True)\n",
    "            idx = (\n",
    "                lengths.long() - 1\n",
    "            ).view(\n",
    "                -1, 1\n",
    "            ).expand(\n",
    "                len(lengths), x.size(2)\n",
    "            ).unsqueeze(1)\n",
    "            x = x.gather(1, idx).squeeze(1)\n",
    "        x = F.softmax(self.fc1(x), dim=1)\n",
    "        return x, (h, c)"
   ]
  },
  {
   "cell_type": "code",
   "execution_count": 349,
   "metadata": {},
   "outputs": [],
   "source": [
    "class Value(nn.Module):\n",
    "    def __init__(self, input_size=6, lstm_size=64):\n",
    "        super(Value, self).__init__()\n",
    "        self.lstm = nn.LSTM(input_size=input_size,\n",
    "                            hidden_size=lstm_size,\n",
    "                            num_layers=1,\n",
    "                            batch_first=True)\n",
    "        self.fc1 = nn.Linear(lstm_size, 1)\n",
    "\n",
    "    def forward(self, x, h0=None, c0=None):\n",
    "        \"\"\"Calculates the value from state x\n",
    "\n",
    "        Args:\n",
    "            x: The state of the pulse sequence. Either a tensor with\n",
    "                shape B*T*(num_actions + 1), or a packed sequence of states.\n",
    "        \"\"\"\n",
    "        if h0 is None or c0 is None:\n",
    "            x, (h, c) = self.lstm(x)\n",
    "        else:\n",
    "            x, (h, c) = self.lstm(x, (h0, c0))\n",
    "        if type(x) is torch.Tensor:\n",
    "            x = x[:, -1, :]\n",
    "        elif type(x) is nn.utils.rnn.PackedSequence:\n",
    "            # x is PackedSequence, need to get last timestep from each\n",
    "            x, lengths = nn.utils.rnn.pad_packed_sequence(x, batch_first=True)\n",
    "            idx = (\n",
    "                lengths.long() - 1\n",
    "            ).view(\n",
    "                -1, 1\n",
    "            ).expand(\n",
    "                len(lengths), x.size(2)\n",
    "            ).unsqueeze(1)\n",
    "            x = x.gather(1, idx).squeeze(1)\n",
    "        x = self.fc1(x)\n",
    "        return x, (h, c)"
   ]
  },
  {
   "cell_type": "code",
   "execution_count": 378,
   "metadata": {},
   "outputs": [],
   "source": [
    "policy = Policy(lstm_size=32)\n",
    "value = Value(lstm_size=32)"
   ]
  },
  {
   "cell_type": "code",
   "execution_count": 379,
   "metadata": {},
   "outputs": [],
   "source": [
    "policy_optimizer = optim.Adam(policy.parameters())\n",
    "value_optimizer = optim.Adam(value.parameters())"
   ]
  },
  {
   "cell_type": "markdown",
   "metadata": {},
   "source": [
    "TODO keep trying out different learning rates, see if that' enough to start learning\n",
    "then move on to different NN architectures, continue from there......."
   ]
  },
  {
   "cell_type": "code",
   "execution_count": 172,
   "metadata": {},
   "outputs": [],
   "source": [
    "# old_policy_loss = torch.as_tensor(100)\n",
    "# old_value_loss = torch.as_tensor(100)\n",
    "# for epoch in range(num_epochs):\n",
    "#     batch_num = 0\n",
    "#     for packed_states, probs, vals in iter(loader):\n",
    "#         print(f'on epoch {epoch}, batch {batch_num}', end='\\t')\n",
    "#         policy_optimizer.zero_grad()\n",
    "#         value_optimizer.zero_grad()\n",
    "#         policy_output, _ = policy(packed_states)\n",
    "#         value_outputs, _ = value(packed_states)\n",
    "#         policy_loss = -1 / batch_size * torch.sum(sample[1] * torch.log(policy_output))\n",
    "#         value_loss = F.mse_loss(value_outputs, sample[2])\n",
    "#         policy_loss.backward()\n",
    "#         policy_optimizer.step()\n",
    "#         value_loss.backward()\n",
    "#         value_optimizer.step()\n",
    "#         print(f'policy loss: {policy_loss}, value loss: {value_loss}')\n",
    "#         if old_policy_loss / policy_loss < 1.01:\n",
    "#             print(f'policy loss is less than 1% better ({old_policy_loss / policy_loss})')\n",
    "#         if old_value_loss / value_loss < 1.01:\n",
    "#             print(f'value loss is less than 1% better ({old_value_loss / value_loss})')\n",
    "#         old_policy_loss = policy_loss\n",
    "#         old_value_loss = value_loss\n",
    "#         batch_num += 1"
   ]
  },
  {
   "cell_type": "markdown",
   "metadata": {},
   "source": [
    "Some commentary... Seems like the training process flatlines with cross entropy loss around 1.6 and MSE loss around 0.3. Things to play around with...\n",
    "\n",
    "- changing network architecture\n",
    "- changing learning rate etc.\n",
    "\n",
    "LSTM hidden size 64 stagnated at policy loss: 1.606, value loss: 0.31"
   ]
  },
  {
   "cell_type": "markdown",
   "metadata": {},
   "source": [
    "### Network class: combining policy and value networks\n",
    "\n",
    "TODO add more residual layers (maybe??)"
   ]
  },
  {
   "cell_type": "code",
   "execution_count": 7,
   "metadata": {},
   "outputs": [],
   "source": [
    "class Network(nn.Module):\n",
    "    \"\"\"A network with policy and value heads\n",
    "    \"\"\"\n",
    "    def __init__(self,\n",
    "                 input_size=6,\n",
    "                 rnn_size=64,\n",
    "                 fc_size=32,\n",
    "                 policy_output_size=5,\n",
    "                 value_output_size=1):\n",
    "        super(Network, self).__init__()\n",
    "        # define layers\n",
    "        self.gru = nn.GRU(\n",
    "            input_size=input_size,\n",
    "            hidden_size=rnn_size,\n",
    "            num_layers=1,\n",
    "            batch_first=True,\n",
    "            dropout=0,\n",
    "        )\n",
    "        self.batchnorm1 = nn.BatchNorm1d(rnn_size)\n",
    "        self.fc1 = nn.Linear(rnn_size, fc_size)\n",
    "        self.batchnorm2 = nn.BatchNorm1d(fc_size)\n",
    "        self.fc2 = nn.Linear(fc_size, fc_size)\n",
    "        self.batchnorm3 = nn.BatchNorm1d(fc_size)\n",
    "        self.policy = nn.Linear(fc_size, policy_output_size)\n",
    "        self.value = nn.Linear(fc_size, value_output_size)\n",
    "\n",
    "    def forward(self, x, h_0=None):\n",
    "        \"\"\"Calculates the policy and value from state x\n",
    "\n",
    "        Args:\n",
    "            x: The state of the pulse sequence. Either a tensor with\n",
    "                shape B*T*(num_actions + 1), or a packed sequence of states.\n",
    "        \"\"\"\n",
    "        # RNN layer\n",
    "        if h_0 is None:\n",
    "            x, h = self.gru(x)\n",
    "        else:\n",
    "            x, h = self.gru(x, h_0)\n",
    "        if type(x) is torch.Tensor:\n",
    "            x = x[:, -1, :]\n",
    "        elif type(x) is nn.utils.rnn.PackedSequence:\n",
    "            # x is PackedSequence, need to get last timestep from each\n",
    "            x, lengths = nn.utils.rnn.pad_packed_sequence(x, batch_first=True)\n",
    "            idx = (\n",
    "                lengths.long() - 1\n",
    "            ).view(-1, 1).expand(\n",
    "                len(lengths), x.size(2)\n",
    "            ).unsqueeze(1)\n",
    "            x = x.gather(1, idx).squeeze(1)\n",
    "        x = F.relu(self.batchnorm1(x))\n",
    "        # hidden residual layers\n",
    "        x = F.relu(self.batchnorm2(self.fc1(x)))\n",
    "        x = F.relu(self.batchnorm3(self.fc2(x)) + x)  # skip connection from '+ x'\n",
    "        policy = F.softmax(self.policy(x), dim=1)\n",
    "        value = self.value(x)\n",
    "        return policy, value, h"
   ]
  },
  {
   "cell_type": "code",
   "execution_count": 8,
   "metadata": {},
   "outputs": [],
   "source": [
    "net = Network()\n",
    "# p, v, h = net(sample[0])"
   ]
  },
  {
   "cell_type": "code",
   "execution_count": 9,
   "metadata": {},
   "outputs": [],
   "source": [
    "net_optimizer = optim.Adam(net.parameters())"
   ]
  },
  {
   "cell_type": "markdown",
   "metadata": {},
   "source": [
    "Seems to take about 40 minibatches of size 2048 to get to stable learning. The MSE is the same as the variance of the data though, so it's not picking up on much information..."
   ]
  },
  {
   "cell_type": "code",
   "execution_count": 176,
   "metadata": {},
   "outputs": [],
   "source": [
    "for epoch in range(num_epochs):\n",
    "    batch_num = 0\n",
    "    for packed_states, probs, vals in iter(loader):\n",
    "        print(f'on epoch {epoch}, batch {batch_num}', end='\\t')\n",
    "        net_optimizer.zero_grad()\n",
    "        p, v, _ = net(packed_states)\n",
    "        policy_loss = -1 / batch_size * torch.sum(probs * torch.log(p))\n",
    "        value_loss = F.mse_loss(v, vals)\n",
    "        loss = policy_loss + value_loss\n",
    "        loss.backward()\n",
    "        net_optimizer.step()\n",
    "        print(f'policy loss: {policy_loss}, value loss: {value_loss}')\n",
    "        batch_num += 1"
   ]
  },
  {
   "cell_type": "markdown",
   "metadata": {},
   "source": [
    "## Shared memory\n",
    "\n",
    "I want the replay buffer and the neural network parameters to be shared between processes. I think pytorch's `torch.multiprocessing` module ([see here](https://pytorch.org/docs/stable/multiprocessing.html)) will be the best option. But there's very little documentation, they just point to the native `multiprocessing` module. Helpful...\n",
    "\n",
    "Also `multiprocessing` has a [shared memory module](https://docs.python.org/3/library/multiprocessing.shared_memory.html) that could work. But it looks pretty low-level, won't be super easy to implement.\n",
    "\n",
    "I'm reading through the `multiprocessing` module docs right now...\n",
    "\n",
    "Alright, I think what I want to do is to use `Manager()` and write a proxy class for the replay buffer. Then I instantiate a `ReplayBuffer` object with the maanger, and then each process gets a proxy that can read/write to it. See [the official docs](https://docs.python.org/3/library/multiprocessing.html#proxy-objects) and [this StackOverflow question](https://stackoverflow.com/questions/3671666/sharing-a-complex-object-between-processes) for help.\n",
    "\n",
    "Also check out [this pytorch doc](https://pytorch.org/docs/stable/notes/multiprocessing.html) for how to share a model's memory with multiple processes.\n",
    "\n",
    "# TODO\n",
    "\n",
    "- [ ] `f` is the MCTS worker process, `g` is the training process, l is the replay buffer and model is the network\n",
    "- [ ] See how `Value()` works, flesh out replay buffer functionality (write methods for it?)"
   ]
  },
  {
   "cell_type": "code",
   "execution_count": 212,
   "metadata": {},
   "outputs": [],
   "source": [
    "from multiprocessing import Process, Lock, Queue, Manager"
   ]
  },
  {
   "cell_type": "code",
   "execution_count": 13,
   "metadata": {},
   "outputs": [],
   "source": [
    "import torch.multiprocessing as mp\n",
    "from time import sleep"
   ]
  },
  {
   "cell_type": "code",
   "execution_count": 22,
   "metadata": {},
   "outputs": [],
   "source": [
    "buffer_size = 100"
   ]
  },
  {
   "cell_type": "code",
   "execution_count": 28,
   "metadata": {},
   "outputs": [],
   "source": [
    "def f(num, buffer, index, model):\n",
    "    print(f'in f {num}')\n",
    "    rng = np.random.default_rng()  # to make each process use different random numbers\n",
    "    state = rng.normal(size=(5, 10, 6))\n",
    "    state = torch.tensor(state).float()  # converts to float32 tensor\n",
    "#     print(state)\n",
    "    sleep(num)\n",
    "    print('trying to calculate result')\n",
    "    with torch.no_grad():  # no_grad so no backpropagation information is calculated/stored\n",
    "        # also don't have to detach tensors then\n",
    "        output = model(state)\n",
    "    print('appending...')\n",
    "#     with index.get_lock():\n",
    "    buffer[index.value] = output\n",
    "    index.value += 1\n",
    "    # TODO wrap around index if\n",
    "\n",
    "def g(buffer, index, model):\n",
    "    sleep(1.5)\n",
    "    print('got to g')\n",
    "    for i in range(5):\n",
    "        sleep(1)\n",
    "        # print(buffer)\n",
    "        print(index)\n",
    "        # print(model)\n",
    "\n",
    "\n",
    "if __name__ == '__main__':\n",
    "    with mp.Manager() as manager:\n",
    "        buffer = manager.list([None] * buffer_size)\n",
    "        index = manager.Value(typecode='i', value=0)\n",
    "        model = Network()\n",
    "        model.share_memory()\n",
    "        q = mp.Process(target=g, args=(buffer, index, model))\n",
    "        q.start()\n",
    "        workers = []\n",
    "        for i in range(4):\n",
    "            workers.append(mp.Process(target=f, args=(i, buffer, index, model)))\n",
    "            workers[-1].start()\n",
    "        q.join()\n",
    "        for w in workers:\n",
    "            w.join()\n",
    "        print(buffer)"
   ]
  },
  {
   "cell_type": "markdown",
   "metadata": {},
   "source": [
    "## DEBUG"
   ]
  },
  {
   "cell_type": "code",
   "execution_count": 16,
   "metadata": {},
   "outputs": [],
   "source": [
    "from time import sleep"
   ]
  },
  {
   "cell_type": "code",
   "execution_count": 17,
   "metadata": {},
   "outputs": [],
   "source": [
    "rng = np.random.default_rng()"
   ]
  },
  {
   "cell_type": "code",
   "execution_count": 35,
   "metadata": {},
   "outputs": [
    {
     "name": "stdout",
     "output_type": "stream",
     "text": [
      "in f 3\n",
      "in f 5\n",
      "in f 13\n",
      "in f 8\n",
      "in f 0\n",
      "in f 11in f 4\n",
      "\n",
      "in f 14\n",
      "in f 15\n",
      "in f 19\n",
      "in f 17\n",
      "in f 12\n",
      "in f 9\n",
      "in f 10\n",
      "in f 6\n",
      "in f 7\n",
      "in f 1\n",
      "in f 16\n",
      "in f 18\n",
      "in f 2\n",
      "[17, 12, 9, 10, 6, 7, 1, 16, 18, 2]\n",
      "<class 'multiprocessing.managers.ListProxy'>\n"
     ]
    }
   ],
   "source": [
    "def f(num, buffer, index, lock):\n",
    "    rng = np.random.default_rng()\n",
    "    sleep(rng.random() * 2)\n",
    "    print(f'in f {num}')\n",
    "    with lock:\n",
    "        if len(buffer) < 10:\n",
    "            buffer.append(num)\n",
    "            index.value += 1\n",
    "        else:\n",
    "            buffer[index.value] = num\n",
    "            index.value += 1\n",
    "        if index.value >= 10:\n",
    "            index.value = 0\n",
    "\n",
    "if __name__ == '__main__':\n",
    "    with mp.Manager() as manager:\n",
    "        buffer = manager.list()\n",
    "        index = manager.Value(typecode='i', value=0)\n",
    "        lock = manager.RLock()\n",
    "        workers = []\n",
    "        for i in range(20):\n",
    "            workers.append(mp.Process(target=f, args=(i, buffer, index, lock)))\n",
    "            workers[-1].start()\n",
    "        for w in workers:\n",
    "            w.join()\n",
    "        print(buffer)\n",
    "        print(type(buffer))\n",
    "        a = list(buffer)"
   ]
  },
  {
   "cell_type": "markdown",
   "metadata": {},
   "source": [
    "## Pull out well-performing pulse sequences"
   ]
  },
  {
   "cell_type": "code",
   "execution_count": 237,
   "metadata": {},
   "outputs": [],
   "source": [
    "candidate_idx = values.squeeze() > 2"
   ]
  },
  {
   "cell_type": "code",
   "execution_count": 241,
   "metadata": {},
   "outputs": [],
   "source": [
    "is_full_sequence = padded_states[1] == 48"
   ]
  },
  {
   "cell_type": "code",
   "execution_count": 245,
   "metadata": {},
   "outputs": [],
   "source": [
    "candidate_sequences = padded_states[0][candidate_idx * is_full_sequence]"
   ]
  },
  {
   "cell_type": "code",
   "execution_count": 297,
   "metadata": {},
   "outputs": [
    {
     "data": {
      "text/plain": [
       "tensor([2.0507, 2.1880, 2.0568, 2.3259, 2.0891, 2.0475, 2.0465, 2.0025, 2.0391,\n",
       "        2.4547, 2.0190, 2.0536, 2.0163, 2.4376, 2.1477, 2.0211, 2.0812, 2.0972,\n",
       "        2.0765, 2.1756, 2.5090, 2.0155, 2.1318])"
      ]
     },
     "execution_count": 297,
     "metadata": {},
     "output_type": "execute_result"
    }
   ],
   "source": [
    "values[candidate_idx * is_full_sequence].squeeze()"
   ]
  },
  {
   "cell_type": "code",
   "execution_count": 302,
   "metadata": {},
   "outputs": [
    {
     "data": {
      "text/plain": [
       "torch.Size([23, 48, 6])"
      ]
     },
     "execution_count": 302,
     "metadata": {},
     "output_type": "execute_result"
    }
   ],
   "source": [
    "candidate_sequences.shape"
   ]
  },
  {
   "cell_type": "code",
   "execution_count": 130,
   "metadata": {},
   "outputs": [],
   "source": [
    "ps_config = ps.PulseSequenceConfig(N=3, ensemble_size=10, max_sequence_length=48, Utarget=Utarget)"
   ]
  },
  {
   "cell_type": "code",
   "execution_count": 308,
   "metadata": {},
   "outputs": [],
   "source": [
    "candidates = []\n",
    "for i in range(candidate_sequences.size(0)):\n",
    "    sequence = list(torch.argmax(candidate_sequences[i,...], dim=1).numpy()[1:] - 1)\n",
    "    sequence += ps.get_valid_time_suspension_pulses(sequence, num_pulses=5, sequence_length=48)\n",
    "    fidelity = ps.get_mean_fidelity(sequence, Utarget, ps_config.pulses_ensemble)\n",
    "    reward = -np.log10(1 - fidelity + 1e-200)\n",
    "    candidates.append((sequence, reward))"
   ]
  },
  {
   "cell_type": "code",
   "execution_count": 318,
   "metadata": {},
   "outputs": [],
   "source": [
    "candidates.sort(key=lambda x: -x[1])"
   ]
  },
  {
   "cell_type": "code",
   "execution_count": 322,
   "metadata": {},
   "outputs": [
    {
     "name": "stdout",
     "output_type": "stream",
     "text": [
      "2.2353464312128435\n",
      "2.1204414626672023\n",
      "2.0665367613756347\n",
      "2.000438338687582\n",
      "1.9058772164486646\n"
     ]
    }
   ],
   "source": [
    "for i in range(5):\n",
    "    print(candidates[i][1])"
   ]
  },
  {
   "cell_type": "code",
   "execution_count": 134,
   "metadata": {},
   "outputs": [],
   "source": [
    "# compare with yxx48 sequence\n",
    "yxx48_fidelity = ps.get_mean_fidelity(ps.yxx48, Utarget, ps_config.pulses_ensemble)\n",
    "yxx48_reward = -np.log10(1 - yxx48_fidelity + 1e-200)"
   ]
  },
  {
   "cell_type": "code",
   "execution_count": 135,
   "metadata": {},
   "outputs": [
    {
     "data": {
      "text/plain": [
       "3.7053378424600925"
      ]
     },
     "execution_count": 135,
     "metadata": {},
     "output_type": "execute_result"
    }
   ],
   "source": [
    "yxx48_reward"
   ]
  },
  {
   "cell_type": "code",
   "execution_count": 149,
   "metadata": {},
   "outputs": [
    {
     "data": {
      "text/plain": [
       "2.301763111038954"
      ]
     },
     "execution_count": 149,
     "metadata": {},
     "output_type": "execute_result"
    }
   ],
   "source": [
    "fidelity = ps.get_mean_fidelity(ps.mcts48_5, Utarget, ps_config.pulses_ensemble)\n",
    "reward = -np.log10(1 - fidelity + 1e-200)\n",
    "reward"
   ]
  },
  {
   "cell_type": "code",
   "execution_count": 253,
   "metadata": {},
   "outputs": [],
   "source": [
    "names = ['\\\\tau', 'X,\\\\tau', '\\\\overline{X},\\\\tau', 'Y,\\\\tau', '\\\\overline{Y},\\\\tau']"
   ]
  },
  {
   "cell_type": "code",
   "execution_count": 257,
   "metadata": {},
   "outputs": [],
   "source": [
    "string = ''\n",
    "for j in range(4):\n",
    "    j = j * 12\n",
    "    string += ','.join([names[i] for i in ps.mcts48_5[j:(j+12)]]) + '\\n'"
   ]
  },
  {
   "cell_type": "code",
   "execution_count": 258,
   "metadata": {},
   "outputs": [
    {
     "name": "stdout",
     "output_type": "stream",
     "text": [
      "Y,2\\tau,\\overline{X},\\tau,\\overline{X},\\tau,Y,\\tau,\\overline{Y},2\\tau,Y,\\tau,\\overline{X},\\tau,Y,\\tau,\\overline{X},\\tau,Y,\\tau\n",
      "Y,\\tau,\\overline{X},\\tau,\\overline{X},\\tau,Y,\\tau,\\overline{X},\\tau,Y,\\tau,Y,\\tau,X,2\\tau,\\overline{Y},2\\tau,X,\\tau\n",
      "\\overline{Y},\\tau,Y,\\tau,Y,\\tau,Y,\\tau,Y,\\tau,X,2\\tau,Y,\\tau,\\overline{X},\\tau,Y,2\\tau,X,\\tau\n",
      "Y,2\\tau,\\tau,Y,2\\tau,Y,2\\tau,\\tau,X,2\\tau,2\\tau\n",
      "\n"
     ]
    }
   ],
   "source": [
    "print(string.replace('\\\\tau,\\\\tau', '2\\\\tau'))"
   ]
  },
  {
   "cell_type": "code",
   "execution_count": 150,
   "metadata": {},
   "outputs": [
    {
     "data": {
      "text/plain": [
       "0.9950084331828052"
      ]
     },
     "execution_count": 150,
     "metadata": {},
     "output_type": "execute_result"
    }
   ],
   "source": [
    "fidelity"
   ]
  },
  {
   "cell_type": "code",
   "execution_count": 154,
   "metadata": {},
   "outputs": [
    {
     "data": {
      "text/plain": [
       "1.431798275933006"
      ]
     },
     "execution_count": 154,
     "metadata": {},
     "output_type": "execute_result"
    }
   ],
   "source": [
    "-np.log10(1-np.mean([.9, .99, .999]))"
   ]
  },
  {
   "cell_type": "code",
   "execution_count": 155,
   "metadata": {},
   "outputs": [
    {
     "data": {
      "text/plain": [
       "array([1., 2., 3.])"
      ]
     },
     "execution_count": 155,
     "metadata": {},
     "output_type": "execute_result"
    }
   ],
   "source": [
    "-np.log10(1-np.array([.9, .99, .999]))"
   ]
  },
  {
   "cell_type": "code",
   "execution_count": null,
   "metadata": {},
   "outputs": [],
   "source": []
  }
 ],
 "metadata": {
  "kernelspec": {
   "display_name": "Python 3",
   "language": "python",
   "name": "python3"
  },
  "language_info": {
   "codemirror_mode": {
    "name": "ipython",
    "version": 3
   },
   "file_extension": ".py",
   "mimetype": "text/x-python",
   "name": "python",
   "nbconvert_exporter": "python",
   "pygments_lexer": "ipython3",
   "version": "3.7.9"
  }
 },
 "nbformat": 4,
 "nbformat_minor": 4
}
