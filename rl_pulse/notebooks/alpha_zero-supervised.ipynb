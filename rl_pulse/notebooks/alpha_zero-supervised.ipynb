{
 "cells": [
  {
   "cell_type": "markdown",
   "metadata": {},
   "source": [
    "# AlphaZero supervised learning\n",
    "_Will Kaufman, January 2021_\n",
    "\n",
    "This is simply to generate training data and do supervised learning so I can test different neural network designs, and to make sure it can actually learn from the data."
   ]
  },
  {
   "cell_type": "code",
   "execution_count": 128,
   "metadata": {},
   "outputs": [],
   "source": [
    "import qutip as qt\n",
    "import numpy as np\n",
    "import sys\n",
    "import os\n",
    "import multiprocessing as mp\n",
    "import importlib\n",
    "import matplotlib.pyplot as plt\n",
    "\n",
    "import torch\n",
    "import torch.nn.functional as F\n",
    "from torch import optim\n",
    "from torch.utils.data import Dataset, DataLoader"
   ]
  },
  {
   "cell_type": "code",
   "execution_count": 2,
   "metadata": {},
   "outputs": [],
   "source": [
    "sys.path.append(os.path.abspath('..'))\n",
    "import pulse_sequences as ps\n",
    "import alpha_zero as az"
   ]
  },
  {
   "cell_type": "code",
   "execution_count": 3,
   "metadata": {},
   "outputs": [],
   "source": [
    "# importlib.reload(az)\n",
    "# importlib.reload(ps)"
   ]
  },
  {
   "cell_type": "markdown",
   "metadata": {},
   "source": [
    "## Define hyperparameters"
   ]
  },
  {
   "cell_type": "code",
   "execution_count": 221,
   "metadata": {},
   "outputs": [],
   "source": [
    "num_cores = 2  # 32\n",
    "num_collect_initial = 2  # 5000\n",
    "\n",
    "max_sequence_length = 48\n",
    "batch_size = 2048\n",
    "num_epochs = 10\n",
    "num_batches = 46"
   ]
  },
  {
   "cell_type": "markdown",
   "metadata": {},
   "source": [
    "## Define the spin system"
   ]
  },
  {
   "cell_type": "code",
   "execution_count": 4,
   "metadata": {},
   "outputs": [],
   "source": [
    "delay = 1e-2  # time is relative to chemical shift strength\n",
    "pulse_width = 1e-3\n",
    "N = 3  # number of spins\n",
    "ensemble_size = 5"
   ]
  },
  {
   "cell_type": "code",
   "execution_count": 5,
   "metadata": {},
   "outputs": [],
   "source": [
    "Utarget = qt.tensor([qt.identity(2)] * N)"
   ]
  },
  {
   "cell_type": "code",
   "execution_count": 6,
   "metadata": {},
   "outputs": [],
   "source": [
    "rb = az.ReplayBuffer(int(1e5))"
   ]
  },
  {
   "cell_type": "markdown",
   "metadata": {},
   "source": [
    "## Get data and save to file"
   ]
  },
  {
   "cell_type": "code",
   "execution_count": 7,
   "metadata": {},
   "outputs": [],
   "source": [
    "def collect_data_no_net(x):\n",
    "#     print(f'collecting data without network ({x})')\n",
    "    config = az.Config()\n",
    "    ps_config = ps.PulseSequenceConfig(N=N, ensemble_size=ensemble_size,\n",
    "                                       max_sequence_length=max_sequence_length,\n",
    "                                       Utarget=Utarget,\n",
    "                                       pulse_width=pulse_width, delay=delay)\n",
    "    return az.make_sequence(config, ps_config, network=None, rng=ps_config.rng)"
   ]
  },
  {
   "cell_type": "code",
   "execution_count": 8,
   "metadata": {},
   "outputs": [],
   "source": [
    "with mp.Pool(num_cores) as pool:\n",
    "    output = pool.map(collect_data_no_net, range(num_collect_initial))\n",
    "for stat in output:\n",
    "    az.add_stats_to_buffer(stat, rb)"
   ]
  },
  {
   "cell_type": "code",
   "execution_count": 13,
   "metadata": {},
   "outputs": [],
   "source": [
    "states, probabilities, values = zip(*rb.buffer)"
   ]
  },
  {
   "cell_type": "code",
   "execution_count": 19,
   "metadata": {},
   "outputs": [],
   "source": [
    "packed_states = az.pad_and_pack(states)\n",
    "probabilities = torch.cat(probabilities).view(len(rb), -1)\n",
    "values = torch.cat(values).view(len(rb), -1)"
   ]
  },
  {
   "cell_type": "code",
   "execution_count": 30,
   "metadata": {},
   "outputs": [],
   "source": [
    "torch.save(packed_states, 'states.pt')\n",
    "torch.save(probabilities, 'probabilities.pt')\n",
    "torch.save(values, 'values.pt')"
   ]
  },
  {
   "cell_type": "code",
   "execution_count": 31,
   "metadata": {},
   "outputs": [],
   "source": [
    "# len(rb)"
   ]
  },
  {
   "cell_type": "markdown",
   "metadata": {},
   "source": [
    "## Supervised learning from data"
   ]
  },
  {
   "cell_type": "code",
   "execution_count": 33,
   "metadata": {},
   "outputs": [],
   "source": [
    "policy = az.Policy()\n",
    "value = az.Value()"
   ]
  },
  {
   "cell_type": "code",
   "execution_count": 36,
   "metadata": {},
   "outputs": [],
   "source": [
    "packed_states = torch.load('states.pt')"
   ]
  },
  {
   "cell_type": "code",
   "execution_count": 112,
   "metadata": {},
   "outputs": [],
   "source": [
    "padded_states = torch.nn.utils.rnn.pad_packed_sequence(packed_states, batch_first=True)"
   ]
  },
  {
   "cell_type": "code",
   "execution_count": 46,
   "metadata": {},
   "outputs": [],
   "source": [
    "probabilities = torch.load('probabilities.pt')\n",
    "values = torch.load('values.pt')"
   ]
  },
  {
   "cell_type": "code",
   "execution_count": 140,
   "metadata": {},
   "outputs": [],
   "source": [
    "class PulseSequenceDataset(Dataset):\n",
    "    def __init__(self, padded_states, probabilities, values):\n",
    "        super().__init__()\n",
    "        self.padded_states = padded_states\n",
    "        self.probabilities = probabilities\n",
    "        self.values = values\n",
    "    \n",
    "    def __getitem__(self, idx):\n",
    "        return (self.padded_states[0][idx, ...],\n",
    "                self.padded_states[1][idx, ...],\n",
    "                self.probabilities[idx, ...],\n",
    "                self.values[idx, ...])\n",
    "    \n",
    "    def __len__(self):\n",
    "        return self.values.size(0)"
   ]
  },
  {
   "cell_type": "code",
   "execution_count": 141,
   "metadata": {},
   "outputs": [],
   "source": [
    "dataset = PulseSequenceDataset(padded_states, probabilities, values)"
   ]
  },
  {
   "cell_type": "code",
   "execution_count": 179,
   "metadata": {},
   "outputs": [],
   "source": [
    "def collate_fn(data):\n",
    "    states, lengths, probs, vals = zip(*data)\n",
    "    states = torch.stack(states)\n",
    "    lengths = torch.stack(lengths)\n",
    "    packed_states = torch.nn.utils.rnn.pack_padded_sequence(states, lengths,\n",
    "                                                            batch_first=True,\n",
    "                                                            enforce_sorted=False)\n",
    "    probs = torch.stack(probs)\n",
    "    vals = torch.stack(vals)\n",
    "    return packed_states, probs, vals"
   ]
  },
  {
   "cell_type": "code",
   "execution_count": 216,
   "metadata": {},
   "outputs": [],
   "source": [
    "loader = DataLoader(dataset, batch_size=batch_size, shuffle=True, collate_fn=collate_fn, drop_last=True)"
   ]
  },
  {
   "cell_type": "code",
   "execution_count": 217,
   "metadata": {},
   "outputs": [],
   "source": [
    "sample = next(iter(loader))"
   ]
  },
  {
   "cell_type": "code",
   "execution_count": 193,
   "metadata": {},
   "outputs": [],
   "source": [
    "policy_outputs, _ = policy(sample[0])"
   ]
  },
  {
   "cell_type": "code",
   "execution_count": 78,
   "metadata": {},
   "outputs": [
    {
     "data": {
      "text/plain": [
       "(array([ 1308.,     0.,     0.,     0.,     0.,     0.,     0.,     0.,\n",
       "            0.,     0.,     0.,     0.,     0.,     0., 28320., 34896.,\n",
       "         3552.,     0.,    48.,   528.,   480.,   624.,   720.,  1248.,\n",
       "         1536.,  1728.,  2256.,  1680.,  2112.,  1104.,  2160.,  1632.,\n",
       "         1296.,  1776.,  1152.,  1104.,   528.,   624.,   432.,   672.,\n",
       "          480.,   624.,   384.,   480.,   192.,    96.,     0.,    48.,\n",
       "           48.,    96.]),\n",
       " array([-1.        , -0.92981917, -0.85963833, -0.78945744, -0.7192766 ,\n",
       "        -0.6490958 , -0.57891494, -0.5087341 , -0.43855324, -0.36837238,\n",
       "        -0.29819155, -0.2280107 , -0.15782985, -0.08764901, -0.01746817,\n",
       "         0.05271268,  0.12289353,  0.19307438,  0.2632552 ,  0.33343607,\n",
       "         0.4036169 ,  0.47379774,  0.5439786 ,  0.61415946,  0.6843403 ,\n",
       "         0.75452113,  0.82470196,  0.8948828 ,  0.9650637 ,  1.0352445 ,\n",
       "         1.1054254 ,  1.1756063 ,  1.245787  ,  1.3159679 ,  1.3861487 ,\n",
       "         1.4563296 ,  1.5265105 ,  1.5966913 ,  1.6668721 ,  1.7370529 ,\n",
       "         1.8072338 ,  1.8774147 ,  1.9475955 ,  2.0177763 ,  2.0879571 ,\n",
       "         2.158138  ,  2.228319  ,  2.2984998 ,  2.3686805 ,  2.4388614 ,\n",
       "         2.5090423 ], dtype=float32),\n",
       " <BarContainer object of 50 artists>)"
      ]
     },
     "execution_count": 78,
     "metadata": {},
     "output_type": "execute_result"
    },
    {
     "data": {
      "image/png": "[encoded data removed]",
      "text/plain": [
       "<Figure size 460.8x345.6 with 1 Axes>"
      ]
     },
     "metadata": {
      "needs_background": "light"
     },
     "output_type": "display_data"
    }
   ],
   "source": [
    "plt.hist(values.numpy(), bins=50)"
   ]
  },
  {
   "cell_type": "markdown",
   "metadata": {},
   "source": [
    "## Optimize networks with dataset"
   ]
  },
  {
   "cell_type": "code",
   "execution_count": 102,
   "metadata": {},
   "outputs": [],
   "source": [
    "policy_optimizer = optim.Adam(policy.parameters())\n",
    "value_optimizer = optim.Adam(value.parameters())"
   ]
  },
  {
   "cell_type": "code",
   "execution_count": 226,
   "metadata": {},
   "outputs": [],
   "source": [
    "for epoch in range(num_epochs):\n",
    "    batch_num = 0\n",
    "    for packed_states, probs, vals in iter(loader):\n",
    "        print(f'on epoch {epoch}, batch {batch_num}', end='\\t')\n",
    "        policy_optimizer.zero_grad()\n",
    "        value_optimizer.zero_grad()\n",
    "        policy_output, _ = policy(packed_states)\n",
    "        value_outputs, _ = value(packed_states)\n",
    "        policy_loss = -1 / batch_size * torch.sum(sample[1] * torch.log(policy_output))\n",
    "        value_loss = F.mse_loss(value_outputs, sample[2])\n",
    "        policy_loss.backward()\n",
    "        policy_optimizer.step()\n",
    "        value_loss.backward()\n",
    "        value_optimizer.step()\n",
    "        print(f'policy loss: {policy_loss}, value loss: {value_loss}')\n",
    "        batch_num += 1"
   ]
  },
  {
   "cell_type": "markdown",
   "metadata": {},
   "source": [
    "Some commentary... Seems like the training process flatlines with cross entropy loss around 1.6 and MSE loss around 0.3. Things to play around with...\n",
    "\n",
    "- training for more epochs\n",
    "- changing network architecture\n",
    "- changing learning rate etc."
   ]
  },
  {
   "cell_type": "markdown",
   "metadata": {},
   "source": [
    "## Pull out well-performing pulse sequences"
   ]
  },
  {
   "cell_type": "code",
   "execution_count": 237,
   "metadata": {},
   "outputs": [],
   "source": [
    "candidate_idx = values.squeeze() > 2"
   ]
  },
  {
   "cell_type": "code",
   "execution_count": 241,
   "metadata": {},
   "outputs": [],
   "source": [
    "is_full_sequence = padded_states[1] == 48"
   ]
  },
  {
   "cell_type": "code",
   "execution_count": 245,
   "metadata": {},
   "outputs": [],
   "source": [
    "candidate_sequences = padded_states[0][candidate_idx * is_full_sequence]"
   ]
  },
  {
   "cell_type": "code",
   "execution_count": 297,
   "metadata": {},
   "outputs": [
    {
     "data": {
      "text/plain": [
       "tensor([2.0507, 2.1880, 2.0568, 2.3259, 2.0891, 2.0475, 2.0465, 2.0025, 2.0391,\n",
       "        2.4547, 2.0190, 2.0536, 2.0163, 2.4376, 2.1477, 2.0211, 2.0812, 2.0972,\n",
       "        2.0765, 2.1756, 2.5090, 2.0155, 2.1318])"
      ]
     },
     "execution_count": 297,
     "metadata": {},
     "output_type": "execute_result"
    }
   ],
   "source": [
    "values[candidate_idx * is_full_sequence].squeeze()"
   ]
  },
  {
   "cell_type": "code",
   "execution_count": 302,
   "metadata": {},
   "outputs": [
    {
     "data": {
      "text/plain": [
       "torch.Size([23, 48, 6])"
      ]
     },
     "execution_count": 302,
     "metadata": {},
     "output_type": "execute_result"
    }
   ],
   "source": [
    "candidate_sequences.shape"
   ]
  },
  {
   "cell_type": "code",
   "execution_count": 293,
   "metadata": {},
   "outputs": [],
   "source": [
    "ps_config = ps.PulseSequenceConfig(N=3, ensemble_size=10, max_sequence_length=48, Utarget=Utarget)"
   ]
  },
  {
   "cell_type": "code",
   "execution_count": 308,
   "metadata": {},
   "outputs": [],
   "source": [
    "candidates = []\n",
    "for i in range(candidate_sequences.size(0)):\n",
    "    sequence = list(torch.argmax(candidate_sequences[i,...], dim=1).numpy()[1:] - 1)\n",
    "    sequence += ps.get_valid_time_suspension_pulses(sequence, num_pulses=5, sequence_length=48)\n",
    "    fidelity = ps.get_mean_fidelity(sequence, Utarget, ps_config.pulses_ensemble)\n",
    "    reward = -np.log10(1 - fidelity + 1e-200)\n",
    "    candidates.append((sequence, reward))"
   ]
  },
  {
   "cell_type": "code",
   "execution_count": 318,
   "metadata": {},
   "outputs": [],
   "source": [
    "candidates.sort(key=lambda x: -x[1])"
   ]
  },
  {
   "cell_type": "code",
   "execution_count": 322,
   "metadata": {},
   "outputs": [
    {
     "name": "stdout",
     "output_type": "stream",
     "text": [
      "2.2353464312128435\n",
      "2.1204414626672023\n",
      "2.0665367613756347\n",
      "2.000438338687582\n",
      "1.9058772164486646\n"
     ]
    }
   ],
   "source": [
    "for i in range(5):\n",
    "    print(candidates[i][1])"
   ]
  },
  {
   "cell_type": "code",
   "execution_count": 324,
   "metadata": {},
   "outputs": [],
   "source": [
    "# compare with yxx48 sequence\n",
    "fidelity = ps.get_mean_fidelity(ps.yxx48, Utarget, ps_config.pulses_ensemble)\n",
    "reward = -np.log10(1 - fidelity + 1e-200)"
   ]
  },
  {
   "cell_type": "code",
   "execution_count": 325,
   "metadata": {},
   "outputs": [
    {
     "data": {
      "text/plain": [
       "3.45639989073415"
      ]
     },
     "execution_count": 325,
     "metadata": {},
     "output_type": "execute_result"
    }
   ],
   "source": [
    "reward"
   ]
  },
  {
   "cell_type": "code",
   "execution_count": null,
   "metadata": {},
   "outputs": [],
   "source": []
  }
 ],
 "metadata": {
  "kernelspec": {
   "display_name": "Python 3",
   "language": "python",
   "name": "python3"
  },
  "language_info": {
   "codemirror_mode": {
    "name": "ipython",
    "version": 3
   },
   "file_extension": ".py",
   "mimetype": "text/x-python",
   "name": "python",
   "nbconvert_exporter": "python",
   "pygments_lexer": "ipython3",
   "version": "3.7.9"
  }
 },
 "nbformat": 4,
 "nbformat_minor": 4
}
