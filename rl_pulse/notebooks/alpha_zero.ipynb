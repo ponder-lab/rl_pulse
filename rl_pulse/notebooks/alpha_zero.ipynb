{
 "cells": [
  {
   "cell_type": "markdown",
   "metadata": {},
   "source": [
    "# AlphaZero implementation for pulse sequence design\n",
    "_Will Kaufman, December 2020_\n",
    "\n",
    "[Dalgaard et. al. (2020)](https://www.nature.com/articles/s41534-019-0241-0) applied this approach to constructing shaped pulses (as I understand it), but in theory this should be as applicable to pulse sequence design, if not more so. The original [AlphaZero paper](https://science.sciencemag.org/content/362/6419/1140.full) is here.\n",
    "\n",
    "The general idea behind AlphaZero (as I understand it) is to do a \"smart\" tree search that balances previous knowledge (the policy), curiosity in unexplored branches, and high-value branches. My thought is that this can be improved with AHT (i.e. knowing that by the end of the pulse sequence, the pulse sequence must be cyclic (the overall frame transformation must be identity) and there must be equal times spent on each axis). This will provide a hard constraint that will (hopefully) speed up search."
   ]
  },
  {
   "cell_type": "code",
   "execution_count": null,
   "metadata": {},
   "outputs": [],
   "source": [
    "import qutip as qt\n",
    "import numpy as np\n",
    "from scipy.spatial.transform import Rotation\n",
    "import matplotlib.pyplot as plt"
   ]
  },
  {
   "cell_type": "markdown",
   "metadata": {},
   "source": [
    "## Define the spin system"
   ]
  },
  {
   "cell_type": "code",
   "execution_count": null,
   "metadata": {},
   "outputs": [],
   "source": [
    "delay = 1e-2  # time is relative to chemical shift strength\n",
    "pulse_width = 5e-3\n",
    "N = 3  # number of spins"
   ]
  },
  {
   "cell_type": "code",
   "execution_count": null,
   "metadata": {},
   "outputs": [],
   "source": [
    "def get_Hsys(dipolar_strength=1e-2):\n",
    "    chemical_shifts = 2*np.pi * np.random.normal(scale=1, size=(N,))\n",
    "    Hcs = sum(\n",
    "        [qt.tensor(\n",
    "            [qt.identity(2)]*i\n",
    "            + [chemical_shifts[i] * qt.sigmaz()]\n",
    "            + [qt.identity(2)]*(N-i-1)\n",
    "        ) for i in range(N)]\n",
    "    )\n",
    "    # dipolar interactions\n",
    "    dipolar_matrix = 2*np.pi * np.random.normal(scale=dipolar_strength, size=(N, N))\n",
    "    Hdip = sum([\n",
    "        dipolar_matrix[i, j] * (\n",
    "            2 * qt.tensor(\n",
    "                [qt.identity(2)]*i\n",
    "                + [qt.sigmaz()]\n",
    "                + [qt.identity(2)]*(j-i-1)\n",
    "                + [qt.sigmaz()]\n",
    "                + [qt.identity(2)]*(N-j-1)\n",
    "            )\n",
    "            - qt.tensor(\n",
    "                [qt.identity(2)]*i\n",
    "                + [qt.sigmax()]\n",
    "                + [qt.identity(2)]*(j-i-1)\n",
    "                + [qt.sigmax()]\n",
    "                + [qt.identity(2)]*(N-j-1)\n",
    "            )\n",
    "            - qt.tensor(\n",
    "                [qt.identity(2)]*i\n",
    "                + [qt.sigmay()]\n",
    "                + [qt.identity(2)]*(j-i-1)\n",
    "                + [qt.sigmay()]\n",
    "                + [qt.identity(2)]*(N-j-1)\n",
    "            )\n",
    "        )\n",
    "        for i in range(N) for j in range(i+1, N)\n",
    "    ])\n",
    "    return Hcs + Hdip"
   ]
  },
  {
   "cell_type": "code",
   "execution_count": null,
   "metadata": {},
   "outputs": [],
   "source": [
    "def get_pulses(Hsys, X, Y, Z, pulse_width, delay, rot_error=0):\n",
    "    rot = np.random.normal(scale=rot_error)\n",
    "    pulses = [\n",
    "        qt.propagator(Hsys, pulse_width),\n",
    "        qt.propagator(X * (np.pi/2) * (1 + rot) / pulse_width + Hsys, pulse_width),\n",
    "        qt.propagator(-X * (np.pi/2) * (1 + rot) / pulse_width + Hsys, pulse_width),\n",
    "        qt.propagator(Y * (np.pi/2) * (1 + rot) / pulse_width + Hsys, pulse_width),\n",
    "        qt.propagator(-Y * (np.pi/2) * (1 + rot) / pulse_width + Hsys, pulse_width),\n",
    "#         qt.propagator(Z * (np.pi/2) * (1 + rot) / pulse_width + Hsys, pulse_width),\n",
    "#         qt.propagator(-Z * (np.pi/2) * (1 + rot) / pulse_width + Hsys, pulse_width),\n",
    "    ]\n",
    "    delay_propagator = qt.propagator(Hsys, delay)\n",
    "    pulses = [delay_propagator * i for i in pulses]\n",
    "    return pulses"
   ]
  },
  {
   "cell_type": "code",
   "execution_count": null,
   "metadata": {},
   "outputs": [],
   "source": [
    "pulse_names = [\n",
    "    'd', 'x', '-x', 'y', '-y', #'z', '-z'\n",
    "]"
   ]
  },
  {
   "cell_type": "code",
   "execution_count": null,
   "metadata": {},
   "outputs": [],
   "source": [
    "def pulse_sequence_string(pulse_sequence):\n",
    "    \"\"\"Return a string that correspond to pulse sequence\n",
    "    \"\"\"\n",
    "    pulse_list = ','.join([pulse_names[i] for i in pulse_sequence])\n",
    "    return pulse_list"
   ]
  },
  {
   "cell_type": "code",
   "execution_count": null,
   "metadata": {},
   "outputs": [],
   "source": [
    "def get_pulse_sequence(string):\n",
    "    \"\"\"Returns a list of integers for the pulse sequence\n",
    "    \"\"\"\n",
    "    chars = string.split(',')\n",
    "    pulse_sequence = [pulse_names.index(c) for c in chars]\n",
    "    return pulse_sequence"
   ]
  },
  {
   "cell_type": "code",
   "execution_count": null,
   "metadata": {},
   "outputs": [],
   "source": [
    "def get_propagator(pulse_sequence, pulses):\n",
    "    propagator = qt.identity(pulses[0].dims[0])\n",
    "    for p in pulse_sequence:\n",
    "        propagator = pulses[p] * propagator\n",
    "    return propagator"
   ]
  },
  {
   "cell_type": "code",
   "execution_count": null,
   "metadata": {},
   "outputs": [],
   "source": [
    "X = sum(\n",
    "    [qt.tensor(\n",
    "        [qt.identity(2)]*i\n",
    "        + [qt.spin_Jx(1/2)]\n",
    "        + [qt.identity(2)]*(N-i-1)\n",
    "    ) for i in range(N)]\n",
    ")\n",
    "Y = sum(\n",
    "    [qt.tensor(\n",
    "        [qt.identity(2)]*i\n",
    "        + [qt.spin_Jy(1/2)]\n",
    "        + [qt.identity(2)]*(N-i-1)\n",
    "    ) for i in range(N)]\n",
    ")\n",
    "Z = sum(\n",
    "    [qt.tensor(\n",
    "        [qt.identity(2)]*i\n",
    "        + [qt.spin_Jz(1/2)]\n",
    "        + [qt.identity(2)]*(N-i-1)\n",
    "    ) for i in range(N)]\n",
    ")"
   ]
  },
  {
   "cell_type": "code",
   "execution_count": null,
   "metadata": {},
   "outputs": [],
   "source": [
    "Hsys_ensemble = [get_Hsys() for _ in range(5)]\n",
    "pulses_ensemble = [\n",
    "    get_pulses(H, X, Y, Z, pulse_width, delay, rot_error=0.01) for H in Hsys_ensemble\n",
    "]"
   ]
  },
  {
   "cell_type": "code",
   "execution_count": null,
   "metadata": {},
   "outputs": [],
   "source": [
    "Utarget = qt.identity(Hsys_ensemble[0].dims[0])"
   ]
  },
  {
   "cell_type": "markdown",
   "metadata": {},
   "source": [
    "## Pulse sequences"
   ]
  },
  {
   "cell_type": "code",
   "execution_count": null,
   "metadata": {},
   "outputs": [],
   "source": [
    "ideal6 = [3, 1, 1, 3, 2, 2]\n",
    "yxx24 = [4, 1, 2, 3, 2, 2, 3, 2, 1, 4, 1, 1, 3, 2, 1, 4, 1, 1, 4, 1, 2, 3, 2, 2]\n",
    "yxx48 = [\n",
    "    3, 2, 2, 3, 2, 2, 4, 1, 1, 3, 2, 2, 4, 1, 1, 4, 1, 1, 3, 2, 2, 3, 2, 2,\n",
    "    4, 1, 1, 3, 2, 2, 4, 1, 1, 4, 1, 1, 3, 2, 2, 4, 1, 1, 3, 2, 2, 4, 1, 1\n",
    "]\n",
    "\n",
    "# brute-force search\n",
    "bf6 = [1, 1, 3, 1, 1, 3]\n",
    "bf12 = [1, 1, 4, 1, 1, 4, 2, 2, 4, 2, 2, 4]\n",
    "bfr12 = [1, 4, 4, 1, 4, 4, 1, 3, 3, 1, 3, 3]"
   ]
  },
  {
   "cell_type": "markdown",
   "metadata": {},
   "source": [
    "## Average Hamiltonian theory\n",
    "\n",
    "To keep track of the average Hamiltonian (to lowest order), I'm defining a frame matrix and applying rotation matrices to the frame matrix, then determining how $I_z$ transforms during the pulse sequence. The last row in the frame matrix corresponds to the current transformed value of $I_z$."
   ]
  },
  {
   "cell_type": "code",
   "execution_count": null,
   "metadata": {},
   "outputs": [],
   "source": [
    "rots = [\n",
    "    np.eye(3),\n",
    "    np.round(Rotation.from_euler('x', 90, degrees=True).as_matrix()),\n",
    "    np.round(Rotation.from_euler('x', -90, degrees=True).as_matrix()),\n",
    "    np.round(Rotation.from_euler('y', 90, degrees=True).as_matrix()),\n",
    "    np.round(Rotation.from_euler('y', -90, degrees=True).as_matrix()),\n",
    "#     np.round(Rotation.from_euler('z', 90, degrees=True).as_matrix()),\n",
    "#     np.round(Rotation.from_euler('z', -90, degrees=True).as_matrix()),\n",
    "]"
   ]
  },
  {
   "cell_type": "code",
   "execution_count": null,
   "metadata": {},
   "outputs": [],
   "source": [
    "def get_rotation(pulse_sequence):\n",
    "    frame = np.eye(3)\n",
    "    for p in pulse_sequence:\n",
    "        frame = rots[p] @ frame\n",
    "    return frame"
   ]
  },
  {
   "cell_type": "code",
   "execution_count": null,
   "metadata": {},
   "outputs": [],
   "source": [
    "def is_cyclic(pulse_sequence):\n",
    "    frame = get_rotation(pulse_sequence)\n",
    "    return (frame == np.eye(3)).all()"
   ]
  },
  {
   "cell_type": "code",
   "execution_count": null,
   "metadata": {},
   "outputs": [],
   "source": [
    "def count_axes(pulse_sequence):\n",
    "    axes_counts = [0] * 6\n",
    "    frame = np.eye(3)\n",
    "    for p in pulse_sequence:\n",
    "        frame = rots[p] @ frame\n",
    "        axis = np.where(frame[-1,:])[0][0]\n",
    "        is_negative = np.sum(frame[-1,:]) < 0\n",
    "        axes_counts[axis + 3*is_negative] += 1\n",
    "    return axes_counts"
   ]
  },
  {
   "cell_type": "code",
   "execution_count": null,
   "metadata": {},
   "outputs": [],
   "source": [
    "count_axes([0,1,4,0,3,2])"
   ]
  },
  {
   "cell_type": "code",
   "execution_count": null,
   "metadata": {},
   "outputs": [],
   "source": [
    "count_axes(get_pulse_sequence('d,x,-y,d,y,-x'))  # WHH-4"
   ]
  },
  {
   "cell_type": "code",
   "execution_count": null,
   "metadata": {},
   "outputs": [],
   "source": [
    "count_axes(yxx48)"
   ]
  },
  {
   "cell_type": "code",
   "execution_count": null,
   "metadata": {},
   "outputs": [],
   "source": [
    "def is_valid_dd(subsequence, sequence_length):\n",
    "    \"\"\"Checks if the pulse subsequence allows for dynamical decoupling of\n",
    "        dipolar interactions (i.e. equal time spent on each axis)\n",
    "    \"\"\"\n",
    "    axes_counts = count_axes(subsequence)\n",
    "    (x, y, z) = [axes_counts[i] + axes_counts[i+3] for i in range(3)]\n",
    "    # time on each axis isn't more than is allowed for dd\n",
    "    return (np.array([x, y, z]) <= sequence_length / 3).all()"
   ]
  },
  {
   "cell_type": "code",
   "execution_count": null,
   "metadata": {},
   "outputs": [],
   "source": [
    "def is_valid_time_suspension(subsequence, sequence_length):\n",
    "    \"\"\"Checks if the pulse subsequence allows for dynamical decoupling of\n",
    "        all interactions (i.e. equal time spent on each ± axis)\n",
    "    \"\"\"\n",
    "    axes_counts = count_axes(subsequence)\n",
    "    # time on each axis isn't more than is allowed for dd\n",
    "    return (np.array(axes_counts) <= sequence_length / 6).all()"
   ]
  },
  {
   "cell_type": "code",
   "execution_count": null,
   "metadata": {},
   "outputs": [],
   "source": [
    "def get_valid_time_suspension_pulses(subsequence, pulse_names, sequence_length):\n",
    "    valid_pulses = []\n",
    "    for p in range(len(pulse_names)):\n",
    "        if is_valid_time_suspension(subsequence + [p], sequence_length):\n",
    "            valid_pulses.append(p)\n",
    "    return valid_pulses"
   ]
  },
  {
   "cell_type": "code",
   "execution_count": null,
   "metadata": {},
   "outputs": [],
   "source": [
    "a = get_valid_time_suspension_pulses([0,1,1,], pulse_names, 6)"
   ]
  },
  {
   "cell_type": "markdown",
   "metadata": {},
   "source": [
    "## Tree search\n",
    "\n",
    "Define nodes that can be used for tree search, with additional constraints that the lowest-order average Hamiltonian matches the desired Hamiltonian."
   ]
  },
  {
   "cell_type": "code",
   "execution_count": null,
   "metadata": {},
   "outputs": [],
   "source": [
    "# class Node(object):\n",
    "#     \"\"\"A node of the pulse sequence tree. Each node has a particular\n",
    "#     sequence of pulses applied so far.\n",
    "#     \"\"\"\n",
    "    \n",
    "#     def __init__(\n",
    "#             self,\n",
    "#             propagators,\n",
    "#             sequence=[],\n",
    "#             depth=0):\n",
    "#         \"\"\"Create a new node with a given propagator\n",
    "#         \"\"\"\n",
    "#         self.propagators = propagators  # list of Qobj propagators for each element of ensemble\n",
    "#         self.sequence = sequence\n",
    "#         self.depth = depth\n",
    "        \n",
    "#         self.children = {}\n",
    "    \n",
    "#     def has_children(self):\n",
    "#         return len(self.children) > 0\n",
    "    \n",
    "#     def evaluate(\n",
    "#             self,\n",
    "#             Utarget,\n",
    "#             pulse_names,\n",
    "#             pulses_ensemble,\n",
    "#             reward_dict,\n",
    "#             print_depth=None,\n",
    "#             max_depth=6):\n",
    "#         \"\"\"If the node isn't at max_depth, then create children and\n",
    "#         evaluate each individually. If the node is at max_depth, then\n",
    "#         calculate the reward and add the sequence/reward pair to\n",
    "#         reward_dict.\n",
    "        \n",
    "#         Arguments:\n",
    "#             pulses: An array of unitary operators representing all actions\n",
    "#                 that can be applied to the system.\n",
    "#         Returns: The maximum reward seen by the node or its children, and\n",
    "#             the corresponding sequence.\n",
    "            \n",
    "#         \"\"\"\n",
    "#         if self.depth is not None:\n",
    "#             if self.depth == print_depth:\n",
    "#                 print(f'At depth {self.depth}, ({pulse_sequence_string(self.sequence)})')\n",
    "#         if self.depth < max_depth:\n",
    "#             max_reward = 0\n",
    "#             max_reward_sequence = None\n",
    "#             valid_pulses = get_valid_time_suspension_pulses(\n",
    "#                 self.sequence,\n",
    "#                 pulse_names,\n",
    "#                 max_depth\n",
    "#             )\n",
    "#             for p in valid_pulses:\n",
    "#                 sequence = self.sequence + [p]\n",
    "#                 depth = self.depth + 1\n",
    "#                 propagators = []\n",
    "#                 for j in range(len(pulses_ensemble)):\n",
    "#                     propagators.append(\n",
    "#                         pulses_ensemble[j][p]\n",
    "#                         * self.propagators[j])\n",
    "#                 child = Node(\n",
    "#                     propagators,\n",
    "#                     sequence,\n",
    "#                     depth=depth)\n",
    "#                 r, s = child.evaluate(\n",
    "#                     Utarget,\n",
    "#                     pulse_names,\n",
    "#                     pulses_ensemble,\n",
    "#                     reward_dict,\n",
    "#                     print_depth=print_depth,\n",
    "#                     max_depth=max_depth\n",
    "#                 )\n",
    "#                 if r > max_reward:\n",
    "#                     max_reward = r\n",
    "#                     max_reward_sequence = s\n",
    "#             return max_reward, max_reward_sequence\n",
    "#         else:\n",
    "#             fidelities = [np.clip(\n",
    "#                 qt.metrics.average_gate_fidelity(p, Utarget),\n",
    "#                 0, 1\n",
    "#             ) for p in self.propagators]\n",
    "#             fidelity = np.nanmean(fidelities)\n",
    "#             reward = - np.log10(1.0 - fidelity + 1e-100)\n",
    "#             sequence_str = ','.join([str(a) for a in self.sequence])\n",
    "#             reward_dict[sequence_str] = reward\n",
    "#             return reward, self.sequence"
   ]
  },
  {
   "cell_type": "code",
   "execution_count": null,
   "metadata": {},
   "outputs": [],
   "source": [
    "# root = Node([qt.identity(Hsys_ensemble[0].dims[0])] * len(Hsys_ensemble))\n",
    "# reward_dict = {}\n",
    "# root.evaluate(Utarget, pulse_names, pulses_ensemble, reward_dict, print_depth=1, max_depth=6)"
   ]
  },
  {
   "cell_type": "code",
   "execution_count": null,
   "metadata": {},
   "outputs": [],
   "source": [
    "# primitives = sorted(reward_dict.keys(), key=lambda x: reward_dict[x], reverse=True)\n",
    "# primitives = [i.split(',') for i in primitives]\n",
    "# primitives = [[int(j) for j in i] for i in primitives]"
   ]
  },
  {
   "cell_type": "code",
   "execution_count": null,
   "metadata": {},
   "outputs": [],
   "source": [
    "# rewards = sorted(reward_dict.values(), reverse=True)"
   ]
  },
  {
   "cell_type": "markdown",
   "metadata": {},
   "source": [
    "For 12-pulse sequences, calculated 16 branches at depth 4 in a minute, so about 1 every 4 seconds. At depth 4 there are $5^4 = 625$ branches, so that'll take $4 * 625 = 41$ hours to fully run. Alternatively, you can generate random pulse sequences until there's one that has the proper lowest-order average and cyclic property."
   ]
  },
  {
   "cell_type": "code",
   "execution_count": null,
   "metadata": {},
   "outputs": [],
   "source": [
    "rand = []\n",
    "while True:\n",
    "    rand = np.random.choice(len(pulse_names), 12)\n",
    "    if is_valid_time_suspension(rand, 12) and is_cyclic(rand):\n",
    "        break\n",
    "count_axes(rand)"
   ]
  },
  {
   "cell_type": "code",
   "execution_count": null,
   "metadata": {},
   "outputs": [],
   "source": [
    "pulse_sequence_string(rand)"
   ]
  },
  {
   "cell_type": "markdown",
   "metadata": {},
   "source": [
    "## Smarter search with MCTS\n",
    "\n",
    "Following the [supplementary materials description under \"Search\"](https://science.sciencemag.org/content/sci/suppl/2018/12/05/362.6419.1140.DC1/aar6404-Silver-SM.pdf) to do rollouts and backpropagate information.\n",
    "\n",
    "\n",
    "## TODO\n",
    "\n",
    "- [ ] Vary the exploration parameter for calculating U\n",
    "- [ ] Add neural networks for policy/value estimations\n",
    "- [ ] Save propagators to speed up MCTS? Or too memory intensive?\n",
    "- [ ] Are there smarter ways to constrain search? Need cyclic and equal time on each axis."
   ]
  },
  {
   "cell_type": "code",
   "execution_count": null,
   "metadata": {},
   "outputs": [],
   "source": [
    "class MCTSNode(object):\n",
    "    \"\"\"A node of the pulse sequence tree. Each node has a particular\n",
    "    sequence of pulses applied so far.\n",
    "    \"\"\"\n",
    "    \n",
    "    def __init__(\n",
    "            self,\n",
    "            propagators,\n",
    "            N,\n",
    "            W,\n",
    "            Q,\n",
    "            #P,  # prior probability pi(a|s)\n",
    "            sequence=[],\n",
    "            depth=0):\n",
    "        \"\"\"Create a new node with a given propagator\n",
    "        \n",
    "        The state-action statistics (N, W, Q) are stored as dictionaries\n",
    "        of dictionaries, where the first key is the state, and the second\n",
    "        key is the action.\n",
    "        \n",
    "        Args:\n",
    "            N: Visit counts\n",
    "            W: Total action-value\n",
    "            Q: Mean action-value\n",
    "        \"\"\"\n",
    "        self.propagators = propagators  # list of Qobj propagators for each element of ensemble\n",
    "        self.N = N\n",
    "        self.W = W\n",
    "        self.Q = Q\n",
    "        self.sequence = sequence\n",
    "        # the state is just a string-version of the pulse sequence\n",
    "        self.state = self.sequence_string()\n",
    "        self.depth = depth\n",
    "        \n",
    "        self.children = {}\n",
    "    \n",
    "    \n",
    "    def sequence_string(self):\n",
    "        return ','.join([str(a) for a in self.sequence])\n",
    "    \n",
    "#     def has_children(self):\n",
    "#         return len(self.children) > 0\n",
    "    \n",
    "    def get_N(self, action):\n",
    "        \"\"\"Get the state-action visit count, and\n",
    "        initialize it to zero if the keys don't exist\n",
    "        \"\"\"\n",
    "        if self.state not in self.N:\n",
    "            self.N[self.state] = {}\n",
    "        if action not in self.N[self.state]:\n",
    "            self.N[self.state][action] = 0\n",
    "        return self.N[self.state][action]\n",
    "    \n",
    "    def increment_N(self, action, increment=1):\n",
    "        old_value = self.get_N(action)\n",
    "        self.N[self.state][action] = old_value + increment\n",
    "    \n",
    "    def get_W(self, action):\n",
    "        if self.state not in self.W:\n",
    "            self.W[self.state] = {}\n",
    "        if action not in self.W[self.state]:\n",
    "            self.W[self.state][action] = 0\n",
    "        return self.W[self.state][action]\n",
    "    \n",
    "    def update_W(self, action, new_value):\n",
    "        old_value = self.get_W(action)\n",
    "        self.W[self.state][action] = old_value + new_value\n",
    "    \n",
    "    def get_Q(self, action):\n",
    "        if self.state not in self.Q:\n",
    "            self.Q[self.state] = {}\n",
    "        if action not in self.Q[self.state]:\n",
    "            self.Q[self.state][action] = 0\n",
    "        return self.Q[self.state][action]\n",
    "    \n",
    "    def update_Q(self, action):\n",
    "        W = self.get_W(action)\n",
    "        N = self.get_N(action)\n",
    "        old_Q = self.get_Q(action)  # just ensures that the keys exist\n",
    "        self.Q[self.state][action] = 1.0 * W / N\n",
    "    \n",
    "    def get_U(self, action):\n",
    "        \"\"\"Exploration function, allegedly a variant of PUCT.\n",
    "        \n",
    "        U(s, a) = C(s) P(s, a) \\sqrt{N(s)} / (1 + N(s, a))\n",
    "        \n",
    "        \"\"\"\n",
    "        N = self.get_N(action)\n",
    "        N_total = sum(self.N[self.state].values())\n",
    "        C = np.log10((1 + N_total + 1e2)/1e2) + 1\n",
    "        P = 1  # TODO will need to change this eventually\n",
    "        U = (C * 1 * np.sqrt(N_total) / (1 + N))\n",
    "        return U + np.random.normal(scale=.1)\n",
    "    \n",
    "    def rollout(\n",
    "            self,\n",
    "            Utarget,\n",
    "            pulse_names,\n",
    "            pulses_ensemble,\n",
    "            reward_dict=None,\n",
    "            max_depth=6):\n",
    "        \"\"\"Sample a rollout by choosing a random pulse\n",
    "            \n",
    "        \"\"\"\n",
    "        if self.depth < max_depth:\n",
    "            valid_pulses = get_valid_time_suspension_pulses(\n",
    "                self.sequence,\n",
    "                pulse_names,\n",
    "                max_depth\n",
    "            )\n",
    "            if len(valid_pulses) == 0:\n",
    "                return -1, self.sequence\n",
    "            # select a valid pulse that maximizes Q+U\n",
    "            Q = np.array([self.get_Q(a) for a in valid_pulses])\n",
    "            U = np.array([self.get_U(a) for a in valid_pulses])\n",
    "            p = valid_pulses[np.argmax(Q + U)]\n",
    "#             print('valid pulses:\\t', valid_pulses)\n",
    "#             print('N:\\t', [self.get_N(a) for a in valid_pulses])\n",
    "#             print('Q:\\t', Q)\n",
    "#             print('U:\\t', U)\n",
    "#             print('Q + U:\\t', Q + U)\n",
    "            sequence = self.sequence + [p]\n",
    "            depth = self.depth + 1\n",
    "            propagators = []\n",
    "            # calculate propagators for child node\n",
    "            for j in range(len(pulses_ensemble)):\n",
    "                propagators.append(\n",
    "                    pulses_ensemble[j][p]\n",
    "                    * self.propagators[j])\n",
    "            child = MCTSNode(\n",
    "                propagators,\n",
    "                self.N, self.W, self.Q,\n",
    "                sequence=sequence,\n",
    "                depth=depth)\n",
    "            reward, sequence = child.rollout(\n",
    "                Utarget,\n",
    "                pulse_names,\n",
    "                pulses_ensemble,\n",
    "                reward_dict=reward_dict,\n",
    "                max_depth=max_depth\n",
    "            )\n",
    "            # update statistics for N, W, Q\n",
    "            self.increment_N(p)\n",
    "            self.update_W(p, reward)\n",
    "            self.update_Q(p)\n",
    "            return reward, sequence\n",
    "        else:\n",
    "            fidelities = [np.clip(\n",
    "                qt.metrics.average_gate_fidelity(p, Utarget),\n",
    "                0, 1\n",
    "            ) for p in self.propagators]\n",
    "            fidelity = np.nanmean(fidelities)\n",
    "            reward = - np.log10(1.0 - fidelity + 1e-100)\n",
    "            sequence_str = self.sequence_string()\n",
    "            if reward_dict is not None:\n",
    "                reward_dict[sequence_str] = reward\n",
    "            return reward, self.sequence"
   ]
  },
  {
   "cell_type": "code",
   "execution_count": null,
   "metadata": {},
   "outputs": [],
   "source": [
    "N = {}\n",
    "W = {}\n",
    "Q = {}\n",
    "reward_dict = {}"
   ]
  },
  {
   "cell_type": "code",
   "execution_count": null,
   "metadata": {},
   "outputs": [],
   "source": [
    "root = MCTSNode([Utarget] * 5, N, W, Q)"
   ]
  },
  {
   "cell_type": "code",
   "execution_count": null,
   "metadata": {},
   "outputs": [],
   "source": [
    "for _ in range(500):\n",
    "    output = root.rollout(Utarget, pulse_names, pulses_ensemble, None, max_depth=48)\n",
    "    if _ % 50 == 0:\n",
    "        print(output)"
   ]
  }
 ],
 "metadata": {
  "kernelspec": {
   "display_name": "Python 3",
   "language": "python",
   "name": "python3"
  },
  "language_info": {
   "codemirror_mode": {
    "name": "ipython",
    "version": 3
   },
   "file_extension": ".py",
   "mimetype": "text/x-python",
   "name": "python",
   "nbconvert_exporter": "python",
   "pygments_lexer": "ipython3",
   "version": "3.6.11"
  }
 },
 "nbformat": 4,
 "nbformat_minor": 4
}
