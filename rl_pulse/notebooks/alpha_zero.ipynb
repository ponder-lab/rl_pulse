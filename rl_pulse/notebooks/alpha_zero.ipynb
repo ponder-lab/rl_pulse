{
 "cells": [
  {
   "cell_type": "markdown",
   "metadata": {},
   "source": [
    "# AlphaZero implementation for pulse sequence design\n",
    "_Will Kaufman, December 2020_\n",
    "\n",
    "[Dalgaard et. al. (2020)](https://www.nature.com/articles/s41534-019-0241-0) applied this approach to constructing shaped pulses (as I understand it), but in theory this should be as applicable to pulse sequence design, if not more so. The original [AlphaZero paper](https://science.sciencemag.org/content/362/6419/1140.full) is here.\n",
    "\n",
    "The general idea behind AlphaZero (as I understand it) is to do a \"smart\" tree search that balances previous knowledge (the policy), curiosity in unexplored branches, and high-value branches. My thought is that this can be improved with AHT (i.e. knowing that by the end of the pulse sequence, the pulse sequence must be cyclic (the overall frame transformation must be identity) and there must be equal times spent on each axis). This will provide a hard constraint that will (hopefully) speed up search."
   ]
  },
  {
   "cell_type": "code",
   "execution_count": null,
   "metadata": {},
   "outputs": [],
   "source": [
    "import qutip as qt\n",
    "import numpy as np\n",
    "from scipy.spatial.transform import Rotation\n",
    "import matplotlib.pyplot as plt"
   ]
  },
  {
   "cell_type": "markdown",
   "metadata": {},
   "source": [
    "## Define the spin system"
   ]
  },
  {
   "cell_type": "code",
   "execution_count": null,
   "metadata": {},
   "outputs": [],
   "source": [
    "delay = 1e-2  # time is relative to chemical shift strength\n",
    "pulse_width = 5e-3\n",
    "N = 3  # number of spins\n",
    "ensemble_size = 5"
   ]
  },
  {
   "cell_type": "code",
   "execution_count": null,
   "metadata": {},
   "outputs": [],
   "source": [
    "def get_Hsys(dipolar_strength=1e-2):\n",
    "    chemical_shifts = 2*np.pi * np.random.normal(scale=1, size=(N,))\n",
    "    Hcs = sum(\n",
    "        [qt.tensor(\n",
    "            [qt.identity(2)]*i\n",
    "            + [chemical_shifts[i] * qt.sigmaz()]\n",
    "            + [qt.identity(2)]*(N-i-1)\n",
    "        ) for i in range(N)]\n",
    "    )\n",
    "    # dipolar interactions\n",
    "    dipolar_matrix = 2*np.pi * np.random.normal(scale=dipolar_strength, size=(N, N))\n",
    "    Hdip = sum([\n",
    "        dipolar_matrix[i, j] * (\n",
    "            2 * qt.tensor(\n",
    "                [qt.identity(2)]*i\n",
    "                + [qt.sigmaz()]\n",
    "                + [qt.identity(2)]*(j-i-1)\n",
    "                + [qt.sigmaz()]\n",
    "                + [qt.identity(2)]*(N-j-1)\n",
    "            )\n",
    "            - qt.tensor(\n",
    "                [qt.identity(2)]*i\n",
    "                + [qt.sigmax()]\n",
    "                + [qt.identity(2)]*(j-i-1)\n",
    "                + [qt.sigmax()]\n",
    "                + [qt.identity(2)]*(N-j-1)\n",
    "            )\n",
    "            - qt.tensor(\n",
    "                [qt.identity(2)]*i\n",
    "                + [qt.sigmay()]\n",
    "                + [qt.identity(2)]*(j-i-1)\n",
    "                + [qt.sigmay()]\n",
    "                + [qt.identity(2)]*(N-j-1)\n",
    "            )\n",
    "        )\n",
    "        for i in range(N) for j in range(i+1, N)\n",
    "    ])\n",
    "    return Hcs + Hdip"
   ]
  },
  {
   "cell_type": "code",
   "execution_count": null,
   "metadata": {},
   "outputs": [],
   "source": [
    "X = sum(\n",
    "    [qt.tensor(\n",
    "        [qt.identity(2)]*i\n",
    "        + [qt.spin_Jx(1/2)]\n",
    "        + [qt.identity(2)]*(N-i-1)\n",
    "    ) for i in range(N)]\n",
    ")\n",
    "Y = sum(\n",
    "    [qt.tensor(\n",
    "        [qt.identity(2)]*i\n",
    "        + [qt.spin_Jy(1/2)]\n",
    "        + [qt.identity(2)]*(N-i-1)\n",
    "    ) for i in range(N)]\n",
    ")\n",
    "Z = sum(\n",
    "    [qt.tensor(\n",
    "        [qt.identity(2)]*i\n",
    "        + [qt.spin_Jz(1/2)]\n",
    "        + [qt.identity(2)]*(N-i-1)\n",
    "    ) for i in range(N)]\n",
    ")"
   ]
  },
  {
   "cell_type": "code",
   "execution_count": null,
   "metadata": {},
   "outputs": [],
   "source": [
    "def get_pulses(Hsys, X, Y, Z, pulse_width, delay, rot_error=0):\n",
    "    rot = np.random.normal(scale=rot_error)\n",
    "    pulses = [\n",
    "        qt.propagator(Hsys, pulse_width),\n",
    "        qt.propagator(X * (np.pi/2) * (1 + rot) / pulse_width + Hsys, pulse_width),\n",
    "        qt.propagator(-X * (np.pi/2) * (1 + rot) / pulse_width + Hsys, pulse_width),\n",
    "        qt.propagator(Y * (np.pi/2) * (1 + rot) / pulse_width + Hsys, pulse_width),\n",
    "        qt.propagator(-Y * (np.pi/2) * (1 + rot) / pulse_width + Hsys, pulse_width),\n",
    "#         qt.propagator(Z * (np.pi/2) * (1 + rot) / pulse_width + Hsys, pulse_width),\n",
    "#         qt.propagator(-Z * (np.pi/2) * (1 + rot) / pulse_width + Hsys, pulse_width),\n",
    "    ]\n",
    "    delay_propagator = qt.propagator(Hsys, delay)\n",
    "    pulses = [delay_propagator * i for i in pulses]\n",
    "    return pulses"
   ]
  },
  {
   "cell_type": "code",
   "execution_count": null,
   "metadata": {},
   "outputs": [],
   "source": [
    "pulse_names = [\n",
    "    'd', 'x', '-x', 'y', '-y', #'z', '-z'\n",
    "]"
   ]
  },
  {
   "cell_type": "code",
   "execution_count": null,
   "metadata": {},
   "outputs": [],
   "source": [
    "def pulse_sequence_string(pulse_sequence):\n",
    "    \"\"\"Return a string that correspond to pulse sequence\n",
    "    \"\"\"\n",
    "    pulse_list = ','.join([pulse_names[i] for i in pulse_sequence])\n",
    "    return pulse_list"
   ]
  },
  {
   "cell_type": "code",
   "execution_count": null,
   "metadata": {},
   "outputs": [],
   "source": [
    "def get_pulse_sequence(string):\n",
    "    \"\"\"Returns a list of integers for the pulse sequence\n",
    "    \"\"\"\n",
    "    chars = string.split(',')\n",
    "    pulse_sequence = [pulse_names.index(c) for c in chars]\n",
    "    return pulse_sequence"
   ]
  },
  {
   "cell_type": "code",
   "execution_count": null,
   "metadata": {},
   "outputs": [],
   "source": [
    "def get_propagator(pulse_sequence, pulses):\n",
    "    propagator = qt.identity(pulses[0].dims[0])\n",
    "    for p in pulse_sequence:\n",
    "        propagator = pulses[p] * propagator\n",
    "    return propagator"
   ]
  },
  {
   "cell_type": "code",
   "execution_count": null,
   "metadata": {},
   "outputs": [],
   "source": [
    "Hsys_ensemble = [get_Hsys() for _ in range(ensemble_size)]\n",
    "pulses_ensemble = [\n",
    "    get_pulses(H, X, Y, Z, pulse_width, delay, rot_error=0.01) for H in Hsys_ensemble\n",
    "]"
   ]
  },
  {
   "cell_type": "code",
   "execution_count": null,
   "metadata": {},
   "outputs": [],
   "source": [
    "Utarget = qt.identity(Hsys_ensemble[0].dims[0])"
   ]
  },
  {
   "cell_type": "markdown",
   "metadata": {},
   "source": [
    "## Pulse sequences"
   ]
  },
  {
   "cell_type": "code",
   "execution_count": null,
   "metadata": {},
   "outputs": [],
   "source": [
    "ideal6 = [3, 1, 1, 3, 2, 2]\n",
    "yxx24 = [4, 1, 2, 3, 2, 2, 3, 2, 1, 4, 1, 1, 3, 2, 1, 4, 1, 1, 4, 1, 2, 3, 2, 2]\n",
    "yxx48 = [\n",
    "    3, 2, 2, 3, 2, 2, 4, 1, 1, 3, 2, 2, 4, 1, 1, 4, 1, 1, 3, 2, 2, 3, 2, 2,\n",
    "    4, 1, 1, 3, 2, 2, 4, 1, 1, 4, 1, 1, 3, 2, 2, 4, 1, 1, 3, 2, 2, 4, 1, 1\n",
    "]\n",
    "\n",
    "# brute-force search\n",
    "bf6 = [1, 1, 3, 1, 1, 3]\n",
    "bf12 = [1, 1, 4, 1, 1, 4, 2, 2, 4, 2, 2, 4]\n",
    "bfr12 = [1, 4, 4, 1, 4, 4, 1, 3, 3, 1, 3, 3]"
   ]
  },
  {
   "cell_type": "markdown",
   "metadata": {},
   "source": [
    "## Average Hamiltonian theory\n",
    "\n",
    "To keep track of the average Hamiltonian (to lowest order), I'm defining a frame matrix and applying rotation matrices to the frame matrix, then determining how $I_z$ transforms during the pulse sequence. The last row in the frame matrix corresponds to the current transformed value of $I_z$."
   ]
  },
  {
   "cell_type": "code",
   "execution_count": null,
   "metadata": {},
   "outputs": [],
   "source": [
    "rotations = [\n",
    "    np.eye(3),\n",
    "    np.round(Rotation.from_euler('x', 90, degrees=True).as_matrix()),\n",
    "    np.round(Rotation.from_euler('x', -90, degrees=True).as_matrix()),\n",
    "    np.round(Rotation.from_euler('y', 90, degrees=True).as_matrix()),\n",
    "    np.round(Rotation.from_euler('y', -90, degrees=True).as_matrix()),\n",
    "#     np.round(Rotation.from_euler('z', 90, degrees=True).as_matrix()),\n",
    "#     np.round(Rotation.from_euler('z', -90, degrees=True).as_matrix()),\n",
    "]"
   ]
  },
  {
   "cell_type": "code",
   "execution_count": null,
   "metadata": {},
   "outputs": [],
   "source": [
    "def get_rotation(pulse_sequence):\n",
    "    frame = np.eye(3)\n",
    "    for p in pulse_sequence:\n",
    "        frame = rotations[p] @ frame\n",
    "    return frame"
   ]
  },
  {
   "cell_type": "code",
   "execution_count": null,
   "metadata": {},
   "outputs": [],
   "source": [
    "def is_cyclic(pulse_sequence):\n",
    "    frame = get_rotation(pulse_sequence)\n",
    "    return (frame == np.eye(3)).all()"
   ]
  },
  {
   "cell_type": "code",
   "execution_count": null,
   "metadata": {},
   "outputs": [],
   "source": [
    "def count_axes(pulse_sequence):\n",
    "    axes_counts = [0] * 6\n",
    "    frame = np.eye(3)\n",
    "    for p in pulse_sequence:\n",
    "        frame = rotations[p] @ frame\n",
    "        axis = np.where(frame[-1,:])[0][0]\n",
    "        is_negative = np.sum(frame[-1,:]) < 0\n",
    "        axes_counts[axis + 3*is_negative] += 1\n",
    "    return axes_counts"
   ]
  },
  {
   "cell_type": "code",
   "execution_count": null,
   "metadata": {},
   "outputs": [],
   "source": [
    "count_axes(get_pulse_sequence('d,x,-y,d,y,-x'))  # WHH-4"
   ]
  },
  {
   "cell_type": "code",
   "execution_count": null,
   "metadata": {},
   "outputs": [],
   "source": [
    "count_axes(yxx48)"
   ]
  },
  {
   "cell_type": "code",
   "execution_count": null,
   "metadata": {},
   "outputs": [],
   "source": [
    "def is_valid_dd(subsequence, sequence_length):\n",
    "    \"\"\"Checks if the pulse subsequence allows for dynamical decoupling of\n",
    "        dipolar interactions (i.e. equal time spent on each axis)\n",
    "    \"\"\"\n",
    "    axes_counts = count_axes(subsequence)\n",
    "    (x, y, z) = [axes_counts[i] + axes_counts[i+3] for i in range(3)]\n",
    "    # time on each axis isn't more than is allowed for dd\n",
    "    return (np.array([x, y, z]) <= sequence_length / 3).all()"
   ]
  },
  {
   "cell_type": "code",
   "execution_count": null,
   "metadata": {},
   "outputs": [],
   "source": [
    "def is_valid_time_suspension(subsequence, sequence_length):\n",
    "    \"\"\"Checks if the pulse subsequence allows for dynamical decoupling of\n",
    "        all interactions (i.e. equal time spent on each ± axis)\n",
    "    \"\"\"\n",
    "    axes_counts = count_axes(subsequence)\n",
    "    # time on each axis isn't more than is allowed for dd\n",
    "    return (np.array(axes_counts) <= sequence_length / 6).all()"
   ]
  },
  {
   "cell_type": "code",
   "execution_count": null,
   "metadata": {},
   "outputs": [],
   "source": [
    "def get_valid_time_suspension_pulses(subsequence, pulse_names, sequence_length):\n",
    "    valid_pulses = []\n",
    "    for p in range(len(pulse_names)):\n",
    "        if is_valid_time_suspension(subsequence + [p], sequence_length):\n",
    "            valid_pulses.append(p)\n",
    "    return valid_pulses"
   ]
  },
  {
   "cell_type": "code",
   "execution_count": null,
   "metadata": {},
   "outputs": [],
   "source": [
    "get_valid_time_suspension_pulses([0,1,1,], pulse_names, 6)"
   ]
  },
  {
   "cell_type": "markdown",
   "metadata": {},
   "source": [
    "## Tree search\n",
    "\n",
    "Define nodes that can be used for tree search, with additional constraints that the lowest-order average Hamiltonian matches the desired Hamiltonian.\n",
    "\n",
    "(deleted code that implemented tree search with constraints, see GitHub repo commits on 12/8 for code)\n",
    "\n",
    "For 12-pulse sequences, calculated 16 branches at depth 4 in a minute, so about 1 every 4 seconds. At depth 4 there are $5^4 = 625$ branches, so that'll take $4 * 625 = 41$ hours to fully run. Alternatively, you can generate random pulse sequences until there's one that has the proper lowest-order average and cyclic property."
   ]
  },
  {
   "cell_type": "markdown",
   "metadata": {},
   "source": [
    "## Smarter search with MCTS\n",
    "\n",
    "Following the [supplementary materials description under \"Search\"](https://science.sciencemag.org/content/sci/suppl/2018/12/05/362.6419.1140.DC1/aar6404-Silver-SM.pdf) to do rollouts and backpropagate information."
   ]
  },
  {
   "cell_type": "code",
   "execution_count": null,
   "metadata": {},
   "outputs": [],
   "source": [
    "class Config(object):\n",
    "    \"\"\"All the config information for AlphaZero\n",
    "    \"\"\"\n",
    "    \n",
    "    def __init__(self):\n",
    "        # self-\"play\"\n",
    "        self.num_actors = 1\n",
    "        self.num_sampling_moves = 30\n",
    "        self.max_moves = 48\n",
    "        # simulations for MCTS\n",
    "        self.num_simulations = 100\n",
    "        # root prior exploration noise\n",
    "        self.root_dirichlet_alpha = 0.3\n",
    "        self.root_exploration_fraction = 0.25\n",
    "        # UCB formulat\n",
    "        self.pb_c_base = 1e2\n",
    "        self.pb_c_init = 1.25\n",
    "        # training\n",
    "        self.training_steps = int(700e3)\n",
    "        self.checkpoint_interval = int(1e3)\n",
    "        self.window_size = int(1e6)\n",
    "        self.batch_size = 4096\n",
    "        # TODO also weight_decay (1e-4), momentum (.9), learning rate schedule"
   ]
  },
  {
   "cell_type": "code",
   "execution_count": null,
   "metadata": {},
   "outputs": [],
   "source": [
    "class Node(object):\n",
    "    \"\"\"A node of the pulse sequence tree. Each node has a particular\n",
    "    sequence of pulses applied so far.\n",
    "    \"\"\"\n",
    "    \n",
    "    def __init__(\n",
    "            self,\n",
    "            prior,\n",
    "            sequence,\n",
    "            propagators,\n",
    "            ):\n",
    "        \"\"\"Create a node at a given point in the pulse sequence.\n",
    "        \n",
    "        Args:\n",
    "            prior: Prior probability of selecting node.\n",
    "            propagators: List of Qobj propagators for ensemble.\n",
    "            sequence: Sequence of integers representing pulse sequence.\n",
    "            frame: The current frame representation as a 3x3 rotation matrix.\n",
    "        \"\"\"\n",
    "        self.prior = prior\n",
    "        self.sequence = sequence\n",
    "        # list of Qobj propagators for each element of ensemble\n",
    "        self.propagators = propagators\n",
    "        self.depth = len(self.sequence)\n",
    "        self.children = {}\n",
    "        self.max_value = -1  # maximum value it's seen at any point\n",
    "        self.visit_count = 0\n",
    "        self.total_value = 0\n",
    "    \n",
    "    def value(self):\n",
    "        if self.visit_count > 0:\n",
    "            return self.total_value / self.visit_count\n",
    "        else:\n",
    "            return 0\n",
    "    \n",
    "    def reward(self, Utarget):\n",
    "        fidelities = [np.clip(\n",
    "            qt.metrics.average_gate_fidelity(U, Utarget),\n",
    "            0, 1) for U in self.propagators\n",
    "        ]\n",
    "        fidelity = np.nanmean(fidelities)\n",
    "        reward = -1.0 * np.log10(1 - fidelity + 1e-300)\n",
    "        return reward\n",
    "    \n",
    "    def sequence_string(self):\n",
    "        return ','.join([str(a) for a in self.sequence])\n",
    "    \n",
    "    def has_children(self):\n",
    "        return len(self.children) > 0"
   ]
  },
  {
   "cell_type": "code",
   "execution_count": null,
   "metadata": {},
   "outputs": [],
   "source": [
    "def run_mcts(config, propagators, sequence, sequence_length, Utarget, network=None):\n",
    "    \"\"\"Perform rollouts of pulse sequence and\n",
    "    backpropagate values through nodes, then select\n",
    "    action based on visit counts of child nodes.\n",
    "    \n",
    "    When looking at AlphaZero code, the game turns into\n",
    "    the pulse sequence information (sequence, propagators)\n",
    "    \n",
    "    Args:\n",
    "        propagators: List of Qobj propagators at root.\n",
    "        sequence: List of ints, represents pulse sequence.\n",
    "        sequence_length: Maximum length of pulse sequence.\n",
    "    \"\"\"\n",
    "    root = Node(0, sequence, propagators)\n",
    "    evaluate(root, sequence_length, Utarget)\n",
    "    add_exploration_noise(config, root)\n",
    "    \n",
    "    for _ in range(config.num_simulations):\n",
    "        node = root\n",
    "        search_path = [node]\n",
    "        \n",
    "        while node.has_children():\n",
    "            pulse, node = select_child(config, node)\n",
    "            search_path.append(node)\n",
    "            evaluate(node, sequence_length, Utarget)  # makes children nodes\n",
    "            # TODO remove ^ when I implement NN, should only\n",
    "            # explore nodes available\n",
    "        \n",
    "        value = evaluate(node, sequence_length, Utarget)\n",
    "        backpropagate(search_path, value)\n",
    "    \n",
    "    return select_action(config, root), root"
   ]
  },
  {
   "cell_type": "code",
   "execution_count": null,
   "metadata": {},
   "outputs": [],
   "source": [
    "def evaluate(node, sequence_length, Utarget, network=None):\n",
    "    \"\"\"Calculate value and policy predictions from\n",
    "    the network, add children to node, and return value.\n",
    "    \"\"\"\n",
    "    if len(node.sequence) == sequence_length:\n",
    "        value = node.reward(Utarget)\n",
    "    else:\n",
    "        value = 0  # replace with NN prediction\n",
    "    valid_pulses = get_valid_time_suspension_pulses(\n",
    "        node.sequence, pulse_names, sequence_length)\n",
    "    policy = np.ones((len(valid_pulses),)) / len(valid_pulses)\n",
    "    # TODO replace ^ with NN prediction\n",
    "    for i, p in enumerate(valid_pulses):\n",
    "        if p not in node.children:\n",
    "            node.children[p] = Node(\n",
    "                policy[i],\n",
    "                node.sequence + [p],\n",
    "                [pulses_ensemble[s][p] * U\n",
    "                 for s, U in enumerate(node.propagators)]\n",
    "            )\n",
    "    return value"
   ]
  },
  {
   "cell_type": "code",
   "execution_count": null,
   "metadata": {},
   "outputs": [],
   "source": [
    "def add_exploration_noise(config, node):\n",
    "    pulses = list(node.children.keys())\n",
    "    noise = np.random.gamma(config.root_dirichlet_alpha, 1, len(pulses))\n",
    "    frac = config.root_exploration_fraction\n",
    "    for p, n in zip(pulses, noise):\n",
    "        node.children[p].prior = node.children[p].prior * (1 - frac) + n * frac"
   ]
  },
  {
   "cell_type": "code",
   "execution_count": null,
   "metadata": {},
   "outputs": [],
   "source": [
    "def select_child(config, node):\n",
    "    \"\"\"\n",
    "    \"\"\"\n",
    "    _, pulse, child = max(\n",
    "        (ucb_score(config, node, node.children[pulse]),\n",
    "         pulse, node.children[pulse])\n",
    "        for pulse in node.children\n",
    "    )\n",
    "    return pulse, child"
   ]
  },
  {
   "cell_type": "code",
   "execution_count": null,
   "metadata": {},
   "outputs": [],
   "source": [
    "def ucb_score(config, parent, child):\n",
    "    pb_c = np.log10((parent.visit_count + config.pb_c_base + 1)\n",
    "                    / config.pb_c_base) + config.pb_c_init\n",
    "    pb_c *= np.sqrt(parent.visit_count) / (child.visit_count + 1)\n",
    "    prior_score = pb_c * child.prior\n",
    "    value_score = child.value()\n",
    "    return prior_score + value_score"
   ]
  },
  {
   "cell_type": "code",
   "execution_count": null,
   "metadata": {},
   "outputs": [],
   "source": [
    "def backpropagate(search_path, value):\n",
    "    \"\"\"Propagate value to each node in search path,\n",
    "    and increment visit counts by 1.\n",
    "    \"\"\"\n",
    "    for node in search_path:\n",
    "        node.total_value += value\n",
    "        if value > node.max_value:\n",
    "            node.max_value = value\n",
    "        node.visit_count += 1"
   ]
  },
  {
   "cell_type": "code",
   "execution_count": null,
   "metadata": {},
   "outputs": [],
   "source": [
    "def select_action(config, root):\n",
    "    visit_counts = [\n",
    "        root.children[p].visit_count\n",
    "        for p in root.children\n",
    "    ]\n",
    "    probabilities = np.array(visit_counts) / np.sum(visit_counts)\n",
    "    pulses = list(root.children.keys())\n",
    "    return np.random.choice(pulses, p=probabilities)"
   ]
  },
  {
   "cell_type": "code",
   "execution_count": null,
   "metadata": {},
   "outputs": [],
   "source": [
    "config = Config()"
   ]
  },
  {
   "cell_type": "code",
   "execution_count": null,
   "metadata": {},
   "outputs": [],
   "source": [
    "config.num_simulations = 1000"
   ]
  },
  {
   "cell_type": "code",
   "execution_count": null,
   "metadata": {},
   "outputs": [],
   "source": [
    "pulse, root = run_mcts(config, [Utarget] * 5, [], 6, Utarget)"
   ]
  },
  {
   "cell_type": "code",
   "execution_count": null,
   "metadata": {},
   "outputs": [],
   "source": [
    "max(node.children.values(), key=lambda x: x.max_value)"
   ]
  },
  {
   "cell_type": "code",
   "execution_count": null,
   "metadata": {},
   "outputs": [],
   "source": [
    "max([(1,'a'), (2, 'b'), (3, 'c')])"
   ]
  },
  {
   "cell_type": "code",
   "execution_count": null,
   "metadata": {},
   "outputs": [],
   "source": [
    "node = root\n",
    "while node.has_children():\n",
    "    node = max(node.children.values(), key=lambda x: x.max_value)"
   ]
  },
  {
   "cell_type": "code",
   "execution_count": null,
   "metadata": {},
   "outputs": [],
   "source": [
    "node.sequence"
   ]
  },
  {
   "cell_type": "code",
   "execution_count": null,
   "metadata": {},
   "outputs": [],
   "source": [
    "node.max_value"
   ]
  },
  {
   "cell_type": "code",
   "execution_count": null,
   "metadata": {},
   "outputs": [],
   "source": [
    "[root.children[p].visit_count for p in root.children]"
   ]
  },
  {
   "cell_type": "code",
   "execution_count": null,
   "metadata": {},
   "outputs": [],
   "source": [
    "root.children[3].value()"
   ]
  },
  {
   "cell_type": "code",
   "execution_count": null,
   "metadata": {},
   "outputs": [],
   "source": [
    "def make_sequence(config, sequence_length, network=None):\n",
    "    \"\"\"Start with no pulses, do MCTS until a sequence of length\n",
    "    sequence_length is made.\n",
    "    \"\"\"\n",
    "    sequence = []\n",
    "    propagators = [Utarget] * 5\n",
    "    search_statistics = []\n",
    "    while len(sequence) < sequence_length:\n",
    "        pulse, root = run_mcts(config, propagators, sequence, sequence_length, Utarget)\n",
    "        print(f'applying pulse {pulse}')\n",
    "        sequence.append(pulse)\n",
    "        propagators = root.children[pulse].propagators\n",
    "        search_statistics.append(\n",
    "            (root.sequence,\n",
    "             [(p, root.children[p].visit_count) for p in root.children])\n",
    "        )\n",
    "    return sequence, search_statistics"
   ]
  },
  {
   "cell_type": "code",
   "execution_count": null,
   "metadata": {},
   "outputs": [],
   "source": [
    "config.num_simulations = 1000"
   ]
  },
  {
   "cell_type": "code",
   "execution_count": null,
   "metadata": {},
   "outputs": [],
   "source": [
    "sequence, search_statistics = make_sequence(config, 24)"
   ]
  },
  {
   "cell_type": "code",
   "execution_count": null,
   "metadata": {},
   "outputs": [],
   "source": [
    "sequence"
   ]
  },
  {
   "cell_type": "markdown",
   "metadata": {},
   "source": [
    "## Old code (eventually delete)"
   ]
  },
  {
   "cell_type": "code",
   "execution_count": null,
   "metadata": {},
   "outputs": [],
   "source": [
    "root = Node(1, [Utarget] * 5, [], np.eye(3))"
   ]
  },
  {
   "cell_type": "code",
   "execution_count": null,
   "metadata": {},
   "outputs": [],
   "source": [
    "N = {}\n",
    "W = {}\n",
    "Q = {}\n",
    "reward_dict = {}"
   ]
  },
  {
   "cell_type": "code",
   "execution_count": null,
   "metadata": {},
   "outputs": [],
   "source": [
    "root = MCTSNode([Utarget] * 5, N, W, Q)"
   ]
  },
  {
   "cell_type": "code",
   "execution_count": null,
   "metadata": {},
   "outputs": [],
   "source": [
    "for _ in range(1000):\n",
    "    output = root.rollout(Utarget, pulse_names, pulses_ensemble, None, max_depth=12)\n",
    "    if _ % 100 == 0:\n",
    "        print(output)"
   ]
  },
  {
   "cell_type": "code",
   "execution_count": null,
   "metadata": {},
   "outputs": [],
   "source": [
    "sequence = []\n",
    "for i in range(12):\n",
    "    string = ','.join([str(p) for p in sequence])\n",
    "    p = max(Q[string].keys(), key=lambda x: Q[string][x])\n",
    "    sequence.append(p)\n",
    "print(sequence)"
   ]
  },
  {
   "cell_type": "code",
   "execution_count": null,
   "metadata": {},
   "outputs": [],
   "source": [
    "count_axes(sequence)"
   ]
  },
  {
   "cell_type": "code",
   "execution_count": null,
   "metadata": {},
   "outputs": [],
   "source": []
  }
 ],
 "metadata": {
  "kernelspec": {
   "display_name": "Python 3",
   "language": "python",
   "name": "python3"
  },
  "language_info": {
   "codemirror_mode": {
    "name": "ipython",
    "version": 3
   },
   "file_extension": ".py",
   "mimetype": "text/x-python",
   "name": "python",
   "nbconvert_exporter": "python",
   "pygments_lexer": "ipython3",
   "version": "3.7.9"
  }
 },
 "nbformat": 4,
 "nbformat_minor": 4
}
