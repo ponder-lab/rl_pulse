{
 "cells": [
  {
   "cell_type": "markdown",
   "metadata": {},
   "source": [
    "# Brute force pulse sequence search\n",
    "\n",
    "Using arbitrary units. Energy is normalized to the standard deviation in chemical shift strengths. Reduced Planck's constant $\\hbar \\equiv 1$.\n",
    "\n",
    "## TODO\n",
    "\n",
    "- [ ] Add rotation errors, phase errors\n",
    "- [ ] Add ensemble measurement"
   ]
  },
  {
   "cell_type": "code",
   "execution_count": 6,
   "metadata": {},
   "outputs": [],
   "source": [
    "import qutip as qt\n",
    "import numpy as np\n",
    "import sys"
   ]
  },
  {
   "cell_type": "code",
   "execution_count": 7,
   "metadata": {},
   "outputs": [],
   "source": [
    "sys.path.append('..')"
   ]
  },
  {
   "cell_type": "code",
   "execution_count": 8,
   "metadata": {},
   "outputs": [],
   "source": [
    "import pulse_sequences as ps"
   ]
  },
  {
   "cell_type": "markdown",
   "metadata": {},
   "source": [
    "## Create system"
   ]
  },
  {
   "cell_type": "code",
   "execution_count": 56,
   "metadata": {},
   "outputs": [],
   "source": [
    "delay = 1e-4  # time is relative to chemical shift strength\n",
    "pulse_width = 2e-5\n",
    "N = 3  # number of spins\n",
    "ensemble_size = 5"
   ]
  },
  {
   "cell_type": "code",
   "execution_count": 38,
   "metadata": {},
   "outputs": [],
   "source": [
    "X, Y, Z = ps.get_collective_spin(N=N)"
   ]
  },
  {
   "cell_type": "code",
   "execution_count": 57,
   "metadata": {},
   "outputs": [],
   "source": [
    "Hsys_ensemble = [ps.get_Hsys(N=N, dipolar_strength=1) for _ in range(ensemble_size)]"
   ]
  },
  {
   "cell_type": "code",
   "execution_count": 58,
   "metadata": {},
   "outputs": [],
   "source": [
    "pulses_ensemble = []\n",
    "for H in Hsys_ensemble:\n",
    "    r = np.random.normal(scale=.01)\n",
    "    pt = np.random.normal(scale=1e-4)\n",
    "    pulses_ensemble.append(\n",
    "        ps.get_pulses(H, X, Y, Z, pulse_width=pulse_width, delay=delay,\n",
    "                      rot_error=r, phase_transient=pt)\n",
    "    )"
   ]
  },
  {
   "cell_type": "code",
   "execution_count": 59,
   "metadata": {},
   "outputs": [],
   "source": [
    "Utarget = qt.tensor([qt.identity(2)]*N)"
   ]
  },
  {
   "cell_type": "code",
   "execution_count": 60,
   "metadata": {},
   "outputs": [],
   "source": [
    "pulse_names = [\n",
    "    'delay', 'X', 'Y', 'Xbar', 'Ybar'\n",
    "]"
   ]
  },
  {
   "cell_type": "markdown",
   "metadata": {},
   "source": [
    "## Define computational tree\n",
    "\n",
    "Keep track of propagator in memory to reduce computation time."
   ]
  },
  {
   "cell_type": "code",
   "execution_count": 23,
   "metadata": {},
   "outputs": [],
   "source": [
    "class Node(object):\n",
    "    \n",
    "    def __init__(self, propagator, sequence=[], depth=0):\n",
    "        self.propagator = propagator\n",
    "        self.sequence = sequence\n",
    "        self.depth = depth\n",
    "        \n",
    "        self.children = {}\n",
    "    \n",
    "    def has_children(self):\n",
    "        return len(self.children) > 0\n",
    "    \n",
    "    def evaluate(self, Utarget, pulses, reward_dict, max_depth=6):\n",
    "        \"\"\"If the node isn't at max_depth, then create children and\n",
    "        evaluate each individually. If the node is at max_depth, then\n",
    "        calculate the reward and add the sequence/reward pair to\n",
    "        reward_dict.\n",
    "        \n",
    "        Arguments:\n",
    "            pulses: An array of unitary operators representing all actions\n",
    "                that can be applied to the system.\n",
    "        Returns: The maximum reward seen by the node or its children, and\n",
    "            the corresponding sequence.\n",
    "            \n",
    "        \"\"\"\n",
    "        if self.depth < max_depth:\n",
    "            max_reward = 0\n",
    "            max_reward_sequence = []\n",
    "            for i, pulse in enumerate(pulses):\n",
    "                propagator = pulse * self.propagator\n",
    "                child = Node(propagator,\n",
    "                             self.sequence + [i],\n",
    "                             depth=self.depth + 1)\n",
    "                r, s = child.evaluate(Utarget, pulses, reward_dict, max_depth)\n",
    "                if r > max_reward:\n",
    "                    max_reward = r\n",
    "                    max_reward_sequence = s\n",
    "            return max_reward, max_reward_sequence\n",
    "        else:\n",
    "            fidelity = np.clip(\n",
    "                qt.metrics.average_gate_fidelity(self.propagator, Utarget),\n",
    "                0, 1\n",
    "            )\n",
    "            reward = - np.log10(1.0 - fidelity + 1e-100)\n",
    "            sequence_str = ','.join([str(a) for a in self.sequence])\n",
    "            reward_dict[sequence_str] = reward\n",
    "            return reward, self.sequence"
   ]
  },
  {
   "cell_type": "code",
   "execution_count": 24,
   "metadata": {},
   "outputs": [],
   "source": [
    "class EnsembleNode(object):\n",
    "    \n",
    "    def __init__(self, propagators, sequence=[], depth=0):\n",
    "        self.propagators = propagators  # will be list of Qobj for ensemble\n",
    "        self.sequence = sequence\n",
    "        self.depth = depth\n",
    "        \n",
    "        self.children = {}\n",
    "    \n",
    "    def has_children(self):\n",
    "        return len(self.children) > 0\n",
    "    \n",
    "    def evaluate(self, Utarget, pulses_ensemble, reward_dict, max_depth=6):\n",
    "        \"\"\"If the node isn't at max_depth, then create children and\n",
    "        evaluate each individually. If the node is at max_depth, then\n",
    "        calculate the reward and add the sequence/reward pair to\n",
    "        reward_dict.\n",
    "        \n",
    "        Arguments:\n",
    "            pulses: An array of unitary operators representing all actions\n",
    "                that can be applied to the system.\n",
    "        Returns: The maximum reward seen by the node or its children, and\n",
    "            the corresponding sequence.\n",
    "            \n",
    "        \"\"\"\n",
    "        if self.depth < max_depth:\n",
    "            max_reward = 0\n",
    "            max_reward_sequence = []\n",
    "            for i in range(len(pulses_ensemble[0])):\n",
    "                propagators = []\n",
    "                for j in range(len(pulses_ensemble)):\n",
    "                    propagators.append(pulses_ensemble[j][i] * self.propagators[j])\n",
    "                child = EnsembleNode(propagators,\n",
    "                             self.sequence + [i],\n",
    "                             depth=self.depth + 1)\n",
    "                r, s = child.evaluate(Utarget, pulses_ensemble, reward_dict, max_depth)\n",
    "                if r > max_reward:\n",
    "                    max_reward = r\n",
    "                    max_reward_sequence = s\n",
    "            return max_reward, max_reward_sequence\n",
    "        else:\n",
    "            fidelities = [np.clip(\n",
    "                qt.metrics.average_gate_fidelity(p, Utarget),\n",
    "                0, 1\n",
    "            ) for p in self.propagators]\n",
    "            fidelity = np.nanmean(fidelities)\n",
    "            reward = - np.log10(1.0 - fidelity + 1e-100)\n",
    "            sequence_str = ','.join([str(a) for a in self.sequence])\n",
    "            reward_dict[sequence_str] = reward\n",
    "            return reward, self.sequence"
   ]
  },
  {
   "cell_type": "markdown",
   "metadata": {},
   "source": [
    "## Identify primitives"
   ]
  },
  {
   "cell_type": "code",
   "execution_count": 173,
   "metadata": {},
   "outputs": [],
   "source": [
    "# reward_dict = {}\n",
    "    \n",
    "# root = Node(Utarget)\n",
    "# max_reward, max_reward_sequence = root.evaluate(\n",
    "#     Utarget, pulses, reward_dict\n",
    "# )\n",
    "\n",
    "# print(f'Max reward was {max_reward}\\nSequence:\\t{max_reward_sequence}')"
   ]
  },
  {
   "cell_type": "code",
   "execution_count": 61,
   "metadata": {},
   "outputs": [
    {
     "name": "stdout",
     "output_type": "stream",
     "text": [
      "Max reward was 6.134934258595179\n",
      "Sequence:\t[3, 4, 2, 4, 3, 1]\n"
     ]
    }
   ],
   "source": [
    "reward_dict = {}\n",
    "    \n",
    "root = EnsembleNode([Utarget] * ensemble_size)\n",
    "max_reward, max_reward_sequence = root.evaluate(\n",
    "    Utarget, pulses_ensemble, reward_dict\n",
    ")\n",
    "\n",
    "print(f'Max reward was {max_reward}\\nSequence:\\t{max_reward_sequence}')"
   ]
  },
  {
   "cell_type": "code",
   "execution_count": 64,
   "metadata": {},
   "outputs": [],
   "source": [
    "sequences = list(reward_dict.keys())"
   ]
  },
  {
   "cell_type": "code",
   "execution_count": 65,
   "metadata": {},
   "outputs": [],
   "source": [
    "rewards = list(reward_dict.values())"
   ]
  },
  {
   "cell_type": "code",
   "execution_count": 66,
   "metadata": {},
   "outputs": [],
   "source": [
    "sequences.sort(key=lambda s: -reward_dict[s])"
   ]
  },
  {
   "cell_type": "code",
   "execution_count": 51,
   "metadata": {},
   "outputs": [],
   "source": [
    "# (pulses_ensemble[0][0] * pulses_ensemble[0][4] * pulses_ensemble[0][2] * \n",
    "#  pulses_ensemble[0][0] * pulses_ensemble[0][1] * pulses_ensemble[0][3])"
   ]
  },
  {
   "cell_type": "code",
   "execution_count": 63,
   "metadata": {},
   "outputs": [
    {
     "data": {
      "text/plain": [
       "(2.824067141604811, 6.134934258595179)"
      ]
     },
     "execution_count": 63,
     "metadata": {},
     "output_type": "execute_result"
    }
   ],
   "source": [
    "reward_dict['1,1,4,1,1,4'], reward_dict['3,4,2,4,3,1'], "
   ]
  },
  {
   "cell_type": "code",
   "execution_count": 67,
   "metadata": {},
   "outputs": [
    {
     "data": {
      "text/plain": [
       "['3,4,2,4,3,1',\n",
       " '3,1,3,4,2,4',\n",
       " '4,2,4,3,1,3',\n",
       " '4,3,1,3,4,2',\n",
       " '1,3,4,2,4,3',\n",
       " '2,4,3,1,3,4',\n",
       " '1,3,1,2,4,2',\n",
       " '2,1,3,1,2,4',\n",
       " '3,1,2,4,2,1',\n",
       " '1,2,4,2,1,3',\n",
       " '2,4,2,1,3,1',\n",
       " '4,2,1,3,1,2',\n",
       " '1,4,3,2,3,4',\n",
       " '3,4,1,4,3,2',\n",
       " '4,3,2,3,4,1',\n",
       " '2,3,4,1,4,3',\n",
       " '3,2,3,4,1,4',\n",
       " '4,1,4,3,2,3',\n",
       " '1,2,3,2,1,4',\n",
       " '2,1,4,1,2,3',\n",
       " '2,3,2,1,4,1',\n",
       " '3,2,1,4,1,2',\n",
       " '4,1,2,3,2,1',\n",
       " '1,4,1,2,3,2',\n",
       " '1,2,2,4,3,1',\n",
       " '2,2,4,3,1,1',\n",
       " '2,4,3,1,1,2',\n",
       " '3,1,1,2,2,4',\n",
       " '1,1,2,2,4,3',\n",
       " '4,3,1,1,2,2',\n",
       " '4,4,3,3,1,2',\n",
       " '2,4,4,3,3,1',\n",
       " '3,1,2,4,4,3']"
      ]
     },
     "execution_count": 67,
     "metadata": {},
     "output_type": "execute_result"
    }
   ],
   "source": [
    "sequences[:33]"
   ]
  },
  {
   "cell_type": "code",
   "execution_count": 68,
   "metadata": {},
   "outputs": [
    {
     "data": {
      "text/plain": [
       "[6.134934258595179,\n",
       " 6.134934258463608,\n",
       " 6.134934258463608,\n",
       " 6.134934258463608,\n",
       " 6.134934258332038,\n",
       " 6.134934258332038,\n",
       " 6.134934109657306,\n",
       " 6.134934109657306,\n",
       " 6.134934109657306,\n",
       " 6.1349341095257355,\n",
       " 6.1349341095257355,\n",
       " 6.134934109394165,\n",
       " 6.134655160980322,\n",
       " 6.134655160980322,\n",
       " 6.134655160980322,\n",
       " 6.134655160848836,\n",
       " 6.134655160848836,\n",
       " 6.134655160848836,\n",
       " 6.134654866254428,\n",
       " 6.134654866254428,\n",
       " 6.134654866254428,\n",
       " 6.134654866254428,\n",
       " 6.134654866254428,\n",
       " 6.134654866122942]"
      ]
     },
     "execution_count": 68,
     "metadata": {},
     "output_type": "execute_result"
    }
   ],
   "source": [
    "[reward_dict[s] for s in sequences[:24]]"
   ]
  },
  {
   "cell_type": "markdown",
   "metadata": {},
   "source": [
    "## Construct primitives"
   ]
  },
  {
   "cell_type": "code",
   "execution_count": 194,
   "metadata": {},
   "outputs": [],
   "source": [
    "primitives_ensemble = []  # list of list of Qobj\n",
    "\n",
    "for j in range(len(pulses_ensemble)):\n",
    "    primitives = []\n",
    "    for i in range(24):\n",
    "        propagator = qt.identity(pulses_ensemble[0][0].dims[0])\n",
    "        sequence = sequences[i]\n",
    "        for p in sequence.split(','):\n",
    "            propagator = pulses_ensemble[j][int(p)] * propagator\n",
    "        primitives.append(propagator)\n",
    "    primitives_ensemble.append(primitives)"
   ]
  },
  {
   "cell_type": "code",
   "execution_count": 215,
   "metadata": {},
   "outputs": [],
   "source": [
    "# qt.hinton(primitives[0] + Utarget)\n",
    "# qt.hinton(primitives[1] + Utarget)"
   ]
  },
  {
   "cell_type": "markdown",
   "metadata": {},
   "source": [
    "## Build longer pulse sequences from primitives"
   ]
  },
  {
   "cell_type": "code",
   "execution_count": 200,
   "metadata": {},
   "outputs": [],
   "source": [
    "reward_dict_2 = {}\n",
    "\n",
    "root = EnsembleNode([Utarget]*3)\n",
    "max_reward, max_reward_sequence = root.evaluate(\n",
    "    Utarget, primitives_ensemble, reward_dict_2, max_depth=2)"
   ]
  },
  {
   "cell_type": "code",
   "execution_count": 201,
   "metadata": {},
   "outputs": [],
   "source": [
    "sequences_2 = list(reward_dict_2.keys())\n",
    "rewards_2 = list(reward_dict_2.values())"
   ]
  },
  {
   "cell_type": "code",
   "execution_count": 212,
   "metadata": {},
   "outputs": [],
   "source": [
    "sequences_2.sort(key=lambda s: -reward_dict_2[s])"
   ]
  },
  {
   "cell_type": "code",
   "execution_count": 213,
   "metadata": {},
   "outputs": [
    {
     "data": {
      "text/plain": [
       "['0,16',\n",
       " '1,19',\n",
       " '2,21',\n",
       " '3,22',\n",
       " '4,14',\n",
       " '5,15',\n",
       " '6,12',\n",
       " '7,13',\n",
       " '16,0',\n",
       " '19,1',\n",
       " '21,2',\n",
       " '22,3',\n",
       " '12,6',\n",
       " '13,7',\n",
       " '14,4',\n",
       " '15,5',\n",
       " '4,3']"
      ]
     },
     "execution_count": 213,
     "metadata": {},
     "output_type": "execute_result"
    }
   ],
   "source": [
    "sequences_2[:17]"
   ]
  },
  {
   "cell_type": "code",
   "execution_count": 208,
   "metadata": {},
   "outputs": [],
   "source": [
    "rewards_2.sort(reverse=True)"
   ]
  },
  {
   "cell_type": "code",
   "execution_count": 211,
   "metadata": {},
   "outputs": [
    {
     "data": {
      "text/plain": [
       "[4.138787196443834,\n",
       " 4.138787196443834,\n",
       " 4.138787196443834,\n",
       " 4.138787196443834,\n",
       " 4.138787196443171,\n",
       " 4.138787196443171,\n",
       " 4.138787196443171,\n",
       " 4.138787196443171,\n",
       " 4.138787196443171,\n",
       " 4.138787196443171,\n",
       " 4.138787196443171,\n",
       " 4.138787196443171,\n",
       " 4.1387871964425065,\n",
       " 4.1387871964425065,\n",
       " 4.1387871964425065,\n",
       " 4.1387871964425065,\n",
       " 4.034173108172478]"
      ]
     },
     "execution_count": 211,
     "metadata": {},
     "output_type": "execute_result"
    }
   ],
   "source": [
    "rewards_2[:17]"
   ]
  },
  {
   "cell_type": "code",
   "execution_count": 214,
   "metadata": {},
   "outputs": [
    {
     "name": "stdout",
     "output_type": "stream",
     "text": [
      "0,3,3,0,3,3,0,1,1,0,1,1\n",
      "1,0,0,1,0,0,1,2,2,1,2,2\n",
      "2,1,1,2,1,1,2,3,3,2,3,3\n",
      "3,2,2,3,2,2,3,0,0,3,0,0\n",
      "0,0,1,0,0,1,2,2,1,2,2,1\n",
      "1,1,2,1,1,2,3,3,2,3,3,2\n",
      "2,2,3,2,2,3,0,0,3,0,0,3\n",
      "3,3,0,3,3,0,1,1,0,1,1,0\n",
      "0,1,1,0,1,1,0,3,3,0,3,3\n",
      "1,2,2,1,2,2,1,0,0,1,0,0\n",
      "2,3,3,2,3,3,2,1,1,2,1,1\n",
      "3,0,0,3,0,0,3,2,2,3,2,2\n",
      "0,0,3,0,0,3,2,2,3,2,2,3\n",
      "1,1,0,1,1,0,3,3,0,3,3,0\n",
      "2,2,1,2,2,1,0,0,1,0,0,1\n",
      "3,3,2,3,3,2,1,1,2,1,1,2\n"
     ]
    }
   ],
   "source": [
    "for i in range(16):\n",
    "    inds = sequences_2[i].split(',')\n",
    "    print(sequences[int(inds[0])] + ',' + sequences[int(inds[1])])"
   ]
  }
 ],
 "metadata": {
  "kernelspec": {
   "display_name": "Python 3",
   "language": "python",
   "name": "python3"
  },
  "language_info": {
   "codemirror_mode": {
    "name": "ipython",
    "version": 3
   },
   "file_extension": ".py",
   "mimetype": "text/x-python",
   "name": "python",
   "nbconvert_exporter": "python",
   "pygments_lexer": "ipython3",
   "version": "3.7.9"
  }
 },
 "nbformat": 4,
 "nbformat_minor": 4
}
