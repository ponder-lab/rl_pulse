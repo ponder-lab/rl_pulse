{
 "cells": [
  {
   "cell_type": "code",
   "execution_count": null,
   "metadata": {},
   "outputs": [],
   "source": [
    "from sympy import *\n",
    "import numpy as np\n",
    "from scipy.linalg import expm"
   ]
  },
  {
   "cell_type": "code",
   "execution_count": null,
   "metadata": {},
   "outputs": [],
   "source": [
    "a, b, c, d, e, f, g, h, k = symbols('a b c d e f g h k')"
   ]
  },
  {
   "cell_type": "code",
   "execution_count": null,
   "metadata": {},
   "outputs": [],
   "source": [
    "H = Matrix(\n",
    "    [[a, d+e*1j, f+g*1j],\n",
    "     [d-e*1j, b, h+k*1j],\n",
    "     [f-g*1j, h-k*1j, c]]\n",
    ")"
   ]
  },
  {
   "cell_type": "code",
   "execution_count": null,
   "metadata": {},
   "outputs": [],
   "source": [
    "H"
   ]
  },
  {
   "cell_type": "code",
   "execution_count": null,
   "metadata": {},
   "outputs": [],
   "source": [
    "z = np.zeros((2,5))"
   ]
  },
  {
   "cell_type": "code",
   "execution_count": null,
   "metadata": {},
   "outputs": [],
   "source": [
    "z.size"
   ]
  },
  {
   "cell_type": "code",
   "execution_count": null,
   "metadata": {},
   "outputs": [],
   "source": [
    "np.triu_indices(3, 1)"
   ]
  },
  {
   "cell_type": "code",
   "execution_count": null,
   "metadata": {},
   "outputs": [],
   "source": [
    "np.triu(np.array([[0,0,1],[0,1,0],[1,0,0]]), 1)"
   ]
  },
  {
   "cell_type": "code",
   "execution_count": null,
   "metadata": {},
   "outputs": [],
   "source": [
    "def get_hermitian_matrix(magnitudes, phases):\n",
    "    \"\"\"\n",
    "    Args:\n",
    "        magnitudes: An ndarray of length dim(dim+1)/2.\n",
    "        phases: An ndarray of length dim(dim-1)/2.\n",
    "    \"\"\"\n",
    "    dim = int((-1 + np.sqrt(1 + 8 * magnitudes.size))/2)\n",
    "    # TODO make sure phases is right length too\n",
    "    H = np.zeros((dim, dim), dtype=np.complex64)\n",
    "    ind_upper = np.triu_indices(dim)\n",
    "    H[ind_upper] = magnitudes\n",
    "    ind_upper2 = np.triu_indices(dim, 1)\n",
    "    H[ind_upper2] = H[ind_upper2] * np.exp(1j * phases)\n",
    "    H = H + np.triu(H, 1).conj().T\n",
    "    return H\n",
    "#     dim = int(np.sqrt(real_params.size))\n",
    "#     if dim**2 != real_params.size:\n",
    "#         raise Exception('Parameters don\\'t match matrix size!')\n",
    "#     H = np.zeros((dim, dim), dtype=np.complex64)\n",
    "#     row = 0\n",
    "#     start_col = 1\n",
    "#     col = start_col\n",
    "#     for ind in range(int((dim**2 - dim) / 2)):\n",
    "#         H[row, col] = (real_params[2 * ind]\n",
    "#                        * np.exp(1j * real_params[2 * ind + 1]))\n",
    "#         H[col, row] = (real_params[2 * ind]\n",
    "#                        * np.exp(-1j * real_params[2 * ind + 1]))\n",
    "#         col += 1\n",
    "#         if col >= dim:\n",
    "#             row += 1\n",
    "#             start_col += 1\n",
    "#             col = start_col\n",
    "#     H += np.diag(real_params[(-dim):])\n",
    "#     return H"
   ]
  },
  {
   "cell_type": "code",
   "execution_count": null,
   "metadata": {},
   "outputs": [],
   "source": [
    "magnitudes = np.random.normal(scale=10, size=(10,))\n",
    "phases = np.random.uniform(low=-np.pi, high=np.pi, size=(6,))\n",
    "magnitude_noise = np.random.normal(scale=.1, size=(10,))\n",
    "phase_noise = np.random.normal(scale=.03, size=(6,))"
   ]
  },
  {
   "cell_type": "code",
   "execution_count": null,
   "metadata": {},
   "outputs": [],
   "source": [
    "H1 = get_hermitian_matrix(\n",
    "    magnitudes=magnitudes,\n",
    "    phases=phases\n",
    ")\n",
    "H2 = get_hermitian_matrix(\n",
    "    magnitudes=magnitudes + magnitude_noise,\n",
    "    phases=phases + phase_noise\n",
    ")"
   ]
  },
  {
   "cell_type": "code",
   "execution_count": null,
   "metadata": {},
   "outputs": [],
   "source": [
    "U1 = expm(-1j * H1)\n",
    "U2 = expm(-1j * H2)"
   ]
  },
  {
   "cell_type": "code",
   "execution_count": null,
   "metadata": {},
   "outputs": [],
   "source": [
    "with np.printoptions(precision=3, suppress=True):\n",
    "    print(U1 @ U2.conj().T)"
   ]
  },
  {
   "cell_type": "code",
   "execution_count": null,
   "metadata": {},
   "outputs": [],
   "source": [
    "np.linalg.norm(U1-U2) / np.linalg.norm(U1)"
   ]
  }
 ],
 "metadata": {
  "kernelspec": {
   "display_name": "Python 3",
   "language": "python",
   "name": "python3"
  },
  "language_info": {
   "codemirror_mode": {
    "name": "ipython",
    "version": 3
   },
   "file_extension": ".py",
   "mimetype": "text/x-python",
   "name": "python",
   "nbconvert_exporter": "python",
   "pygments_lexer": "ipython3",
   "version": "3.6.11"
  }
 },
 "nbformat": 4,
 "nbformat_minor": 4
}
