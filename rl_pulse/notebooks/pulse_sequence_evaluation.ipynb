{
 "cells": [
  {
   "cell_type": "markdown",
   "metadata": {},
   "source": [
    "# Pulse sequence evaluation\n",
    "\n",
    "Using arbitrary units. Energy is normalized to the standard deviation in chemical shift strengths. Reduced Planck's constant $\\hbar \\equiv 1$."
   ]
  },
  {
   "cell_type": "code",
   "execution_count": 104,
   "metadata": {},
   "outputs": [],
   "source": [
    "import qutip as qt\n",
    "import numpy as np\n",
    "import matplotlib.pyplot as plt"
   ]
  },
  {
   "cell_type": "markdown",
   "metadata": {},
   "source": [
    "## Identify primitives"
   ]
  },
  {
   "cell_type": "code",
   "execution_count": 2,
   "metadata": {},
   "outputs": [],
   "source": [
    "delay = 1e-2  # time is relative to chemical shift strength\n",
    "pulse_width = 5e-3\n",
    "N = 3  # number of spins"
   ]
  },
  {
   "cell_type": "code",
   "execution_count": 45,
   "metadata": {},
   "outputs": [],
   "source": [
    "def get_Hsys(dipolar_strength=1e-2):\n",
    "    chemical_shifts = 2*np.pi * np.random.normal(scale=1, size=(N,))\n",
    "    Hcs = sum(\n",
    "        [qt.tensor(\n",
    "            [qt.identity(2)]*i\n",
    "            + [chemical_shifts[i] * qt.sigmaz()]\n",
    "            + [qt.identity(2)]*(N-i-1)\n",
    "        ) for i in range(N)]\n",
    "    )\n",
    "    # dipolar interactions\n",
    "    dipolar_matrix = 2*np.pi * np.random.normal(scale=dipolar_strength, size=(N, N))\n",
    "    Hdip = sum([\n",
    "        dipolar_matrix[i, j] * (\n",
    "            2 * qt.tensor(\n",
    "                [qt.identity(2)]*i\n",
    "                + [qt.sigmaz()]\n",
    "                + [qt.identity(2)]*(j-i-1)\n",
    "                + [qt.sigmaz()]\n",
    "                + [qt.identity(2)]*(N-j-1)\n",
    "            )\n",
    "            - qt.tensor(\n",
    "                [qt.identity(2)]*i\n",
    "                + [qt.sigmax()]\n",
    "                + [qt.identity(2)]*(j-i-1)\n",
    "                + [qt.sigmax()]\n",
    "                + [qt.identity(2)]*(N-j-1)\n",
    "            )\n",
    "            - qt.tensor(\n",
    "                [qt.identity(2)]*i\n",
    "                + [qt.sigmay()]\n",
    "                + [qt.identity(2)]*(j-i-1)\n",
    "                + [qt.sigmay()]\n",
    "                + [qt.identity(2)]*(N-j-1)\n",
    "            )\n",
    "        )\n",
    "        for i in range(N) for j in range(i+1, N)\n",
    "    ])\n",
    "    return Hcs + Hdip"
   ]
  },
  {
   "cell_type": "code",
   "execution_count": 46,
   "metadata": {},
   "outputs": [],
   "source": [
    "X = sum(\n",
    "    [qt.tensor(\n",
    "        [qt.identity(2)]*i\n",
    "        + [qt.spin_Jx(1/2)]\n",
    "        + [qt.identity(2)]*(N-i-1)\n",
    "    ) for i in range(N)]\n",
    ")\n",
    "Y = sum(\n",
    "    [qt.tensor(\n",
    "        [qt.identity(2)]*i\n",
    "        + [qt.spin_Jy(1/2)]\n",
    "        + [qt.identity(2)]*(N-i-1)\n",
    "    ) for i in range(N)]\n",
    ")"
   ]
  },
  {
   "cell_type": "code",
   "execution_count": 47,
   "metadata": {},
   "outputs": [],
   "source": [
    "def get_pulses(Hsys, X, Y, pulse_width, delay, rot_error=0):\n",
    "    rot = np.random.normal(scale=rot_error)\n",
    "    pulses = [\n",
    "        qt.propagator(X * (np.pi/2) * (1 + rot) / pulse_width + Hsys, pulse_width),\n",
    "        qt.propagator(Y * (np.pi/2) * (1 + rot) / pulse_width + Hsys, pulse_width),\n",
    "        qt.propagator(-X * (np.pi/2) * (1 + rot) / pulse_width + Hsys, pulse_width),\n",
    "        qt.propagator(-Y * (np.pi/2) * (1 + rot) / pulse_width + Hsys, pulse_width),\n",
    "        qt.propagator(Hsys, pulse_width)\n",
    "    ]\n",
    "    delay_propagator = qt.propagator(Hsys, delay)\n",
    "    pulses = [delay_propagator * i for i in pulses]\n",
    "    return pulses"
   ]
  },
  {
   "cell_type": "code",
   "execution_count": 49,
   "metadata": {},
   "outputs": [],
   "source": [
    "Hsys_ensemble = [get_Hsys() for _ in range(3)]\n",
    "pulses_ensemble = [\n",
    "    get_pulses(H, X, Y, pulse_width, delay, rot_error=0.01) for H in Hsys_ensemble\n",
    "]"
   ]
  },
  {
   "cell_type": "code",
   "execution_count": 50,
   "metadata": {},
   "outputs": [],
   "source": [
    "pulse_names = [\n",
    "    'X', 'Y', 'Xbar', 'Ybar', 'delay'\n",
    "]"
   ]
  },
  {
   "cell_type": "code",
   "execution_count": 52,
   "metadata": {},
   "outputs": [],
   "source": [
    "Utarget = qt.identity(Hsys_ensemble[0].dims[0])"
   ]
  },
  {
   "cell_type": "markdown",
   "metadata": {},
   "source": [
    "## Define and evaluate pulse sequences\n",
    "\n"
   ]
  },
  {
   "cell_type": "code",
   "execution_count": 54,
   "metadata": {},
   "outputs": [],
   "source": [
    "def get_fidelity(pulse_sequence, Utarget, pulses):\n",
    "    Uexp = qt.identity(Utarget.dims[0])\n",
    "    for p in pulse_sequence.split(','):\n",
    "        Uexp = pulses[int(p)] * Uexp\n",
    "    return qt.metrics.average_gate_fidelity(Uexp, Utarget)"
   ]
  },
  {
   "cell_type": "code",
   "execution_count": 55,
   "metadata": {},
   "outputs": [],
   "source": [
    "def get_mean_fidelity(pulse_sequence, Utarget, pulses_ensemble):\n",
    "    fidelity = 0\n",
    "    for pulses in pulses_ensemble:\n",
    "        fidelity += get_fidelity(pulse_sequence, Utarget, pulses)\n",
    "    return fidelity / len(pulses_ensemble)"
   ]
  },
  {
   "cell_type": "code",
   "execution_count": 35,
   "metadata": {},
   "outputs": [],
   "source": [
    "def format_pulse_sequence(pulse_sequence, x='x', y='y', xbar='−x', ybar='−y'):\n",
    "    pulse_sequence = pulse_sequence.replace(ybar, '3').replace(xbar, '2').replace(x, '0').replace(y, '1')\n",
    "    pulse_sequence = pulse_sequence.replace(' ', '')\n",
    "    return pulse_sequence"
   ]
  },
  {
   "cell_type": "code",
   "execution_count": 62,
   "metadata": {},
   "outputs": [],
   "source": [
    "ideal6 = '1,0,0,1,2,2'\n",
    "yxx24 = '−y, x, −x, y, −x, −x, y, −x, x, −y, x, x, y,−x,x,−y,x,x,−y,x,−x,y,−x,−x'\n",
    "yxx24 = format_pulse_sequence(yxx24)\n",
    "yxx48 = ('y,−x,−x,y,−x,−x,−y,x,x,y,−x,−x, −y,x,x,−y,x,x,y,'\n",
    "         + '−x,−x,y,−x,−x, −y, x, x, y, −x, −x, −y, x, x, '\n",
    "         + '−y, x, x, y,−x,−x,−y,x,x,y,−x,−x,−y,x,x')\n",
    "yxx48 = format_pulse_sequence(yxx48)\n",
    "\n",
    "# brute-force search\n",
    "bf6 = '0,0,1,0,0,1'\n",
    "bf12 = '0,0,3,0,0,3,2,2,3,2,2,3'\n",
    "bfr12 = '0,3,3,0,3,3,0,1,1,0,1,1'"
   ]
  },
  {
   "cell_type": "code",
   "execution_count": 76,
   "metadata": {},
   "outputs": [
    {
     "data": {
      "text/plain": [
       "'1,2,2,1,2,2,3,0,0,1,2,2,3,0,0,3,0,0,1,2,2,1,2,2,'"
      ]
     },
     "execution_count": 76,
     "metadata": {},
     "output_type": "execute_result"
    }
   ],
   "source": [
    "yxx48[:48]"
   ]
  },
  {
   "cell_type": "code",
   "execution_count": 60,
   "metadata": {},
   "outputs": [
    {
     "data": {
      "text/plain": [
       "0.9946513457377097"
      ]
     },
     "execution_count": 60,
     "metadata": {},
     "output_type": "execute_result"
    }
   ],
   "source": [
    "get_mean_fidelity(((yxx24 + ',')*2)[:-1], Utarget, pulses_ensemble)"
   ]
  },
  {
   "cell_type": "code",
   "execution_count": 58,
   "metadata": {},
   "outputs": [
    {
     "data": {
      "text/plain": [
       "0.9954404240609528"
      ]
     },
     "execution_count": 58,
     "metadata": {},
     "output_type": "execute_result"
    }
   ],
   "source": [
    "get_mean_fidelity(yxx48, Utarget, pulses_ensemble)"
   ]
  },
  {
   "cell_type": "code",
   "execution_count": 116,
   "metadata": {},
   "outputs": [
    {
     "data": {
      "text/plain": [
       "0.9813734184528826"
      ]
     },
     "execution_count": 116,
     "metadata": {},
     "output_type": "execute_result"
    }
   ],
   "source": [
    "get_mean_fidelity(((bf12 + ',')*4)[:-1], Utarget, pulses_ensemble)"
   ]
  },
  {
   "cell_type": "code",
   "execution_count": 115,
   "metadata": {},
   "outputs": [
    {
     "data": {
      "text/plain": [
       "0.9813734184528826"
      ]
     },
     "execution_count": 115,
     "metadata": {},
     "output_type": "execute_result"
    }
   ],
   "source": [
    "get_mean_fidelity(((bfr12 + ',')*4)[:-1], Utarget, pulses_ensemble)"
   ]
  },
  {
   "cell_type": "code",
   "execution_count": 100,
   "metadata": {},
   "outputs": [
    {
     "data": {
      "text/plain": [
       "0.6318204351937783"
      ]
     },
     "execution_count": 100,
     "metadata": {},
     "output_type": "execute_result"
    }
   ],
   "source": [
    "get_mean_fidelity(yxx48[12:59], Utarget, pulses_ensemble)"
   ]
  },
  {
   "cell_type": "code",
   "execution_count": 124,
   "metadata": {},
   "outputs": [],
   "source": [
    "fids = []\n",
    "Uexp = qt.identity(Utarget.dims[0])\n",
    "for p in ((yxx48 + ',')*1)[:-1].split(','):\n",
    "    Uexp = pulses_ensemble[1][int(p)] * Uexp\n",
    "    fids.append(qt.metrics.average_gate_fidelity(Uexp, Utarget))"
   ]
  },
  {
   "cell_type": "code",
   "execution_count": 125,
   "metadata": {},
   "outputs": [
    {
     "data": {
      "text/plain": [
       "Text(0.5, 0, 'Pulse number')"
      ]
     },
     "execution_count": 125,
     "metadata": {},
     "output_type": "execute_result"
    },
    {
     "data": {
      "image/png": "[encoded data removed]",
      "text/plain": [
       "<Figure size 432x288 with 1 Axes>"
      ]
     },
     "metadata": {
      "needs_background": "light"
     },
     "output_type": "display_data"
    }
   ],
   "source": [
    "plt.plot(-np.log10(1-np.array(fids)))\n",
    "plt.ylabel('Reward')\n",
    "plt.xlabel('Pulse number')"
   ]
  },
  {
   "cell_type": "code",
   "execution_count": null,
   "metadata": {},
   "outputs": [],
   "source": []
  }
 ],
 "metadata": {
  "kernelspec": {
   "display_name": "Python 3",
   "language": "python",
   "name": "python3"
  },
  "language_info": {
   "codemirror_mode": {
    "name": "ipython",
    "version": 3
   },
   "file_extension": ".py",
   "mimetype": "text/x-python",
   "name": "python",
   "nbconvert_exporter": "python",
   "pygments_lexer": "ipython3",
   "version": "3.6.11"
  }
 },
 "nbformat": 4,
 "nbformat_minor": 4
}
