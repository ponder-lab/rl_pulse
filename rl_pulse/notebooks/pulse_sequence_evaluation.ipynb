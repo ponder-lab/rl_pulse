{
 "cells": [
  {
   "cell_type": "markdown",
   "metadata": {},
   "source": [
    "# Pulse sequence evaluation\n",
    "\n",
    "Using arbitrary units. Energy is normalized to the standard deviation in chemical shift strengths. Reduced Planck's constant $\\hbar \\equiv 1$."
   ]
  },
  {
   "cell_type": "code",
   "execution_count": 1,
   "metadata": {},
   "outputs": [],
   "source": [
    "import qutip as qt\n",
    "import numpy as np\n",
    "import matplotlib.pyplot as plt"
   ]
  },
  {
   "cell_type": "markdown",
   "metadata": {},
   "source": [
    "## Identify primitives"
   ]
  },
  {
   "cell_type": "code",
   "execution_count": 2,
   "metadata": {},
   "outputs": [],
   "source": [
    "delay = 1e-2  # time is relative to chemical shift strength\n",
    "pulse_width = 5e-3\n",
    "N = 3  # number of spins"
   ]
  },
  {
   "cell_type": "code",
   "execution_count": 3,
   "metadata": {},
   "outputs": [],
   "source": [
    "def get_Hsys(dipolar_strength=1e-2):\n",
    "    chemical_shifts = 2*np.pi * np.random.normal(scale=1, size=(N,))\n",
    "    Hcs = sum(\n",
    "        [qt.tensor(\n",
    "            [qt.identity(2)]*i\n",
    "            + [chemical_shifts[i] * qt.sigmaz()]\n",
    "            + [qt.identity(2)]*(N-i-1)\n",
    "        ) for i in range(N)]\n",
    "    )\n",
    "    # dipolar interactions\n",
    "    dipolar_matrix = 2*np.pi * np.random.normal(scale=dipolar_strength, size=(N, N))\n",
    "    Hdip = sum([\n",
    "        dipolar_matrix[i, j] * (\n",
    "            2 * qt.tensor(\n",
    "                [qt.identity(2)]*i\n",
    "                + [qt.sigmaz()]\n",
    "                + [qt.identity(2)]*(j-i-1)\n",
    "                + [qt.sigmaz()]\n",
    "                + [qt.identity(2)]*(N-j-1)\n",
    "            )\n",
    "            - qt.tensor(\n",
    "                [qt.identity(2)]*i\n",
    "                + [qt.sigmax()]\n",
    "                + [qt.identity(2)]*(j-i-1)\n",
    "                + [qt.sigmax()]\n",
    "                + [qt.identity(2)]*(N-j-1)\n",
    "            )\n",
    "            - qt.tensor(\n",
    "                [qt.identity(2)]*i\n",
    "                + [qt.sigmay()]\n",
    "                + [qt.identity(2)]*(j-i-1)\n",
    "                + [qt.sigmay()]\n",
    "                + [qt.identity(2)]*(N-j-1)\n",
    "            )\n",
    "        )\n",
    "        for i in range(N) for j in range(i+1, N)\n",
    "    ])\n",
    "    return Hcs + Hdip"
   ]
  },
  {
   "cell_type": "code",
   "execution_count": 4,
   "metadata": {},
   "outputs": [],
   "source": [
    "X = sum(\n",
    "    [qt.tensor(\n",
    "        [qt.identity(2)]*i\n",
    "        + [qt.spin_Jx(1/2)]\n",
    "        + [qt.identity(2)]*(N-i-1)\n",
    "    ) for i in range(N)]\n",
    ")\n",
    "Y = sum(\n",
    "    [qt.tensor(\n",
    "        [qt.identity(2)]*i\n",
    "        + [qt.spin_Jy(1/2)]\n",
    "        + [qt.identity(2)]*(N-i-1)\n",
    "    ) for i in range(N)]\n",
    ")\n",
    "Z = sum(\n",
    "    [qt.tensor(\n",
    "        [qt.identity(2)]*i\n",
    "        + [qt.spin_Jz(1/2)]\n",
    "        + [qt.identity(2)]*(N-i-1)\n",
    "    ) for i in range(N)]\n",
    ")"
   ]
  },
  {
   "cell_type": "code",
   "execution_count": 5,
   "metadata": {},
   "outputs": [],
   "source": [
    "def get_pulses(Hsys, X, Y, Z, pulse_width, delay, rot_error=0):\n",
    "    rot = np.random.normal(scale=rot_error)\n",
    "    pulses = [\n",
    "        qt.propagator(Hsys, pulse_width),\n",
    "        qt.propagator(X * (np.pi/2) * (1 + rot) / pulse_width + Hsys, pulse_width),\n",
    "        qt.propagator(-X * (np.pi/2) * (1 + rot) / pulse_width + Hsys, pulse_width),\n",
    "        qt.propagator(Y * (np.pi/2) * (1 + rot) / pulse_width + Hsys, pulse_width),\n",
    "        qt.propagator(-Y * (np.pi/2) * (1 + rot) / pulse_width + Hsys, pulse_width),\n",
    "#         qt.propagator(Z * (np.pi/2) * (1 + rot) / pulse_width + Hsys, pulse_width),\n",
    "#         qt.propagator(-Z * (np.pi/2) * (1 + rot) / pulse_width + Hsys, pulse_width),\n",
    "    ]\n",
    "    delay_propagator = qt.propagator(Hsys, delay)\n",
    "    pulses = [delay_propagator * i for i in pulses]\n",
    "    return pulses"
   ]
  },
  {
   "cell_type": "code",
   "execution_count": 6,
   "metadata": {},
   "outputs": [],
   "source": [
    "Hsys_ensemble = [get_Hsys() for _ in range(10)]\n",
    "pulses_ensemble = [\n",
    "    get_pulses(H, X, Y, Z, pulse_width, delay, rot_error=0.01) for H in Hsys_ensemble\n",
    "]"
   ]
  },
  {
   "cell_type": "code",
   "execution_count": 7,
   "metadata": {},
   "outputs": [],
   "source": [
    "pulse_names = [\n",
    "    'd', 'x', '-x', 'y', '-y', #'z', '-z'\n",
    "]"
   ]
  },
  {
   "cell_type": "code",
   "execution_count": 8,
   "metadata": {},
   "outputs": [],
   "source": [
    "Utarget = qt.identity(Hsys_ensemble[0].dims[0])"
   ]
  },
  {
   "cell_type": "markdown",
   "metadata": {},
   "source": [
    "## Define and evaluate pulse sequences\n",
    "\n"
   ]
  },
  {
   "cell_type": "code",
   "execution_count": 9,
   "metadata": {},
   "outputs": [],
   "source": [
    "def get_fidelity(pulse_sequence, Utarget, pulses):\n",
    "    Uexp = qt.identity(Utarget.dims[0])\n",
    "    for p in pulse_sequence:\n",
    "        Uexp = pulses[p] * Uexp\n",
    "    return qt.metrics.average_gate_fidelity(Uexp, Utarget)"
   ]
  },
  {
   "cell_type": "code",
   "execution_count": 10,
   "metadata": {},
   "outputs": [],
   "source": [
    "def get_mean_fidelity(pulse_sequence, Utarget, pulses_ensemble):\n",
    "    fidelity = 0\n",
    "    for pulses in pulses_ensemble:\n",
    "        fidelity += get_fidelity(pulse_sequence, Utarget, pulses)\n",
    "    return fidelity / len(pulses_ensemble)"
   ]
  },
  {
   "cell_type": "code",
   "execution_count": 18,
   "metadata": {},
   "outputs": [],
   "source": [
    "ideal6 = [3, 1, 1, 3, 2, 2]\n",
    "yxx24 = [4, 1, 2, 3, 2, 2, 3, 2, 1, 4, 1, 1, 3, 2, 1, 4, 1, 1, 4, 1, 2, 3, 2, 2]\n",
    "yxx48 = [\n",
    "    3, 2, 2, 3, 2, 2, 4, 1, 1, 3, 2, 2, 4, 1, 1, 4, 1, 1, 3, 2, 2, 3, 2, 2,\n",
    "    4, 1, 1, 3, 2, 2, 4, 1, 1, 4, 1, 1, 3, 2, 2, 4, 1, 1, 3, 2, 2, 4, 1, 1\n",
    "]\n",
    "\n",
    "# brute-force search\n",
    "bf6 = [1, 1, 3, 1, 1, 3]\n",
    "bf12 = [1, 1, 4, 1, 1, 4, 2, 2, 4, 2, 2, 4]\n",
    "bfr12 = [1, 4, 4, 1, 4, 4, 1, 3, 3, 1, 3, 3]\n",
    "\n",
    "# vanilla MCTS search\n",
    "mcts12_1 = [0, 1, 0, 3, 0, 1, 0, 1, 0, 3, 0, 1]\n",
    "mcts12_2 = [4, 0, 4, 1, 4, 4, 3, 4, 2, 2, 2, 0]\n",
    "mcts12_3 = [4, 4, 4, 1, 0, 3, 3, 0, 1, 3, 3, 4]\n",
    "mcts12_4 = [3, 0, 3, 1, 3, 0, 3, 2, 1, 1, 1, 2]\n",
    "mcts24 = [4, 2, 3, 4, 2, 1, 3, 2, 0, 2, 2, 3, 4, 0, 3, 1, 2, 1, 3, 4, 1, 1, 1, 2]"
   ]
  },
  {
   "cell_type": "code",
   "execution_count": 27,
   "metadata": {},
   "outputs": [
    {
     "data": {
      "text/plain": [
       "0.9238864103809943"
      ]
     },
     "execution_count": 27,
     "metadata": {},
     "output_type": "execute_result"
    }
   ],
   "source": [
    "get_mean_fidelity(mcts12_1, Utarget, pulses_ensemble)"
   ]
  },
  {
   "cell_type": "code",
   "execution_count": 28,
   "metadata": {},
   "outputs": [
    {
     "data": {
      "text/plain": [
       "0.9804573985600967"
      ]
     },
     "execution_count": 28,
     "metadata": {},
     "output_type": "execute_result"
    }
   ],
   "source": [
    "get_mean_fidelity(mcts12_2, Utarget, pulses_ensemble)"
   ]
  },
  {
   "cell_type": "code",
   "execution_count": 29,
   "metadata": {},
   "outputs": [
    {
     "data": {
      "text/plain": [
       "0.9832478911317288"
      ]
     },
     "execution_count": 29,
     "metadata": {},
     "output_type": "execute_result"
    }
   ],
   "source": [
    "get_mean_fidelity(mcts12_3, Utarget, pulses_ensemble)"
   ]
  },
  {
   "cell_type": "code",
   "execution_count": 30,
   "metadata": {},
   "outputs": [
    {
     "data": {
      "text/plain": [
       "0.97396731685615"
      ]
     },
     "execution_count": 30,
     "metadata": {},
     "output_type": "execute_result"
    }
   ],
   "source": [
    "get_mean_fidelity(mcts12_4, Utarget, pulses_ensemble)"
   ]
  },
  {
   "cell_type": "code",
   "execution_count": 31,
   "metadata": {},
   "outputs": [
    {
     "data": {
      "text/plain": [
       "0.9883437990059489"
      ]
     },
     "execution_count": 31,
     "metadata": {},
     "output_type": "execute_result"
    }
   ],
   "source": [
    "get_mean_fidelity(mcts24, Utarget, pulses_ensemble)"
   ]
  },
  {
   "cell_type": "code",
   "execution_count": 32,
   "metadata": {},
   "outputs": [
    {
     "data": {
      "text/plain": [
       "0.8899080699991115"
      ]
     },
     "execution_count": 32,
     "metadata": {},
     "output_type": "execute_result"
    }
   ],
   "source": [
    "get_mean_fidelity(ideal6, Utarget, pulses_ensemble)"
   ]
  },
  {
   "cell_type": "code",
   "execution_count": 33,
   "metadata": {},
   "outputs": [
    {
     "data": {
      "text/plain": [
       "0.9979643804075797"
      ]
     },
     "execution_count": 33,
     "metadata": {},
     "output_type": "execute_result"
    }
   ],
   "source": [
    "get_mean_fidelity(yxx24, Utarget, pulses_ensemble)"
   ]
  },
  {
   "cell_type": "code",
   "execution_count": 34,
   "metadata": {},
   "outputs": [
    {
     "data": {
      "text/plain": [
       "0.9945958534354444"
      ]
     },
     "execution_count": 34,
     "metadata": {},
     "output_type": "execute_result"
    }
   ],
   "source": [
    "get_mean_fidelity(yxx48, Utarget, pulses_ensemble)"
   ]
  },
  {
   "cell_type": "code",
   "execution_count": null,
   "metadata": {},
   "outputs": [],
   "source": [
    "get_mean_fidelity(((bf12 + ',')*4)[:-1], Utarget, pulses_dict_ensemble)"
   ]
  },
  {
   "cell_type": "code",
   "execution_count": null,
   "metadata": {},
   "outputs": [],
   "source": [
    "get_mean_fidelity(((bfr12 + ',')*4)[:-1], Utarget, pulses_dict_ensemble)"
   ]
  },
  {
   "cell_type": "code",
   "execution_count": null,
   "metadata": {},
   "outputs": [],
   "source": [
    "get_mean_fidelity(rand12, Utarget, pulses_dict_ensemble)"
   ]
  },
  {
   "cell_type": "code",
   "execution_count": null,
   "metadata": {},
   "outputs": [],
   "source": [
    "get_mean_fidelity(','.join(['-y,x,-y,x,-y,x']*4), Utarget, pulses_dict_ensemble)"
   ]
  },
  {
   "cell_type": "code",
   "execution_count": null,
   "metadata": {},
   "outputs": [],
   "source": [
    "fids = []\n",
    "Uexp = qt.identity(Utarget.dims[0])\n",
    "for p in ((bfr12 + ',')*4)[:-1].split(','):\n",
    "    Uexp = pulses_dict_ensemble[1][p] * Uexp\n",
    "    fids.append(qt.metrics.average_gate_fidelity(Uexp, Utarget))"
   ]
  },
  {
   "cell_type": "code",
   "execution_count": null,
   "metadata": {
    "scrolled": false
   },
   "outputs": [],
   "source": [
    "plt.plot(-np.log10(1-np.array(fids)))\n",
    "plt.ylabel('Reward')\n",
    "plt.xlabel('Pulse number')"
   ]
  },
  {
   "cell_type": "code",
   "execution_count": null,
   "metadata": {},
   "outputs": [],
   "source": [
    "fids = []\n",
    "Uexp = qt.identity(Utarget.dims[0])\n",
    "for p in ((yxx48 + ',')*1)[:-1].split(','):\n",
    "    Uexp = pulses_dict_ensemble[1][p] * Uexp\n",
    "    fids.append(qt.metrics.average_gate_fidelity(Uexp, Utarget))"
   ]
  },
  {
   "cell_type": "code",
   "execution_count": null,
   "metadata": {},
   "outputs": [],
   "source": [
    "plt.plot(-np.log10(1-np.array(fids)))\n",
    "plt.ylabel('Reward')\n",
    "plt.xlabel('Pulse number')"
   ]
  },
  {
   "cell_type": "code",
   "execution_count": null,
   "metadata": {},
   "outputs": [],
   "source": []
  }
 ],
 "metadata": {
  "kernelspec": {
   "display_name": "Python 3",
   "language": "python",
   "name": "python3"
  },
  "language_info": {
   "codemirror_mode": {
    "name": "ipython",
    "version": 3
   },
   "file_extension": ".py",
   "mimetype": "text/x-python",
   "name": "python",
   "nbconvert_exporter": "python",
   "pygments_lexer": "ipython3",
   "version": "3.6.11"
  }
 },
 "nbformat": 4,
 "nbformat_minor": 4
}
