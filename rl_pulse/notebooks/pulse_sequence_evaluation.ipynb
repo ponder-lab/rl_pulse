{
 "cells": [
  {
   "cell_type": "markdown",
   "metadata": {},
   "source": [
    "# Pulse sequence evaluation\n",
    "\n",
    "Using arbitrary units. Energy is normalized to the standard deviation in chemical shift strengths. Reduced Planck's constant $\\hbar \\equiv 1$."
   ]
  },
  {
   "cell_type": "code",
   "execution_count": null,
   "metadata": {},
   "outputs": [],
   "source": [
    "import qutip as qt\n",
    "import numpy as np\n",
    "import matplotlib.pyplot as plt"
   ]
  },
  {
   "cell_type": "markdown",
   "metadata": {},
   "source": [
    "## Identify primitives"
   ]
  },
  {
   "cell_type": "code",
   "execution_count": null,
   "metadata": {},
   "outputs": [],
   "source": [
    "delay = 1e-2  # time is relative to chemical shift strength\n",
    "pulse_width = 5e-3\n",
    "N = 3  # number of spins"
   ]
  },
  {
   "cell_type": "code",
   "execution_count": null,
   "metadata": {},
   "outputs": [],
   "source": [
    "def get_Hsys(dipolar_strength=1e-2):\n",
    "    chemical_shifts = 2*np.pi * np.random.normal(scale=1, size=(N,))\n",
    "    Hcs = sum(\n",
    "        [qt.tensor(\n",
    "            [qt.identity(2)]*i\n",
    "            + [chemical_shifts[i] * qt.sigmaz()]\n",
    "            + [qt.identity(2)]*(N-i-1)\n",
    "        ) for i in range(N)]\n",
    "    )\n",
    "    # dipolar interactions\n",
    "    dipolar_matrix = 2*np.pi * np.random.normal(scale=dipolar_strength, size=(N, N))\n",
    "    Hdip = sum([\n",
    "        dipolar_matrix[i, j] * (\n",
    "            2 * qt.tensor(\n",
    "                [qt.identity(2)]*i\n",
    "                + [qt.sigmaz()]\n",
    "                + [qt.identity(2)]*(j-i-1)\n",
    "                + [qt.sigmaz()]\n",
    "                + [qt.identity(2)]*(N-j-1)\n",
    "            )\n",
    "            - qt.tensor(\n",
    "                [qt.identity(2)]*i\n",
    "                + [qt.sigmax()]\n",
    "                + [qt.identity(2)]*(j-i-1)\n",
    "                + [qt.sigmax()]\n",
    "                + [qt.identity(2)]*(N-j-1)\n",
    "            )\n",
    "            - qt.tensor(\n",
    "                [qt.identity(2)]*i\n",
    "                + [qt.sigmay()]\n",
    "                + [qt.identity(2)]*(j-i-1)\n",
    "                + [qt.sigmay()]\n",
    "                + [qt.identity(2)]*(N-j-1)\n",
    "            )\n",
    "        )\n",
    "        for i in range(N) for j in range(i+1, N)\n",
    "    ])\n",
    "    return Hcs + Hdip"
   ]
  },
  {
   "cell_type": "code",
   "execution_count": null,
   "metadata": {},
   "outputs": [],
   "source": [
    "X = sum(\n",
    "    [qt.tensor(\n",
    "        [qt.identity(2)]*i\n",
    "        + [qt.spin_Jx(1/2)]\n",
    "        + [qt.identity(2)]*(N-i-1)\n",
    "    ) for i in range(N)]\n",
    ")\n",
    "Y = sum(\n",
    "    [qt.tensor(\n",
    "        [qt.identity(2)]*i\n",
    "        + [qt.spin_Jy(1/2)]\n",
    "        + [qt.identity(2)]*(N-i-1)\n",
    "    ) for i in range(N)]\n",
    ")\n",
    "Z = sum(\n",
    "    [qt.tensor(\n",
    "        [qt.identity(2)]*i\n",
    "        + [qt.spin_Jz(1/2)]\n",
    "        + [qt.identity(2)]*(N-i-1)\n",
    "    ) for i in range(N)]\n",
    ")"
   ]
  },
  {
   "cell_type": "code",
   "execution_count": null,
   "metadata": {},
   "outputs": [],
   "source": [
    "def get_pulses(Hsys, X, Y, Z, pulse_width, delay, rot_error=0):\n",
    "    rot = np.random.normal(scale=rot_error)\n",
    "    pulses = [\n",
    "        qt.propagator(Hsys, pulse_width),\n",
    "        qt.propagator(X * (np.pi/2) * (1 + rot) / pulse_width + Hsys, pulse_width),\n",
    "        qt.propagator(-X * (np.pi/2) * (1 + rot) / pulse_width + Hsys, pulse_width),\n",
    "        qt.propagator(Y * (np.pi/2) * (1 + rot) / pulse_width + Hsys, pulse_width),\n",
    "        qt.propagator(-Y * (np.pi/2) * (1 + rot) / pulse_width + Hsys, pulse_width),\n",
    "        qt.propagator(Z * (np.pi/2) * (1 + rot) / pulse_width + Hsys, pulse_width),\n",
    "        qt.propagator(-Z * (np.pi/2) * (1 + rot) / pulse_width + Hsys, pulse_width),\n",
    "    ]\n",
    "    delay_propagator = qt.propagator(Hsys, delay)\n",
    "    pulses = [delay_propagator * i for i in pulses]\n",
    "    return pulses"
   ]
  },
  {
   "cell_type": "code",
   "execution_count": null,
   "metadata": {},
   "outputs": [],
   "source": [
    "Hsys_ensemble = [get_Hsys() for _ in range(3)]\n",
    "pulses_ensemble = [\n",
    "    get_pulses(H, X, Y, Z, pulse_width, delay, rot_error=0.01) for H in Hsys_ensemble\n",
    "]"
   ]
  },
  {
   "cell_type": "code",
   "execution_count": null,
   "metadata": {},
   "outputs": [],
   "source": [
    "pulse_names = [\n",
    "    'd', 'x', '-x', 'y', '-y', 'z', '-z'\n",
    "]"
   ]
  },
  {
   "cell_type": "code",
   "execution_count": null,
   "metadata": {},
   "outputs": [],
   "source": [
    "pulses_dict_ensemble = [\n",
    "    dict(zip(pulse_names, pulses)) for pulses in pulses_ensemble\n",
    "]"
   ]
  },
  {
   "cell_type": "code",
   "execution_count": null,
   "metadata": {},
   "outputs": [],
   "source": [
    "Utarget = qt.identity(Hsys_ensemble[0].dims[0])"
   ]
  },
  {
   "cell_type": "markdown",
   "metadata": {},
   "source": [
    "## Define and evaluate pulse sequences\n",
    "\n"
   ]
  },
  {
   "cell_type": "code",
   "execution_count": null,
   "metadata": {},
   "outputs": [],
   "source": [
    "def get_fidelity(pulse_sequence, Utarget, pulses):\n",
    "    pulse_list = pulse_sequence.replace(' ', '').split(',')\n",
    "    Uexp = qt.identity(Utarget.dims[0])\n",
    "    for p in pulse_list:\n",
    "        Uexp = pulses[p] * Uexp\n",
    "    return qt.metrics.average_gate_fidelity(Uexp, Utarget)"
   ]
  },
  {
   "cell_type": "code",
   "execution_count": null,
   "metadata": {},
   "outputs": [],
   "source": [
    "def get_mean_fidelity(pulse_sequence, Utarget, pulses_dict_ensemble):\n",
    "    fidelity = 0\n",
    "    for pulses in pulses_dict_ensemble:\n",
    "        fidelity += get_fidelity(pulse_sequence, Utarget, pulses)\n",
    "    return fidelity / len(pulses_dict_ensemble)"
   ]
  },
  {
   "cell_type": "code",
   "execution_count": null,
   "metadata": {},
   "outputs": [],
   "source": [
    "ideal6 = 'y,x,x,y,-x,-x'\n",
    "yxx24 = '-y,x,-x,y,-x,-x,y,-x,x,-y,x,x,y,-x,x,-y,x,x,-y,x,-x,y,-x,-x'\n",
    "# yxx24 = format_pulse_sequence(yxx24)\n",
    "yxx48 = ('y,-x,-x,y,-x,-x,-y,x,x,y,-x,-x,-y,x,x,-y,x,x,y,'\n",
    "         + '-x,-x,y,-x,-x,-y,x,x,y,-x,-x,-y,x,x,-y,x,x,y,'\n",
    "         + '-x,-x,-y,x,x,y,-x,-x,-y,x,x')\n",
    "# yxx48 = format_pulse_sequence(yxx48)\n",
    "\n",
    "# brute-force search\n",
    "bf6 = 'x,x,y,x,x,y'  # y, -z, -x, -y, x, z\n",
    "bf12 = 'x,x,-y,x,x,-y,-x,-x,-y,-x,-x,-y'\n",
    "bfr12 = 'x,-y,-y,x,-y,-y,x,y,y,x,y,y'\n",
    "\n",
    "# random search\n",
    "rand12 = 'x,-y,-y,x,y,x,y,x,y,x,-y,-y'"
   ]
  },
  {
   "cell_type": "code",
   "execution_count": null,
   "metadata": {},
   "outputs": [],
   "source": [
    "get_mean_fidelity(ideal6, Utarget, pulses_dict_ensemble)"
   ]
  },
  {
   "cell_type": "code",
   "execution_count": null,
   "metadata": {},
   "outputs": [],
   "source": [
    "get_mean_fidelity(yxx24, Utarget, pulses_dict_ensemble)"
   ]
  },
  {
   "cell_type": "code",
   "execution_count": null,
   "metadata": {},
   "outputs": [],
   "source": [
    "get_mean_fidelity(yxx48, Utarget, pulses_dict_ensemble)"
   ]
  },
  {
   "cell_type": "code",
   "execution_count": null,
   "metadata": {},
   "outputs": [],
   "source": [
    "get_mean_fidelity(((bf12 + ',')*4)[:-1], Utarget, pulses_dict_ensemble)"
   ]
  },
  {
   "cell_type": "code",
   "execution_count": null,
   "metadata": {},
   "outputs": [],
   "source": [
    "get_mean_fidelity(((bfr12 + ',')*4)[:-1], Utarget, pulses_dict_ensemble)"
   ]
  },
  {
   "cell_type": "code",
   "execution_count": null,
   "metadata": {},
   "outputs": [],
   "source": [
    "get_mean_fidelity(rand12, Utarget, pulses_dict_ensemble)"
   ]
  },
  {
   "cell_type": "code",
   "execution_count": null,
   "metadata": {},
   "outputs": [],
   "source": [
    "get_mean_fidelity(','.join(['-y,x,-y,x,-y,x']*4), Utarget, pulses_dict_ensemble)"
   ]
  },
  {
   "cell_type": "code",
   "execution_count": null,
   "metadata": {},
   "outputs": [],
   "source": [
    "fids = []\n",
    "Uexp = qt.identity(Utarget.dims[0])\n",
    "for p in ((bfr12 + ',')*4)[:-1].split(','):\n",
    "    Uexp = pulses_dict_ensemble[1][p] * Uexp\n",
    "    fids.append(qt.metrics.average_gate_fidelity(Uexp, Utarget))"
   ]
  },
  {
   "cell_type": "code",
   "execution_count": null,
   "metadata": {
    "scrolled": false
   },
   "outputs": [],
   "source": [
    "plt.plot(-np.log10(1-np.array(fids)))\n",
    "plt.ylabel('Reward')\n",
    "plt.xlabel('Pulse number')"
   ]
  },
  {
   "cell_type": "code",
   "execution_count": null,
   "metadata": {},
   "outputs": [],
   "source": [
    "fids = []\n",
    "Uexp = qt.identity(Utarget.dims[0])\n",
    "for p in ((yxx48 + ',')*1)[:-1].split(','):\n",
    "    Uexp = pulses_dict_ensemble[1][p] * Uexp\n",
    "    fids.append(qt.metrics.average_gate_fidelity(Uexp, Utarget))"
   ]
  },
  {
   "cell_type": "code",
   "execution_count": null,
   "metadata": {},
   "outputs": [],
   "source": [
    "plt.plot(-np.log10(1-np.array(fids)))\n",
    "plt.ylabel('Reward')\n",
    "plt.xlabel('Pulse number')"
   ]
  },
  {
   "cell_type": "code",
   "execution_count": null,
   "metadata": {},
   "outputs": [],
   "source": []
  }
 ],
 "metadata": {
  "kernelspec": {
   "display_name": "Python 3",
   "language": "python",
   "name": "python3"
  },
  "language_info": {
   "codemirror_mode": {
    "name": "ipython",
    "version": 3
   },
   "file_extension": ".py",
   "mimetype": "text/x-python",
   "name": "python",
   "nbconvert_exporter": "python",
   "pygments_lexer": "ipython3",
   "version": "3.6.11"
  }
 },
 "nbformat": 4,
 "nbformat_minor": 4
}
