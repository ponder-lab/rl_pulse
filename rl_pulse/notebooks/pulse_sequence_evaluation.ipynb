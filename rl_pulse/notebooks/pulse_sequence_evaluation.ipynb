{
 "cells": [
  {
   "cell_type": "markdown",
   "metadata": {},
   "source": [
    "# Pulse sequence evaluation\n",
    "\n",
    "Using arbitrary units. Energy is normalized to the standard deviation in chemical shift strengths. Reduced Planck's constant $\\hbar \\equiv 1$."
   ]
  },
  {
   "cell_type": "code",
   "execution_count": 1,
   "metadata": {},
   "outputs": [],
   "source": [
    "import qutip as qt\n",
    "import numpy as np\n",
    "import matplotlib.pyplot as plt\n",
    "import sys, os\n",
    "import pandas as pd\n",
    "import multiprocessing as mp"
   ]
  },
  {
   "cell_type": "code",
   "execution_count": 2,
   "metadata": {},
   "outputs": [],
   "source": [
    "sys.path.append('..')"
   ]
  },
  {
   "cell_type": "code",
   "execution_count": 3,
   "metadata": {},
   "outputs": [],
   "source": [
    "import pulse_sequences as ps"
   ]
  },
  {
   "cell_type": "markdown",
   "metadata": {},
   "source": [
    "## Define system"
   ]
  },
  {
   "cell_type": "code",
   "execution_count": 4,
   "metadata": {},
   "outputs": [],
   "source": [
    "dipolar_strength = 1e1\n",
    "pulse_width = 1e-4  # time is relative to chemical shift strength\n",
    "delay = 1e-3\n",
    "rot_error = 1e-2\n",
    "N = 4  # number of spins\n",
    "ensemble_size = 50"
   ]
  },
  {
   "cell_type": "code",
   "execution_count": 5,
   "metadata": {},
   "outputs": [],
   "source": [
    "X, Y, Z = ps.get_collective_spin(N)"
   ]
  },
  {
   "cell_type": "code",
   "execution_count": 6,
   "metadata": {},
   "outputs": [],
   "source": [
    "Hsys_ensemble = [ps.get_Hsys(N, dipolar_strength=dipolar_strength) for _ in range(ensemble_size)]\n",
    "pulses_ensemble = [\n",
    "    ps.get_pulses(H, X, Y, Z, pulse_width, delay, rot_error=rot_error) for H in Hsys_ensemble\n",
    "]"
   ]
  },
  {
   "cell_type": "code",
   "execution_count": 7,
   "metadata": {},
   "outputs": [],
   "source": [
    "Utarget = qt.identity(Hsys_ensemble[0].dims[0])"
   ]
  },
  {
   "cell_type": "markdown",
   "metadata": {},
   "source": [
    "## Define and evaluate pulse sequences\n",
    "\n"
   ]
  },
  {
   "cell_type": "code",
   "execution_count": 88,
   "metadata": {},
   "outputs": [
    {
     "data": {
      "text/plain": [
       "(0.9999929992702328, 5.154856686077193)"
      ]
     },
     "execution_count": 88,
     "metadata": {},
     "output_type": "execute_result"
    }
   ],
   "source": [
    "f = ps.get_mean_fidelity(ps.yxx24 * 2, Utarget, pulses_ensemble)\n",
    "f, -np.log10(1 - f)"
   ]
  },
  {
   "cell_type": "code",
   "execution_count": 89,
   "metadata": {},
   "outputs": [
    {
     "data": {
      "text/plain": [
       "(0.9999948783400165, 5.290589256834285)"
      ]
     },
     "execution_count": 89,
     "metadata": {},
     "output_type": "execute_result"
    }
   ],
   "source": [
    "f = ps.get_mean_fidelity(ps.yxx48, Utarget, pulses_ensemble)\n",
    "f, -np.log10(1 - f)"
   ]
  },
  {
   "cell_type": "code",
   "execution_count": 90,
   "metadata": {},
   "outputs": [
    {
     "data": {
      "text/plain": [
       "(0.9096975966248085, 1.0443006908969747)"
      ]
     },
     "execution_count": 90,
     "metadata": {},
     "output_type": "execute_result"
    }
   ],
   "source": [
    "f = ps.get_mean_fidelity(ps.mcts12_2 * 4, Utarget, pulses_ensemble)\n",
    "f, -np.log10(1 - f)"
   ]
  },
  {
   "cell_type": "code",
   "execution_count": 93,
   "metadata": {},
   "outputs": [
    {
     "data": {
      "text/plain": [
       "(0.9696012656872718, 1.5171444983794404)"
      ]
     },
     "execution_count": 93,
     "metadata": {},
     "output_type": "execute_result"
    }
   ],
   "source": [
    "f = ps.get_mean_fidelity(ps.mcts12_3 * 4, Utarget, pulses_ensemble)\n",
    "f, -np.log10(1 - f)"
   ]
  },
  {
   "cell_type": "code",
   "execution_count": 94,
   "metadata": {},
   "outputs": [
    {
     "data": {
      "text/plain": [
       "(0.9690214528462124, 1.5089389538424192)"
      ]
     },
     "execution_count": 94,
     "metadata": {},
     "output_type": "execute_result"
    }
   ],
   "source": [
    "f = ps.get_mean_fidelity(ps.mcts12_4 * 4, Utarget, pulses_ensemble)\n",
    "f, -np.log10(1 - f)"
   ]
  },
  {
   "cell_type": "code",
   "execution_count": 103,
   "metadata": {},
   "outputs": [
    {
     "data": {
      "text/plain": [
       "(0.9963260734496242, 2.434869530415989)"
      ]
     },
     "execution_count": 103,
     "metadata": {},
     "output_type": "execute_result"
    }
   ],
   "source": [
    "f = ps.get_mean_fidelity(ps.az3, Utarget, pulses_ensemble)\n",
    "f, -np.log10(1 - f)"
   ]
  },
  {
   "cell_type": "code",
   "execution_count": 106,
   "metadata": {},
   "outputs": [
    {
     "data": {
      "text/plain": [
       "(0.9411638001219385, 1.2303553853205191)"
      ]
     },
     "execution_count": 106,
     "metadata": {},
     "output_type": "execute_result"
    }
   ],
   "source": [
    "f = ps.get_mean_fidelity(ps.az12 * 4, Utarget, pulses_ensemble)\n",
    "f, -np.log10(1 - f)"
   ]
  },
  {
   "cell_type": "markdown",
   "metadata": {},
   "source": [
    "## Evaluate robustness\n",
    "\n",
    "Looking at several different sources of errors:\n",
    "\n",
    "- Non-negligible higher-order terms in Magnus expansion\n",
    "- Rotation errors\n",
    "- Phase transients\n",
    "- Offset errors"
   ]
  },
  {
   "cell_type": "markdown",
   "metadata": {},
   "source": [
    "### Rotation errors"
   ]
  },
  {
   "cell_type": "code",
   "execution_count": 133,
   "metadata": {},
   "outputs": [],
   "source": [
    "rot_errors = np.linspace(-1, 1, 11)\n",
    "rot_errors = 1e-1 * rot_errors**2 * np.sign(rot_errors) # non-linear sampling"
   ]
  },
  {
   "cell_type": "code",
   "execution_count": 134,
   "metadata": {},
   "outputs": [
    {
     "data": {
      "text/plain": [
       "array([-0.1  , -0.064, -0.036, -0.016, -0.004,  0.   ,  0.004,  0.016,\n",
       "        0.036,  0.064,  0.1  ])"
      ]
     },
     "execution_count": 134,
     "metadata": {},
     "output_type": "execute_result"
    }
   ],
   "source": [
    "rot_errors"
   ]
  },
  {
   "cell_type": "code",
   "execution_count": 125,
   "metadata": {},
   "outputs": [],
   "source": [
    "def f(pulse_sequence, rot_error):\n",
    "    pe = [ps.get_pulses(H, X, Y, Z, pulse_width, delay, rot_error=rot_error) for H in Hsys_ensemble]\n",
    "    fidelities = [ps.get_fidelity(pulse_sequence, Utarget, p) for p in pe]\n",
    "    return np.mean(fidelities), np.std(fidelities)"
   ]
  },
  {
   "cell_type": "code",
   "execution_count": 126,
   "metadata": {},
   "outputs": [],
   "source": [
    "def get_rot_data(pulse_sequence, rot_errors, num_workers=4):\n",
    "    with mp.Pool(num_workers) as p:\n",
    "        output = p.starmap(f, [(pulse_sequence, r) for r in rot_errors])\n",
    "    \n",
    "    fidelity, fidelity_std = zip(*output)\n",
    "    fidelity = np.array(fidelity)\n",
    "    fidelity_std = np.array(fidelity_std)\n",
    "    \n",
    "    return fidelity, fidelity_std"
   ]
  },
  {
   "cell_type": "code",
   "execution_count": 135,
   "metadata": {},
   "outputs": [],
   "source": [
    "yxx48_output = get_rot_data(ps.yxx48, rot_errors)"
   ]
  },
  {
   "cell_type": "code",
   "execution_count": 136,
   "metadata": {},
   "outputs": [],
   "source": [
    "yxx24_output = get_rot_data(ps.yxx24 * 2, rot_errors)"
   ]
  },
  {
   "cell_type": "code",
   "execution_count": 137,
   "metadata": {},
   "outputs": [],
   "source": [
    "az3_output = get_rot_data(ps.az3, rot_errors)"
   ]
  },
  {
   "cell_type": "code",
   "execution_count": 138,
   "metadata": {},
   "outputs": [],
   "source": [
    "az12_output = get_rot_data(ps.az12 * 4, rot_errors)"
   ]
  },
  {
   "cell_type": "code",
   "execution_count": 58,
   "metadata": {},
   "outputs": [],
   "source": [
    "# az12_1_output = get_rot_data(ps.az12_1, rot_errors)"
   ]
  },
  {
   "cell_type": "code",
   "execution_count": 139,
   "metadata": {},
   "outputs": [
    {
     "data": {
      "text/plain": [
       "<matplotlib.legend.Legend at 0x7f8b21422550>"
      ]
     },
     "execution_count": 139,
     "metadata": {},
     "output_type": "execute_result"
    },
    {
     "data": {
      "image/png": "[encoded data removed]",
      "text/plain": [
       "<Figure size 432x288 with 1 Axes>"
      ]
     },
     "metadata": {
      "needs_background": "light"
     },
     "output_type": "display_data"
    }
   ],
   "source": [
    "plt.errorbar(rot_errors, 1-yxx48_output[0], yerr=yxx48_output[1], label='yxx48')\n",
    "plt.errorbar(rot_errors, 1-yxx24_output[0], yerr=yxx24_output[1], label='yxx24')\n",
    "plt.errorbar(rot_errors, 1-az3_output[0], yerr=az3_output[1], label='az3')\n",
    "plt.errorbar(rot_errors, 1-az12_output[0], yerr=az12_output[1], label='az12')\n",
    "# plt.errorbar(rot_errors, 1-az12_1_output[0], yerr=az12_1_output[1], label='az12_1')\n",
    "plt.xlabel('Rotation error, percent')\n",
    "plt.ylabel('1 - fidelity')\n",
    "plt.yscale('log')\n",
    "plt.legend()"
   ]
  },
  {
   "cell_type": "markdown",
   "metadata": {},
   "source": [
    "### Phase transients"
   ]
  },
  {
   "cell_type": "code",
   "execution_count": 140,
   "metadata": {},
   "outputs": [],
   "source": [
    "phase_transients = 5e-2 * np.linspace(0, 1, 11)**2"
   ]
  },
  {
   "cell_type": "code",
   "execution_count": 141,
   "metadata": {},
   "outputs": [],
   "source": [
    "def g(pulse_sequence, pt):\n",
    "    pe = [ps.get_pulses(H, X, Y, Z, pulse_width, delay, phase_transient=pt) for H in Hsys_ensemble]\n",
    "    fidelities = [ps.get_fidelity(pulse_sequence, Utarget, p) for p in pe]\n",
    "    return np.mean(fidelities), np.std(fidelities)"
   ]
  },
  {
   "cell_type": "code",
   "execution_count": 142,
   "metadata": {},
   "outputs": [],
   "source": [
    "def get_pt_data(pulse_sequence, phase_transients, num_workers=4):\n",
    "    with mp.Pool(num_workers) as p:\n",
    "        output = p.starmap(g, [(pulse_sequence, r) for r in phase_transients])\n",
    "    \n",
    "    fidelity, fidelity_std = zip(*output)\n",
    "    fidelity = np.array(fidelity)\n",
    "    fidelity_std = np.array(fidelity_std)\n",
    "    \n",
    "    return fidelity, fidelity_std"
   ]
  },
  {
   "cell_type": "code",
   "execution_count": 146,
   "metadata": {},
   "outputs": [],
   "source": [
    "yxx48_pt_output = get_pt_data(ps.yxx48, phase_transients)"
   ]
  },
  {
   "cell_type": "code",
   "execution_count": 148,
   "metadata": {},
   "outputs": [],
   "source": [
    "yxx24_pt_output = get_pt_data(ps.yxx24 * 2, phase_transients)"
   ]
  },
  {
   "cell_type": "code",
   "execution_count": 149,
   "metadata": {},
   "outputs": [],
   "source": [
    "az3_pt_output = get_pt_data(ps.az3, phase_transients)"
   ]
  },
  {
   "cell_type": "code",
   "execution_count": 150,
   "metadata": {},
   "outputs": [],
   "source": [
    "az12_pt_output = get_pt_data(ps.az12 * 4, phase_transients)"
   ]
  },
  {
   "cell_type": "code",
   "execution_count": 151,
   "metadata": {},
   "outputs": [
    {
     "data": {
      "text/plain": [
       "<matplotlib.legend.Legend at 0x7f8b2185bd10>"
      ]
     },
     "execution_count": 151,
     "metadata": {},
     "output_type": "execute_result"
    },
    {
     "data": {
      "image/png": "[encoded data removed]",
      "text/plain": [
       "<Figure size 432x288 with 1 Axes>"
      ]
     },
     "metadata": {
      "needs_background": "light"
     },
     "output_type": "display_data"
    }
   ],
   "source": [
    "plt.errorbar(phase_transients, 1-yxx48_pt_output[0], yerr=yxx48_pt_output[1], label='yxx48')\n",
    "plt.errorbar(phase_transients, 1-yxx24_pt_output[0], yerr=yxx24_pt_output[1], label='yxx24')\n",
    "plt.errorbar(phase_transients, 1-az3_pt_output[0], yerr=az3_pt_output[1], label='az3')\n",
    "plt.errorbar(phase_transients, 1-az12_pt_output[0], yerr=az12_pt_output[1], label='az12')\n",
    "plt.yscale('log')\n",
    "plt.xlabel(r'Phase transient error, percent of $\\pi/2$-pulse')\n",
    "plt.ylabel('1 - fidelity')\n",
    "plt.legend()"
   ]
  }
 ],
 "metadata": {
  "kernelspec": {
   "display_name": "Python 3",
   "language": "python",
   "name": "python3"
  },
  "language_info": {
   "codemirror_mode": {
    "name": "ipython",
    "version": 3
   },
   "file_extension": ".py",
   "mimetype": "text/x-python",
   "name": "python",
   "nbconvert_exporter": "python",
   "pygments_lexer": "ipython3",
   "version": "3.7.9"
  }
 },
 "nbformat": 4,
 "nbformat_minor": 4
}
