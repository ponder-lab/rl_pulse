{
 "cells": [
  {
   "cell_type": "markdown",
   "metadata": {},
   "source": [
    "# Pulse sequence evaluation\n",
    "\n",
    "Using arbitrary units. Energy is normalized to the standard deviation in chemical shift strengths. Reduced Planck's constant $\\hbar \\equiv 1$."
   ]
  },
  {
   "cell_type": "code",
   "execution_count": 164,
   "metadata": {},
   "outputs": [],
   "source": [
    "import qutip as qt\n",
    "import numpy as np\n",
    "import matplotlib.pyplot as plt\n",
    "import sys, os\n",
    "import pandas as pd\n",
    "import multiprocessing as mp\n",
    "import importlib"
   ]
  },
  {
   "cell_type": "code",
   "execution_count": 2,
   "metadata": {},
   "outputs": [],
   "source": [
    "sys.path.append('..')"
   ]
  },
  {
   "cell_type": "code",
   "execution_count": 3,
   "metadata": {},
   "outputs": [],
   "source": [
    "import pulse_sequences as ps"
   ]
  },
  {
   "cell_type": "code",
   "execution_count": 165,
   "metadata": {},
   "outputs": [
    {
     "data": {
      "text/plain": [
       "<module 'pulse_sequences' from '../pulse_sequences.py'>"
      ]
     },
     "execution_count": 165,
     "metadata": {},
     "output_type": "execute_result"
    }
   ],
   "source": [
    "# importlib.reload(ps)"
   ]
  },
  {
   "cell_type": "markdown",
   "metadata": {},
   "source": [
    "## Define system"
   ]
  },
  {
   "cell_type": "code",
   "execution_count": 169,
   "metadata": {},
   "outputs": [],
   "source": [
    "dipolar_strength = 1e1\n",
    "pulse_width = 1e-4  # time is relative to chemical shift strength\n",
    "delay = 1e-3\n",
    "rot_error = 1e-2\n",
    "N = 4  # number of spins\n",
    "ensemble_size = 50"
   ]
  },
  {
   "cell_type": "code",
   "execution_count": 5,
   "metadata": {},
   "outputs": [],
   "source": [
    "X, Y, Z = ps.get_collective_spin(N)"
   ]
  },
  {
   "cell_type": "code",
   "execution_count": 170,
   "metadata": {},
   "outputs": [],
   "source": [
    "Hsys_ensemble = [ps.get_Hsys(N, dipolar_strength=dipolar_strength) for _ in range(ensemble_size)]\n",
    "pulses_ensemble = [\n",
    "    ps.get_pulses(H, X, Y, Z, pulse_width, delay, rot_error=rot_error) for H in Hsys_ensemble\n",
    "]"
   ]
  },
  {
   "cell_type": "code",
   "execution_count": 171,
   "metadata": {},
   "outputs": [],
   "source": [
    "Utarget = qt.identity(Hsys_ensemble[0].dims[0])"
   ]
  },
  {
   "cell_type": "markdown",
   "metadata": {},
   "source": [
    "## Define and evaluate pulse sequences\n",
    "\n"
   ]
  },
  {
   "cell_type": "code",
   "execution_count": 172,
   "metadata": {},
   "outputs": [
    {
     "data": {
      "text/plain": [
       "(0.9999936927055427, 5.200156893410582)"
      ]
     },
     "execution_count": 172,
     "metadata": {},
     "output_type": "execute_result"
    }
   ],
   "source": [
    "f = ps.get_mean_fidelity(ps.yxx24 * 2, Utarget, pulses_ensemble)\n",
    "f, -np.log10(1 - f)"
   ]
  },
  {
   "cell_type": "code",
   "execution_count": 173,
   "metadata": {},
   "outputs": [
    {
     "data": {
      "text/plain": [
       "(0.9999953200103507, 5.329755107454664)"
      ]
     },
     "execution_count": 173,
     "metadata": {},
     "output_type": "execute_result"
    }
   ],
   "source": [
    "f = ps.get_mean_fidelity(ps.yxx48, Utarget, pulses_ensemble)\n",
    "f, -np.log10(1 - f)"
   ]
  },
  {
   "cell_type": "code",
   "execution_count": 174,
   "metadata": {},
   "outputs": [
    {
     "data": {
      "text/plain": [
       "(0.9099014167947017, 1.045282038221367)"
      ]
     },
     "execution_count": 174,
     "metadata": {},
     "output_type": "execute_result"
    }
   ],
   "source": [
    "f = ps.get_mean_fidelity(ps.mcts12_2 * 4, Utarget, pulses_ensemble)\n",
    "f, -np.log10(1 - f)"
   ]
  },
  {
   "cell_type": "code",
   "execution_count": 175,
   "metadata": {},
   "outputs": [
    {
     "data": {
      "text/plain": [
       "(0.9696329716259133, 1.5175977047521192)"
      ]
     },
     "execution_count": 175,
     "metadata": {},
     "output_type": "execute_result"
    }
   ],
   "source": [
    "f = ps.get_mean_fidelity(ps.mcts12_3 * 4, Utarget, pulses_ensemble)\n",
    "f, -np.log10(1 - f)"
   ]
  },
  {
   "cell_type": "code",
   "execution_count": 176,
   "metadata": {},
   "outputs": [
    {
     "data": {
      "text/plain": [
       "(0.9690928181794294, 1.509940592981769)"
      ]
     },
     "execution_count": 176,
     "metadata": {},
     "output_type": "execute_result"
    }
   ],
   "source": [
    "f = ps.get_mean_fidelity(ps.mcts12_4 * 4, Utarget, pulses_ensemble)\n",
    "f, -np.log10(1 - f)"
   ]
  },
  {
   "cell_type": "code",
   "execution_count": 177,
   "metadata": {},
   "outputs": [
    {
     "data": {
      "text/plain": [
       "(0.9964900567014816, 2.45469989930041)"
      ]
     },
     "execution_count": 177,
     "metadata": {},
     "output_type": "execute_result"
    }
   ],
   "source": [
    "f = ps.get_mean_fidelity(ps.az3, Utarget, pulses_ensemble)\n",
    "f, -np.log10(1 - f)"
   ]
  },
  {
   "cell_type": "code",
   "execution_count": 178,
   "metadata": {},
   "outputs": [
    {
     "data": {
      "text/plain": [
       "(0.9411802080782994, 1.23047651616722)"
      ]
     },
     "execution_count": 178,
     "metadata": {},
     "output_type": "execute_result"
    }
   ],
   "source": [
    "f = ps.get_mean_fidelity(ps.az12 * 4, Utarget, pulses_ensemble)\n",
    "f, -np.log10(1 - f)"
   ]
  },
  {
   "cell_type": "markdown",
   "metadata": {},
   "source": [
    "## Evaluate robustness\n",
    "\n",
    "Looking at several different sources of errors:\n",
    "\n",
    "- Non-negligible higher-order terms in Magnus expansion\n",
    "- Rotation errors\n",
    "- Phase transients\n",
    "- Offset errors"
   ]
  },
  {
   "cell_type": "markdown",
   "metadata": {},
   "source": [
    "### Rotation errors"
   ]
  },
  {
   "cell_type": "code",
   "execution_count": 179,
   "metadata": {},
   "outputs": [],
   "source": [
    "rot_errors = np.linspace(-1, 1, 21)\n",
    "rot_errors = 1e-1 * rot_errors**2 * np.sign(rot_errors) # non-linear sampling"
   ]
  },
  {
   "cell_type": "code",
   "execution_count": 182,
   "metadata": {},
   "outputs": [],
   "source": [
    "def f(pulse_sequence, rot_error):\n",
    "    pe = [ps.get_pulses(H, X, Y, Z, pulse_width, delay, rot_error=rot_error) for H in Hsys_ensemble]\n",
    "    fidelities = [ps.get_fidelity(pulse_sequence, Utarget, p) for p in pe]\n",
    "    return np.mean(fidelities), np.std(fidelities)"
   ]
  },
  {
   "cell_type": "code",
   "execution_count": 183,
   "metadata": {},
   "outputs": [],
   "source": [
    "def get_rot_data(pulse_sequence, rot_errors, num_workers=4):\n",
    "    with mp.Pool(num_workers) as p:\n",
    "        output = p.starmap(f, [(pulse_sequence, r) for r in rot_errors])\n",
    "    \n",
    "    fidelity, fidelity_std = zip(*output)\n",
    "    fidelity = np.array(fidelity)\n",
    "    fidelity_std = np.array(fidelity_std)\n",
    "    \n",
    "    return fidelity, fidelity_std"
   ]
  },
  {
   "cell_type": "code",
   "execution_count": 184,
   "metadata": {},
   "outputs": [],
   "source": [
    "cory48_output = get_rot_data(ps.cory48, rot_errors)"
   ]
  },
  {
   "cell_type": "code",
   "execution_count": 191,
   "metadata": {},
   "outputs": [],
   "source": [
    "yxx48_output = get_rot_data(ps.yxx48, rot_errors)"
   ]
  },
  {
   "cell_type": "code",
   "execution_count": 192,
   "metadata": {},
   "outputs": [],
   "source": [
    "yxx24_output = get_rot_data(ps.yxx24 * 2, rot_errors)"
   ]
  },
  {
   "cell_type": "code",
   "execution_count": 193,
   "metadata": {},
   "outputs": [],
   "source": [
    "az3_output = get_rot_data(ps.az3, rot_errors)"
   ]
  },
  {
   "cell_type": "code",
   "execution_count": 194,
   "metadata": {},
   "outputs": [],
   "source": [
    "az12_output = get_rot_data(ps.az12 * 4, rot_errors)"
   ]
  },
  {
   "cell_type": "code",
   "execution_count": 58,
   "metadata": {},
   "outputs": [],
   "source": [
    "# az12_1_output = get_rot_data(ps.az12_1, rot_errors)"
   ]
  },
  {
   "cell_type": "code",
   "execution_count": 209,
   "metadata": {},
   "outputs": [
    {
     "data": {
      "text/plain": [
       "<matplotlib.legend.Legend at 0x7f8b05aaed90>"
      ]
     },
     "execution_count": 209,
     "metadata": {},
     "output_type": "execute_result"
    },
    {
     "data": {
      "image/png": "[encoded data removed]",
      "text/plain": [
       "<Figure size 432x288 with 1 Axes>"
      ]
     },
     "metadata": {
      "needs_background": "light"
     },
     "output_type": "display_data"
    }
   ],
   "source": [
    "plt.errorbar(rot_errors, 1-cory48_output[0], yerr=cory48_output[1], label='cory48')\n",
    "plt.errorbar(rot_errors, 1-yxx48_output[0], yerr=yxx48_output[1], label='yxx48')\n",
    "# plt.errorbar(rot_errors, 1-yxx24_output[0], yerr=yxx24_output[1], label='yxx24')\n",
    "# plt.errorbar(rot_errors, 1-az3_output[0], yerr=az3_output[1], label='az3')\n",
    "# plt.errorbar(rot_errors, 1-az12_output[0], yerr=az12_output[1], label='az12')\n",
    "plt.errorbar(rot_errors, 1-tmp_output[0], yerr=tmp_output[1], label='tmp')\n",
    "plt.xlabel('Rotation error, percent')\n",
    "plt.ylabel('1 - fidelity')\n",
    "plt.yscale('log')\n",
    "plt.legend()"
   ]
  },
  {
   "cell_type": "markdown",
   "metadata": {},
   "source": [
    "### Phase transients"
   ]
  },
  {
   "cell_type": "code",
   "execution_count": 200,
   "metadata": {},
   "outputs": [],
   "source": [
    "phase_transients = 5e-2 * np.linspace(0, 1, 21)**2"
   ]
  },
  {
   "cell_type": "code",
   "execution_count": 201,
   "metadata": {},
   "outputs": [],
   "source": [
    "def g(pulse_sequence, pt):\n",
    "    pe = [ps.get_pulses(H, X, Y, Z, pulse_width, delay, phase_transient=pt) for H in Hsys_ensemble]\n",
    "    fidelities = [ps.get_fidelity(pulse_sequence, Utarget, p) for p in pe]\n",
    "    return np.mean(fidelities), np.std(fidelities)"
   ]
  },
  {
   "cell_type": "code",
   "execution_count": 202,
   "metadata": {},
   "outputs": [],
   "source": [
    "def get_pt_data(pulse_sequence, phase_transients, num_workers=4):\n",
    "    with mp.Pool(num_workers) as p:\n",
    "        output = p.starmap(g, [(pulse_sequence, r) for r in phase_transients])\n",
    "    \n",
    "    fidelity, fidelity_std = zip(*output)\n",
    "    fidelity = np.array(fidelity)\n",
    "    fidelity_std = np.array(fidelity_std)\n",
    "    \n",
    "    return fidelity, fidelity_std"
   ]
  },
  {
   "cell_type": "code",
   "execution_count": 203,
   "metadata": {},
   "outputs": [],
   "source": [
    "cory48_pt_output = get_pt_data(ps.cory48, phase_transients)"
   ]
  },
  {
   "cell_type": "code",
   "execution_count": 204,
   "metadata": {},
   "outputs": [],
   "source": [
    "yxx48_pt_output = get_pt_data(ps.yxx48, phase_transients)"
   ]
  },
  {
   "cell_type": "code",
   "execution_count": 205,
   "metadata": {},
   "outputs": [],
   "source": [
    "yxx24_pt_output = get_pt_data(ps.yxx24 * 2, phase_transients)"
   ]
  },
  {
   "cell_type": "code",
   "execution_count": 149,
   "metadata": {},
   "outputs": [],
   "source": [
    "az3_pt_output = get_pt_data(ps.az3, phase_transients)"
   ]
  },
  {
   "cell_type": "code",
   "execution_count": 150,
   "metadata": {},
   "outputs": [],
   "source": [
    "az12_pt_output = get_pt_data(ps.az12 * 4, phase_transients)"
   ]
  },
  {
   "cell_type": "code",
   "execution_count": 207,
   "metadata": {},
   "outputs": [
    {
     "data": {
      "text/plain": [
       "<matplotlib.legend.Legend at 0x7f8b2236f190>"
      ]
     },
     "execution_count": 207,
     "metadata": {},
     "output_type": "execute_result"
    },
    {
     "data": {
      "image/png": "[encoded data removed]",
      "text/plain": [
       "<Figure size 432x288 with 1 Axes>"
      ]
     },
     "metadata": {
      "needs_background": "light"
     },
     "output_type": "display_data"
    }
   ],
   "source": [
    "plt.errorbar(phase_transients, 1-cory48_pt_output[0], yerr=cory48_pt_output[1], label='cory48')\n",
    "plt.errorbar(phase_transients, 1-yxx48_pt_output[0], yerr=yxx48_pt_output[1], label='yxx48')\n",
    "plt.errorbar(phase_transients, 1-yxx24_pt_output[0], yerr=yxx24_pt_output[1], label='yxx24')\n",
    "# plt.errorbar(phase_transients, 1-az3_pt_output[0], yerr=az3_pt_output[1], label='az3')\n",
    "# plt.errorbar(phase_transients, 1-az12_pt_output[0], yerr=az12_pt_output[1], label='az12')\n",
    "plt.yscale('log')\n",
    "plt.xlabel(r'Phase transient error, percent of $\\pi/2$-pulse')\n",
    "plt.ylabel('1 - fidelity')\n",
    "plt.legend()"
   ]
  },
  {
   "cell_type": "code",
   "execution_count": null,
   "metadata": {},
   "outputs": [],
   "source": []
  }
 ],
 "metadata": {
  "kernelspec": {
   "display_name": "Python 3",
   "language": "python",
   "name": "python3"
  },
  "language_info": {
   "codemirror_mode": {
    "name": "ipython",
    "version": 3
   },
   "file_extension": ".py",
   "mimetype": "text/x-python",
   "name": "python",
   "nbconvert_exporter": "python",
   "pygments_lexer": "ipython3",
   "version": "3.7.9"
  }
 },
 "nbformat": 4,
 "nbformat_minor": 4
}
