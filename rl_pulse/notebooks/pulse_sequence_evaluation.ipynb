{
 "cells": [
  {
   "cell_type": "markdown",
   "metadata": {},
   "source": [
    "# Pulse sequence evaluation\n",
    "\n",
    "Using arbitrary units. Energy is normalized to the standard deviation in chemical shift strengths. Reduced Planck's constant $\\hbar \\equiv 1$."
   ]
  },
  {
   "cell_type": "code",
   "execution_count": 39,
   "metadata": {},
   "outputs": [],
   "source": [
    "import qutip as qt\n",
    "import numpy as np\n",
    "import matplotlib.pyplot as plt\n",
    "import sys, os\n",
    "import pandas as pd\n",
    "import multiprocessing as mp"
   ]
  },
  {
   "cell_type": "code",
   "execution_count": 2,
   "metadata": {},
   "outputs": [],
   "source": [
    "sys.path.append('..')"
   ]
  },
  {
   "cell_type": "code",
   "execution_count": 3,
   "metadata": {},
   "outputs": [],
   "source": [
    "import pulse_sequences as ps"
   ]
  },
  {
   "cell_type": "markdown",
   "metadata": {},
   "source": [
    "## Define system"
   ]
  },
  {
   "cell_type": "code",
   "execution_count": 16,
   "metadata": {},
   "outputs": [],
   "source": [
    "dipolar_strength = 1e1\n",
    "pulse_width = 1e-4  # time is relative to chemical shift strength\n",
    "delay = 1e-3\n",
    "rot_error = 1e-2\n",
    "N = 4  # number of spins\n",
    "ensemble_size = 50"
   ]
  },
  {
   "cell_type": "code",
   "execution_count": 5,
   "metadata": {},
   "outputs": [],
   "source": [
    "X, Y, Z = ps.get_collective_spin(N)"
   ]
  },
  {
   "cell_type": "code",
   "execution_count": 17,
   "metadata": {},
   "outputs": [],
   "source": [
    "Hsys_ensemble = [ps.get_Hsys(N, dipolar_strength=dipolar_strength) for _ in range(ensemble_size)]\n",
    "pulses_ensemble = [\n",
    "    ps.get_pulses(H, X, Y, Z, pulse_width, delay, rot_error=rot_error) for H in Hsys_ensemble\n",
    "]"
   ]
  },
  {
   "cell_type": "code",
   "execution_count": 18,
   "metadata": {},
   "outputs": [],
   "source": [
    "Utarget = qt.identity(Hsys_ensemble[0].dims[0])"
   ]
  },
  {
   "cell_type": "markdown",
   "metadata": {},
   "source": [
    "## Define and evaluate pulse sequences\n",
    "\n"
   ]
  },
  {
   "cell_type": "code",
   "execution_count": 19,
   "metadata": {},
   "outputs": [
    {
     "data": {
      "text/plain": [
       "0.999997381165852"
      ]
     },
     "execution_count": 19,
     "metadata": {},
     "output_type": "execute_result"
    }
   ],
   "source": [
    "ps.get_mean_fidelity(ps.yxx24, Utarget, pulses_ensemble)"
   ]
  },
  {
   "cell_type": "code",
   "execution_count": 20,
   "metadata": {},
   "outputs": [
    {
     "data": {
      "text/plain": [
       "0.9999921605298719"
      ]
     },
     "execution_count": 20,
     "metadata": {},
     "output_type": "execute_result"
    }
   ],
   "source": [
    "ps.get_mean_fidelity(ps.yxx48, Utarget, pulses_ensemble)"
   ]
  },
  {
   "cell_type": "code",
   "execution_count": 24,
   "metadata": {},
   "outputs": [
    {
     "data": {
      "text/plain": [
       "0.9940775812866163"
      ]
     },
     "execution_count": 24,
     "metadata": {},
     "output_type": "execute_result"
    }
   ],
   "source": [
    "ps.get_mean_fidelity(ps.mcts12_2, Utarget, pulses_ensemble)"
   ]
  },
  {
   "cell_type": "code",
   "execution_count": 25,
   "metadata": {},
   "outputs": [
    {
     "data": {
      "text/plain": [
       "0.9980730473527457"
      ]
     },
     "execution_count": 25,
     "metadata": {},
     "output_type": "execute_result"
    }
   ],
   "source": [
    "ps.get_mean_fidelity(ps.mcts12_3, Utarget, pulses_ensemble)"
   ]
  },
  {
   "cell_type": "code",
   "execution_count": 26,
   "metadata": {},
   "outputs": [
    {
     "data": {
      "text/plain": [
       "0.9980293112215896"
      ]
     },
     "execution_count": 26,
     "metadata": {},
     "output_type": "execute_result"
    }
   ],
   "source": [
    "ps.get_mean_fidelity(ps.mcts12_4, Utarget, pulses_ensemble)"
   ]
  },
  {
   "cell_type": "code",
   "execution_count": 27,
   "metadata": {},
   "outputs": [
    {
     "data": {
      "text/plain": [
       "0.9958282061761383"
      ]
     },
     "execution_count": 27,
     "metadata": {},
     "output_type": "execute_result"
    }
   ],
   "source": [
    "ps.get_mean_fidelity(ps.az3, Utarget, pulses_ensemble)"
   ]
  },
  {
   "cell_type": "markdown",
   "metadata": {},
   "source": [
    "## Evaluate robustness\n",
    "\n",
    "Looking at several different sources of errors:\n",
    "\n",
    "- Non-negligible higher-order terms in Magnus expansion\n",
    "- Rotation errors\n",
    "- Phase transients\n",
    "- Offset errors"
   ]
  },
  {
   "cell_type": "code",
   "execution_count": 91,
   "metadata": {},
   "outputs": [],
   "source": [
    "pulses_ensemble = [\n",
    "    ps.get_pulses(H, X, Y, Z, pulse_width, delay, rot_error=0)\n",
    "    for H in Hsys_ensemble\n",
    "]"
   ]
  },
  {
   "cell_type": "code",
   "execution_count": 97,
   "metadata": {},
   "outputs": [],
   "source": [
    "yxx48_fidelities = np.array([\n",
    "    ps.get_fidelity(ps.yxx48, Utarget, p)\n",
    "    for p in pulses_ensemble\n",
    "])"
   ]
  },
  {
   "cell_type": "code",
   "execution_count": 98,
   "metadata": {},
   "outputs": [
    {
     "data": {
      "text/plain": [
       "(1.0160178076867865e-05, 2.1976104601577872e-05)"
      ]
     },
     "execution_count": 98,
     "metadata": {},
     "output_type": "execute_result"
    }
   ],
   "source": [
    "1-np.mean(yxx48_fidelities), np.std(yxx48_fidelities)"
   ]
  },
  {
   "cell_type": "code",
   "execution_count": 102,
   "metadata": {},
   "outputs": [],
   "source": [
    "yxx24_fidelities = np.array([\n",
    "    ps.get_fidelity(ps.yxx24, Utarget, p)\n",
    "    for p in pulses_ensemble\n",
    "])"
   ]
  },
  {
   "cell_type": "code",
   "execution_count": 103,
   "metadata": {},
   "outputs": [
    {
     "data": {
      "text/plain": [
       "(2.598338609938189e-06, 5.592592951128164e-06)"
      ]
     },
     "execution_count": 103,
     "metadata": {},
     "output_type": "execute_result"
    }
   ],
   "source": [
    "1-np.mean(yxx24_fidelities), np.std(yxx24_fidelities)"
   ]
  },
  {
   "cell_type": "code",
   "execution_count": 105,
   "metadata": {},
   "outputs": [],
   "source": [
    "az3_fidelities = np.array([\n",
    "    ps.get_fidelity(ps.az3, Utarget, p)\n",
    "    for p in pulses_ensemble\n",
    "])"
   ]
  },
  {
   "cell_type": "code",
   "execution_count": 106,
   "metadata": {},
   "outputs": [
    {
     "data": {
      "text/plain": [
       "(0.0029093752036906118, 0.004033137682925701)"
      ]
     },
     "execution_count": 106,
     "metadata": {},
     "output_type": "execute_result"
    }
   ],
   "source": [
    "1-np.mean(az3_fidelities), np.std(az3_fidelities)"
   ]
  },
  {
   "cell_type": "markdown",
   "metadata": {},
   "source": [
    "### Rotation errors"
   ]
  },
  {
   "cell_type": "code",
   "execution_count": 55,
   "metadata": {},
   "outputs": [],
   "source": [
    "rot_errors = np.linspace(-.2, .2, 25)"
   ]
  },
  {
   "cell_type": "code",
   "execution_count": 86,
   "metadata": {},
   "outputs": [],
   "source": [
    "def f(rot_error):\n",
    "    pe = [ps.get_pulses(H, X, Y, Z, pulse_width, delay, rot_error=rot_error) for H in Hsys_ensemble]\n",
    "    fidelities = [ps.get_fidelity(ps.yxx48, Utarget, p) for p in pe]\n",
    "    return np.mean(fidelities), np.std(fidelities)"
   ]
  },
  {
   "cell_type": "code",
   "execution_count": 87,
   "metadata": {},
   "outputs": [],
   "source": [
    "with mp.Pool(4) as p:\n",
    "    fidelities = p.map(f, rot_errors)"
   ]
  },
  {
   "cell_type": "code",
   "execution_count": 88,
   "metadata": {},
   "outputs": [],
   "source": [
    "fidelities, f_std = zip(*fidelities)"
   ]
  },
  {
   "cell_type": "code",
   "execution_count": 89,
   "metadata": {},
   "outputs": [],
   "source": [
    "fidelities = np.array(fidelities)\n",
    "f_std = np.array(f_std)"
   ]
  },
  {
   "cell_type": "code",
   "execution_count": 73,
   "metadata": {},
   "outputs": [],
   "source": [
    "def g(rot_error):\n",
    "    pe = [ps.get_pulses(H, X, Y, Z, pulse_width, delay, rot_error=rot_error) for H in Hsys_ensemble]\n",
    "    fidelities = [ps.get_fidelity(ps.yxx24, Utarget, p) for p in pe]\n",
    "    return np.mean(fidelities), np.std(fidelities)"
   ]
  },
  {
   "cell_type": "code",
   "execution_count": 114,
   "metadata": {},
   "outputs": [],
   "source": [
    "with mp.Pool(4) as p:\n",
    "    fidelities2 = p.map(g, rot_errors)"
   ]
  },
  {
   "cell_type": "code",
   "execution_count": 115,
   "metadata": {},
   "outputs": [],
   "source": [
    "fidelities2, f_std2 = zip(*fidelities2)"
   ]
  },
  {
   "cell_type": "code",
   "execution_count": 116,
   "metadata": {},
   "outputs": [],
   "source": [
    "fidelities2 = np.array(fidelities2)\n",
    "f_std2 = np.array(f_std2)"
   ]
  },
  {
   "cell_type": "code",
   "execution_count": 108,
   "metadata": {},
   "outputs": [],
   "source": [
    "def h(rot_error):\n",
    "    pe = [ps.get_pulses(H, X, Y, Z, pulse_width, delay, rot_error=rot_error) for H in Hsys_ensemble]\n",
    "    fidelities = [ps.get_fidelity(ps.az3, Utarget, p) for p in pe]\n",
    "    return np.mean(fidelities), np.std(fidelities)"
   ]
  },
  {
   "cell_type": "code",
   "execution_count": 109,
   "metadata": {},
   "outputs": [],
   "source": [
    "with mp.Pool(4) as p:\n",
    "    fidelities3 = p.map(h, rot_errors)"
   ]
  },
  {
   "cell_type": "code",
   "execution_count": 112,
   "metadata": {},
   "outputs": [],
   "source": [
    "fidelities3, f_std3 = zip(*fidelities3)"
   ]
  },
  {
   "cell_type": "code",
   "execution_count": 113,
   "metadata": {},
   "outputs": [],
   "source": [
    "fidelities3 = np.array(fidelities3)\n",
    "f_std3 = np.array(f_std3)"
   ]
  },
  {
   "cell_type": "code",
   "execution_count": 117,
   "metadata": {},
   "outputs": [
    {
     "data": {
      "text/plain": [
       "<matplotlib.legend.Legend at 0x7f8dc1dc4390>"
      ]
     },
     "execution_count": 117,
     "metadata": {},
     "output_type": "execute_result"
    },
    {
     "data": {
      "image/png": "[encoded data removed]",
      "text/plain": [
       "<Figure size 432x288 with 1 Axes>"
      ]
     },
     "metadata": {
      "needs_background": "light"
     },
     "output_type": "display_data"
    }
   ],
   "source": [
    "plt.errorbar(rot_errors, 1-fidelities, yerr=f_std, label='yxx48')\n",
    "plt.errorbar(rot_errors, 1-fidelities2, yerr=f_std2, label='yxx24')\n",
    "plt.errorbar(rot_errors, 1-fidelities3, yerr=f_std3, label='az3')\n",
    "plt.yscale('log')\n",
    "plt.legend()"
   ]
  },
  {
   "cell_type": "markdown",
   "metadata": {},
   "source": [
    "### Phase transients"
   ]
  },
  {
   "cell_type": "code",
   "execution_count": 125,
   "metadata": {},
   "outputs": [],
   "source": [
    "phase_transients = np.linspace(0, .05, 25)"
   ]
  },
  {
   "cell_type": "code",
   "execution_count": 119,
   "metadata": {},
   "outputs": [],
   "source": [
    "def f(pt):\n",
    "    pe = [ps.get_pulses(H, X, Y, Z, pulse_width, delay, phase_transient=pt) for H in Hsys_ensemble]\n",
    "    fidelities = [ps.get_fidelity(ps.yxx48, Utarget, p) for p in pe]\n",
    "    return np.mean(fidelities), np.std(fidelities)"
   ]
  },
  {
   "cell_type": "code",
   "execution_count": 146,
   "metadata": {},
   "outputs": [],
   "source": [
    "with mp.Pool(4) as p:\n",
    "    yxx48_fidelities_pt = p.map(f, phase_transients)"
   ]
  },
  {
   "cell_type": "code",
   "execution_count": 147,
   "metadata": {},
   "outputs": [],
   "source": [
    "yxx48_f_pt, yxx48_f_pt_std = zip(*yxx48_fidelities_pt)"
   ]
  },
  {
   "cell_type": "code",
   "execution_count": 148,
   "metadata": {},
   "outputs": [],
   "source": [
    "yxx48_f_pt = np.array(yxx48_f_pt)\n",
    "yxx48_f_pt_std = np.array(yxx48_f_pt_std)"
   ]
  },
  {
   "cell_type": "code",
   "execution_count": 131,
   "metadata": {},
   "outputs": [],
   "source": [
    "def g(pt):\n",
    "    pe = [ps.get_pulses(H, X, Y, Z, pulse_width, delay, phase_transient=pt) for H in Hsys_ensemble]\n",
    "    fidelities = [ps.get_fidelity(ps.yxx24, Utarget, p) for p in pe]\n",
    "    return np.mean(fidelities), np.std(fidelities)"
   ]
  },
  {
   "cell_type": "code",
   "execution_count": 149,
   "metadata": {},
   "outputs": [],
   "source": [
    "with mp.Pool(4) as p:\n",
    "    yxx24_fidelities_pt = p.map(g, phase_transients)"
   ]
  },
  {
   "cell_type": "code",
   "execution_count": 150,
   "metadata": {},
   "outputs": [],
   "source": [
    "yxx24_f_pt, yxx24_f_pt_std = zip(*yxx24_fidelities_pt)"
   ]
  },
  {
   "cell_type": "code",
   "execution_count": 151,
   "metadata": {},
   "outputs": [],
   "source": [
    "yxx24_f_pt = np.array(yxx24_f_pt)\n",
    "yxx24_f_pt_std = np.array(yxx24_f_pt_std)"
   ]
  },
  {
   "cell_type": "code",
   "execution_count": 155,
   "metadata": {},
   "outputs": [],
   "source": [
    "def h(pt):\n",
    "    pe = [ps.get_pulses(H, X, Y, Z, pulse_width, delay, phase_transient=pt) for H in Hsys_ensemble]\n",
    "    fidelities = [ps.get_fidelity(ps.az3, Utarget, p) for p in pe]\n",
    "    return np.mean(fidelities), np.std(fidelities)"
   ]
  },
  {
   "cell_type": "code",
   "execution_count": 156,
   "metadata": {},
   "outputs": [],
   "source": [
    "with mp.Pool(4) as p:\n",
    "    az3_fidelities_pt = p.map(h, phase_transients)"
   ]
  },
  {
   "cell_type": "code",
   "execution_count": 157,
   "metadata": {},
   "outputs": [],
   "source": [
    "az3_f_pt, az3_f_pt_std = zip(*az3_fidelities_pt)"
   ]
  },
  {
   "cell_type": "code",
   "execution_count": 158,
   "metadata": {},
   "outputs": [],
   "source": [
    "az3_f_pt = np.array(az3_f_pt)\n",
    "az3_f_pt_std = np.array(az3_f_pt_std)"
   ]
  },
  {
   "cell_type": "code",
   "execution_count": 161,
   "metadata": {},
   "outputs": [
    {
     "data": {
      "text/plain": [
       "<matplotlib.legend.Legend at 0x7f8dc5096490>"
      ]
     },
     "execution_count": 161,
     "metadata": {},
     "output_type": "execute_result"
    },
    {
     "data": {
      "image/png": "[encoded data removed]",
      "text/plain": [
       "<Figure size 432x288 with 1 Axes>"
      ]
     },
     "metadata": {
      "needs_background": "light"
     },
     "output_type": "display_data"
    }
   ],
   "source": [
    "plt.errorbar(phase_transients, 1-yxx48_f_pt, yerr=yxx48_f_pt_std, label='yxx48')\n",
    "plt.errorbar(phase_transients, 1-yxx24_f_pt, yerr=yxx24_f_pt_std, label='yxx24')\n",
    "plt.errorbar(phase_transients, 1-az3_f_pt, yerr=az3_f_pt_std, label='az3')\n",
    "plt.yscale('log')\n",
    "plt.legend()"
   ]
  },
  {
   "cell_type": "markdown",
   "metadata": {},
   "source": [
    "## Check candidates from CSV file"
   ]
  },
  {
   "cell_type": "code",
   "execution_count": 300,
   "metadata": {},
   "outputs": [],
   "source": [
    "df = pd.read_csv('../../data/2021-02/20210213-191154/candidates_sorted.csv')"
   ]
  },
  {
   "cell_type": "code",
   "execution_count": 301,
   "metadata": {},
   "outputs": [],
   "source": [
    "df['sequence'] = df['sequence'].apply(lambda x: [int(i) for i in x[1:-1].split(',')])"
   ]
  },
  {
   "cell_type": "code",
   "execution_count": 302,
   "metadata": {},
   "outputs": [],
   "source": [
    "df['last_pulse'] = df['last_pulse'].apply(lambda x: [float(i) for i in x[1:-1].split(',')])"
   ]
  },
  {
   "cell_type": "code",
   "execution_count": 303,
   "metadata": {},
   "outputs": [],
   "source": [
    "df['last_pulse'] = df['last_pulse'].apply(lambda x: np.argwhere(x)[0][0])"
   ]
  },
  {
   "cell_type": "code",
   "execution_count": 304,
   "metadata": {},
   "outputs": [],
   "source": [
    "df['full_sequence'] = df['sequence'] + df['last_pulse'].apply(lambda x: [x])"
   ]
  },
  {
   "cell_type": "code",
   "execution_count": 316,
   "metadata": {},
   "outputs": [
    {
     "name": "stdout",
     "output_type": "stream",
     "text": [
      "0 0.9784564951709153\n",
      "1 0.9693756534626261\n",
      "2 0.9861487041698399\n",
      "3 0.9814814228618427\n",
      "4 0.9749209861322079\n",
      "5 0.9590175324306149\n",
      "6 0.9811328468966448\n",
      "7 0.9712645299494337\n",
      "8 0.9811330446913564\n",
      "9 0.98191224448765\n"
     ]
    }
   ],
   "source": [
    "seqs = []\n",
    "fidelities = []\n",
    "for i in range(10):\n",
    "    candidate = df['full_sequence'][i]\n",
    "    seqs.append(candidate)\n",
    "    f = ps.get_mean_fidelity(candidate, Utarget, pulses_ensemble)\n",
    "    fidelities.append(f)\n",
    "    print(i, f)"
   ]
  },
  {
   "cell_type": "code",
   "execution_count": 298,
   "metadata": {},
   "outputs": [
    {
     "data": {
      "text/plain": [
       "2.1213368916980175"
      ]
     },
     "execution_count": 298,
     "metadata": {},
     "output_type": "execute_result"
    }
   ],
   "source": [
    "-np.log10(1-0.9924375396910494)"
   ]
  },
  {
   "cell_type": "code",
   "execution_count": 222,
   "metadata": {},
   "outputs": [
    {
     "name": "stdout",
     "output_type": "stream",
     "text": [
      "[2, 3, 3, 3, 3, 2, 3, 2, 4, 2, 4, 1, 2, 3, 3, 3, 0, 3, 0, 2, 3, 2, 2, 2, 3, 2, 0, 4, 2, 2, 2, 0, 4, 4, 3, 1, 3, 4, 4, 0, 0, 0, 2, 2, 2, 0, 3, 2]\n"
     ]
    }
   ],
   "source": [
    "print(df['full_sequence'][23])"
   ]
  },
  {
   "cell_type": "code",
   "execution_count": 264,
   "metadata": {},
   "outputs": [],
   "source": [
    "names = [\n",
    "    r'\\tau_{\\pi/2}, \\tau',\n",
    "    r'X, \\tau',\n",
    "    r'-X, \\tau',\n",
    "    r'Y, \\tau',\n",
    "    r'-Y, \\tau',\n",
    "]"
   ]
  },
  {
   "cell_type": "code",
   "execution_count": 268,
   "metadata": {},
   "outputs": [
    {
     "name": "stdout",
     "output_type": "stream",
     "text": [
      "$ -X, \\tau, Y, \\tau, Y, \\tau, Y, \\tau, Y, \\tau, -X, \\tau, Y, \\tau, -X, \\tau, -Y, \\tau, -X, \\tau, -Y, \\tau, X, \\tau $\n",
      "$ -X, \\tau, Y, \\tau, Y, \\tau, Y, \\tau, \\tau_{\\pi/2}, \\tau, Y, \\tau, \\tau_{\\pi/2}, \\tau, -X, \\tau, Y, \\tau, -X, \\tau, -X, \\tau, -X, \\tau $\n",
      "$ Y, \\tau, -X, \\tau, \\tau_{\\pi/2}, \\tau, -Y, \\tau, -X, \\tau, -X, \\tau, -X, \\tau, \\tau_{\\pi/2}, \\tau, -Y, \\tau, -Y, \\tau, Y, \\tau, X, \\tau $\n",
      "$ Y, \\tau, -Y, \\tau, -Y, \\tau, \\tau_{\\pi/2}, \\tau, \\tau_{\\pi/2}, \\tau, \\tau_{\\pi/2}, \\tau, -X, \\tau, -X, \\tau, -X, \\tau, \\tau_{\\pi/2}, \\tau, Y, \\tau, -X, \\tau $\n"
     ]
    }
   ],
   "source": [
    "sequence_string = [names[i] for i in df['full_sequence'][23]]\n",
    "\n",
    "print('$', ', '.join(sequence_string[:12]), '$')\n",
    "print('$', ', '.join(sequence_string[12:24]), '$')\n",
    "print('$', ', '.join(sequence_string[24:36]), '$')\n",
    "print('$', ', '.join(sequence_string[36:48]), '$')"
   ]
  },
  {
   "cell_type": "markdown",
   "metadata": {},
   "source": [
    "Pulse sequence 23:\n",
    "\n",
    "$ -X, \\tau, Y, \\tau, Y, \\tau, Y, \\tau, Y, \\tau, -X, \\tau, Y, \\tau, -X, \\tau, -Y, \\tau, -X, \\tau, -Y, \\tau, X, \\tau $\n",
    "$ -X, \\tau, Y, \\tau, Y, \\tau, Y, \\tau, \\tau_{\\pi/2}, \\tau, Y, \\tau, \\tau_{\\pi/2}, \\tau, -X, \\tau, Y, \\tau, -X, \\tau, -X, \\tau, -X, \\tau $\n",
    "$ Y, \\tau, -X, \\tau, \\tau_{\\pi/2}, \\tau, -Y, \\tau, -X, \\tau, -X, \\tau, -X, \\tau, \\tau_{\\pi/2}, \\tau, -Y, \\tau, -Y, \\tau, Y, \\tau, X, \\tau $\n",
    "$ Y, \\tau, -Y, \\tau, -Y, \\tau, \\tau_{\\pi/2}, \\tau, \\tau_{\\pi/2}, \\tau, \\tau_{\\pi/2}, \\tau, -X, \\tau, -X, \\tau, -X, \\tau, \\tau_{\\pi/2}, \\tau, Y, \\tau, -X, \\tau $"
   ]
  },
  {
   "cell_type": "code",
   "execution_count": 223,
   "metadata": {},
   "outputs": [],
   "source": [
    "fidelities = np.array(\n",
    "    [ps.get_fidelity(df['full_sequence'][23], Utarget, pulses)\n",
    "     for pulses in pulses_ensemble]\n",
    ")"
   ]
  },
  {
   "cell_type": "code",
   "execution_count": 224,
   "metadata": {},
   "outputs": [
    {
     "data": {
      "text/plain": [
       "0.9901248881032397"
      ]
     },
     "execution_count": 224,
     "metadata": {},
     "output_type": "execute_result"
    }
   ],
   "source": [
    "np.mean(fidelities)"
   ]
  },
  {
   "cell_type": "code",
   "execution_count": 225,
   "metadata": {},
   "outputs": [
    {
     "data": {
      "text/plain": [
       "0.013279629621136551"
      ]
     },
     "execution_count": 225,
     "metadata": {},
     "output_type": "execute_result"
    }
   ],
   "source": [
    "np.std(fidelities)"
   ]
  },
  {
   "cell_type": "code",
   "execution_count": 231,
   "metadata": {},
   "outputs": [
    {
     "data": {
      "text/plain": [
       "[<matplotlib.lines.Line2D at 0x7f967be18650>]"
      ]
     },
     "execution_count": 231,
     "metadata": {},
     "output_type": "execute_result"
    },
    {
     "data": {
      "image/png": "[encoded data removed]",
      "text/plain": [
       "<Figure size 432x288 with 1 Axes>"
      ]
     },
     "metadata": {
      "needs_background": "light"
     },
     "output_type": "display_data"
    }
   ],
   "source": [
    "plt.hist(1 - fidelities, bins=30)\n",
    "# fit exponential curve\n",
    "X = np.linspace(0, .1, 100)\n",
    "Y = np.exp(-1 / np.mean(1 - fidelities) * X)\n",
    "plt.plot(X, Y * 40)"
   ]
  }
 ],
 "metadata": {
  "kernelspec": {
   "display_name": "Python 3",
   "language": "python",
   "name": "python3"
  },
  "language_info": {
   "codemirror_mode": {
    "name": "ipython",
    "version": 3
   },
   "file_extension": ".py",
   "mimetype": "text/x-python",
   "name": "python",
   "nbconvert_exporter": "python",
   "pygments_lexer": "ipython3",
   "version": "3.7.9"
  }
 },
 "nbformat": 4,
 "nbformat_minor": 4
}
