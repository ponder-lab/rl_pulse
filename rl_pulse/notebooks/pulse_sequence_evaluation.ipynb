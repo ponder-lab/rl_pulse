{
 "cells": [
  {
   "cell_type": "markdown",
   "metadata": {},
   "source": [
    "# Pulse sequence evaluation\n",
    "\n",
    "Using arbitrary units. Energy is normalized to the standard deviation in chemical shift strengths. Reduced Planck's constant $\\hbar \\equiv 1$."
   ]
  },
  {
   "cell_type": "code",
   "execution_count": 39,
   "metadata": {},
   "outputs": [],
   "source": [
    "import qutip as qt\n",
    "import numpy as np\n",
    "import matplotlib.pyplot as plt\n",
    "import sys, os\n",
    "import pandas as pd\n",
    "import multiprocessing as mp"
   ]
  },
  {
   "cell_type": "code",
   "execution_count": 2,
   "metadata": {},
   "outputs": [],
   "source": [
    "sys.path.append('..')"
   ]
  },
  {
   "cell_type": "code",
   "execution_count": 3,
   "metadata": {},
   "outputs": [],
   "source": [
    "import pulse_sequences as ps"
   ]
  },
  {
   "cell_type": "markdown",
   "metadata": {},
   "source": [
    "## Define system"
   ]
  },
  {
   "cell_type": "code",
   "execution_count": 16,
   "metadata": {},
   "outputs": [],
   "source": [
    "dipolar_strength = 1e1\n",
    "pulse_width = 1e-4  # time is relative to chemical shift strength\n",
    "delay = 1e-3\n",
    "rot_error = 1e-2\n",
    "N = 4  # number of spins\n",
    "ensemble_size = 50"
   ]
  },
  {
   "cell_type": "code",
   "execution_count": 5,
   "metadata": {},
   "outputs": [],
   "source": [
    "X, Y, Z = ps.get_collective_spin(N)"
   ]
  },
  {
   "cell_type": "code",
   "execution_count": 17,
   "metadata": {},
   "outputs": [],
   "source": [
    "Hsys_ensemble = [ps.get_Hsys(N, dipolar_strength=dipolar_strength) for _ in range(ensemble_size)]\n",
    "pulses_ensemble = [\n",
    "    ps.get_pulses(H, X, Y, Z, pulse_width, delay, rot_error=rot_error) for H in Hsys_ensemble\n",
    "]"
   ]
  },
  {
   "cell_type": "code",
   "execution_count": 18,
   "metadata": {},
   "outputs": [],
   "source": [
    "Utarget = qt.identity(Hsys_ensemble[0].dims[0])"
   ]
  },
  {
   "cell_type": "markdown",
   "metadata": {},
   "source": [
    "## Define and evaluate pulse sequences\n",
    "\n"
   ]
  },
  {
   "cell_type": "code",
   "execution_count": 245,
   "metadata": {},
   "outputs": [
    {
     "data": {
      "text/plain": [
       "(0.9999974016613897, 5.585304253189917)"
      ]
     },
     "execution_count": 245,
     "metadata": {},
     "output_type": "execute_result"
    }
   ],
   "source": [
    "f = ps.get_mean_fidelity(ps.yxx24, Utarget, pulses_ensemble)\n",
    "f, -np.log10(1 - f)"
   ]
  },
  {
   "cell_type": "code",
   "execution_count": 246,
   "metadata": {},
   "outputs": [
    {
     "data": {
      "text/plain": [
       "(0.9999898398219236, 4.993098680149496)"
      ]
     },
     "execution_count": 246,
     "metadata": {},
     "output_type": "execute_result"
    }
   ],
   "source": [
    "f = ps.get_mean_fidelity(ps.yxx48, Utarget, pulses_ensemble)\n",
    "f, -np.log10(1 - f)"
   ]
  },
  {
   "cell_type": "code",
   "execution_count": 24,
   "metadata": {},
   "outputs": [
    {
     "data": {
      "text/plain": [
       "0.9940775812866163"
      ]
     },
     "execution_count": 24,
     "metadata": {},
     "output_type": "execute_result"
    }
   ],
   "source": [
    "f = ps.get_mean_fidelity(ps.mcts12_2, Utarget, pulses_ensemble)\n",
    "f, -np.log10(1 - f)"
   ]
  },
  {
   "cell_type": "code",
   "execution_count": 25,
   "metadata": {},
   "outputs": [
    {
     "data": {
      "text/plain": [
       "0.9980730473527457"
      ]
     },
     "execution_count": 25,
     "metadata": {},
     "output_type": "execute_result"
    }
   ],
   "source": [
    "ps.get_mean_fidelity(ps.mcts12_3, Utarget, pulses_ensemble)"
   ]
  },
  {
   "cell_type": "code",
   "execution_count": 26,
   "metadata": {},
   "outputs": [
    {
     "data": {
      "text/plain": [
       "0.9980293112215896"
      ]
     },
     "execution_count": 26,
     "metadata": {},
     "output_type": "execute_result"
    }
   ],
   "source": [
    "ps.get_mean_fidelity(ps.mcts12_4, Utarget, pulses_ensemble)"
   ]
  },
  {
   "cell_type": "code",
   "execution_count": 27,
   "metadata": {},
   "outputs": [
    {
     "data": {
      "text/plain": [
       "0.9958282061761383"
      ]
     },
     "execution_count": 27,
     "metadata": {},
     "output_type": "execute_result"
    }
   ],
   "source": [
    "ps.get_mean_fidelity(ps.az3, Utarget, pulses_ensemble)"
   ]
  },
  {
   "cell_type": "markdown",
   "metadata": {},
   "source": [
    "## Evaluate robustness\n",
    "\n",
    "Looking at several different sources of errors:\n",
    "\n",
    "- Non-negligible higher-order terms in Magnus expansion\n",
    "- Rotation errors\n",
    "- Phase transients\n",
    "- Offset errors"
   ]
  },
  {
   "cell_type": "code",
   "execution_count": 91,
   "metadata": {},
   "outputs": [],
   "source": [
    "pulses_ensemble = [\n",
    "    ps.get_pulses(H, X, Y, Z, pulse_width, delay, rot_error=0)\n",
    "    for H in Hsys_ensemble\n",
    "]"
   ]
  },
  {
   "cell_type": "code",
   "execution_count": 97,
   "metadata": {},
   "outputs": [],
   "source": [
    "yxx48_fidelities = np.array([\n",
    "    ps.get_fidelity(ps.yxx48, Utarget, p)\n",
    "    for p in pulses_ensemble\n",
    "])"
   ]
  },
  {
   "cell_type": "code",
   "execution_count": 98,
   "metadata": {},
   "outputs": [
    {
     "data": {
      "text/plain": [
       "(1.0160178076867865e-05, 2.1976104601577872e-05)"
      ]
     },
     "execution_count": 98,
     "metadata": {},
     "output_type": "execute_result"
    }
   ],
   "source": [
    "1-np.mean(yxx48_fidelities), np.std(yxx48_fidelities)"
   ]
  },
  {
   "cell_type": "code",
   "execution_count": 102,
   "metadata": {},
   "outputs": [],
   "source": [
    "yxx24_fidelities = np.array([\n",
    "    ps.get_fidelity(ps.yxx24, Utarget, p)\n",
    "    for p in pulses_ensemble\n",
    "])"
   ]
  },
  {
   "cell_type": "code",
   "execution_count": 103,
   "metadata": {},
   "outputs": [
    {
     "data": {
      "text/plain": [
       "(2.598338609938189e-06, 5.592592951128164e-06)"
      ]
     },
     "execution_count": 103,
     "metadata": {},
     "output_type": "execute_result"
    }
   ],
   "source": [
    "1-np.mean(yxx24_fidelities), np.std(yxx24_fidelities)"
   ]
  },
  {
   "cell_type": "code",
   "execution_count": 105,
   "metadata": {},
   "outputs": [],
   "source": [
    "az3_fidelities = np.array([\n",
    "    ps.get_fidelity(ps.az3, Utarget, p)\n",
    "    for p in pulses_ensemble\n",
    "])"
   ]
  },
  {
   "cell_type": "code",
   "execution_count": 106,
   "metadata": {},
   "outputs": [
    {
     "data": {
      "text/plain": [
       "(0.0029093752036906118, 0.004033137682925701)"
      ]
     },
     "execution_count": 106,
     "metadata": {},
     "output_type": "execute_result"
    }
   ],
   "source": [
    "1-np.mean(az3_fidelities), np.std(az3_fidelities)"
   ]
  },
  {
   "cell_type": "markdown",
   "metadata": {},
   "source": [
    "### Rotation errors"
   ]
  },
  {
   "cell_type": "code",
   "execution_count": 288,
   "metadata": {},
   "outputs": [],
   "source": [
    "rot_errors = np.linspace(-.1, .1, 25)"
   ]
  },
  {
   "cell_type": "code",
   "execution_count": 295,
   "metadata": {},
   "outputs": [],
   "source": [
    "def f(pulse_sequence, rot_error):\n",
    "    pe = [ps.get_pulses(H, X, Y, Z, pulse_width, delay, rot_error=rot_error) for H in Hsys_ensemble]\n",
    "    fidelities = [ps.get_fidelity(pulse_sequence, Utarget, p) for p in pe]\n",
    "    return np.mean(fidelities), np.std(fidelities)"
   ]
  },
  {
   "cell_type": "code",
   "execution_count": 296,
   "metadata": {},
   "outputs": [],
   "source": [
    "def get_rot_data(pulse_sequence, rot_errors, num_workers=4):\n",
    "    with mp.Pool(num_workers) as p:\n",
    "        output = p.map(f, [(pulse_sequence, r) for r in rot_errors])\n",
    "    \n",
    "    fidelity, fidelity_std = zip(*output)\n",
    "    fidelity = np.array(fidelity)\n",
    "    fidelity_std = np.array(fidelity_std)\n",
    "    \n",
    "    return fidelity, fidelity_std"
   ]
  },
  {
   "cell_type": "code",
   "execution_count": 87,
   "metadata": {},
   "outputs": [],
   "source": [
    "with mp.Pool(4) as p:\n",
    "    yxx48_f_rot = p.map(f, rot_errors)"
   ]
  },
  {
   "cell_type": "code",
   "execution_count": 88,
   "metadata": {},
   "outputs": [],
   "source": [
    "yxx48_f_rot, yxx48_f_rot_std = zip(*yxx48_f_rot)"
   ]
  },
  {
   "cell_type": "code",
   "execution_count": 89,
   "metadata": {},
   "outputs": [],
   "source": [
    "yxx48_f_rot = np.array(yxx48_f_rot)\n",
    "yxx48_f_rot_std = np.array(yxx48_f_rot_std)"
   ]
  },
  {
   "cell_type": "code",
   "execution_count": 73,
   "metadata": {},
   "outputs": [],
   "source": [
    "def g(rot_error):\n",
    "    pe = [ps.get_pulses(H, X, Y, Z, pulse_width, delay, rot_error=rot_error) for H in Hsys_ensemble]\n",
    "    fidelities = [ps.get_fidelity(ps.yxx24, Utarget, p) for p in pe]\n",
    "    return np.mean(fidelities), np.std(fidelities)"
   ]
  },
  {
   "cell_type": "code",
   "execution_count": 114,
   "metadata": {},
   "outputs": [],
   "source": [
    "with mp.Pool(4) as p:\n",
    "    yxx24_f_rot = p.map(g, rot_errors)"
   ]
  },
  {
   "cell_type": "code",
   "execution_count": 115,
   "metadata": {},
   "outputs": [],
   "source": [
    "yxx24_f_rot, yxx24_f_rot_std = zip(*yxx24_f_rot)"
   ]
  },
  {
   "cell_type": "code",
   "execution_count": 116,
   "metadata": {},
   "outputs": [],
   "source": [
    "yxx24_f_rot = np.array(yxx24_f_rot)\n",
    "yxx24_f_rot_std = np.array(yxx24_f_rot_std)"
   ]
  },
  {
   "cell_type": "code",
   "execution_count": 108,
   "metadata": {},
   "outputs": [],
   "source": [
    "def h(rot_error):\n",
    "    pe = [ps.get_pulses(H, X, Y, Z, pulse_width, delay, rot_error=rot_error) for H in Hsys_ensemble]\n",
    "    fidelities = [ps.get_fidelity(ps.az3, Utarget, p) for p in pe]\n",
    "    return np.mean(fidelities), np.std(fidelities)"
   ]
  },
  {
   "cell_type": "code",
   "execution_count": 109,
   "metadata": {},
   "outputs": [],
   "source": [
    "with mp.Pool(4) as p:\n",
    "    az3_f_rot = p.map(h, rot_errors)"
   ]
  },
  {
   "cell_type": "code",
   "execution_count": 112,
   "metadata": {},
   "outputs": [],
   "source": [
    "az3_f_rot, az3_f_rot_std = zip(*az3_f_rot)"
   ]
  },
  {
   "cell_type": "code",
   "execution_count": 113,
   "metadata": {},
   "outputs": [],
   "source": [
    "az3_f_rot = np.array(az3_f_rot)\n",
    "az3_f_rot_std = np.array(az3_f_rot_std)"
   ]
  },
  {
   "cell_type": "code",
   "execution_count": 117,
   "metadata": {},
   "outputs": [
    {
     "data": {
      "text/plain": [
       "<matplotlib.legend.Legend at 0x7f8dc1dc4390>"
      ]
     },
     "execution_count": 117,
     "metadata": {},
     "output_type": "execute_result"
    },
    {
     "data": {
      "image/png": "[encoded data removed]",
      "text/plain": [
       "<Figure size 432x288 with 1 Axes>"
      ]
     },
     "metadata": {
      "needs_background": "light"
     },
     "output_type": "display_data"
    }
   ],
   "source": [
    "plt.errorbar(rot_errors, 1-yxx48_f_rot, yerr=yxx48_f_rot_std, label='yxx48')\n",
    "plt.errorbar(rot_errors, 1-yxx24_f_rot, yerr=yxx24_f_rot_std, label='yxx24')\n",
    "plt.errorbar(rot_errors, 1-az3_f_rot, yerr=az3_f_rot_std, label='az3')\n",
    "plt.yscale('log')\n",
    "plt.legend()"
   ]
  },
  {
   "cell_type": "code",
   "execution_count": 278,
   "metadata": {},
   "outputs": [],
   "source": [
    "def h(rot_error):\n",
    "    pe = [ps.get_pulses(H, X, Y, Z, pulse_width, delay, rot_error=rot_error) for H in Hsys_ensemble]\n",
    "    fidelities = [ps.get_fidelity(seqs[69], Utarget, p) for p in pe]\n",
    "    return np.mean(fidelities), np.std(fidelities)"
   ]
  },
  {
   "cell_type": "code",
   "execution_count": 279,
   "metadata": {},
   "outputs": [],
   "source": [
    "with mp.Pool(4) as p:\n",
    "    az12_1_f_rot = p.map(h, rot_errors)"
   ]
  },
  {
   "cell_type": "code",
   "execution_count": 280,
   "metadata": {},
   "outputs": [],
   "source": [
    "az12_1_f_rot, az12_1_f_rot_std = zip(*az12_1_f_rot)"
   ]
  },
  {
   "cell_type": "code",
   "execution_count": 281,
   "metadata": {},
   "outputs": [],
   "source": [
    "az12_1_f_rot = np.array(az12_1_f_rot)\n",
    "az12_1_f_rot_std = np.array(az12_1_f_rot_std)"
   ]
  },
  {
   "cell_type": "markdown",
   "metadata": {},
   "source": [
    "## TODO\n",
    "\n",
    "Figure out how to map pulse sequence and rot error to `f`, so that I can reuse a lot of the code from above (and more easily try out new sequences)"
   ]
  },
  {
   "cell_type": "code",
   "execution_count": 297,
   "metadata": {},
   "outputs": [
    {
     "ename": "TypeError",
     "evalue": "f() missing 1 required positional argument: 'rot_error'",
     "output_type": "error",
     "traceback": [
      "\u001b[0;31m---------------------------------------------------------------------------\u001b[0m",
      "\u001b[0;31mRemoteTraceback\u001b[0m                           Traceback (most recent call last)",
      "\u001b[0;31mRemoteTraceback\u001b[0m: \n\"\"\"\nTraceback (most recent call last):\n  File \"/Users/willkaufman/opt/anaconda3/envs/rl_pulse/lib/python3.7/multiprocessing/pool.py\", line 121, in worker\n    result = (True, func(*args, **kwds))\n  File \"/Users/willkaufman/opt/anaconda3/envs/rl_pulse/lib/python3.7/multiprocessing/pool.py\", line 44, in mapstar\n    return list(map(*args))\nTypeError: f() missing 1 required positional argument: 'rot_error'\n\"\"\"",
      "\nThe above exception was the direct cause of the following exception:\n",
      "\u001b[0;31mTypeError\u001b[0m                                 Traceback (most recent call last)",
      "\u001b[0;32m<ipython-input-297-8a5da988fd87>\u001b[0m in \u001b[0;36m<module>\u001b[0;34m\u001b[0m\n\u001b[0;32m----> 1\u001b[0;31m \u001b[0maz12_1_f_rot\u001b[0m\u001b[0;34m,\u001b[0m \u001b[0maz12_1_f_rot_std\u001b[0m \u001b[0;34m=\u001b[0m \u001b[0mget_rot_data\u001b[0m\u001b[0;34m(\u001b[0m\u001b[0mseqs\u001b[0m\u001b[0;34m[\u001b[0m\u001b[0;36m69\u001b[0m\u001b[0;34m]\u001b[0m\u001b[0;34m,\u001b[0m \u001b[0mrot_errors\u001b[0m\u001b[0;34m)\u001b[0m\u001b[0;34m\u001b[0m\u001b[0;34m\u001b[0m\u001b[0m\n\u001b[0m",
      "\u001b[0;32m<ipython-input-296-c6e338714110>\u001b[0m in \u001b[0;36mget_rot_data\u001b[0;34m(pulse_sequence, rot_errors, num_workers)\u001b[0m\n\u001b[1;32m      1\u001b[0m \u001b[0;32mdef\u001b[0m \u001b[0mget_rot_data\u001b[0m\u001b[0;34m(\u001b[0m\u001b[0mpulse_sequence\u001b[0m\u001b[0;34m,\u001b[0m \u001b[0mrot_errors\u001b[0m\u001b[0;34m,\u001b[0m \u001b[0mnum_workers\u001b[0m\u001b[0;34m=\u001b[0m\u001b[0;36m4\u001b[0m\u001b[0;34m)\u001b[0m\u001b[0;34m:\u001b[0m\u001b[0;34m\u001b[0m\u001b[0;34m\u001b[0m\u001b[0m\n\u001b[1;32m      2\u001b[0m     \u001b[0;32mwith\u001b[0m \u001b[0mmp\u001b[0m\u001b[0;34m.\u001b[0m\u001b[0mPool\u001b[0m\u001b[0;34m(\u001b[0m\u001b[0mnum_workers\u001b[0m\u001b[0;34m)\u001b[0m \u001b[0;32mas\u001b[0m \u001b[0mp\u001b[0m\u001b[0;34m:\u001b[0m\u001b[0;34m\u001b[0m\u001b[0;34m\u001b[0m\u001b[0m\n\u001b[0;32m----> 3\u001b[0;31m         \u001b[0moutput\u001b[0m \u001b[0;34m=\u001b[0m \u001b[0mp\u001b[0m\u001b[0;34m.\u001b[0m\u001b[0mmap\u001b[0m\u001b[0;34m(\u001b[0m\u001b[0mf\u001b[0m\u001b[0;34m,\u001b[0m \u001b[0;34m[\u001b[0m\u001b[0;34m(\u001b[0m\u001b[0mpulse_sequence\u001b[0m\u001b[0;34m,\u001b[0m \u001b[0mr\u001b[0m\u001b[0;34m)\u001b[0m \u001b[0;32mfor\u001b[0m \u001b[0mr\u001b[0m \u001b[0;32min\u001b[0m \u001b[0mrot_errors\u001b[0m\u001b[0;34m]\u001b[0m\u001b[0;34m)\u001b[0m\u001b[0;34m\u001b[0m\u001b[0;34m\u001b[0m\u001b[0m\n\u001b[0m\u001b[1;32m      4\u001b[0m \u001b[0;34m\u001b[0m\u001b[0m\n\u001b[1;32m      5\u001b[0m     \u001b[0mfidelity\u001b[0m\u001b[0;34m,\u001b[0m \u001b[0mfidelity_std\u001b[0m \u001b[0;34m=\u001b[0m \u001b[0mzip\u001b[0m\u001b[0;34m(\u001b[0m\u001b[0;34m*\u001b[0m\u001b[0moutput\u001b[0m\u001b[0;34m)\u001b[0m\u001b[0;34m\u001b[0m\u001b[0;34m\u001b[0m\u001b[0m\n",
      "\u001b[0;32m~/opt/anaconda3/envs/rl_pulse/lib/python3.7/multiprocessing/pool.py\u001b[0m in \u001b[0;36mmap\u001b[0;34m(self, func, iterable, chunksize)\u001b[0m\n\u001b[1;32m    266\u001b[0m         \u001b[0;32min\u001b[0m \u001b[0ma\u001b[0m \u001b[0mlist\u001b[0m \u001b[0mthat\u001b[0m \u001b[0;32mis\u001b[0m \u001b[0mreturned\u001b[0m\u001b[0;34m.\u001b[0m\u001b[0;34m\u001b[0m\u001b[0;34m\u001b[0m\u001b[0m\n\u001b[1;32m    267\u001b[0m         '''\n\u001b[0;32m--> 268\u001b[0;31m         \u001b[0;32mreturn\u001b[0m \u001b[0mself\u001b[0m\u001b[0;34m.\u001b[0m\u001b[0m_map_async\u001b[0m\u001b[0;34m(\u001b[0m\u001b[0mfunc\u001b[0m\u001b[0;34m,\u001b[0m \u001b[0miterable\u001b[0m\u001b[0;34m,\u001b[0m \u001b[0mmapstar\u001b[0m\u001b[0;34m,\u001b[0m \u001b[0mchunksize\u001b[0m\u001b[0;34m)\u001b[0m\u001b[0;34m.\u001b[0m\u001b[0mget\u001b[0m\u001b[0;34m(\u001b[0m\u001b[0;34m)\u001b[0m\u001b[0;34m\u001b[0m\u001b[0;34m\u001b[0m\u001b[0m\n\u001b[0m\u001b[1;32m    269\u001b[0m \u001b[0;34m\u001b[0m\u001b[0m\n\u001b[1;32m    270\u001b[0m     \u001b[0;32mdef\u001b[0m \u001b[0mstarmap\u001b[0m\u001b[0;34m(\u001b[0m\u001b[0mself\u001b[0m\u001b[0;34m,\u001b[0m \u001b[0mfunc\u001b[0m\u001b[0;34m,\u001b[0m \u001b[0miterable\u001b[0m\u001b[0;34m,\u001b[0m \u001b[0mchunksize\u001b[0m\u001b[0;34m=\u001b[0m\u001b[0;32mNone\u001b[0m\u001b[0;34m)\u001b[0m\u001b[0;34m:\u001b[0m\u001b[0;34m\u001b[0m\u001b[0;34m\u001b[0m\u001b[0m\n",
      "\u001b[0;32m~/opt/anaconda3/envs/rl_pulse/lib/python3.7/multiprocessing/pool.py\u001b[0m in \u001b[0;36mget\u001b[0;34m(self, timeout)\u001b[0m\n\u001b[1;32m    655\u001b[0m             \u001b[0;32mreturn\u001b[0m \u001b[0mself\u001b[0m\u001b[0;34m.\u001b[0m\u001b[0m_value\u001b[0m\u001b[0;34m\u001b[0m\u001b[0;34m\u001b[0m\u001b[0m\n\u001b[1;32m    656\u001b[0m         \u001b[0;32melse\u001b[0m\u001b[0;34m:\u001b[0m\u001b[0;34m\u001b[0m\u001b[0;34m\u001b[0m\u001b[0m\n\u001b[0;32m--> 657\u001b[0;31m             \u001b[0;32mraise\u001b[0m \u001b[0mself\u001b[0m\u001b[0;34m.\u001b[0m\u001b[0m_value\u001b[0m\u001b[0;34m\u001b[0m\u001b[0;34m\u001b[0m\u001b[0m\n\u001b[0m\u001b[1;32m    658\u001b[0m \u001b[0;34m\u001b[0m\u001b[0m\n\u001b[1;32m    659\u001b[0m     \u001b[0;32mdef\u001b[0m \u001b[0m_set\u001b[0m\u001b[0;34m(\u001b[0m\u001b[0mself\u001b[0m\u001b[0;34m,\u001b[0m \u001b[0mi\u001b[0m\u001b[0;34m,\u001b[0m \u001b[0mobj\u001b[0m\u001b[0;34m)\u001b[0m\u001b[0;34m:\u001b[0m\u001b[0;34m\u001b[0m\u001b[0;34m\u001b[0m\u001b[0m\n",
      "\u001b[0;31mTypeError\u001b[0m: f() missing 1 required positional argument: 'rot_error'"
     ]
    }
   ],
   "source": [
    "az12_1_f_rot, az12_1_f_rot_std = get_rot_data(seqs[69], rot_errors)"
   ]
  },
  {
   "cell_type": "code",
   "execution_count": 284,
   "metadata": {},
   "outputs": [
    {
     "data": {
      "text/plain": [
       "<matplotlib.legend.Legend at 0x7f8db659f390>"
      ]
     },
     "execution_count": 284,
     "metadata": {},
     "output_type": "execute_result"
    },
    {
     "data": {
      "image/png": "[encoded data removed]",
      "text/plain": [
       "<Figure size 432x288 with 1 Axes>"
      ]
     },
     "metadata": {
      "needs_background": "light"
     },
     "output_type": "display_data"
    }
   ],
   "source": [
    "plt.errorbar(rot_errors, 1-az12_f_rot, yerr=az12_f_rot_std, label='az12')\n",
    "plt.errorbar(rot_errors, 1-az12_1_f_rot, yerr=az12_1_f_rot_std, label='az12_1')\n",
    "plt.yscale('log')\n",
    "plt.legend()"
   ]
  },
  {
   "cell_type": "markdown",
   "metadata": {},
   "source": [
    "### Phase transients"
   ]
  },
  {
   "cell_type": "code",
   "execution_count": 125,
   "metadata": {},
   "outputs": [],
   "source": [
    "phase_transients = np.linspace(0, .05, 25)"
   ]
  },
  {
   "cell_type": "code",
   "execution_count": 119,
   "metadata": {},
   "outputs": [],
   "source": [
    "def f(pt):\n",
    "    pe = [ps.get_pulses(H, X, Y, Z, pulse_width, delay, phase_transient=pt) for H in Hsys_ensemble]\n",
    "    fidelities = [ps.get_fidelity(ps.yxx48, Utarget, p) for p in pe]\n",
    "    return np.mean(fidelities), np.std(fidelities)"
   ]
  },
  {
   "cell_type": "code",
   "execution_count": 146,
   "metadata": {},
   "outputs": [],
   "source": [
    "with mp.Pool(4) as p:\n",
    "    yxx48_fidelities_pt = p.map(f, phase_transients)"
   ]
  },
  {
   "cell_type": "code",
   "execution_count": 147,
   "metadata": {},
   "outputs": [],
   "source": [
    "yxx48_f_pt, yxx48_f_pt_std = zip(*yxx48_fidelities_pt)"
   ]
  },
  {
   "cell_type": "code",
   "execution_count": 148,
   "metadata": {},
   "outputs": [],
   "source": [
    "yxx48_f_pt = np.array(yxx48_f_pt)\n",
    "yxx48_f_pt_std = np.array(yxx48_f_pt_std)"
   ]
  },
  {
   "cell_type": "code",
   "execution_count": 131,
   "metadata": {},
   "outputs": [],
   "source": [
    "def g(pt):\n",
    "    pe = [ps.get_pulses(H, X, Y, Z, pulse_width, delay, phase_transient=pt) for H in Hsys_ensemble]\n",
    "    fidelities = [ps.get_fidelity(ps.yxx24, Utarget, p) for p in pe]\n",
    "    return np.mean(fidelities), np.std(fidelities)"
   ]
  },
  {
   "cell_type": "code",
   "execution_count": 149,
   "metadata": {},
   "outputs": [],
   "source": [
    "with mp.Pool(4) as p:\n",
    "    yxx24_fidelities_pt = p.map(g, phase_transients)"
   ]
  },
  {
   "cell_type": "code",
   "execution_count": 150,
   "metadata": {},
   "outputs": [],
   "source": [
    "yxx24_f_pt, yxx24_f_pt_std = zip(*yxx24_fidelities_pt)"
   ]
  },
  {
   "cell_type": "code",
   "execution_count": 151,
   "metadata": {},
   "outputs": [],
   "source": [
    "yxx24_f_pt = np.array(yxx24_f_pt)\n",
    "yxx24_f_pt_std = np.array(yxx24_f_pt_std)"
   ]
  },
  {
   "cell_type": "code",
   "execution_count": 155,
   "metadata": {},
   "outputs": [],
   "source": [
    "def h(pt):\n",
    "    pe = [ps.get_pulses(H, X, Y, Z, pulse_width, delay, phase_transient=pt) for H in Hsys_ensemble]\n",
    "    fidelities = [ps.get_fidelity(ps.az3, Utarget, p) for p in pe]\n",
    "    return np.mean(fidelities), np.std(fidelities)"
   ]
  },
  {
   "cell_type": "code",
   "execution_count": 156,
   "metadata": {},
   "outputs": [],
   "source": [
    "with mp.Pool(4) as p:\n",
    "    az3_fidelities_pt = p.map(h, phase_transients)"
   ]
  },
  {
   "cell_type": "code",
   "execution_count": 157,
   "metadata": {},
   "outputs": [],
   "source": [
    "az3_f_pt, az3_f_pt_std = zip(*az3_fidelities_pt)"
   ]
  },
  {
   "cell_type": "code",
   "execution_count": 158,
   "metadata": {},
   "outputs": [],
   "source": [
    "az3_f_pt = np.array(az3_f_pt)\n",
    "az3_f_pt_std = np.array(az3_f_pt_std)"
   ]
  },
  {
   "cell_type": "code",
   "execution_count": 161,
   "metadata": {},
   "outputs": [
    {
     "data": {
      "text/plain": [
       "<matplotlib.legend.Legend at 0x7f8dc5096490>"
      ]
     },
     "execution_count": 161,
     "metadata": {},
     "output_type": "execute_result"
    },
    {
     "data": {
      "image/png": "[encoded data removed]",
      "text/plain": [
       "<Figure size 432x288 with 1 Axes>"
      ]
     },
     "metadata": {
      "needs_background": "light"
     },
     "output_type": "display_data"
    }
   ],
   "source": [
    "plt.errorbar(phase_transients, 1-yxx48_f_pt, yerr=yxx48_f_pt_std, label='yxx48')\n",
    "plt.errorbar(phase_transients, 1-yxx24_f_pt, yerr=yxx24_f_pt_std, label='yxx24')\n",
    "plt.errorbar(phase_transients, 1-az3_f_pt, yerr=az3_f_pt_std, label='az3')\n",
    "plt.yscale('log')\n",
    "plt.legend()"
   ]
  },
  {
   "cell_type": "markdown",
   "metadata": {},
   "source": [
    "## Check candidates from CSV file"
   ]
  },
  {
   "cell_type": "code",
   "execution_count": 254,
   "metadata": {},
   "outputs": [],
   "source": [
    "df = pd.read_csv('../../data/2021-02/20210219-082529/candidates_sorted.csv')"
   ]
  },
  {
   "cell_type": "code",
   "execution_count": 255,
   "metadata": {},
   "outputs": [],
   "source": [
    "df['sequence'] = df['sequence'].apply(lambda x: [int(i) for i in x[1:-1].split(',')])"
   ]
  },
  {
   "cell_type": "code",
   "execution_count": 256,
   "metadata": {},
   "outputs": [],
   "source": [
    "df['last_pulse'] = df['last_pulse'].apply(lambda x: [float(i) for i in x[1:-1].split(',')])"
   ]
  },
  {
   "cell_type": "code",
   "execution_count": 257,
   "metadata": {},
   "outputs": [],
   "source": [
    "df['last_pulse'] = df['last_pulse'].apply(lambda x: np.argwhere(x)[0][0])"
   ]
  },
  {
   "cell_type": "code",
   "execution_count": 258,
   "metadata": {},
   "outputs": [],
   "source": [
    "df['full_sequence'] = df['sequence'] + df['last_pulse'].apply(lambda x: [x])"
   ]
  },
  {
   "cell_type": "code",
   "execution_count": 259,
   "metadata": {},
   "outputs": [],
   "source": [
    "unique_sequences = df['full_sequence'].map(lambda x: ','.join([str(i) for i in x])).unique()"
   ]
  },
  {
   "cell_type": "code",
   "execution_count": 260,
   "metadata": {},
   "outputs": [],
   "source": [
    "unique_sequences = [[int(j) for j in i.split(',')] for i in unique_sequences]"
   ]
  },
  {
   "cell_type": "code",
   "execution_count": 222,
   "metadata": {},
   "outputs": [
    {
     "data": {
      "text/plain": [
       "array([0., 0., 0., 0., 0.])"
      ]
     },
     "execution_count": 222,
     "metadata": {},
     "output_type": "execute_result"
    }
   ],
   "source": [
    "np.zeros(5)"
   ]
  },
  {
   "cell_type": "code",
   "execution_count": 264,
   "metadata": {},
   "outputs": [
    {
     "name": "stdout",
     "output_type": "stream",
     "text": [
      "0\n",
      "10\n",
      "20\n",
      "30\n",
      "40\n",
      "50\n",
      "60\n",
      "70\n",
      "80\n",
      "90\n",
      "100\n",
      "110\n",
      "120\n",
      "130\n",
      "140\n",
      "150\n",
      "160\n",
      "170\n",
      "180\n",
      "190\n",
      "200\n",
      "210\n",
      "220\n",
      "230\n",
      "240\n"
     ]
    }
   ],
   "source": [
    "N_seq = 250\n",
    "seqs = []\n",
    "fidelities = np.zeros(N_seq)\n",
    "for i in range(N_seq):\n",
    "    if i % 10 == 0:\n",
    "        print(i)\n",
    "    candidate = unique_sequences[i]\n",
    "    seqs.append(candidate)\n",
    "    f = ps.get_mean_fidelity(candidate, Utarget, pulses_ensemble)\n",
    "    fidelities[i] = f\n",
    "    # print(i, f)"
   ]
  },
  {
   "cell_type": "code",
   "execution_count": 276,
   "metadata": {},
   "outputs": [
    {
     "data": {
      "image/png": "[encoded data removed]",
      "text/plain": [
       "<Figure size 432x288 with 1 Axes>"
      ]
     },
     "metadata": {
      "needs_background": "light"
     },
     "output_type": "display_data"
    }
   ],
   "source": [
    "plt.plot(1 - fidelities)\n",
    "plt.yscale('log')"
   ]
  },
  {
   "cell_type": "code",
   "execution_count": 272,
   "metadata": {},
   "outputs": [],
   "source": [
    "fidelities.sort()"
   ]
  },
  {
   "cell_type": "code",
   "execution_count": 267,
   "metadata": {},
   "outputs": [
    {
     "data": {
      "text/plain": [
       "(69, 2.198749538995237e-06, 5.657824238591604)"
      ]
     },
     "execution_count": 267,
     "metadata": {},
     "output_type": "execute_result"
    }
   ],
   "source": [
    "np.argmin(1 - fidelities), (1 - fidelities).min(), -np.log10((1 - fidelities).min())"
   ]
  },
  {
   "cell_type": "code",
   "execution_count": 277,
   "metadata": {},
   "outputs": [
    {
     "data": {
      "text/plain": [
       "[3, 1, 4, 4, 2, 4, 1, 4, 4, 2, 3, 3]"
      ]
     },
     "execution_count": 277,
     "metadata": {},
     "output_type": "execute_result"
    }
   ],
   "source": [
    "seqs[69]"
   ]
  },
  {
   "cell_type": "code",
   "execution_count": 269,
   "metadata": {},
   "outputs": [
    {
     "data": {
      "text/plain": [
       "0         [4, 0, 4, 2, 0, 2, 4, 0, 4, 2, 0, 2]\n",
       "1         [4, 0, 4, 2, 0, 2, 4, 0, 4, 2, 0, 2]\n",
       "2         [4, 0, 4, 1, 0, 1, 4, 0, 4, 1, 0, 1]\n",
       "3         [4, 0, 4, 2, 0, 2, 4, 0, 4, 2, 0, 2]\n",
       "4         [4, 0, 4, 2, 0, 2, 4, 0, 4, 2, 0, 2]\n",
       "                          ...                 \n",
       "340388    [4, 0, 4, 4, 1, 0, 3, 3, 3, 2, 4, 1]\n",
       "340389    [2, 2, 2, 3, 2, 3, 1, 3, 3, 1, 2, 3]\n",
       "340390    [4, 2, 4, 1, 4, 4, 0, 4, 2, 2, 2, 0]\n",
       "340391    [4, 2, 2, 0, 2, 3, 3, 3, 0, 2, 3, 2]\n",
       "340392    [2, 2, 4, 2, 3, 2, 0, 3, 3, 3, 2, 0]\n",
       "Name: full_sequence, Length: 340393, dtype: object"
      ]
     },
     "execution_count": 269,
     "metadata": {},
     "output_type": "execute_result"
    }
   ],
   "source": [
    "df['full_sequence']"
   ]
  },
  {
   "cell_type": "code",
   "execution_count": 270,
   "metadata": {},
   "outputs": [
    {
     "name": "stdout",
     "output_type": "stream",
     "text": [
      "[4, 0, 4, 2, 0, 2, 4, 0, 4, 2, 0, 2]\n"
     ]
    }
   ],
   "source": [
    "print(df['full_sequence'][23])"
   ]
  },
  {
   "cell_type": "code",
   "execution_count": 264,
   "metadata": {},
   "outputs": [],
   "source": [
    "names = [\n",
    "    r'\\tau_{\\pi/2}, \\tau',\n",
    "    r'X, \\tau',\n",
    "    r'-X, \\tau',\n",
    "    r'Y, \\tau',\n",
    "    r'-Y, \\tau',\n",
    "]"
   ]
  },
  {
   "cell_type": "code",
   "execution_count": 268,
   "metadata": {},
   "outputs": [
    {
     "name": "stdout",
     "output_type": "stream",
     "text": [
      "$ -X, \\tau, Y, \\tau, Y, \\tau, Y, \\tau, Y, \\tau, -X, \\tau, Y, \\tau, -X, \\tau, -Y, \\tau, -X, \\tau, -Y, \\tau, X, \\tau $\n",
      "$ -X, \\tau, Y, \\tau, Y, \\tau, Y, \\tau, \\tau_{\\pi/2}, \\tau, Y, \\tau, \\tau_{\\pi/2}, \\tau, -X, \\tau, Y, \\tau, -X, \\tau, -X, \\tau, -X, \\tau $\n",
      "$ Y, \\tau, -X, \\tau, \\tau_{\\pi/2}, \\tau, -Y, \\tau, -X, \\tau, -X, \\tau, -X, \\tau, \\tau_{\\pi/2}, \\tau, -Y, \\tau, -Y, \\tau, Y, \\tau, X, \\tau $\n",
      "$ Y, \\tau, -Y, \\tau, -Y, \\tau, \\tau_{\\pi/2}, \\tau, \\tau_{\\pi/2}, \\tau, \\tau_{\\pi/2}, \\tau, -X, \\tau, -X, \\tau, -X, \\tau, \\tau_{\\pi/2}, \\tau, Y, \\tau, -X, \\tau $\n"
     ]
    }
   ],
   "source": [
    "sequence_string = [names[i] for i in df['full_sequence'][23]]\n",
    "\n",
    "print('$', ', '.join(sequence_string[:12]), '$')\n",
    "print('$', ', '.join(sequence_string[12:24]), '$')\n",
    "print('$', ', '.join(sequence_string[24:36]), '$')\n",
    "print('$', ', '.join(sequence_string[36:48]), '$')"
   ]
  },
  {
   "cell_type": "markdown",
   "metadata": {},
   "source": [
    "Pulse sequence 23:\n",
    "\n",
    "$ -X, \\tau, Y, \\tau, Y, \\tau, Y, \\tau, Y, \\tau, -X, \\tau, Y, \\tau, -X, \\tau, -Y, \\tau, -X, \\tau, -Y, \\tau, X, \\tau $\n",
    "$ -X, \\tau, Y, \\tau, Y, \\tau, Y, \\tau, \\tau_{\\pi/2}, \\tau, Y, \\tau, \\tau_{\\pi/2}, \\tau, -X, \\tau, Y, \\tau, -X, \\tau, -X, \\tau, -X, \\tau $\n",
    "$ Y, \\tau, -X, \\tau, \\tau_{\\pi/2}, \\tau, -Y, \\tau, -X, \\tau, -X, \\tau, -X, \\tau, \\tau_{\\pi/2}, \\tau, -Y, \\tau, -Y, \\tau, Y, \\tau, X, \\tau $\n",
    "$ Y, \\tau, -Y, \\tau, -Y, \\tau, \\tau_{\\pi/2}, \\tau, \\tau_{\\pi/2}, \\tau, \\tau_{\\pi/2}, \\tau, -X, \\tau, -X, \\tau, -X, \\tau, \\tau_{\\pi/2}, \\tau, Y, \\tau, -X, \\tau $"
   ]
  },
  {
   "cell_type": "code",
   "execution_count": 223,
   "metadata": {},
   "outputs": [],
   "source": [
    "fidelities = np.array(\n",
    "    [ps.get_fidelity(df['full_sequence'][23], Utarget, pulses)\n",
    "     for pulses in pulses_ensemble]\n",
    ")"
   ]
  },
  {
   "cell_type": "code",
   "execution_count": 224,
   "metadata": {},
   "outputs": [
    {
     "data": {
      "text/plain": [
       "0.9901248881032397"
      ]
     },
     "execution_count": 224,
     "metadata": {},
     "output_type": "execute_result"
    }
   ],
   "source": [
    "np.mean(fidelities)"
   ]
  },
  {
   "cell_type": "code",
   "execution_count": 225,
   "metadata": {},
   "outputs": [
    {
     "data": {
      "text/plain": [
       "0.013279629621136551"
      ]
     },
     "execution_count": 225,
     "metadata": {},
     "output_type": "execute_result"
    }
   ],
   "source": [
    "np.std(fidelities)"
   ]
  },
  {
   "cell_type": "code",
   "execution_count": 231,
   "metadata": {},
   "outputs": [
    {
     "data": {
      "text/plain": [
       "[<matplotlib.lines.Line2D at 0x7f967be18650>]"
      ]
     },
     "execution_count": 231,
     "metadata": {},
     "output_type": "execute_result"
    },
    {
     "data": {
      "image/png": "[encoded data removed]",
      "text/plain": [
       "<Figure size 432x288 with 1 Axes>"
      ]
     },
     "metadata": {
      "needs_background": "light"
     },
     "output_type": "display_data"
    }
   ],
   "source": [
    "plt.hist(1 - fidelities, bins=30)\n",
    "# fit exponential curve\n",
    "X = np.linspace(0, .1, 100)\n",
    "Y = np.exp(-1 / np.mean(1 - fidelities) * X)\n",
    "plt.plot(X, Y * 40)"
   ]
  }
 ],
 "metadata": {
  "kernelspec": {
   "display_name": "Python 3",
   "language": "python",
   "name": "python3"
  },
  "language_info": {
   "codemirror_mode": {
    "name": "ipython",
    "version": 3
   },
   "file_extension": ".py",
   "mimetype": "text/x-python",
   "name": "python",
   "nbconvert_exporter": "python",
   "pygments_lexer": "ipython3",
   "version": "3.7.9"
  }
 },
 "nbformat": 4,
 "nbformat_minor": 4
}
