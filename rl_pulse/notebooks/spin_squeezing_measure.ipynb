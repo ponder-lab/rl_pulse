{
 "cells": [
  {
   "cell_type": "markdown",
   "metadata": {},
   "source": [
    "# Optimizing spin squeezing parameter readout\n",
    "_Ilija Nikolov, Will Kaufman, December 2020_"
   ]
  },
  {
   "cell_type": "code",
   "execution_count": null,
   "metadata": {},
   "outputs": [],
   "source": [
    "import qutip as qt\n",
    "import numpy as np\n",
    "import matplotlib.pyplot as plt\n",
    "from scipy.special import binom\n",
    "from scipy.optimize import minimize\n",
    "from scipy.interpolate import interp1d"
   ]
  },
  {
   "cell_type": "code",
   "execution_count": null,
   "metadata": {},
   "outputs": [],
   "source": [
    "I=7/2\n",
    "(Ix, Iy, Iz) = qt.spin_J_set(I)"
   ]
  },
  {
   "cell_type": "code",
   "execution_count": null,
   "metadata": {},
   "outputs": [],
   "source": [
    "#The constants for our system\n",
    "omegaQ = 4500 * 2*np.pi #7.58*2*np.pi*1e3\n",
    "omegaL = 65.598*2*np.pi*1e6\n",
    "omegaT = 1.58*2*np.pi*1e3\n",
    "eta = omegaT/omegaQ"
   ]
  },
  {
   "cell_type": "code",
   "execution_count": null,
   "metadata": {},
   "outputs": [],
   "source": [
    "Hsys = omegaQ * Iz**2 / 2  # ignoring eta term for now"
   ]
  },
  {
   "cell_type": "code",
   "execution_count": null,
   "metadata": {},
   "outputs": [],
   "source": [
    "theta = np.pi/2\n",
    "phi = np.pi"
   ]
  },
  {
   "cell_type": "markdown",
   "metadata": {},
   "source": [
    "Calculate initial coherent state"
   ]
  },
  {
   "cell_type": "code",
   "execution_count": null,
   "metadata": {},
   "outputs": [],
   "source": [
    "vals = np.round(Iz.eigenstates()[0], 1)\n",
    "vects = Iz.eigenstates()[1]\n",
    "state = vects[0] - vects[0]\n",
    "for i in range(len(vals)):\n",
    "    state = state + np.sqrt(binom(2*I, I+vals[i])) *\\\n",
    "    (np.cos(theta/2))**(I-vals[i])*(np.sin(theta/2))**(I+vals[i]) *\\\n",
    "    np.exp(-1j*(I+vals[i])*phi)*vects[i]\n",
    "\n",
    "ksi = state * state.dag()"
   ]
  },
  {
   "cell_type": "code",
   "execution_count": null,
   "metadata": {},
   "outputs": [],
   "source": [
    "initial_Ix = qt.expect(Ix, ksi)"
   ]
  },
  {
   "cell_type": "code",
   "execution_count": null,
   "metadata": {},
   "outputs": [],
   "source": [
    "times = np.arange(0, 1000e-6, 5e-6)\n",
    "\n",
    "e_ops = [\n",
    "    Ix, Iy, Iz,\n",
    "    Iz**2-Iy**2,Iz*Iy+Iy*Iz, Iz**2+Iy**2\n",
    "]\n",
    "e_names = [\n",
    "    r'$I_x$', r'$I_y$', r'$I_z$',\n",
    "    r'$I_z^2 - I_y^2$', r'$I_zI_y + I_yI_z$', r'$I_z^2 + I_y^2$'\n",
    "]\n",
    "result = qt.mesolve(Hsys, ksi, times, e_ops=e_ops)"
   ]
  },
  {
   "cell_type": "code",
   "execution_count": null,
   "metadata": {},
   "outputs": [],
   "source": [
    "# for i, name in enumerate(e_names[:3]):\n",
    "#     plt.plot(times, result.expect[i], label=name)\n",
    "# plt.legend()\n",
    "# for i, name in enumerate(e_names[3:]):\n",
    "#     plt.plot(times, result.expect[i], label=name)\n",
    "# plt.legend()"
   ]
  },
  {
   "cell_type": "markdown",
   "metadata": {},
   "source": [
    "Calculate the squeezing parameter from `result` measurements."
   ]
  },
  {
   "cell_type": "code",
   "execution_count": null,
   "metadata": {},
   "outputs": [],
   "source": [
    "xi = (\n",
    "    np.sqrt(result.expect[5] - np.sqrt(result.expect[3]**2 + result.expect[4]**2))\n",
    "    / np.sqrt(I)\n",
    ")"
   ]
  },
  {
   "cell_type": "code",
   "execution_count": null,
   "metadata": {},
   "outputs": [],
   "source": [
    "plt.plot(times, xi, label=r'$\\xi$')\n",
    "plt.legend()\n",
    "plt.xlabel('time (s)')"
   ]
  },
  {
   "cell_type": "markdown",
   "metadata": {},
   "source": [
    "**Question**: as can be seen in the plot below, for $I=3/2$ $\\xi$ seems to have a parabolic-like relationship with $I_x$. In the $I=1$ case, the relationship appears to be $\\xi \\propto |I_x|$ (you can re-run the code above to see what that looks like). Whatever the relationship between $\\xi$ and $I_x$ is, **as long as it's a single-valued function (passes the \"vertical line test\"), couldn't you measure $I_x$ then estimate $\\xi$ based on a curve fit**?"
   ]
  },
  {
   "cell_type": "code",
   "execution_count": null,
   "metadata": {},
   "outputs": [],
   "source": [
    "fit = interp1d(result.expect[0] / initial_Ix, xi, kind='cubic')"
   ]
  },
  {
   "cell_type": "code",
   "execution_count": null,
   "metadata": {},
   "outputs": [],
   "source": [
    "normalized_Ix = result.expect[0] / initial_Ix\n",
    "plt.scatter(normalized_Ix, xi)\n",
    "\n",
    "x = np.linspace(np.min(normalized_Ix), np.max(normalized_Ix), 100)\n",
    "plt.plot(x, fit(x), color='orange')\n",
    "\n",
    "plt.xlabel(r'$\\langle I_x \\rangle / \\langle I_x \\rangle_0$')\n",
    "plt.ylabel(r'$\\xi$')"
   ]
  },
  {
   "cell_type": "code",
   "execution_count": null,
   "metadata": {},
   "outputs": [],
   "source": [
    "fit(.5)"
   ]
  },
  {
   "cell_type": "markdown",
   "metadata": {},
   "source": [
    "If you can simulate the relationship between $\\xi$ and $I_x$ in QuTiP, then (if it's single-valued) use that to estimate $\\xi$ from experimental data, that seems like the best option.\n",
    "\n",
    "Below I tried to think about unitary transformations that will make a better parabolic fit between $\\xi$ and $I_x$. but if you let the curve fit be general enough I don't think it's necessary to apply the transformation at all.\n",
    "\n",
    "I looked at the $\\xi$-$I_x$ relationship for different spins (3/2 through 7/2), and they all seem to have that single-valued relationship."
   ]
  }
 ],
 "metadata": {
  "kernelspec": {
   "display_name": "Python 3",
   "language": "python",
   "name": "python3"
  },
  "language_info": {
   "codemirror_mode": {
    "name": "ipython",
    "version": 3
   },
   "file_extension": ".py",
   "mimetype": "text/x-python",
   "name": "python",
   "nbconvert_exporter": "python",
   "pygments_lexer": "ipython3",
   "version": "3.6.11"
  }
 },
 "nbformat": 4,
 "nbformat_minor": 4
}
