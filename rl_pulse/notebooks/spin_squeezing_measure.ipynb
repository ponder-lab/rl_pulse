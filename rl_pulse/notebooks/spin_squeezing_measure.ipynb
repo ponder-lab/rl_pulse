{
 "cells": [
  {
   "cell_type": "markdown",
   "metadata": {},
   "source": [
    "# Optimizing spin squeezing parameter readout\n",
    "_ Ilija Nikolov, Will Kaufman, December 2020_"
   ]
  },
  {
   "cell_type": "code",
   "execution_count": null,
   "metadata": {},
   "outputs": [],
   "source": [
    "import qutip as qt\n",
    "import numpy as np\n",
    "import matplotlib.pyplot as plt\n",
    "from scipy.special import binom\n",
    "from scipy.optimize import minimize\n",
    "from scipy.interpolate import interp1d"
   ]
  },
  {
   "cell_type": "code",
   "execution_count": null,
   "metadata": {},
   "outputs": [],
   "source": [
    "I=1\n",
    "(Ix, Iy, Iz) = qt.spin_J_set(I)"
   ]
  },
  {
   "cell_type": "code",
   "execution_count": null,
   "metadata": {},
   "outputs": [],
   "source": [
    "#The constants for our system\n",
    "omegaQ = 4500 * 2*np.pi #7.58*2*np.pi*1e3\n",
    "omegaL = 65.598*2*np.pi*1e6\n",
    "omegaT = 1.58*2*np.pi*1e3\n",
    "eta = omegaT/omegaQ"
   ]
  },
  {
   "cell_type": "code",
   "execution_count": null,
   "metadata": {},
   "outputs": [],
   "source": [
    "Hsys = omegaQ * Iz**2 / 2  # ignoring eta term for now"
   ]
  },
  {
   "cell_type": "code",
   "execution_count": null,
   "metadata": {},
   "outputs": [],
   "source": [
    "theta = np.pi/2\n",
    "phi = np.pi"
   ]
  },
  {
   "cell_type": "markdown",
   "metadata": {},
   "source": [
    "Calculate initial coherent state"
   ]
  },
  {
   "cell_type": "code",
   "execution_count": null,
   "metadata": {},
   "outputs": [],
   "source": [
    "vals = np.round(Iz.eigenstates()[0], 1)\n",
    "vects = Iz.eigenstates()[1]\n",
    "state = vects[0] - vects[0]\n",
    "for i in range(len(vals)):\n",
    "    state = state + np.sqrt(binom(2*I, I+vals[i])) *\\\n",
    "    (np.cos(theta/2))**(I-vals[i])*(np.sin(theta/2))**(I+vals[i]) *\\\n",
    "    np.exp(-1j*(I+vals[i])*phi)*vects[i]\n",
    "\n",
    "ksi = state * state.dag()"
   ]
  },
  {
   "cell_type": "code",
   "execution_count": null,
   "metadata": {},
   "outputs": [],
   "source": [
    "times = np.arange(0, 1000e-6, 5e-6)\n",
    "\n",
    "e_ops = [\n",
    "    Ix, Iy, Iz,\n",
    "    Iz**2-Iy**2,Iz*Iy+Iy*Iz, Iz**2+Iy**2\n",
    "]\n",
    "e_names = [\n",
    "    r'$I_x$', r'$I_y$', r'$I_z$',\n",
    "    r'$I_z^2 - I_y^2$', r'$I_zI_y + I_yI_z$', r'$I_z^2 + I_y^2$'\n",
    "]\n",
    "result = qt.mesolve(Hsys, ksi, times, e_ops=e_ops)"
   ]
  },
  {
   "cell_type": "code",
   "execution_count": null,
   "metadata": {},
   "outputs": [],
   "source": [
    "# for i, name in enumerate(e_names[:3]):\n",
    "#     plt.plot(times, result.expect[i], label=name)\n",
    "# plt.legend()\n",
    "# for i, name in enumerate(e_names[3:]):\n",
    "#     plt.plot(times, result.expect[i], label=name)\n",
    "# plt.legend()"
   ]
  },
  {
   "cell_type": "markdown",
   "metadata": {},
   "source": [
    "Calculate the squeezing parameter from `result` measurements."
   ]
  },
  {
   "cell_type": "code",
   "execution_count": null,
   "metadata": {},
   "outputs": [],
   "source": [
    "xi = (\n",
    "    np.sqrt(result.expect[5] - np.sqrt(result.expect[3]**2 + result.expect[4]**2))\n",
    "    / np.sqrt(I)\n",
    ")"
   ]
  },
  {
   "cell_type": "code",
   "execution_count": null,
   "metadata": {},
   "outputs": [],
   "source": [
    "plt.plot(times, xi, label=r'$\\xi$')\n",
    "plt.legend()"
   ]
  },
  {
   "cell_type": "markdown",
   "metadata": {},
   "source": [
    "**Question**: as can be seen in the plot below, for $I=3/2$ $\\xi$ seems to have a parabolic-like relationship with $I_x$. In the $I=1$ case, the relationship appears to be $\\xi \\propto |I_x|$ (you can re-run the code above to see what that looks like). Whatever the relationship between $\\xi$ and $I_x$ is, **as long as it's a single-valued function (passes the \"vertical line test\"), couldn't you measure $I_x$ then estimate $\\xi$ based on a curve fit**?"
   ]
  },
  {
   "cell_type": "code",
   "execution_count": null,
   "metadata": {},
   "outputs": [],
   "source": [
    "plt.scatter(result.expect[0], xi)\n",
    "plt.scatter(result.expect[0], )\n",
    "plt.xlabel(r'$I_x$')\n",
    "plt.ylabel(r'$\\xi$')"
   ]
  },
  {
   "cell_type": "markdown",
   "metadata": {},
   "source": [
    "If you can simulate the relationship between $\\xi$ and $I_x$ in QuTiP, then (if it's single-valued) use that to estimate $\\xi$ from experimental data, that seems like the best option.\n",
    "\n",
    "Below I tried to think about unitary transformations that will make a better parabolic fit between $\\xi$ and $I_x$. but if you let the curve fit be general enough I don't think it's necessary to apply the transformation at all.\n",
    "\n",
    "I looked at the $\\xi$-$I_x$ relationship for different spins (3/2 through 7/2), and they all seem to have that single-valued relationship."
   ]
  },
  {
   "cell_type": "markdown",
   "metadata": {},
   "source": [
    "## Optimization algorithm"
   ]
  },
  {
   "cell_type": "code",
   "execution_count": null,
   "metadata": {},
   "outputs": [],
   "source": [
    "def get_hermitian_matrix(magnitudes, phases):\n",
    "    \"\"\"Make a Hermitian matrix by specifying the magnitudes\n",
    "        and phases in the upper triangular part of the matrix.\n",
    "    \n",
    "    Args:\n",
    "        magnitudes: An ndarray of length dim(dim+1)/2.\n",
    "        phases: An ndarray of length dim(dim-1)/2.\n",
    "    \"\"\"\n",
    "    dim = int((-1 + np.sqrt(1 + 8 * magnitudes.size))/2)\n",
    "    # TODO make sure phases is right length too\n",
    "    H = np.zeros((dim, dim), dtype=np.complex64)\n",
    "    ind_upper = np.triu_indices(dim)\n",
    "    H[ind_upper] = magnitudes\n",
    "    ind_upper2 = np.triu_indices(dim, 1)\n",
    "    H[ind_upper2] = H[ind_upper2] * np.exp(1j * phases)\n",
    "    H = H + np.triu(H, 1).conj().T\n",
    "    return H"
   ]
  },
  {
   "cell_type": "code",
   "execution_count": null,
   "metadata": {},
   "outputs": [],
   "source": [
    "def get_correlation(parameters):\n",
    "    \"\"\"Calculate the correlation between measurements specified\n",
    "        by `parameters` and the squeezing parameter.\n",
    "    \n",
    "    Args:\n",
    "        parameters: Should be length dim^2 array of\n",
    "            magnitudes and phases specifying Hermitian matrix\n",
    "    \"\"\"\n",
    "    dim = int(np.sqrt(parameters.size))\n",
    "    H = get_hermitian_matrix(\n",
    "        parameters[:int(dim*(dim+1)/2)],\n",
    "        parameters[int(dim*(dim+1)/2):],\n",
    "    )\n",
    "    U = qt.Qobj(-1j * H).expm()\n",
    "    guess = qt.mesolve(Hsys, ksi, times, e_ops=[U.dag() * Ix * U])\n",
    "    corr = np.corrcoef(xi, guess.expect[0]**2)\n",
    "    return -corr[0,1]"
   ]
  },
  {
   "cell_type": "code",
   "execution_count": null,
   "metadata": {},
   "outputs": [],
   "source": [
    "def get_fit(parameters):\n",
    "    \"\"\"Calculate the SSE for a polynomial fit of measurements\n",
    "        specified by `parameters` to the squeezing parameter.\n",
    "    \n",
    "    Args:\n",
    "        parameters: Should be length dim^2 array of\n",
    "            magnitudes and phases specifying Hermitian matrix\n",
    "    \"\"\"\n",
    "    dim = int(np.sqrt(parameters.size))\n",
    "    H = get_hermitian_matrix(\n",
    "        parameters[:int(dim*(dim+1)/2)],\n",
    "        parameters[int(dim*(dim+1)/2):],\n",
    "    )\n",
    "    U = qt.Qobj(-1j * H).expm()\n",
    "    guess = qt.mesolve(Hsys, ksi, times, e_ops=[U.dag() * Ix * U])\n",
    "    result = np.polyfit(guess.expect[0], xi, deg=2, full=True)\n",
    "    return result[1]"
   ]
  },
  {
   "cell_type": "code",
   "execution_count": null,
   "metadata": {},
   "outputs": [],
   "source": [
    "def get_propagator(amplitudes):\n",
    "    \"\"\"Calculate the propagator from time-dependent control\n",
    "        Hamiltonians. In this case, the control Hamiltonians\n",
    "        are Ix and Iy, which can perform rotations of the spin.\n",
    "    \n",
    "    Args:\n",
    "        amplitudes: Array of control amplitudes. The first half\n",
    "            of the array are amplitudes for Ix, and the second half\n",
    "            are amplitudes for Iy.\n",
    "    \"\"\"\n",
    "    n = int(amplitudes.size / 2)\n",
    "    control_x_interp = interp1d(\n",
    "        np.linspace(0, 1.1, n),\n",
    "        amplitudes[:n],\n",
    "        kind='cubic'\n",
    "    )\n",
    "    control_y_interp = interp1d(\n",
    "        np.linspace(0, 1.1, n),\n",
    "        amplitudes[n:],\n",
    "        kind='cubic'\n",
    "    )\n",
    "    def control_x(t, args):\n",
    "        return control_x_interp(t)\n",
    "    def control_y(t, args):\n",
    "        return control_y_interp(t)\n",
    "    U = qt.propagator(\n",
    "        [[Ix, control_x],\n",
    "         [Iy, control_y]],\n",
    "        1\n",
    "    )\n",
    "    return U"
   ]
  },
  {
   "cell_type": "code",
   "execution_count": null,
   "metadata": {},
   "outputs": [],
   "source": [
    "def get_fit_amplitudes(amplitudes):\n",
    "    \"\"\"\n",
    "    Args:\n",
    "        amplitudes: An array with control amplitude values.\n",
    "            The first half are control amplitudes for Ix, and \n",
    "            the second half are for Iy.\n",
    "    \"\"\"\n",
    "    U = get_propagator(amplitudes)\n",
    "    result = qt.mesolve(Hsys, ksi, times, e_ops=[U.dag() * Ix * U])\n",
    "    polyfit = np.polyfit(guess.expect[0], xi, deg=2, full=True)\n",
    "    return polyfit[1]"
   ]
  },
  {
   "cell_type": "code",
   "execution_count": null,
   "metadata": {},
   "outputs": [],
   "source": [
    "# minimize_result = minimize(\n",
    "#     get_fit_amplitudes,\n",
    "#     np.random.normal(size=(10,), scale=.1),\n",
    "#     method='nelder-mead',\n",
    "#     options={'xatol': 1e-8, 'disp': True}\n",
    "# )"
   ]
  },
  {
   "cell_type": "code",
   "execution_count": null,
   "metadata": {},
   "outputs": [],
   "source": [
    "# U = get_propagator(minimize_result.x)"
   ]
  },
  {
   "cell_type": "code",
   "execution_count": null,
   "metadata": {},
   "outputs": [],
   "source": [
    "# guess = qt.mesolve(Hsys, ksi, times, e_ops=[U.dag() * Ix * U])"
   ]
  },
  {
   "cell_type": "code",
   "execution_count": null,
   "metadata": {},
   "outputs": [],
   "source": [
    "# plt.plot(times, guess.expect[0], label=r'$\\tilde{I_x}$')\n",
    "# plt.legend()"
   ]
  },
  {
   "cell_type": "code",
   "execution_count": null,
   "metadata": {},
   "outputs": [],
   "source": [
    "# polyfit = np.polyfit(guess.expect[0], xi, deg=2, full=True)"
   ]
  },
  {
   "cell_type": "code",
   "execution_count": null,
   "metadata": {},
   "outputs": [],
   "source": [
    "# polyfit[0]"
   ]
  },
  {
   "cell_type": "code",
   "execution_count": null,
   "metadata": {},
   "outputs": [],
   "source": [
    "# plt.scatter(guess.expect[0], xi)\n",
    "# plt.scatter(\n",
    "#     guess.expect[0],\n",
    "#     polyfit[0][0]*guess.expect[0]**2 + polyfit[0][1]*guess.expect[0] + polyfit[0][2])\n",
    "# plt.xlabel(r'$I_x$')\n",
    "# plt.ylabel(r'$\\xi$')"
   ]
  },
  {
   "cell_type": "code",
   "execution_count": null,
   "metadata": {},
   "outputs": [],
   "source": [
    "# control_x_interp = interp1d(\n",
    "#     np.linspace(0, 1.1, 5),\n",
    "#     minimize_result.x[:5],\n",
    "#     kind='cubic'\n",
    "# )\n",
    "# control_y_interp = interp1d(\n",
    "#     np.linspace(0, 1.1, 5),\n",
    "#     minimize_result.x[5:],\n",
    "#     kind='cubic'\n",
    "# )"
   ]
  },
  {
   "cell_type": "code",
   "execution_count": null,
   "metadata": {},
   "outputs": [],
   "source": [
    "# plt.plot(t, control_x_interp(t), label='x')\n",
    "# plt.plot(t, control_y_interp(t), label='y')\n",
    "# plt.legend()"
   ]
  }
 ],
 "metadata": {
  "kernelspec": {
   "display_name": "Python 3",
   "language": "python",
   "name": "python3"
  },
  "language_info": {
   "codemirror_mode": {
    "name": "ipython",
    "version": 3
   },
   "file_extension": ".py",
   "mimetype": "text/x-python",
   "name": "python",
   "nbconvert_exporter": "python",
   "pygments_lexer": "ipython3",
   "version": "3.6.11"
  }
 },
 "nbformat": 4,
 "nbformat_minor": 4
}
